{
  "nbformat": 4,
  "nbformat_minor": 0,
  "metadata": {
    "colab": {
      "name": "002_Cosine_Similarity_CPU.ipynb",
      "provenance": [],
      "collapsed_sections": [],
      "authorship_tag": "ABX9TyMQunrFRLaxs+MDQ4RYDj97",
      "include_colab_link": true
    },
    "kernelspec": {
      "name": "python3",
      "display_name": "Python 3"
    },
    "language_info": {
      "name": "python"
    }
  },
  "cells": [
    {
      "cell_type": "markdown",
      "metadata": {
        "id": "view-in-github",
        "colab_type": "text"
      },
      "source": [
        "<a href=\"https://colab.research.google.com/github/bomiiisong/DeepLearning-with-Python/blob/master/Cosine_Similarity_CPU.ipynb\" target=\"_parent\"><img src=\"https://colab.research.google.com/assets/colab-badge.svg\" alt=\"Open In Colab\"/></a>"
      ]
    },
    {
      "cell_type": "markdown",
      "metadata": {
        "id": "8oDfGNvgCED2"
      },
      "source": [
        "# Consine Similarity\n",
        "\n",
        "* 두 벡터의 크기와 상관없이, **상호 방향성**이 얼마나 유사한지에 기반\n",
        "    * 두 벡터의 사잇각을 계산하여 유사도 측정\n",
        "* 문서(문장)의 크기를 고려하지 않는 빈도수 기반의 단점 보완"
      ]
    },
    {
      "cell_type": "code",
      "metadata": {
        "id": "nbuEQqlcRPty"
      },
      "source": [
        "import warnings\n",
        "warnings.filterwarnings('ignore')"
      ],
      "execution_count": 1,
      "outputs": []
    },
    {
      "cell_type": "markdown",
      "metadata": {
        "id": "6-zSD1jdCamA"
      },
      "source": [
        "## I. TF-IDF Vectorization"
      ]
    },
    {
      "cell_type": "markdown",
      "metadata": {
        "id": "acHuLcGaCaXy"
      },
      "source": [
        "> ### 1) 문장 3개 지정"
      ]
    },
    {
      "cell_type": "code",
      "metadata": {
        "id": "pG9u5OybRX8W"
      },
      "source": [
        "doc_list = ['if you take the blue pill, the story ends' ,\n",
        "            'if you take the red pill, you stay in Wonderland',\n",
        "            'if you take the red pill, I show you how deep the rabbit hole goes']"
      ],
      "execution_count": 2,
      "outputs": []
    },
    {
      "cell_type": "markdown",
      "metadata": {
        "id": "w5igCD32Chhp"
      },
      "source": [
        "> ### 2) Coordinate(좌표) 양식\n",
        "\n",
        "* '0' 이 아닌 데이터 포인트의 좌표만 저장"
      ]
    },
    {
      "cell_type": "code",
      "metadata": {
        "colab": {
          "base_uri": "https://localhost:8080/"
        },
        "id": "aHpmzzF4ReOL",
        "outputId": "079f4a8a-ab4e-4f95-c48b-1cd6706b64c2"
      },
      "source": [
        "from sklearn.feature_extraction.text import TfidfVectorizer\n",
        "\n",
        "tfidf_vec_simple = TfidfVectorizer()\n",
        "feature_vec_simple = tfidf_vec_simple.fit_transform(doc_list)\n",
        "\n",
        "print(feature_vec_simple)"
      ],
      "execution_count": 3,
      "outputs": [
        {
          "output_type": "stream",
          "text": [
            "  (0, 2)\t0.41556360057939173\n",
            "  (0, 13)\t0.41556360057939173\n",
            "  (0, 8)\t0.24543855687841593\n",
            "  (0, 0)\t0.41556360057939173\n",
            "  (0, 15)\t0.49087711375683185\n",
            "  (0, 14)\t0.24543855687841593\n",
            "  (0, 17)\t0.24543855687841593\n",
            "  (0, 6)\t0.24543855687841593\n",
            "  (1, 16)\t0.39624495215024286\n",
            "  (1, 7)\t0.39624495215024286\n",
            "  (1, 12)\t0.39624495215024286\n",
            "  (1, 10)\t0.3013544995034864\n",
            "  (1, 8)\t0.2340286519091622\n",
            "  (1, 15)\t0.2340286519091622\n",
            "  (1, 14)\t0.2340286519091622\n",
            "  (1, 17)\t0.4680573038183244\n",
            "  (1, 6)\t0.2340286519091622\n",
            "  (2, 3)\t0.3098560092999078\n",
            "  (2, 4)\t0.3098560092999078\n",
            "  (2, 9)\t0.3098560092999078\n",
            "  (2, 1)\t0.3098560092999078\n",
            "  (2, 5)\t0.3098560092999078\n",
            "  (2, 11)\t0.3098560092999078\n",
            "  (2, 10)\t0.23565348175165166\n",
            "  (2, 8)\t0.1830059506093466\n",
            "  (2, 15)\t0.3660119012186932\n",
            "  (2, 14)\t0.1830059506093466\n",
            "  (2, 17)\t0.3660119012186932\n",
            "  (2, 6)\t0.1830059506093466\n"
          ],
          "name": "stdout"
        }
      ]
    },
    {
      "cell_type": "markdown",
      "metadata": {
        "id": "jpfRqLtDCxQ3"
      },
      "source": [
        "> ### 3) 행렬 변환"
      ]
    },
    {
      "cell_type": "code",
      "metadata": {
        "colab": {
          "base_uri": "https://localhost:8080/"
        },
        "id": "qZLvwxutRz69",
        "outputId": "a257b5c4-7cbc-4fcd-9eca-0e93190763aa"
      },
      "source": [
        "feature_vec_dense = feature_vec_simple.todense()\n",
        "\n",
        "print(feature_vec_dense)"
      ],
      "execution_count": 5,
      "outputs": [
        {
          "output_type": "stream",
          "text": [
            "[[0.4155636  0.         0.4155636  0.         0.         0.\n",
            "  0.24543856 0.         0.24543856 0.         0.         0.\n",
            "  0.         0.4155636  0.24543856 0.49087711 0.         0.24543856]\n",
            " [0.         0.         0.         0.         0.         0.\n",
            "  0.23402865 0.39624495 0.23402865 0.         0.3013545  0.\n",
            "  0.39624495 0.         0.23402865 0.23402865 0.39624495 0.4680573 ]\n",
            " [0.         0.30985601 0.         0.30985601 0.30985601 0.30985601\n",
            "  0.18300595 0.         0.18300595 0.30985601 0.23565348 0.30985601\n",
            "  0.         0.         0.18300595 0.3660119  0.         0.3660119 ]]\n"
          ],
          "name": "stdout"
        }
      ]
    },
    {
      "cell_type": "markdown",
      "metadata": {
        "id": "pRJ0-snlC1dJ"
      },
      "source": [
        "> ### 4) 개별 Feature Vector 추출"
      ]
    },
    {
      "cell_type": "code",
      "metadata": {
        "colab": {
          "base_uri": "https://localhost:8080/"
        },
        "id": "2KwEXfAHSDT_",
        "outputId": "5e2eb323-fa5a-4a73-d829-82aaa024c3d9"
      },
      "source": [
        "import numpy as np\n",
        "\n",
        "vec1 = np.array(feature_vec_dense[0]).reshape(-1,) # (1,18) -> (18,) 로 변경\n",
        "vec2 = np.array(feature_vec_dense[1]).reshape(-1,)\n",
        "vec3 = np.array(feature_vec_dense[2]).reshape(-1,)\n",
        "\n",
        "vec1, vec2, vec3"
      ],
      "execution_count": 8,
      "outputs": [
        {
          "output_type": "execute_result",
          "data": {
            "text/plain": [
              "(array([0.4155636 , 0.        , 0.4155636 , 0.        , 0.        ,\n",
              "        0.        , 0.24543856, 0.        , 0.24543856, 0.        ,\n",
              "        0.        , 0.        , 0.        , 0.4155636 , 0.24543856,\n",
              "        0.49087711, 0.        , 0.24543856]),\n",
              " array([0.        , 0.        , 0.        , 0.        , 0.        ,\n",
              "        0.        , 0.23402865, 0.39624495, 0.23402865, 0.        ,\n",
              "        0.3013545 , 0.        , 0.39624495, 0.        , 0.23402865,\n",
              "        0.23402865, 0.39624495, 0.4680573 ]),\n",
              " array([0.        , 0.30985601, 0.        , 0.30985601, 0.30985601,\n",
              "        0.30985601, 0.18300595, 0.        , 0.18300595, 0.30985601,\n",
              "        0.23565348, 0.30985601, 0.        , 0.        , 0.18300595,\n",
              "        0.3660119 , 0.        , 0.3660119 ]))"
            ]
          },
          "metadata": {
            "tags": []
          },
          "execution_count": 8
        }
      ]
    },
    {
      "cell_type": "markdown",
      "metadata": {
        "id": "sCzb4NeSC7xy"
      },
      "source": [
        "## II. cos_similarity()\n",
        "\n",
        "* 두 벡터의 내적을 총 벡터 크기로 정규화(L2 Norm)\n",
        "    * dot_product : 두 벡터의 내적\n",
        "    * l2_norm : 총 벡터 크기의 합"
      ]
    },
    {
      "cell_type": "code",
      "metadata": {
        "id": "VgKD6QQmSq4I"
      },
      "source": [
        "def cos_similarity(v1, v2):\n",
        "    dot_product = np.dot(v1, v2)\n",
        "    l2_norm = (np.sqrt(sum(np.square(v1)))) * np.sqrt(sum(np.square(v2)))\n",
        "    similarity = dot_product / l2_norm\n",
        "\n",
        "    return similarity"
      ],
      "execution_count": 12,
      "outputs": []
    },
    {
      "cell_type": "markdown",
      "metadata": {
        "id": "OKHKz0OoDFZ7"
      },
      "source": [
        "> ### 1) 'vec1', 'vec2' 코사인 유사도 (문장 1, 문장 2)"
      ]
    },
    {
      "cell_type": "code",
      "metadata": {
        "colab": {
          "base_uri": "https://localhost:8080/"
        },
        "id": "2l-0DRW0TYYw",
        "outputId": "fffc8052-8afd-4e03-9773-430928f55eaa"
      },
      "source": [
        "similarity_simple = cos_similarity(vec1, vec2)\n",
        "\n",
        "print('vec1, ve2 Cosine Similarity : {0:.5f}'.format(similarity_simple))"
      ],
      "execution_count": 13,
      "outputs": [
        {
          "output_type": "stream",
          "text": [
            "vec1, ve2 Cosine Similarity : 0.40208\n"
          ],
          "name": "stdout"
        }
      ]
    },
    {
      "cell_type": "markdown",
      "metadata": {
        "id": "7dTKwEI6DOpD"
      },
      "source": [
        "> ### 2) 'vec1', 'vec3' 코사인 유사도 (문장 1, 문장 3)"
      ]
    },
    {
      "cell_type": "code",
      "metadata": {
        "colab": {
          "base_uri": "https://localhost:8080/"
        },
        "id": "No1VYJdwToVU",
        "outputId": "b4f8fb63-3e1c-4221-cd7e-1fe5e7a6efac"
      },
      "source": [
        "similarity_simple = cos_similarity(vec1, vec3)\n",
        "\n",
        "print('vec1, vec3 Cosine Similarity : {0:.5f}'.format(similarity_simple))"
      ],
      "execution_count": 14,
      "outputs": [
        {
          "output_type": "stream",
          "text": [
            "vec1, vec3 Cosine Similarity : 0.40425\n"
          ],
          "name": "stdout"
        }
      ]
    },
    {
      "cell_type": "markdown",
      "metadata": {
        "id": "Q9POPGNRDT7M"
      },
      "source": [
        "> ### 3) 'vec2', 'vec3' 코사인 유사도 (문장 2, 문장 3)"
      ]
    },
    {
      "cell_type": "code",
      "metadata": {
        "colab": {
          "base_uri": "https://localhost:8080/"
        },
        "id": "OQcCdV0ST3P9",
        "outputId": "59a4509c-60fa-433b-ae37-06ae42587544"
      },
      "source": [
        "similarity_simple = cos_similarity(vec2, vec3)\n",
        "\n",
        "print('vec2, vec3 Cosine Similarity : {0:.5f}'.format(similarity_simple))"
      ],
      "execution_count": 15,
      "outputs": [
        {
          "output_type": "stream",
          "text": [
            "vec2, vec3 Cosine Similarity : 0.45647\n"
          ],
          "name": "stdout"
        }
      ]
    },
    {
      "cell_type": "markdown",
      "metadata": {
        "id": "426XTvQSDZZz"
      },
      "source": [
        "## III. sklearn - cosine_similarity( )"
      ]
    },
    {
      "cell_type": "code",
      "metadata": {
        "colab": {
          "base_uri": "https://localhost:8080/"
        },
        "id": "cDc88TPVUCu2",
        "outputId": "2c1f7acf-35b4-4bab-da01-87ae73f811bf"
      },
      "source": [
        "from sklearn.metrics.pairwise import cosine_similarity\n",
        "\n",
        "cosine_similarity(feature_vec_simple[0], feature_vec_simple) # 유사도 값이므로 1에 가까울수록 유사도 높음 "
      ],
      "execution_count": 16,
      "outputs": [
        {
          "output_type": "execute_result",
          "data": {
            "text/plain": [
              "array([[1.        , 0.40207758, 0.40425045]])"
            ]
          },
          "metadata": {
            "tags": []
          },
          "execution_count": 16
        }
      ]
    },
    {
      "cell_type": "code",
      "metadata": {
        "colab": {
          "base_uri": "https://localhost:8080/"
        },
        "id": "yGJT_nq_UNqq",
        "outputId": "910a23ad-dc77-48b2-c8bb-0c992a6af75a"
      },
      "source": [
        "cosine_similarity(feature_vec_simple[0], feature_vec_simple[1:])"
      ],
      "execution_count": 18,
      "outputs": [
        {
          "output_type": "execute_result",
          "data": {
            "text/plain": [
              "array([[0.40207758, 0.40425045]])"
            ]
          },
          "metadata": {
            "tags": []
          },
          "execution_count": 18
        }
      ]
    },
    {
      "cell_type": "code",
      "metadata": {
        "colab": {
          "base_uri": "https://localhost:8080/"
        },
        "id": "qFnt0eiuUew1",
        "outputId": "434b1aa5-4fe6-4b95-b90b-c9f6085660b7"
      },
      "source": [
        "cosine_similarity(feature_vec_simple, feature_vec_simple)"
      ],
      "execution_count": 19,
      "outputs": [
        {
          "output_type": "execute_result",
          "data": {
            "text/plain": [
              "array([[1.        , 0.40207758, 0.40425045],\n",
              "       [0.40207758, 1.        , 0.45647296],\n",
              "       [0.40425045, 0.45647296, 1.        ]])"
            ]
          },
          "metadata": {
            "tags": []
          },
          "execution_count": 19
        }
      ]
    },
    {
      "cell_type": "markdown",
      "metadata": {
        "id": "yBVGFb-dDjCY"
      },
      "source": [
        "## IV. Topic Problem"
      ]
    },
    {
      "cell_type": "markdown",
      "metadata": {
        "id": "lrYsM98jDl2F"
      },
      "source": [
        "> ### 1) 문장 지정"
      ]
    },
    {
      "cell_type": "code",
      "metadata": {
        "id": "UiUK9EM8UmLg"
      },
      "source": [
        "sent_list = ['I eat an apple' ,\n",
        "            'Koo have fruit',\n",
        "            'I sell an apple']"
      ],
      "execution_count": 20,
      "outputs": []
    },
    {
      "cell_type": "markdown",
      "metadata": {
        "id": "2pHVGmJnDosH"
      },
      "source": [
        "> ### 2) 벡터 변환"
      ]
    },
    {
      "cell_type": "code",
      "metadata": {
        "id": "a5kSsjN2U6a1"
      },
      "source": [
        "tfidf_vec = TfidfVectorizer()\n",
        "feature_vec = tfidf_vec.fit_transform(sent_list)"
      ],
      "execution_count": 21,
      "outputs": []
    },
    {
      "cell_type": "markdown",
      "metadata": {
        "id": "UjFh6h5CDsY4"
      },
      "source": [
        "> ### 3) 문장 1 vs. 문장 2"
      ]
    },
    {
      "cell_type": "code",
      "metadata": {
        "colab": {
          "base_uri": "https://localhost:8080/"
        },
        "id": "pa66rqyjVFBd",
        "outputId": "af31d11a-7e50-4d53-dbb1-a305d8f86400"
      },
      "source": [
        "cosine_similarity(feature_vec[0], feature_vec[1])"
      ],
      "execution_count": 22,
      "outputs": [
        {
          "output_type": "execute_result",
          "data": {
            "text/plain": [
              "array([[0.]])"
            ]
          },
          "metadata": {
            "tags": []
          },
          "execution_count": 22
        }
      ]
    },
    {
      "cell_type": "markdown",
      "metadata": {
        "id": "Uf40eI9DDweO"
      },
      "source": [
        "> ### 4) 문장 1 vs. 문장 3"
      ]
    },
    {
      "cell_type": "code",
      "metadata": {
        "colab": {
          "base_uri": "https://localhost:8080/"
        },
        "id": "jj_17hyxVJE4",
        "outputId": "41cad7ea-b29e-4169-857c-e56774956e8c"
      },
      "source": [
        "cosine_similarity(feature_vec[0], feature_vec[2])"
      ],
      "execution_count": 23,
      "outputs": [
        {
          "output_type": "execute_result",
          "data": {
            "text/plain": [
              "array([[0.53634991]])"
            ]
          },
          "metadata": {
            "tags": []
          },
          "execution_count": 23
        }
      ]
    },
    {
      "cell_type": "markdown",
      "metadata": {
        "id": "LOnFzVWWD1Fm"
      },
      "source": [
        "## V. Word2Vec"
      ]
    },
    {
      "cell_type": "code",
      "metadata": {
        "id": "Rfyx1gcSVRfv"
      },
      "source": [
        "import tensorflow_hub as hub\n",
        "\n",
        "embed = hub.load('https://tfhub.dev/google/Wiki-words-250/2')"
      ],
      "execution_count": 25,
      "outputs": []
    },
    {
      "cell_type": "code",
      "metadata": {
        "id": "6Wrjsj0zVkmw"
      },
      "source": [
        "words = ['apple', 'eat', 'fruit', 'have', 'sell']"
      ],
      "execution_count": 26,
      "outputs": []
    },
    {
      "cell_type": "code",
      "metadata": {
        "id": "mlphQdKSVndy"
      },
      "source": [
        "embeddings = embed(words)"
      ],
      "execution_count": 27,
      "outputs": []
    },
    {
      "cell_type": "code",
      "metadata": {
        "colab": {
          "base_uri": "https://localhost:8080/"
        },
        "id": "oqsdM6mWVyxZ",
        "outputId": "68d76739-ad12-4f5d-9fcd-5fdf2a74e202"
      },
      "source": [
        "for i in range(len(words)):\n",
        "    for j in range(i, len(words)):\n",
        "        print(\"(\", words[i], \",\", words[j], \")\", np.inner(embeddings[i], embeddings[j]))"
      ],
      "execution_count": 28,
      "outputs": [
        {
          "output_type": "stream",
          "text": [
            "( apple , apple ) 1.0\n",
            "( apple , eat ) 0.48909307\n",
            "( apple , fruit ) 0.78753763\n",
            "( apple , have ) 0.13348329\n",
            "( apple , sell ) 0.106232405\n",
            "( eat , eat ) 1.0\n",
            "( eat , fruit ) 0.53294003\n",
            "( eat , have ) 0.3232242\n",
            "( eat , sell ) 0.2691978\n",
            "( fruit , fruit ) 1.0\n",
            "( fruit , have ) 0.13598028\n",
            "( fruit , sell ) 0.11212408\n",
            "( have , have ) 1.0\n",
            "( have , sell ) 0.21071003\n",
            "( sell , sell ) 1.0\n"
          ],
          "name": "stdout"
        }
      ]
    }
  ]
}