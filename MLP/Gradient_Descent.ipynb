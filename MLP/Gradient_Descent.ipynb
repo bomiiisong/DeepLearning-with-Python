{
  "nbformat": 4,
  "nbformat_minor": 0,
  "metadata": {
    "colab": {
      "name": "002_MLP_Gradient_Descent.ipynb",
      "provenance": [],
      "authorship_tag": "ABX9TyMx4cepoUcJSwcPoBtbF8CN",
      "include_colab_link": true
    },
    "kernelspec": {
      "name": "python3",
      "display_name": "Python 3"
    }
  },
  "cells": [
    {
      "cell_type": "markdown",
      "metadata": {
        "id": "view-in-github",
        "colab_type": "text"
      },
      "source": [
        "<a href=\"https://colab.research.google.com/github/bomiiisong/DeepLearning-with-Python/blob/master/MLP/Gradient_Descent.ipynb\" target=\"_parent\"><img src=\"https://colab.research.google.com/assets/colab-badge.svg\" alt=\"Open In Colab\"/></a>"
      ]
    },
    {
      "cell_type": "code",
      "metadata": {
        "id": "mTp4tcLrvvb5"
      },
      "source": [
        "import warnings\n",
        "warnings.filterwarnings('ignore')"
      ],
      "execution_count": null,
      "outputs": []
    },
    {
      "cell_type": "code",
      "metadata": {
        "id": "KymaF912v0pm"
      },
      "source": [
        "import numpy as np\n",
        "np.set_printoptions(suppress=True, precision=3)\n",
        "\n",
        "def sigmoid(x):\n",
        "    y = 1 / (1 + np.exp(-x))\n",
        "    return y"
      ],
      "execution_count": null,
      "outputs": []
    },
    {
      "cell_type": "code",
      "metadata": {
        "id": "51ZNnsRBwJc7"
      },
      "source": [
        "def Machine(x1, x2, \n",
        "            w1_11, w1_12, b1_1,\n",
        "            w1_21, w1_22, b1_2,\n",
        "            w2_11, w2_12, b2_1):\n",
        "    y1 = sigmoid(x1 * w1_11 + x2 * w1_12 + b1_1)\n",
        "    y2 = sigmoid(x1 * w1_21 + x2 * w1_22 + b1_2)\n",
        "\n",
        "    y_hat = sigmoid(y1 * w2_11 + y2 * w2_12 + b2_1)\n",
        "\n",
        "    return y_hat"
      ],
      "execution_count": null,
      "outputs": []
    },
    {
      "cell_type": "code",
      "metadata": {
        "id": "yAt55mYDxoWa"
      },
      "source": [
        "def Cost(x1, x2, y,\n",
        "         w1_11, w1_12, b1_1,\n",
        "         w1_21, w1_22, b1_2,\n",
        "         w2_11, w2_12, b2_1):\n",
        "    \n",
        "    y_hat = Machine(x1, x2,\n",
        "                    w1_11, w1_12, b1_1,\n",
        "                    w1_21, w1_22, b1_2,\n",
        "                    w2_11, w2_12, b2_1)\n",
        "    \n",
        "    loss = np.mean(-y * np.log(y_hat) - (1 - y) * np.log(1 - y_hat))\n",
        "\n",
        "    return loss"
      ],
      "execution_count": null,
      "outputs": []
    },
    {
      "cell_type": "code",
      "metadata": {
        "id": "1P93TUbXyQoX"
      },
      "source": [
        "def Learning(x1, x2, y,\n",
        "             w1_11, w1_12, b1_1,\n",
        "             w1_21, w1_22, b1_2,\n",
        "             w2_11, w2_12, b2_1,\n",
        "             step):\n",
        "    \n",
        "    current = Cost(x1, x2, y,\n",
        "                   w1_11, w1_12, b1_1,\n",
        "                   w1_12, w1_22, b1_2,\n",
        "                   w2_11, w2_12, b2_1)\n",
        "    \n",
        "    dw1_11 = (Cost(x1, x2, y,\n",
        "                   w1_11 + 0.0001, w1_12, b1_1,\n",
        "                   w1_21, w1_22, b1_2,\n",
        "                   w2_11, w2_12, b2_1) - current) / 0.0001\n",
        "\n",
        "    dw1_12 = (Cost(x1, x2, y,\n",
        "                   w1_11, w1_12 + 0.0001, b1_1,\n",
        "                   w1_21, w1_22, b1_2,\n",
        "                   w2_11, w2_12, b2_1) - current) / 0.0001\n",
        "\n",
        "    db1_1 = (Cost(x1, x2, y,\n",
        "                w1_11, w1_12, b1_1 + 0.0001,\n",
        "                w1_21, w1_22, b1_2,\n",
        "                w2_11, w2_12, b2_1) - current) / 0.0001\n",
        "    \n",
        "    dw1_21 = (Cost(x1, x2, y,\n",
        "                w1_11, w1_12, b1_1,\n",
        "                w1_21 + 0.0001, w1_22, b1_2,\n",
        "                w2_11, w2_12, b2_1) - current) / 0.0001\n",
        "\n",
        "    dw1_22 = (Cost(x1, x2, y,\n",
        "                w1_11, w1_12, b1_1,\n",
        "                w1_21, w1_22 + 0.0001, b1_2,\n",
        "                w2_11, w2_12, b2_1) - current) / 0.0001\n",
        "\n",
        "    db1_2 = (Cost(x1, x2, y,\n",
        "                w1_11, w1_12, b1_1,\n",
        "                w1_21, w1_22, b1_2 + 0.0001,\n",
        "                w2_11, w2_12, b2_1) - current) / 0.0001\n",
        "\n",
        "    dw2_11 = (Cost(x1, x2, y,\n",
        "                w1_11, w1_12, b1_1,\n",
        "                w1_21, w1_22, b1_2,\n",
        "                w2_11 + 0.0001, w2_12, b2_1) - current) / 0.0001\n",
        "\n",
        "    dw2_12 = (Cost(x1, x2, y,\n",
        "                w1_11, w1_12, b1_1,\n",
        "                w1_21, w1_22, b1_2,\n",
        "                w2_11, w2_12 + 0.0001, b2_1) - current) / 0.0001\n",
        "\n",
        "    db2_1 = (Cost(x1, x2, y,\n",
        "                w1_11, w1_12, b1_1,\n",
        "                w1_21, w1_22, b1_2,\n",
        "                w2_11, w2_12, b2_1 + 0.0001) - current) / 0.0001\n",
        "\n",
        "    w1_11 = w1_11 - step * dw1_11\n",
        "    w1_21 = w1_12 - step * dw1_21\n",
        "    b1_1 = b1_1 - step * db1_1\n",
        "\n",
        "    w1_21 = w1_21 - step * dw1_21\n",
        "    w1_21 = w1_22 - step * dw1_22\n",
        "    b1_2 = b1_2 - step * db1_2\n",
        "\n",
        "    w2_11 = w2_11 - step * dw2_11\n",
        "    w2_21 = w2_12 - step * dw2_12\n",
        "    b2_1 = b2_1 - step * db2_1\n",
        "    \n",
        "    return np.array([w1_11, w1_12, b1_1,\n",
        "                     w1_21, w1_22, b1_2,\n",
        "                     w2_11, w2_12, b2_1])"
      ],
      "execution_count": null,
      "outputs": []
    },
    {
      "cell_type": "code",
      "metadata": {
        "colab": {
          "base_uri": "https://localhost:8080/",
          "height": 204
        },
        "id": "796UoN3J0czo",
        "outputId": "fecc1e90-179f-4a74-a3eb-4baaa9f138c7"
      },
      "source": [
        "import pandas as pd\n",
        "\n",
        "url = 'https://raw.githubusercontent.com/rusita-ai/pyData/master/Default.csv'\n",
        "DF = pd.read_csv(url)\n",
        "DF.head()"
      ],
      "execution_count": null,
      "outputs": [
        {
          "output_type": "execute_result",
          "data": {
            "text/html": [
              "<div>\n",
              "<style scoped>\n",
              "    .dataframe tbody tr th:only-of-type {\n",
              "        vertical-align: middle;\n",
              "    }\n",
              "\n",
              "    .dataframe tbody tr th {\n",
              "        vertical-align: top;\n",
              "    }\n",
              "\n",
              "    .dataframe thead th {\n",
              "        text-align: right;\n",
              "    }\n",
              "</style>\n",
              "<table border=\"1\" class=\"dataframe\">\n",
              "  <thead>\n",
              "    <tr style=\"text-align: right;\">\n",
              "      <th></th>\n",
              "      <th>default</th>\n",
              "      <th>student</th>\n",
              "      <th>balance</th>\n",
              "      <th>income</th>\n",
              "    </tr>\n",
              "  </thead>\n",
              "  <tbody>\n",
              "    <tr>\n",
              "      <th>0</th>\n",
              "      <td>No</td>\n",
              "      <td>No</td>\n",
              "      <td>729.526495</td>\n",
              "      <td>44361.62507</td>\n",
              "    </tr>\n",
              "    <tr>\n",
              "      <th>1</th>\n",
              "      <td>No</td>\n",
              "      <td>Yes</td>\n",
              "      <td>817.180407</td>\n",
              "      <td>12106.13470</td>\n",
              "    </tr>\n",
              "    <tr>\n",
              "      <th>2</th>\n",
              "      <td>No</td>\n",
              "      <td>No</td>\n",
              "      <td>1073.549164</td>\n",
              "      <td>31767.13895</td>\n",
              "    </tr>\n",
              "    <tr>\n",
              "      <th>3</th>\n",
              "      <td>No</td>\n",
              "      <td>No</td>\n",
              "      <td>529.250605</td>\n",
              "      <td>35704.49394</td>\n",
              "    </tr>\n",
              "    <tr>\n",
              "      <th>4</th>\n",
              "      <td>No</td>\n",
              "      <td>No</td>\n",
              "      <td>785.655883</td>\n",
              "      <td>38463.49588</td>\n",
              "    </tr>\n",
              "  </tbody>\n",
              "</table>\n",
              "</div>"
            ],
            "text/plain": [
              "  default student      balance       income\n",
              "0      No      No   729.526495  44361.62507\n",
              "1      No     Yes   817.180407  12106.13470\n",
              "2      No      No  1073.549164  31767.13895\n",
              "3      No      No   529.250605  35704.49394\n",
              "4      No      No   785.655883  38463.49588"
            ]
          },
          "metadata": {
            "tags": []
          },
          "execution_count": 6
        }
      ]
    },
    {
      "cell_type": "code",
      "metadata": {
        "id": "mtpTZPMr0fBo"
      },
      "source": [
        "x1 = np.array(DF[['balance']].head(2000))\n",
        "x2 = np.array(DF[['income']].head(2000))\n",
        "\n",
        "target = DF['default'].head(2000)"
      ],
      "execution_count": null,
      "outputs": []
    },
    {
      "cell_type": "code",
      "metadata": {
        "colab": {
          "base_uri": "https://localhost:8080/"
        },
        "id": "O4fKGFEp0u6x",
        "outputId": "bcfbcb0f-11ca-4a43-cda4-a42187ad594c"
      },
      "source": [
        "from sklearn.preprocessing import LabelEncoder\n",
        "\n",
        "encoder = LabelEncoder()\n",
        "encoder.fit(target)\n",
        "y = encoder.transform(target)\n",
        "\n",
        "y.shape"
      ],
      "execution_count": null,
      "outputs": [
        {
          "output_type": "execute_result",
          "data": {
            "text/plain": [
              "(2000,)"
            ]
          },
          "metadata": {
            "tags": []
          },
          "execution_count": 9
        }
      ]
    },
    {
      "cell_type": "code",
      "metadata": {
        "id": "ZjlougE30_AT"
      },
      "source": [
        "w1_11 = 0.001\n",
        "w1_12 = 0.002\n",
        "b1_1 = 0.003\n",
        "\n",
        "w1_21 = 0.004\n",
        "w1_22 = 0.005\n",
        "b1_2 = 0.006\n",
        "\n",
        "w2_11 = 0.007\n",
        "w2_12 = 0.008\n",
        "b2_1 = 0.009"
      ],
      "execution_count": null,
      "outputs": []
    },
    {
      "cell_type": "code",
      "metadata": {
        "colab": {
          "base_uri": "https://localhost:8080/"
        },
        "id": "sLNdxhid1Eic",
        "outputId": "4c9d62d1-1b21-4e4c-ced2-44fe9d265ca1"
      },
      "source": [
        "%%time\n",
        "\n",
        "cost = np.ones(500)\n",
        "\n",
        "for i in range(0,500):\n",
        "    cost[i] = Cost(x1, x2, y,\n",
        "                   w1_11, w1_12, b1_1,\n",
        "                   w1_21, w1_22, b1_2,\n",
        "                   w2_11, w2_12, b2_1)\n",
        "    \n",
        "    temp = Learning(x1, x2, y,\n",
        "                    w1_11, w1_12, b1_1,\n",
        "                    w1_21, w1_22, b1_2,\n",
        "                    w2_11, w2_12, b2_1,\n",
        "                    0.05)\n",
        "    \n",
        "    w1_11 = temp[0]\n",
        "    w1_12 = temp[1]\n",
        "    b1_1 = temp[2]\n",
        "\n",
        "    w1_21 = temp[3]\n",
        "    w1_22 = temp[4]\n",
        "    b1_2 = temp[5]\n",
        "    \n",
        "    w2_11 = temp[6]\n",
        "    w2_12 = temp[7]\n",
        "    b2_1 = temp[8]"
      ],
      "execution_count": null,
      "outputs": [
        {
          "output_type": "stream",
          "text": [
            "CPU times: user 1min 40s, sys: 575 ms, total: 1min 41s\n",
            "Wall time: 1min 41s\n"
          ],
          "name": "stdout"
        }
      ]
    },
    {
      "cell_type": "code",
      "metadata": {
        "colab": {
          "base_uri": "https://localhost:8080/"
        },
        "id": "AeZf3k241ivi",
        "outputId": "7bfbaec5-2f89-43de-98b3-e35e924a511e"
      },
      "source": [
        "print(temp)"
      ],
      "execution_count": null,
      "outputs": [
        {
          "output_type": "stream",
          "text": [
            "[ 0.001  0.002  0.003  0.005  0.005  0.006 -1.553  0.008 -1.551]\n"
          ],
          "name": "stdout"
        }
      ]
    },
    {
      "cell_type": "code",
      "metadata": {
        "colab": {
          "base_uri": "https://localhost:8080/",
          "height": 265
        },
        "id": "HvDNdK8p15jG",
        "outputId": "eea50505-df54-494c-9105-37609f7ae709"
      },
      "source": [
        "import matplotlib.pyplot as plt\n",
        "\n",
        "plt.plot(cost)\n",
        "plt.show()"
      ],
      "execution_count": null,
      "outputs": [
        {
          "output_type": "display_data",
          "data": {
            "image/png": "[encoded data removed]",
            "text/plain": [
              "<Figure size 432x288 with 1 Axes>"
            ]
          },
          "metadata": {
            "tags": [],
            "needs_background": "light"
          }
        }
      ]
    },
    {
      "cell_type": "code",
      "metadata": {
        "id": "h2cTNSxp2R2z"
      },
      "source": [
        ""
      ],
      "execution_count": null,
      "outputs": []
    }
  ]
}