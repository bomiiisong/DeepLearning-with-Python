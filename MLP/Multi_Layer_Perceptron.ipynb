{
  "nbformat": 4,
  "nbformat_minor": 0,
  "metadata": {
    "colab": {
      "name": "Multi_Layer_Perceptron.ipynb",
      "provenance": [],
      "authorship_tag": "ABX9TyMZJijFhh3n79ImiEcIk52K",
      "include_colab_link": true
    },
    "kernelspec": {
      "name": "python3",
      "display_name": "Python 3"
    }
  },
  "cells": [
    {
      "cell_type": "markdown",
      "metadata": {
        "id": "view-in-github",
        "colab_type": "text"
      },
      "source": [
        "<a href=\"https://colab.research.google.com/github/bomiiisong/DeepLearning-with-Python/blob/master/MLP/Multi_Layer_Perceptron.ipynb\" target=\"_parent\"><img src=\"https://colab.research.google.com/assets/colab-badge.svg\" alt=\"Open In Colab\"/></a>"
      ]
    },
    {
      "cell_type": "code",
      "metadata": {
        "id": "rFxOxtFmODJk"
      },
      "source": [
        "import warnings\n",
        "warnings.filterwarnings('ignore')"
      ],
      "execution_count": null,
      "outputs": []
    },
    {
      "cell_type": "code",
      "metadata": {
        "id": "xMEc7O1LOU9E"
      },
      "source": [
        "import numpy as np"
      ],
      "execution_count": null,
      "outputs": []
    },
    {
      "cell_type": "code",
      "metadata": {
        "id": "Ac4uk1ctOXbI"
      },
      "source": [
        "def gradient(machine, param):\n",
        "    if param.ndim == 1:\n",
        "        temp_param = param\n",
        "        delta = 0.00005\n",
        "        learned_param = np.zeros(param.shape)\n",
        "\n",
        "        for index in range(len(param)):\n",
        "            target_param = float(temp_param[index])\n",
        "            temp_param[index] = target_param + delta\n",
        "            param_plus_delta = machine(temp_param)\n",
        "            temp_param[index] = target_param - delta\n",
        "            param_minus_delta = machine(temp_param)\n",
        "            learned_param[index] = (param_plus_delta - param_minus_delta) / \\\n",
        "                                    (2 * delta)\n",
        "            temp_param[index] = target_param\n",
        "\n",
        "        return learned_param\n",
        "\n",
        "    elif param.ndim == 2:\n",
        "        temp_param = param\n",
        "        delta = 0.00005\n",
        "        learned_param = np.zeros(param.shape)\n",
        "\n",
        "        rows = param.shape[0]\n",
        "        columns = param.shape[1]\n",
        "\n",
        "        for row in range(rows):\n",
        "            for column in range(columns):\n",
        "                target_param = float(temp_param[row, column])\n",
        "                temp_param[row, column] = target_param + delta\n",
        "                param_plus_delta = machine(temp_param)\n",
        "                temp_param[row, column] = target_param - delta\n",
        "                param_minus_delta = machine(temp_param)\n",
        "                learned_param[row, column] = (param_plus_delta - \\\n",
        "                                             param_minus_delta) / (2 * delta)\n",
        "                temp_param[row, column] = target_param\n",
        "        return learned_param"
      ],
      "execution_count": null,
      "outputs": []
    },
    {
      "cell_type": "code",
      "metadata": {
        "id": "sIXfO-EkQjPI"
      },
      "source": [
        "def sigmoid(x):\n",
        "    y_hat = 1 / (1+np.exp(-x))\n",
        "    return y_hat"
      ],
      "execution_count": null,
      "outputs": []
    },
    {
      "cell_type": "code",
      "metadata": {
        "id": "idUU19FuQwHv"
      },
      "source": [
        "class LogicGate:\n",
        "    def __init__(self, gate_Type, X_input, y_output):\n",
        "        # gate_Type 문자열 지정 Member\n",
        "        self.Type = gate_Type  \n",
        "        # X_input, y_output Member 초기화\n",
        "        self.X_input = X_input.reshape(4, 2)\n",
        "        self.y_output = y_output.reshape(4, 1)\n",
        "\n",
        "        # W, b Member 초기화\n",
        "        self.W = np.random.rand(2, 1)\n",
        "        self.b = np.random.rand(1)\n",
        "\n",
        "        # learning_rate Member 지정\n",
        "        self.learning_rate = 0.01\n",
        "\n",
        "    #Cost_Function(CEE) Method\n",
        "    def cost_func(self):\n",
        "        z = np.dot(self.X_input, self.W) + self.b\n",
        "        y_hat = sigmoid(z)\n",
        "        delta = 0.00001\n",
        "        return -np.sum(self.y_output * np.log(y_hat+delta) + \\\n",
        "                       (1 - self.y_output) * np.log((1 - y_hat) + delta))\n",
        "\n",
        "    #Learning Method\n",
        "    def learn(self):\n",
        "        machine = lambda x: self.cost_func()\n",
        "        print(\"Initial Cost = \", self.cost_func())\n",
        "\n",
        "        for step in range(10001):\n",
        "            self.W = self.W - self.learning_rate * gradient(machine, self.W)\n",
        "            self.b = self.b - self.learning_rate * gradient(machine, self.b)\n",
        "\n",
        "            if (step % 1000 == 0):\n",
        "                print(\"Step = \", step, \"Cost = \", self.cost_func())\n",
        "\n",
        "    # Predict Method\n",
        "    def predict(self, input_data):\n",
        "        z = np.dot(input_data, self.W) + self.b\n",
        "        y_prob = sigmoid(z)\n",
        "\n",
        "        if y_prob > 0.5:\n",
        "            result = 1\n",
        "        else:\n",
        "            result = 0\n",
        "\n",
        "        return y_prob, result\n",
        " "
      ],
      "execution_count": null,
      "outputs": []
    },
    {
      "cell_type": "code",
      "metadata": {
        "id": "bCZXQw1FTZZc"
      },
      "source": [
        "X_input = np.array([[0,0], [0,1], [1,0], [1,1]])\n",
        "y_output = np.array([0, 0, 0, 1])"
      ],
      "execution_count": null,
      "outputs": []
    },
    {
      "cell_type": "markdown",
      "metadata": {
        "id": "L1I1EHhYUyMI"
      },
      "source": [
        ""
      ]
    },
    {
      "cell_type": "code",
      "metadata": {
        "colab": {
          "base_uri": "https://localhost:8080/"
        },
        "id": "GNvp2rEmTrAJ",
        "outputId": "47f74630-56c6-4698-c07c-67a38b339f4c"
      },
      "source": [
        "AND_Gate = LogicGate(\"AND_GATE\", X_input, y_output)\n",
        "AND_Gate.learn()"
      ],
      "execution_count": null,
      "outputs": [
        {
          "output_type": "stream",
          "text": [
            "Initial Cost =  3.405226348415813\n",
            "Step =  0 Cost =  3.3713191254094053\n",
            "Step =  1000 Cost =  0.9963853912850663\n",
            "Step =  2000 Cost =  0.6556198326406522\n",
            "Step =  3000 Cost =  0.4887865052269911\n",
            "Step =  4000 Cost =  0.38857695831498507\n",
            "Step =  5000 Cost =  0.3217180751080473\n",
            "Step =  6000 Cost =  0.27402318299578293\n",
            "Step =  7000 Cost =  0.2383516292612763\n",
            "Step =  8000 Cost =  0.2107084665265333\n",
            "Step =  9000 Cost =  0.18868443071977944\n",
            "Step =  10000 Cost =  0.17074156789508954\n"
          ],
          "name": "stdout"
        }
      ]
    },
    {
      "cell_type": "code",
      "metadata": {
        "colab": {
          "base_uri": "https://localhost:8080/"
        },
        "id": "CmHLEcZZT5nG",
        "outputId": "2067ff92-7137-41bd-d6d2-4225b641f5d6"
      },
      "source": [
        "print(AND_Gate.Type, \"\\n\")\n",
        "\n",
        "test_data = np.array([[0, 0], [0, 1], [1, 0], [1, 1]])\n",
        "\n",
        "for input_data in test_data:\n",
        "    (sigmoid_val, logical_val) = AND_Gate.predict(input_data)\n",
        "    print(input_data, \"=\", logical_val)"
      ],
      "execution_count": null,
      "outputs": [
        {
          "output_type": "stream",
          "text": [
            "AND_GATE \n",
            "\n",
            "[0 0] = 0\n",
            "[0 1] = 0\n",
            "[1 0] = 0\n",
            "[1 1] = 1\n"
          ],
          "name": "stdout"
        }
      ]
    },
    {
      "cell_type": "markdown",
      "metadata": {
        "id": "Usvj-zpeU0rw"
      },
      "source": [
        "OR_GATE"
      ]
    },
    {
      "cell_type": "code",
      "metadata": {
        "id": "Uba3n4X6Usfo"
      },
      "source": [
        "X_input = np.array([[0,0], [0,1], [1,0], [1,1]])\n",
        "y_output = np.array([0, 1, 1, 1])"
      ],
      "execution_count": null,
      "outputs": []
    },
    {
      "cell_type": "code",
      "metadata": {
        "colab": {
          "base_uri": "https://localhost:8080/"
        },
        "id": "MIDVFSYTU40z",
        "outputId": "7030c5c2-3a14-4181-e26a-bbe2bb78539d"
      },
      "source": [
        "OR_Gate = LogicGate(\"OR_GATE\", X_input, y_output)\n",
        "OR_Gate.learn()"
      ],
      "execution_count": null,
      "outputs": [
        {
          "output_type": "stream",
          "text": [
            "Initial Cost =  2.2133841667802026\n",
            "Step =  0 Cost =  2.2039849506804847\n",
            "Step =  1000 Cost =  0.7499535330185516\n",
            "Step =  2000 Cost =  0.44333579468390866\n",
            "Step =  3000 Cost =  0.3096670607721333\n",
            "Step =  4000 Cost =  0.23616687426593136\n",
            "Step =  5000 Cost =  0.1901238434312885\n",
            "Step =  6000 Cost =  0.15874722783258347\n",
            "Step =  7000 Cost =  0.13606832128730553\n",
            "Step =  8000 Cost =  0.11894809314636846\n",
            "Step =  9000 Cost =  0.10558581389636017\n",
            "Step =  10000 Cost =  0.09487781480214824\n"
          ],
          "name": "stdout"
        }
      ]
    },
    {
      "cell_type": "code",
      "metadata": {
        "colab": {
          "base_uri": "https://localhost:8080/"
        },
        "id": "udty8bD9U_wi",
        "outputId": "a5fe97ec-050b-4019-8df3-bf7be0abd542"
      },
      "source": [
        "print(OR_Gate.Type, \"\\n\")\n",
        "test_data = np.array([[0, 0], [0, 1], [1, 0], [1, 1]])\n",
        "\n",
        "for input_data in test_data:\n",
        "    (sigmoid_val, logical_val) = OR_Gate.predict(input_data)\n",
        "    print(input_data, \"=\", logical_val)"
      ],
      "execution_count": null,
      "outputs": [
        {
          "output_type": "stream",
          "text": [
            "OR_GATE \n",
            "\n",
            "[0 0] = 0\n",
            "[0 1] = 1\n",
            "[1 0] = 1\n",
            "[1 1] = 1\n"
          ],
          "name": "stdout"
        }
      ]
    },
    {
      "cell_type": "code",
      "metadata": {
        "id": "cVx7pKZ_VYG4"
      },
      "source": [
        "X_input = np.array([[0,0], [0,1], [1,0], [1,1]])\n",
        "y_output = np.array([1, 1, 1, 0])"
      ],
      "execution_count": null,
      "outputs": []
    },
    {
      "cell_type": "code",
      "metadata": {
        "colab": {
          "base_uri": "https://localhost:8080/"
        },
        "id": "WgfDduFIVfNX",
        "outputId": "2d393e94-168d-4aae-d4a0-9e78744313c6"
      },
      "source": [
        "NAND_Gate = LogicGate(\"NAND_GATE\", X_input, y_output)\n",
        "NAND_Gate.learn()"
      ],
      "execution_count": null,
      "outputs": [
        {
          "output_type": "stream",
          "text": [
            "Initial Cost =  2.9322786937017287\n",
            "Step =  0 Cost =  2.921876145637364\n",
            "Step =  1000 Cost =  1.0396320014412113\n",
            "Step =  2000 Cost =  0.6737098634736742\n",
            "Step =  3000 Cost =  0.4988832653295743\n",
            "Step =  4000 Cost =  0.3950245591426482\n",
            "Step =  5000 Cost =  0.32618242575751766\n",
            "Step =  6000 Cost =  0.2772899164353764\n",
            "Step =  7000 Cost =  0.24084095597972008\n",
            "Step =  8000 Cost =  0.21266547719334117\n",
            "Step =  9000 Cost =  0.1902615536876824\n",
            "Step =  10000 Cost =  0.17203845621752994\n"
          ],
          "name": "stdout"
        }
      ]
    },
    {
      "cell_type": "code",
      "metadata": {
        "colab": {
          "base_uri": "https://localhost:8080/"
        },
        "id": "UeSGlcAHVn-o",
        "outputId": "8ce72ae5-d1a4-45e6-a108-7382220e5eab"
      },
      "source": [
        "print(NAND_Gate.Type, \"\\n\")\n",
        "test_data = np.array([[0, 0], [0, 1], [1, 0], [1, 1]])\n",
        "\n",
        "for input_data in test_data:\n",
        "    (sigmoid_val, logical_val) = NAND_Gate.predict(input_data)  \n",
        "    print(input_data, \" = \", logical_val)"
      ],
      "execution_count": null,
      "outputs": [
        {
          "output_type": "stream",
          "text": [
            "NAND_GATE \n",
            "\n",
            "[0 0]  =  1\n",
            "[0 1]  =  1\n",
            "[1 0]  =  1\n",
            "[1 1]  =  0\n"
          ],
          "name": "stdout"
        }
      ]
    },
    {
      "cell_type": "code",
      "metadata": {
        "id": "xyVz5XVCVr6r"
      },
      "source": [
        "X_input = np.array([[0, 0], [0, 1], [1, 0], [1, 1]])\n",
        "y_output = np.array([0, 1, 1, 0])"
      ],
      "execution_count": null,
      "outputs": []
    },
    {
      "cell_type": "code",
      "metadata": {
        "colab": {
          "base_uri": "https://localhost:8080/"
        },
        "id": "ZHS3hJLNVzG_",
        "outputId": "e2ae9074-5d9c-4cb7-b887-7ce357aacea0"
      },
      "source": [
        "XOR_Gate = LogicGate(\"XOR_GATE\", X_input, y_output)\n",
        "XOR_Gate.learn()"
      ],
      "execution_count": null,
      "outputs": [
        {
          "output_type": "stream",
          "text": [
            "Initial Cost =  3.771396809634508\n",
            "Step =  0 Cost =  3.74892463653986\n",
            "Step =  1000 Cost =  2.7729312166555817\n",
            "Step =  2000 Cost =  2.7725115792560056\n",
            "Step =  3000 Cost =  2.772508743284091\n",
            "Step =  4000 Cost =  2.772508723223063\n",
            "Step =  5000 Cost =  2.772508723043039\n",
            "Step =  6000 Cost =  2.77250872303988\n",
            "Step =  7000 Cost =  2.772508723039775\n",
            "Step =  8000 Cost =  2.772508723039771\n",
            "Step =  9000 Cost =  2.7725087230397705\n",
            "Step =  10000 Cost =  2.7725087230397705\n"
          ],
          "name": "stdout"
        }
      ]
    },
    {
      "cell_type": "code",
      "metadata": {
        "colab": {
          "base_uri": "https://localhost:8080/"
        },
        "id": "2jjsA533V1PH",
        "outputId": "7a27b21f-d6fe-4e68-dbf4-a1216219848e"
      },
      "source": [
        "print(XOR_Gate.Type, \"\\n\")\n",
        "test_data = np.array([[0, 0], [0, 1], [1, 0], [1, 1]])\n",
        "\n",
        "for input_data in test_data:\n",
        "    (sigmoid_val, logical_val) = XOR_Gate.predict(input_data)\n",
        "    print(input_data, \" = \", logical_val)"
      ],
      "execution_count": null,
      "outputs": [
        {
          "output_type": "stream",
          "text": [
            "XOR_GATE \n",
            "\n",
            "[0 0]  =  1\n",
            "[0 1]  =  1\n",
            "[1 0]  =  1\n",
            "[1 1]  =  0\n"
          ],
          "name": "stdout"
        }
      ]
    },
    {
      "cell_type": "code",
      "metadata": {
        "colab": {
          "base_uri": "https://localhost:8080/"
        },
        "id": "e4SXWSgsV5PD",
        "outputId": "0c00d288-b396-4d10-9e5d-93629e8734a9"
      },
      "source": [
        "input_data = np.array([[0, 0], [0, 1], [1, 0], [1, 1]])\n",
        "\n",
        "HL1_1 = [] # NAND 출력\n",
        "HL1_2 = [] # OR 출력\n",
        "\n",
        "new_input_data = [] # AND 입력\n",
        "final_output = []   # AND(XOR) 출력\n",
        "\n",
        "for index in range(len(input_data)):\n",
        "    HL1_1 = NAND_Gate.predict(input_data[index]) # NAND\n",
        "    HL1_2 = OR_Gate.predict(input_data[index])   # OR\n",
        "\n",
        "    new_input_data.append(HL1_1[-1]) # AND\n",
        "    new_input_data.append(HL1_2[-1]) # AND\n",
        "\n",
        "    (sigmoid_val, logical_val) = AND_Gate.predict(np.array(new_input_data))\n",
        "\n",
        "    final_output.append(logical_val) # AND (XOR)\n",
        "    new_input_data = [] # AND 입력 초기화\n",
        "\n",
        "print(XOR_Gate.Type, \"\\n\")\n",
        "\n",
        "for index in range(len(input_data)):\n",
        "    print(input_data[index], \"=\", final_output[index])"
      ],
      "execution_count": null,
      "outputs": [
        {
          "output_type": "stream",
          "text": [
            "XOR_GATE \n",
            "\n",
            "[0 0] = 0\n",
            "[0 1] = 1\n",
            "[1 0] = 1\n",
            "[1 1] = 0\n"
          ],
          "name": "stdout"
        }
      ]
    }
  ]
}