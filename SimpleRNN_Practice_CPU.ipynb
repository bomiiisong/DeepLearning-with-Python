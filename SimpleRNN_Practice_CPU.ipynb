{
  "nbformat": 4,
  "nbformat_minor": 0,
  "metadata": {
    "colab": {
      "name": "SimpleRNN_Test_Code_CPU.ipynb",
      "provenance": [],
      "collapsed_sections": [],
      "authorship_tag": "ABX9TyPWUXxkGa9iJiHBS8uf7+94",
      "include_colab_link": true
    },
    "kernelspec": {
      "name": "python3",
      "display_name": "Python 3"
    },
    "language_info": {
      "name": "python"
    }
  },
  "cells": [
    {
      "cell_type": "markdown",
      "metadata": {
        "id": "view-in-github",
        "colab_type": "text"
      },
      "source": [
        "<a href=\"https://colab.research.google.com/github/bomiiisong/DeepLearning-with-Python/blob/master/SimpleRNN_Practice_CPU.ipynb\" target=\"_parent\"><img src=\"https://colab.research.google.com/assets/colab-badge.svg\" alt=\"Open In Colab\"/></a>"
      ]
    },
    {
      "cell_type": "markdown",
      "metadata": {
        "id": "riN3rnh8hutJ"
      },
      "source": [
        "# SimpleRNN Test Code"
      ]
    },
    {
      "cell_type": "code",
      "metadata": {
        "id": "EUbESYYjKaUD"
      },
      "source": [
        "import warnings\n",
        "warnings.filterwarnings('ignore')"
      ],
      "execution_count": null,
      "outputs": []
    },
    {
      "cell_type": "markdown",
      "metadata": {
        "id": "sU2_KZz5hyel"
      },
      "source": [
        "> ## Import Package"
      ]
    },
    {
      "cell_type": "code",
      "metadata": {
        "id": "ivAmhZm9Kgqb"
      },
      "source": [
        "import numpy as np\n",
        "import matplotlib.pyplot as plt"
      ],
      "execution_count": null,
      "outputs": []
    },
    {
      "cell_type": "markdown",
      "metadata": {
        "id": "lYuGB3h6h2KU"
      },
      "source": [
        "> ## I. SimpleRNN - without Normalization"
      ]
    },
    {
      "cell_type": "markdown",
      "metadata": {
        "id": "SToxbs0-h6pV"
      },
      "source": [
        "> ### 1) Sample Data"
      ]
    },
    {
      "cell_type": "markdown",
      "metadata": {
        "id": "ktXEMb7wiHBQ"
      },
      "source": [
        "* Input 데이터 생성(100, 5, 1)"
      ]
    },
    {
      "cell_type": "code",
      "metadata": {
        "id": "mLLKyBZmiB94"
      },
      "source": [
        "X = [[[i + j] for i in range(5)] for j in range(100)]\n",
        "\n",
        "X[:3], X[-3:]"
      ],
      "execution_count": null,
      "outputs": []
    },
    {
      "cell_type": "markdown",
      "metadata": {
        "id": "2kxY7FbPiKto"
      },
      "source": [
        "* Output 데이터 생성(100, 5, 1)"
      ]
    },
    {
      "cell_type": "code",
      "metadata": {
        "colab": {
          "base_uri": "https://localhost:8080/"
        },
        "id": "WZMo6iAxK1jV",
        "outputId": "bd13cb0f-368a-437b-c082-8b1a81096efe"
      },
      "source": [
        "y = [(i + 5) for i in range(100)]\n",
        "\n",
        "y[:3], y[-3:]"
      ],
      "execution_count": null,
      "outputs": [
        {
          "output_type": "execute_result",
          "data": {
            "text/plain": [
              "([5, 6, 7], [102, 103, 104])"
            ]
          },
          "metadata": {
            "tags": []
          },
          "execution_count": 4
        }
      ]
    },
    {
      "cell_type": "markdown",
      "metadata": {
        "id": "05TZZO0jiPko"
      },
      "source": [
        "> ### 2) numpy_Array Casting"
      ]
    },
    {
      "cell_type": "code",
      "metadata": {
        "colab": {
          "base_uri": "https://localhost:8080/"
        },
        "id": "mHLJ14zcK91l",
        "outputId": "11e417c5-0ed5-450f-d876-c64e37088a5f"
      },
      "source": [
        "X = np.array(X, dtype=float)\n",
        "y = np.array(y, dtype=float)\n",
        "\n",
        "X.shape, y.shape"
      ],
      "execution_count": null,
      "outputs": [
        {
          "output_type": "execute_result",
          "data": {
            "text/plain": [
              "((100, 5, 1), (100,))"
            ]
          },
          "metadata": {
            "tags": []
          },
          "execution_count": 5
        }
      ]
    },
    {
      "cell_type": "markdown",
      "metadata": {
        "id": "OPd_41mfiTrv"
      },
      "source": [
        "> ### 3) Tran vs. Test Split"
      ]
    },
    {
      "cell_type": "markdown",
      "metadata": {
        "id": "1lhAyZniiXiM"
      },
      "source": [
        "* 80 : 20 "
      ]
    },
    {
      "cell_type": "code",
      "metadata": {
        "colab": {
          "base_uri": "https://localhost:8080/"
        },
        "id": "dcLf7s7-LL6-",
        "outputId": "34ff6f04-91ea-4696-82e4-b17a10cb7d28"
      },
      "source": [
        "from sklearn.model_selection import train_test_split\n",
        "\n",
        "X_train, X_test, y_train, y_test = train_test_split(X, y, test_size=0.2, random_state=2045)\n",
        "\n",
        "X_train.shape, X_test.shape, y_train.shape, y_test.shape"
      ],
      "execution_count": null,
      "outputs": [
        {
          "output_type": "execute_result",
          "data": {
            "text/plain": [
              "((80, 5, 1), (20, 5, 1), (80,), (20,))"
            ]
          },
          "metadata": {
            "tags": []
          },
          "execution_count": 6
        }
      ]
    },
    {
      "cell_type": "markdown",
      "metadata": {
        "id": "Fkq1DEHYiZP7"
      },
      "source": [
        "> ### 4) Keras SimpleRNN Modeling"
      ]
    },
    {
      "cell_type": "markdown",
      "metadata": {
        "id": "_5ZgqtdEiePN"
      },
      "source": [
        "#### (1) Model Define & Summary\n",
        "* Unit(output_dim) : 3\n",
        "* input_shape(input_lenght, input_dim) : (5, 1)\n",
        "* return_sequences = False : 최종 Unit만 출력\n",
        "* layers.Dense(1) : y_hat"
      ]
    },
    {
      "cell_type": "code",
      "metadata": {
        "colab": {
          "base_uri": "https://localhost:8080/"
        },
        "id": "9dyv0DDdLj-W",
        "outputId": "9e9dd6c9-86ff-4f6f-be6c-7d8b992711cb"
      },
      "source": [
        "from keras import models, layers\n",
        "\n",
        "model_1 = models.Sequential(name='SimpleRNN_1')\n",
        "model_1.add(layers.SimpleRNN(3, input_shape=(5,1), return_sequences=False)) # RNN model 자체에 tanh 포함\n",
        "model_1.add(layers.Dense(1))  # 예측모델이기 때문에 활성함수 X\n",
        "model_1.summary()"
      ],
      "execution_count": null,
      "outputs": [
        {
          "output_type": "stream",
          "text": [
            "Model: \"SimpleRNN_1\"\n",
            "_________________________________________________________________\n",
            "Layer (type)                 Output Shape              Param #   \n",
            "=================================================================\n",
            "simple_rnn (SimpleRNN)       (None, 3)                 15        \n",
            "_________________________________________________________________\n",
            "dense (Dense)                (None, 1)                 4         \n",
            "=================================================================\n",
            "Total params: 19\n",
            "Trainable params: 19\n",
            "Non-trainable params: 0\n",
            "_________________________________________________________________\n"
          ],
          "name": "stdout"
        }
      ]
    },
    {
      "cell_type": "markdown",
      "metadata": {
        "id": "HbfaqBVlipDz"
      },
      "source": [
        "#### (2) Model Compile"
      ]
    },
    {
      "cell_type": "code",
      "metadata": {
        "id": "CiXP_ZZuMJC1"
      },
      "source": [
        "model_1.compile(loss='mse',\n",
        "                optimizer='adam',\n",
        "                metrics=['accuracy'])"
      ],
      "execution_count": null,
      "outputs": []
    },
    {
      "cell_type": "markdown",
      "metadata": {
        "id": "4dtfvHmHitLn"
      },
      "source": [
        "#### (3) Model Fit"
      ]
    },
    {
      "cell_type": "code",
      "metadata": {
        "colab": {
          "base_uri": "https://localhost:8080/"
        },
        "id": "TU18KniTMRv2",
        "outputId": "838801a7-761d-4a4f-92df-d10f8e3501ab"
      },
      "source": [
        "Hist_1 = model_1.fit(X_train, y_train, epochs=100, batch_size=8, validation_data=(X_test, y_test))"
      ],
      "execution_count": null,
      "outputs": [
        {
          "output_type": "stream",
          "text": [
            "Epoch 1/100\n",
            "10/10 [==============================] - 2s 42ms/step - loss: 3558.5349 - accuracy: 0.0000e+00 - val_loss: 3603.9785 - val_accuracy: 0.0000e+00\n",
            "Epoch 2/100\n",
            "10/10 [==============================] - 0s 8ms/step - loss: 3729.4047 - accuracy: 0.0000e+00 - val_loss: 3599.6477 - val_accuracy: 0.0000e+00\n",
            "Epoch 3/100\n",
            "10/10 [==============================] - 0s 8ms/step - loss: 3390.7493 - accuracy: 0.0000e+00 - val_loss: 3595.3945 - val_accuracy: 0.0000e+00\n",
            "Epoch 4/100\n",
            "10/10 [==============================] - 0s 8ms/step - loss: 3339.6082 - accuracy: 0.0000e+00 - val_loss: 3591.1257 - val_accuracy: 0.0000e+00\n",
            "Epoch 5/100\n",
            "10/10 [==============================] - 0s 9ms/step - loss: 3508.8693 - accuracy: 0.0000e+00 - val_loss: 3586.8328 - val_accuracy: 0.0000e+00\n",
            "Epoch 6/100\n",
            "10/10 [==============================] - 0s 7ms/step - loss: 3503.6624 - accuracy: 0.0000e+00 - val_loss: 3582.5913 - val_accuracy: 0.0000e+00\n",
            "Epoch 7/100\n",
            "10/10 [==============================] - 0s 8ms/step - loss: 3725.5548 - accuracy: 0.0000e+00 - val_loss: 3578.3003 - val_accuracy: 0.0000e+00\n",
            "Epoch 8/100\n",
            "10/10 [==============================] - 0s 9ms/step - loss: 3971.6241 - accuracy: 0.0000e+00 - val_loss: 3574.0188 - val_accuracy: 0.0000e+00\n",
            "Epoch 9/100\n",
            "10/10 [==============================] - 0s 8ms/step - loss: 3529.1226 - accuracy: 0.0000e+00 - val_loss: 3569.8679 - val_accuracy: 0.0000e+00\n",
            "Epoch 10/100\n",
            "10/10 [==============================] - 0s 8ms/step - loss: 3740.3454 - accuracy: 0.0000e+00 - val_loss: 3565.6516 - val_accuracy: 0.0000e+00\n",
            "Epoch 11/100\n",
            "10/10 [==============================] - 0s 8ms/step - loss: 3931.8378 - accuracy: 0.0000e+00 - val_loss: 3561.3938 - val_accuracy: 0.0000e+00\n",
            "Epoch 12/100\n",
            "10/10 [==============================] - 0s 9ms/step - loss: 3197.9915 - accuracy: 0.0000e+00 - val_loss: 3557.2944 - val_accuracy: 0.0000e+00\n",
            "Epoch 13/100\n",
            "10/10 [==============================] - 0s 8ms/step - loss: 3804.7736 - accuracy: 0.0000e+00 - val_loss: 3553.0200 - val_accuracy: 0.0000e+00\n",
            "Epoch 14/100\n",
            "10/10 [==============================] - 0s 8ms/step - loss: 3638.6712 - accuracy: 0.0000e+00 - val_loss: 3548.8540 - val_accuracy: 0.0000e+00\n",
            "Epoch 15/100\n",
            "10/10 [==============================] - 0s 8ms/step - loss: 3573.9131 - accuracy: 0.0000e+00 - val_loss: 3544.6606 - val_accuracy: 0.0000e+00\n",
            "Epoch 16/100\n",
            "10/10 [==============================] - 0s 8ms/step - loss: 3647.2426 - accuracy: 0.0000e+00 - val_loss: 3540.4368 - val_accuracy: 0.0000e+00\n",
            "Epoch 17/100\n",
            "10/10 [==============================] - 0s 8ms/step - loss: 3965.3674 - accuracy: 0.0000e+00 - val_loss: 3536.1641 - val_accuracy: 0.0000e+00\n",
            "Epoch 18/100\n",
            "10/10 [==============================] - 0s 8ms/step - loss: 3102.7830 - accuracy: 0.0000e+00 - val_loss: 3531.9360 - val_accuracy: 0.0000e+00\n",
            "Epoch 19/100\n",
            "10/10 [==============================] - 0s 8ms/step - loss: 3508.2939 - accuracy: 0.0000e+00 - val_loss: 3527.5247 - val_accuracy: 0.0000e+00\n",
            "Epoch 20/100\n",
            "10/10 [==============================] - 0s 8ms/step - loss: 3998.0626 - accuracy: 0.0000e+00 - val_loss: 3522.6379 - val_accuracy: 0.0000e+00\n",
            "Epoch 21/100\n",
            "10/10 [==============================] - 0s 8ms/step - loss: 3773.3669 - accuracy: 0.0000e+00 - val_loss: 3515.8540 - val_accuracy: 0.0000e+00\n",
            "Epoch 22/100\n",
            "10/10 [==============================] - 0s 8ms/step - loss: 3052.4897 - accuracy: 0.0000e+00 - val_loss: 3501.0554 - val_accuracy: 0.0000e+00\n",
            "Epoch 23/100\n",
            "10/10 [==============================] - 0s 8ms/step - loss: 3388.8404 - accuracy: 0.0000e+00 - val_loss: 3474.6909 - val_accuracy: 0.0000e+00\n",
            "Epoch 24/100\n",
            "10/10 [==============================] - 0s 9ms/step - loss: 3913.1943 - accuracy: 0.0000e+00 - val_loss: 3468.7312 - val_accuracy: 0.0000e+00\n",
            "Epoch 25/100\n",
            "10/10 [==============================] - 0s 8ms/step - loss: 3082.6325 - accuracy: 0.0000e+00 - val_loss: 3464.6270 - val_accuracy: 0.0000e+00\n",
            "Epoch 26/100\n",
            "10/10 [==============================] - 0s 7ms/step - loss: 3557.4016 - accuracy: 0.0000e+00 - val_loss: 3460.5339 - val_accuracy: 0.0000e+00\n",
            "Epoch 27/100\n",
            "10/10 [==============================] - 0s 8ms/step - loss: 3500.1400 - accuracy: 0.0000e+00 - val_loss: 3456.4097 - val_accuracy: 0.0000e+00\n",
            "Epoch 28/100\n",
            "10/10 [==============================] - 0s 9ms/step - loss: 3449.1270 - accuracy: 0.0000e+00 - val_loss: 3452.3237 - val_accuracy: 0.0000e+00\n",
            "Epoch 29/100\n",
            "10/10 [==============================] - 0s 8ms/step - loss: 3187.0683 - accuracy: 0.0000e+00 - val_loss: 3448.2759 - val_accuracy: 0.0000e+00\n",
            "Epoch 30/100\n",
            "10/10 [==============================] - 0s 8ms/step - loss: 2674.9662 - accuracy: 0.0000e+00 - val_loss: 3444.2566 - val_accuracy: 0.0000e+00\n",
            "Epoch 31/100\n",
            "10/10 [==============================] - 0s 9ms/step - loss: 3434.1458 - accuracy: 0.0000e+00 - val_loss: 3440.0513 - val_accuracy: 0.0000e+00\n",
            "Epoch 32/100\n",
            "10/10 [==============================] - 0s 8ms/step - loss: 3371.8486 - accuracy: 0.0000e+00 - val_loss: 3436.0034 - val_accuracy: 0.0000e+00\n",
            "Epoch 33/100\n",
            "10/10 [==============================] - 0s 9ms/step - loss: 3822.8557 - accuracy: 0.0000e+00 - val_loss: 3431.8640 - val_accuracy: 0.0000e+00\n",
            "Epoch 34/100\n",
            "10/10 [==============================] - 0s 9ms/step - loss: 3171.8314 - accuracy: 0.0000e+00 - val_loss: 3427.8657 - val_accuracy: 0.0000e+00\n",
            "Epoch 35/100\n",
            "10/10 [==============================] - 0s 8ms/step - loss: 3795.6729 - accuracy: 0.0000e+00 - val_loss: 3423.7336 - val_accuracy: 0.0000e+00\n",
            "Epoch 36/100\n",
            "10/10 [==============================] - 0s 9ms/step - loss: 3047.6522 - accuracy: 0.0000e+00 - val_loss: 3419.7671 - val_accuracy: 0.0000e+00\n",
            "Epoch 37/100\n",
            "10/10 [==============================] - 0s 9ms/step - loss: 3468.1434 - accuracy: 0.0000e+00 - val_loss: 3415.6504 - val_accuracy: 0.0000e+00\n",
            "Epoch 38/100\n",
            "10/10 [==============================] - 0s 9ms/step - loss: 3527.7505 - accuracy: 0.0000e+00 - val_loss: 3411.6431 - val_accuracy: 0.0000e+00\n",
            "Epoch 39/100\n",
            "10/10 [==============================] - 0s 9ms/step - loss: 3367.0456 - accuracy: 0.0000e+00 - val_loss: 3407.6321 - val_accuracy: 0.0000e+00\n",
            "Epoch 40/100\n",
            "10/10 [==============================] - 0s 8ms/step - loss: 3393.5367 - accuracy: 0.0000e+00 - val_loss: 3403.5522 - val_accuracy: 0.0000e+00\n",
            "Epoch 41/100\n",
            "10/10 [==============================] - 0s 8ms/step - loss: 3981.4294 - accuracy: 0.0000e+00 - val_loss: 3399.4485 - val_accuracy: 0.0000e+00\n",
            "Epoch 42/100\n",
            "10/10 [==============================] - 0s 9ms/step - loss: 3363.5754 - accuracy: 0.0000e+00 - val_loss: 3395.4973 - val_accuracy: 0.0000e+00\n",
            "Epoch 43/100\n",
            "10/10 [==============================] - 0s 8ms/step - loss: 3382.0890 - accuracy: 0.0000e+00 - val_loss: 3391.4824 - val_accuracy: 0.0000e+00\n",
            "Epoch 44/100\n",
            "10/10 [==============================] - 0s 8ms/step - loss: 3123.6921 - accuracy: 0.0000e+00 - val_loss: 3387.4832 - val_accuracy: 0.0000e+00\n",
            "Epoch 45/100\n",
            "10/10 [==============================] - 0s 9ms/step - loss: 3410.9365 - accuracy: 0.0000e+00 - val_loss: 3383.4890 - val_accuracy: 0.0000e+00\n",
            "Epoch 46/100\n",
            "10/10 [==============================] - 0s 8ms/step - loss: 3327.5316 - accuracy: 0.0000e+00 - val_loss: 3379.4883 - val_accuracy: 0.0000e+00\n",
            "Epoch 47/100\n",
            "10/10 [==============================] - 0s 9ms/step - loss: 3685.4859 - accuracy: 0.0000e+00 - val_loss: 3375.4468 - val_accuracy: 0.0000e+00\n",
            "Epoch 48/100\n",
            "10/10 [==============================] - 0s 8ms/step - loss: 3627.6360 - accuracy: 0.0000e+00 - val_loss: 3371.4133 - val_accuracy: 0.0000e+00\n",
            "Epoch 49/100\n",
            "10/10 [==============================] - 0s 9ms/step - loss: 3876.9591 - accuracy: 0.0000e+00 - val_loss: 3367.3977 - val_accuracy: 0.0000e+00\n",
            "Epoch 50/100\n",
            "10/10 [==============================] - 0s 9ms/step - loss: 3169.6392 - accuracy: 0.0000e+00 - val_loss: 3363.4290 - val_accuracy: 0.0000e+00\n",
            "Epoch 51/100\n",
            "10/10 [==============================] - 0s 8ms/step - loss: 3052.6728 - accuracy: 0.0000e+00 - val_loss: 3359.5117 - val_accuracy: 0.0000e+00\n",
            "Epoch 52/100\n",
            "10/10 [==============================] - 0s 8ms/step - loss: 3785.2389 - accuracy: 0.0000e+00 - val_loss: 3355.4617 - val_accuracy: 0.0000e+00\n",
            "Epoch 53/100\n",
            "10/10 [==============================] - 0s 8ms/step - loss: 3274.5633 - accuracy: 0.0000e+00 - val_loss: 3351.4915 - val_accuracy: 0.0000e+00\n",
            "Epoch 54/100\n",
            "10/10 [==============================] - 0s 8ms/step - loss: 3460.3047 - accuracy: 0.0000e+00 - val_loss: 3347.4863 - val_accuracy: 0.0000e+00\n",
            "Epoch 55/100\n",
            "10/10 [==============================] - 0s 8ms/step - loss: 3052.4767 - accuracy: 0.0000e+00 - val_loss: 3343.6196 - val_accuracy: 0.0000e+00\n",
            "Epoch 56/100\n",
            "10/10 [==============================] - 0s 9ms/step - loss: 3132.6018 - accuracy: 0.0000e+00 - val_loss: 3339.6672 - val_accuracy: 0.0000e+00\n",
            "Epoch 57/100\n",
            "10/10 [==============================] - 0s 8ms/step - loss: 3205.7865 - accuracy: 0.0000e+00 - val_loss: 3335.7124 - val_accuracy: 0.0000e+00\n",
            "Epoch 58/100\n",
            "10/10 [==============================] - 0s 9ms/step - loss: 3036.8256 - accuracy: 0.0000e+00 - val_loss: 3331.7925 - val_accuracy: 0.0000e+00\n",
            "Epoch 59/100\n",
            "10/10 [==============================] - 0s 9ms/step - loss: 3625.3732 - accuracy: 0.0000e+00 - val_loss: 3327.7864 - val_accuracy: 0.0000e+00\n",
            "Epoch 60/100\n",
            "10/10 [==============================] - 0s 9ms/step - loss: 3122.6611 - accuracy: 0.0000e+00 - val_loss: 3323.8691 - val_accuracy: 0.0000e+00\n",
            "Epoch 61/100\n",
            "10/10 [==============================] - 0s 8ms/step - loss: 3164.0623 - accuracy: 0.0000e+00 - val_loss: 3319.9453 - val_accuracy: 0.0000e+00\n",
            "Epoch 62/100\n",
            "10/10 [==============================] - 0s 8ms/step - loss: 3365.1501 - accuracy: 0.0000e+00 - val_loss: 3315.9583 - val_accuracy: 0.0000e+00\n",
            "Epoch 63/100\n",
            "10/10 [==============================] - 0s 8ms/step - loss: 3558.2783 - accuracy: 0.0000e+00 - val_loss: 3311.9883 - val_accuracy: 0.0000e+00\n",
            "Epoch 64/100\n",
            "10/10 [==============================] - 0s 8ms/step - loss: 3461.6900 - accuracy: 0.0000e+00 - val_loss: 3308.0500 - val_accuracy: 0.0000e+00\n",
            "Epoch 65/100\n",
            "10/10 [==============================] - 0s 10ms/step - loss: 3282.7154 - accuracy: 0.0000e+00 - val_loss: 3304.1711 - val_accuracy: 0.0000e+00\n",
            "Epoch 66/100\n",
            "10/10 [==============================] - 0s 9ms/step - loss: 3394.0808 - accuracy: 0.0000e+00 - val_loss: 3300.2454 - val_accuracy: 0.0000e+00\n",
            "Epoch 67/100\n",
            "10/10 [==============================] - 0s 8ms/step - loss: 2927.4567 - accuracy: 0.0000e+00 - val_loss: 3296.3914 - val_accuracy: 0.0000e+00\n",
            "Epoch 68/100\n",
            "10/10 [==============================] - 0s 10ms/step - loss: 3465.4671 - accuracy: 0.0000e+00 - val_loss: 3292.4290 - val_accuracy: 0.0000e+00\n",
            "Epoch 69/100\n",
            "10/10 [==============================] - 0s 9ms/step - loss: 3225.1450 - accuracy: 0.0000e+00 - val_loss: 3288.5767 - val_accuracy: 0.0000e+00\n",
            "Epoch 70/100\n",
            "10/10 [==============================] - 0s 8ms/step - loss: 3388.0071 - accuracy: 0.0000e+00 - val_loss: 3284.6511 - val_accuracy: 0.0000e+00\n",
            "Epoch 71/100\n",
            "10/10 [==============================] - 0s 8ms/step - loss: 2730.9431 - accuracy: 0.0000e+00 - val_loss: 3280.8196 - val_accuracy: 0.0000e+00\n",
            "Epoch 72/100\n",
            "10/10 [==============================] - 0s 8ms/step - loss: 3132.7843 - accuracy: 0.0000e+00 - val_loss: 3276.9116 - val_accuracy: 0.0000e+00\n",
            "Epoch 73/100\n",
            "10/10 [==============================] - 0s 8ms/step - loss: 3101.7841 - accuracy: 0.0000e+00 - val_loss: 3273.0039 - val_accuracy: 0.0000e+00\n",
            "Epoch 74/100\n",
            "10/10 [==============================] - 0s 9ms/step - loss: 3397.4718 - accuracy: 0.0000e+00 - val_loss: 3269.0649 - val_accuracy: 0.0000e+00\n",
            "Epoch 75/100\n",
            "10/10 [==============================] - 0s 9ms/step - loss: 2911.4527 - accuracy: 0.0000e+00 - val_loss: 3265.2612 - val_accuracy: 0.0000e+00\n",
            "Epoch 76/100\n",
            "10/10 [==============================] - 0s 9ms/step - loss: 3625.8099 - accuracy: 0.0000e+00 - val_loss: 3261.3000 - val_accuracy: 0.0000e+00\n",
            "Epoch 77/100\n",
            "10/10 [==============================] - 0s 8ms/step - loss: 3054.6279 - accuracy: 0.0000e+00 - val_loss: 3257.4717 - val_accuracy: 0.0000e+00\n",
            "Epoch 78/100\n",
            "10/10 [==============================] - 0s 7ms/step - loss: 3273.0947 - accuracy: 0.0000e+00 - val_loss: 3253.5579 - val_accuracy: 0.0000e+00\n",
            "Epoch 79/100\n",
            "10/10 [==============================] - 0s 8ms/step - loss: 3273.5680 - accuracy: 0.0000e+00 - val_loss: 3249.7334 - val_accuracy: 0.0000e+00\n",
            "Epoch 80/100\n",
            "10/10 [==============================] - 0s 8ms/step - loss: 2580.9229 - accuracy: 0.0000e+00 - val_loss: 3245.9580 - val_accuracy: 0.0000e+00\n",
            "Epoch 81/100\n",
            "10/10 [==============================] - 0s 8ms/step - loss: 3166.7625 - accuracy: 0.0000e+00 - val_loss: 3242.1030 - val_accuracy: 0.0000e+00\n",
            "Epoch 82/100\n",
            "10/10 [==============================] - 0s 8ms/step - loss: 3582.3480 - accuracy: 0.0000e+00 - val_loss: 3238.1887 - val_accuracy: 0.0000e+00\n",
            "Epoch 83/100\n",
            "10/10 [==============================] - 0s 9ms/step - loss: 3100.7601 - accuracy: 0.0000e+00 - val_loss: 3234.3472 - val_accuracy: 0.0000e+00\n",
            "Epoch 84/100\n",
            "10/10 [==============================] - 0s 8ms/step - loss: 3382.8308 - accuracy: 0.0000e+00 - val_loss: 3230.4722 - val_accuracy: 0.0000e+00\n",
            "Epoch 85/100\n",
            "10/10 [==============================] - 0s 9ms/step - loss: 3067.6958 - accuracy: 0.0000e+00 - val_loss: 3226.6433 - val_accuracy: 0.0000e+00\n",
            "Epoch 86/100\n",
            "10/10 [==============================] - 0s 8ms/step - loss: 3444.2646 - accuracy: 0.0000e+00 - val_loss: 3222.7681 - val_accuracy: 0.0000e+00\n",
            "Epoch 87/100\n",
            "10/10 [==============================] - 0s 9ms/step - loss: 3529.1775 - accuracy: 0.0000e+00 - val_loss: 3218.9487 - val_accuracy: 0.0000e+00\n",
            "Epoch 88/100\n",
            "10/10 [==============================] - 0s 8ms/step - loss: 3437.0898 - accuracy: 0.0000e+00 - val_loss: 3215.1379 - val_accuracy: 0.0000e+00\n",
            "Epoch 89/100\n",
            "10/10 [==============================] - 0s 8ms/step - loss: 3049.1188 - accuracy: 0.0000e+00 - val_loss: 3211.3796 - val_accuracy: 0.0000e+00\n",
            "Epoch 90/100\n",
            "10/10 [==============================] - 0s 8ms/step - loss: 2819.1315 - accuracy: 0.0000e+00 - val_loss: 3207.6152 - val_accuracy: 0.0000e+00\n",
            "Epoch 91/100\n",
            "10/10 [==============================] - 0s 9ms/step - loss: 3020.8675 - accuracy: 0.0000e+00 - val_loss: 3203.8391 - val_accuracy: 0.0000e+00\n",
            "Epoch 92/100\n",
            "10/10 [==============================] - 0s 9ms/step - loss: 3250.2600 - accuracy: 0.0000e+00 - val_loss: 3200.0151 - val_accuracy: 0.0000e+00\n",
            "Epoch 93/100\n",
            "10/10 [==============================] - 0s 10ms/step - loss: 2986.8785 - accuracy: 0.0000e+00 - val_loss: 3196.2290 - val_accuracy: 0.0000e+00\n",
            "Epoch 94/100\n",
            "10/10 [==============================] - 0s 8ms/step - loss: 3258.4573 - accuracy: 0.0000e+00 - val_loss: 3192.3696 - val_accuracy: 0.0000e+00\n",
            "Epoch 95/100\n",
            "10/10 [==============================] - 0s 9ms/step - loss: 3963.8835 - accuracy: 0.0000e+00 - val_loss: 3188.4824 - val_accuracy: 0.0000e+00\n",
            "Epoch 96/100\n",
            "10/10 [==============================] - 0s 7ms/step - loss: 3491.5759 - accuracy: 0.0000e+00 - val_loss: 3184.7202 - val_accuracy: 0.0000e+00\n",
            "Epoch 97/100\n",
            "10/10 [==============================] - 0s 8ms/step - loss: 3501.9106 - accuracy: 0.0000e+00 - val_loss: 3180.9485 - val_accuracy: 0.0000e+00\n",
            "Epoch 98/100\n",
            "10/10 [==============================] - 0s 8ms/step - loss: 3430.1714 - accuracy: 0.0000e+00 - val_loss: 3177.1738 - val_accuracy: 0.0000e+00\n",
            "Epoch 99/100\n",
            "10/10 [==============================] - 0s 8ms/step - loss: 2844.2330 - accuracy: 0.0000e+00 - val_loss: 3173.4700 - val_accuracy: 0.0000e+00\n",
            "Epoch 100/100\n",
            "10/10 [==============================] - 0s 8ms/step - loss: 3134.8107 - accuracy: 0.0000e+00 - val_loss: 3169.6753 - val_accuracy: 0.0000e+00\n"
          ],
          "name": "stdout"
        }
      ]
    },
    {
      "cell_type": "markdown",
      "metadata": {
        "id": "D1mA8n0fizI4"
      },
      "source": [
        "#### (4) Model Predict"
      ]
    },
    {
      "cell_type": "code",
      "metadata": {
        "id": "a4gYZE3EMdei"
      },
      "source": [
        "y_hat = model_1.predict(X_test)"
      ],
      "execution_count": null,
      "outputs": []
    },
    {
      "cell_type": "markdown",
      "metadata": {
        "id": "-pY5E-LQi1q2"
      },
      "source": [
        "#### (5) 학습 결과 시각화"
      ]
    },
    {
      "cell_type": "markdown",
      "metadata": {
        "id": "mw9Qh332i38Q"
      },
      "source": [
        "* Loss 감소"
      ]
    },
    {
      "cell_type": "code",
      "metadata": {
        "colab": {
          "base_uri": "https://localhost:8080/",
          "height": 265
        },
        "id": "pqwSeNttMoZq",
        "outputId": "cbabc110-2dc3-4808-f8a3-fe88e5b9b069"
      },
      "source": [
        "plt.plot(Hist_1.history['loss'])\n",
        "plt.show()"
      ],
      "execution_count": null,
      "outputs": [
        {
          "output_type": "display_data",
          "data": {
            "image/png": "[encoded data removed]",
            "text/plain": [
              "<Figure size 432x288 with 1 Axes>"
            ]
          },
          "metadata": {
            "tags": [],
            "needs_background": "light"
          }
        }
      ]
    },
    {
      "cell_type": "markdown",
      "metadata": {
        "id": "JFid54Bmi555"
      },
      "source": [
        "* 학습되지 않음 (정확도 0)\n",
        "    * 녹색 -> 정답(y_test)\n",
        "    * 적색 -> 예측(y_hat)"
      ]
    },
    {
      "cell_type": "code",
      "metadata": {
        "colab": {
          "base_uri": "https://localhost:8080/",
          "height": 265
        },
        "id": "NZCbaezpMtCs",
        "outputId": "c72ade56-2583-4748-c0e5-5a79f3ca4da5"
      },
      "source": [
        "plt.scatter(range(20), y_hat, c='r')\n",
        "plt.scatter(range(20), y_test, c='g')\n",
        "plt.show()"
      ],
      "execution_count": null,
      "outputs": [
        {
          "output_type": "display_data",
          "data": {
            "image/png": "[encoded data removed]",
            "text/plain": [
              "<Figure size 432x288 with 1 Axes>"
            ]
          },
          "metadata": {
            "tags": [],
            "needs_background": "light"
          }
        }
      ]
    },
    {
      "cell_type": "markdown",
      "metadata": {
        "id": "BgvcE09qjCAR"
      },
      "source": [
        "## II. SimpleRNN - with Normalization"
      ]
    },
    {
      "cell_type": "markdown",
      "metadata": {
        "id": "fvsVZrnwjFGR"
      },
      "source": [
        "> ### 1) Sample Data - with Normalization"
      ]
    },
    {
      "cell_type": "code",
      "metadata": {
        "id": "TcuGOT6gM2As"
      },
      "source": [
        "X = [[[(i + j)] for i in range(5)] for j in range(100)]\n",
        "y = [(i + 5) for i in range(100)]\n",
        "\n",
        "X = (X - np.min(X)) / (np.max(X) - np.min(X))\n",
        "y = (y - np.min(y)) / (np.max(y) - np.min(y))"
      ],
      "execution_count": null,
      "outputs": []
    },
    {
      "cell_type": "markdown",
      "metadata": {
        "id": "oEvo4cYPjIb0"
      },
      "source": [
        "> ### 2) Casting"
      ]
    },
    {
      "cell_type": "code",
      "metadata": {
        "colab": {
          "base_uri": "https://localhost:8080/"
        },
        "id": "0cXoV_LFNE6Y",
        "outputId": "335bbe30-579d-46a3-fd4b-c2668e029629"
      },
      "source": [
        "X = np.array(X, dtype=float)\n",
        "y = np.array(y, dtype=float)\n",
        "\n",
        "X.shape, y.shape"
      ],
      "execution_count": null,
      "outputs": [
        {
          "output_type": "execute_result",
          "data": {
            "text/plain": [
              "((100, 5, 1), (100,))"
            ]
          },
          "metadata": {
            "tags": []
          },
          "execution_count": 15
        }
      ]
    },
    {
      "cell_type": "markdown",
      "metadata": {
        "id": "OCoxEreijLXb"
      },
      "source": [
        "> ### 3) Train vs. Test Split"
      ]
    },
    {
      "cell_type": "code",
      "metadata": {
        "colab": {
          "base_uri": "https://localhost:8080/"
        },
        "id": "qk00ArS-NMeD",
        "outputId": "9cd5002f-effd-46c5-f16a-5c670460bceb"
      },
      "source": [
        "X_train, X_test, y_train, y_test = train_test_split(X, y, test_size = 0.2, random_state = 2045)\n",
        "X_train.shape, y_train.shape, X_test.shape, y_test.shape"
      ],
      "execution_count": null,
      "outputs": [
        {
          "output_type": "execute_result",
          "data": {
            "text/plain": [
              "((80, 5, 1), (80,), (20, 5, 1), (20,))"
            ]
          },
          "metadata": {
            "tags": []
          },
          "execution_count": 16
        }
      ]
    },
    {
      "cell_type": "markdown",
      "metadata": {
        "id": "O1bK-B8cjOzn"
      },
      "source": [
        "> ### 4) Keras SimpleRNN Modeling"
      ]
    },
    {
      "cell_type": "markdown",
      "metadata": {
        "id": "vclDybcCjS4S"
      },
      "source": [
        "#### (1) Model Define & Summary"
      ]
    },
    {
      "cell_type": "markdown",
      "metadata": {
        "id": "EcV1wny7jZNA"
      },
      "source": [
        "* None : input_length 자동 맞춤"
      ]
    },
    {
      "cell_type": "code",
      "metadata": {
        "colab": {
          "base_uri": "https://localhost:8080/"
        },
        "id": "46oo_JrFNRg6",
        "outputId": "1a372c88-b2ee-41cd-9193-167803ceb7f3"
      },
      "source": [
        "model_2 = models.Sequential(name = 'SimpleRNN_2')\n",
        "model_2.add(layers.SimpleRNN(3, input_shape = (None, 1), return_sequences = False))\n",
        "\n",
        "model_2.add(layers.Dense(1))\n",
        "model_2.summary()"
      ],
      "execution_count": null,
      "outputs": [
        {
          "output_type": "stream",
          "text": [
            "Model: \"SimpleRNN_2\"\n",
            "_________________________________________________________________\n",
            "Layer (type)                 Output Shape              Param #   \n",
            "=================================================================\n",
            "simple_rnn_1 (SimpleRNN)     (None, 3)                 15        \n",
            "_________________________________________________________________\n",
            "dense_1 (Dense)              (None, 1)                 4         \n",
            "=================================================================\n",
            "Total params: 19\n",
            "Trainable params: 19\n",
            "Non-trainable params: 0\n",
            "_________________________________________________________________\n"
          ],
          "name": "stdout"
        }
      ]
    },
    {
      "cell_type": "markdown",
      "metadata": {
        "id": "TlaWsIpBjcU7"
      },
      "source": [
        "#### (2) Model Compile"
      ]
    },
    {
      "cell_type": "code",
      "metadata": {
        "id": "J4XJACXrNXnQ"
      },
      "source": [
        "model_2.compile(loss='mse',\n",
        "                optimizer='adam',\n",
        "                metrics=['accuracy'])"
      ],
      "execution_count": null,
      "outputs": []
    },
    {
      "cell_type": "markdown",
      "metadata": {
        "id": "eLEAR-aGjfw3"
      },
      "source": [
        "#### (3) Model Fit"
      ]
    },
    {
      "cell_type": "code",
      "metadata": {
        "colab": {
          "base_uri": "https://localhost:8080/"
        },
        "id": "Mo8fj09ENeY8",
        "outputId": "95b4ed64-bd1e-4f20-932f-50163f36f32a"
      },
      "source": [
        "Hist_2 = model_2.fit(X_train, y_train, epochs = 100, batch_size = 8, \n",
        "                     validation_data = (X_test, y_test))"
      ],
      "execution_count": null,
      "outputs": [
        {
          "output_type": "stream",
          "text": [
            "Epoch 1/100\n",
            "10/10 [==============================] - 1s 33ms/step - loss: 0.0698 - accuracy: 0.0130 - val_loss: 0.0489 - val_accuracy: 0.0000e+00\n",
            "Epoch 2/100\n",
            "10/10 [==============================] - 0s 7ms/step - loss: 0.0465 - accuracy: 0.0058 - val_loss: 0.0352 - val_accuracy: 0.0000e+00\n",
            "Epoch 3/100\n",
            "10/10 [==============================] - 0s 7ms/step - loss: 0.0434 - accuracy: 0.0223 - val_loss: 0.0250 - val_accuracy: 0.0000e+00\n",
            "Epoch 4/100\n",
            "10/10 [==============================] - 0s 8ms/step - loss: 0.0270 - accuracy: 0.0099 - val_loss: 0.0187 - val_accuracy: 0.0000e+00\n",
            "Epoch 5/100\n",
            "10/10 [==============================] - 0s 7ms/step - loss: 0.0238 - accuracy: 0.0310 - val_loss: 0.0150 - val_accuracy: 0.0000e+00\n",
            "Epoch 6/100\n",
            "10/10 [==============================] - 0s 8ms/step - loss: 0.0210 - accuracy: 0.0404 - val_loss: 0.0133 - val_accuracy: 0.0000e+00\n",
            "Epoch 7/100\n",
            "10/10 [==============================] - 0s 8ms/step - loss: 0.0138 - accuracy: 0.0366 - val_loss: 0.0122 - val_accuracy: 0.0000e+00\n",
            "Epoch 8/100\n",
            "10/10 [==============================] - 0s 8ms/step - loss: 0.0141 - accuracy: 0.0429 - val_loss: 0.0113 - val_accuracy: 0.0000e+00\n",
            "Epoch 9/100\n",
            "10/10 [==============================] - 0s 8ms/step - loss: 0.0124 - accuracy: 0.0072 - val_loss: 0.0104 - val_accuracy: 0.0000e+00\n",
            "Epoch 10/100\n",
            "10/10 [==============================] - 0s 8ms/step - loss: 0.0115 - accuracy: 0.0266 - val_loss: 0.0095 - val_accuracy: 0.0000e+00\n",
            "Epoch 11/100\n",
            "10/10 [==============================] - 0s 8ms/step - loss: 0.0097 - accuracy: 0.0157 - val_loss: 0.0087 - val_accuracy: 0.0000e+00\n",
            "Epoch 12/100\n",
            "10/10 [==============================] - 0s 8ms/step - loss: 0.0095 - accuracy: 0.0240 - val_loss: 0.0078 - val_accuracy: 0.0000e+00\n",
            "Epoch 13/100\n",
            "10/10 [==============================] - 0s 7ms/step - loss: 0.0091 - accuracy: 0.0130 - val_loss: 0.0071 - val_accuracy: 0.0000e+00\n",
            "Epoch 14/100\n",
            "10/10 [==============================] - 0s 8ms/step - loss: 0.0091 - accuracy: 0.0310 - val_loss: 0.0064 - val_accuracy: 0.0000e+00\n",
            "Epoch 15/100\n",
            "10/10 [==============================] - 0s 8ms/step - loss: 0.0062 - accuracy: 0.0410 - val_loss: 0.0058 - val_accuracy: 0.0000e+00\n",
            "Epoch 16/100\n",
            "10/10 [==============================] - 0s 8ms/step - loss: 0.0063 - accuracy: 0.0085 - val_loss: 0.0052 - val_accuracy: 0.0000e+00\n",
            "Epoch 17/100\n",
            "10/10 [==============================] - 0s 8ms/step - loss: 0.0062 - accuracy: 0.0315 - val_loss: 0.0046 - val_accuracy: 0.0000e+00\n",
            "Epoch 18/100\n",
            "10/10 [==============================] - 0s 8ms/step - loss: 0.0048 - accuracy: 0.0380 - val_loss: 0.0041 - val_accuracy: 0.0000e+00\n",
            "Epoch 19/100\n",
            "10/10 [==============================] - 0s 8ms/step - loss: 0.0040 - accuracy: 0.0115 - val_loss: 0.0037 - val_accuracy: 0.0000e+00\n",
            "Epoch 20/100\n",
            "10/10 [==============================] - 0s 8ms/step - loss: 0.0041 - accuracy: 0.0296 - val_loss: 0.0033 - val_accuracy: 0.0000e+00\n",
            "Epoch 21/100\n",
            "10/10 [==============================] - 0s 7ms/step - loss: 0.0041 - accuracy: 0.0480 - val_loss: 0.0030 - val_accuracy: 0.0000e+00\n",
            "Epoch 22/100\n",
            "10/10 [==============================] - 0s 8ms/step - loss: 0.0031 - accuracy: 0.0394 - val_loss: 0.0027 - val_accuracy: 0.0000e+00\n",
            "Epoch 23/100\n",
            "10/10 [==============================] - 0s 9ms/step - loss: 0.0031 - accuracy: 0.0404 - val_loss: 0.0024 - val_accuracy: 0.0000e+00\n",
            "Epoch 24/100\n",
            "10/10 [==============================] - 0s 9ms/step - loss: 0.0025 - accuracy: 0.0209 - val_loss: 0.0022 - val_accuracy: 0.0000e+00\n",
            "Epoch 25/100\n",
            "10/10 [==============================] - 0s 8ms/step - loss: 0.0024 - accuracy: 0.0243 - val_loss: 0.0020 - val_accuracy: 0.0000e+00\n",
            "Epoch 26/100\n",
            "10/10 [==============================] - 0s 8ms/step - loss: 0.0020 - accuracy: 0.0196 - val_loss: 0.0019 - val_accuracy: 0.0000e+00\n",
            "Epoch 27/100\n",
            "10/10 [==============================] - 0s 8ms/step - loss: 0.0020 - accuracy: 0.0366 - val_loss: 0.0018 - val_accuracy: 0.0000e+00\n",
            "Epoch 28/100\n",
            "10/10 [==============================] - 0s 8ms/step - loss: 0.0017 - accuracy: 0.0338 - val_loss: 0.0017 - val_accuracy: 0.0000e+00\n",
            "Epoch 29/100\n",
            "10/10 [==============================] - 0s 8ms/step - loss: 0.0016 - accuracy: 0.0452 - val_loss: 0.0016 - val_accuracy: 0.0000e+00\n",
            "Epoch 30/100\n",
            "10/10 [==============================] - 0s 8ms/step - loss: 0.0013 - accuracy: 0.0196 - val_loss: 0.0015 - val_accuracy: 0.0000e+00\n",
            "Epoch 31/100\n",
            "10/10 [==============================] - 0s 7ms/step - loss: 0.0015 - accuracy: 0.0380 - val_loss: 0.0015 - val_accuracy: 0.0000e+00\n",
            "Epoch 32/100\n",
            "10/10 [==============================] - 0s 8ms/step - loss: 0.0012 - accuracy: 0.0366 - val_loss: 0.0014 - val_accuracy: 0.0000e+00\n",
            "Epoch 33/100\n",
            "10/10 [==============================] - 0s 8ms/step - loss: 0.0014 - accuracy: 0.0281 - val_loss: 0.0014 - val_accuracy: 0.0000e+00\n",
            "Epoch 34/100\n",
            "10/10 [==============================] - 0s 8ms/step - loss: 0.0012 - accuracy: 0.0185 - val_loss: 0.0014 - val_accuracy: 0.0000e+00\n",
            "Epoch 35/100\n",
            "10/10 [==============================] - 0s 8ms/step - loss: 0.0013 - accuracy: 0.0072 - val_loss: 0.0013 - val_accuracy: 0.0000e+00\n",
            "Epoch 36/100\n",
            "10/10 [==============================] - 0s 7ms/step - loss: 0.0013 - accuracy: 0.0192 - val_loss: 0.0013 - val_accuracy: 0.0000e+00\n",
            "Epoch 37/100\n",
            "10/10 [==============================] - 0s 9ms/step - loss: 0.0012 - accuracy: 0.0101 - val_loss: 0.0012 - val_accuracy: 0.0000e+00\n",
            "Epoch 38/100\n",
            "10/10 [==============================] - 0s 8ms/step - loss: 0.0011 - accuracy: 0.0058 - val_loss: 0.0012 - val_accuracy: 0.0000e+00\n",
            "Epoch 39/100\n",
            "10/10 [==============================] - 0s 8ms/step - loss: 0.0011 - accuracy: 0.0089 - val_loss: 0.0012 - val_accuracy: 0.0000e+00\n",
            "Epoch 40/100\n",
            "10/10 [==============================] - 0s 8ms/step - loss: 0.0017 - accuracy: 0.0404 - val_loss: 0.0012 - val_accuracy: 0.0000e+00\n",
            "Epoch 41/100\n",
            "10/10 [==============================] - 0s 8ms/step - loss: 0.0012 - accuracy: 0.0310 - val_loss: 0.0011 - val_accuracy: 0.0000e+00\n",
            "Epoch 42/100\n",
            "10/10 [==============================] - 0s 8ms/step - loss: 9.8976e-04 - accuracy: 0.0315 - val_loss: 0.0011 - val_accuracy: 0.0000e+00\n",
            "Epoch 43/100\n",
            "10/10 [==============================] - 0s 9ms/step - loss: 0.0011 - accuracy: 0.0215 - val_loss: 0.0011 - val_accuracy: 0.0000e+00\n",
            "Epoch 44/100\n",
            "10/10 [==============================] - 0s 9ms/step - loss: 0.0011 - accuracy: 0.0132 - val_loss: 0.0011 - val_accuracy: 0.0000e+00\n",
            "Epoch 45/100\n",
            "10/10 [==============================] - 0s 9ms/step - loss: 0.0012 - accuracy: 0.0394 - val_loss: 0.0011 - val_accuracy: 0.0000e+00\n",
            "Epoch 46/100\n",
            "10/10 [==============================] - 0s 9ms/step - loss: 0.0012 - accuracy: 0.0240 - val_loss: 0.0010 - val_accuracy: 0.0000e+00\n",
            "Epoch 47/100\n",
            "10/10 [==============================] - 0s 8ms/step - loss: 0.0012 - accuracy: 0.0338 - val_loss: 0.0010 - val_accuracy: 0.0000e+00\n",
            "Epoch 48/100\n",
            "10/10 [==============================] - 0s 8ms/step - loss: 0.0011 - accuracy: 0.0380 - val_loss: 9.6672e-04 - val_accuracy: 0.0000e+00\n",
            "Epoch 49/100\n",
            "10/10 [==============================] - 0s 9ms/step - loss: 0.0012 - accuracy: 0.0143 - val_loss: 0.0010 - val_accuracy: 0.0000e+00\n",
            "Epoch 50/100\n",
            "10/10 [==============================] - 0s 9ms/step - loss: 0.0011 - accuracy: 0.0518 - val_loss: 9.7141e-04 - val_accuracy: 0.0000e+00\n",
            "Epoch 51/100\n",
            "10/10 [==============================] - 0s 8ms/step - loss: 0.0011 - accuracy: 0.0410 - val_loss: 9.1827e-04 - val_accuracy: 0.0000e+00\n",
            "Epoch 52/100\n",
            "10/10 [==============================] - 0s 9ms/step - loss: 8.9768e-04 - accuracy: 0.0173 - val_loss: 8.9605e-04 - val_accuracy: 0.0000e+00\n",
            "Epoch 53/100\n",
            "10/10 [==============================] - 0s 7ms/step - loss: 0.0011 - accuracy: 0.0380 - val_loss: 9.0141e-04 - val_accuracy: 0.0000e+00\n",
            "Epoch 54/100\n",
            "10/10 [==============================] - 0s 9ms/step - loss: 9.4494e-04 - accuracy: 0.0072 - val_loss: 8.9722e-04 - val_accuracy: 0.0000e+00\n",
            "Epoch 55/100\n",
            "10/10 [==============================] - 0s 9ms/step - loss: 9.1468e-04 - accuracy: 0.0072 - val_loss: 8.6590e-04 - val_accuracy: 0.0000e+00\n",
            "Epoch 56/100\n",
            "10/10 [==============================] - 0s 8ms/step - loss: 7.2975e-04 - accuracy: 0.0058 - val_loss: 8.2783e-04 - val_accuracy: 0.0000e+00\n",
            "Epoch 57/100\n",
            "10/10 [==============================] - 0s 9ms/step - loss: 8.9096e-04 - accuracy: 0.0404 - val_loss: 8.2003e-04 - val_accuracy: 0.0000e+00\n",
            "Epoch 58/100\n",
            "10/10 [==============================] - 0s 9ms/step - loss: 9.3610e-04 - accuracy: 0.0347 - val_loss: 8.2653e-04 - val_accuracy: 0.0000e+00\n",
            "Epoch 59/100\n",
            "10/10 [==============================] - 0s 9ms/step - loss: 9.1502e-04 - accuracy: 0.0072 - val_loss: 7.8906e-04 - val_accuracy: 0.0000e+00\n",
            "Epoch 60/100\n",
            "10/10 [==============================] - 0s 9ms/step - loss: 6.5158e-04 - accuracy: 0.0367 - val_loss: 7.5180e-04 - val_accuracy: 0.0000e+00\n",
            "Epoch 61/100\n",
            "10/10 [==============================] - 0s 8ms/step - loss: 8.9619e-04 - accuracy: 0.0196 - val_loss: 7.8165e-04 - val_accuracy: 0.0000e+00\n",
            "Epoch 62/100\n",
            "10/10 [==============================] - 0s 8ms/step - loss: 7.7775e-04 - accuracy: 0.0107 - val_loss: 7.7387e-04 - val_accuracy: 0.0000e+00\n",
            "Epoch 63/100\n",
            "10/10 [==============================] - 0s 8ms/step - loss: 7.4168e-04 - accuracy: 0.0171 - val_loss: 7.0968e-04 - val_accuracy: 0.0000e+00\n",
            "Epoch 64/100\n",
            "10/10 [==============================] - 0s 8ms/step - loss: 7.8084e-04 - accuracy: 0.0404 - val_loss: 7.1332e-04 - val_accuracy: 0.0000e+00\n",
            "Epoch 65/100\n",
            "10/10 [==============================] - 0s 8ms/step - loss: 7.9932e-04 - accuracy: 0.0085 - val_loss: 6.9847e-04 - val_accuracy: 0.0000e+00\n",
            "Epoch 66/100\n",
            "10/10 [==============================] - 0s 8ms/step - loss: 7.5620e-04 - accuracy: 0.0258 - val_loss: 6.8971e-04 - val_accuracy: 0.0000e+00\n",
            "Epoch 67/100\n",
            "10/10 [==============================] - 0s 8ms/step - loss: 8.0661e-04 - accuracy: 0.0134 - val_loss: 6.6022e-04 - val_accuracy: 0.0000e+00\n",
            "Epoch 68/100\n",
            "10/10 [==============================] - 0s 8ms/step - loss: 7.5553e-04 - accuracy: 0.0452 - val_loss: 6.4311e-04 - val_accuracy: 0.0000e+00\n",
            "Epoch 69/100\n",
            "10/10 [==============================] - 0s 9ms/step - loss: 5.2522e-04 - accuracy: 0.0101 - val_loss: 6.2430e-04 - val_accuracy: 0.0000e+00\n",
            "Epoch 70/100\n",
            "10/10 [==============================] - 0s 9ms/step - loss: 6.7158e-04 - accuracy: 0.0072 - val_loss: 6.4040e-04 - val_accuracy: 0.0000e+00\n",
            "Epoch 71/100\n",
            "10/10 [==============================] - 0s 8ms/step - loss: 7.2976e-04 - accuracy: 0.0085 - val_loss: 6.2487e-04 - val_accuracy: 0.0000e+00\n",
            "Epoch 72/100\n",
            "10/10 [==============================] - 0s 9ms/step - loss: 5.9154e-04 - accuracy: 0.0101 - val_loss: 5.8911e-04 - val_accuracy: 0.0000e+00\n",
            "Epoch 73/100\n",
            "10/10 [==============================] - 0s 8ms/step - loss: 5.5732e-04 - accuracy: 0.0159 - val_loss: 5.9327e-04 - val_accuracy: 0.0000e+00\n",
            "Epoch 74/100\n",
            "10/10 [==============================] - 0s 7ms/step - loss: 6.5649e-04 - accuracy: 0.0253 - val_loss: 5.8547e-04 - val_accuracy: 0.0000e+00\n",
            "Epoch 75/100\n",
            "10/10 [==============================] - 0s 8ms/step - loss: 6.0559e-04 - accuracy: 0.0058 - val_loss: 5.5905e-04 - val_accuracy: 0.0000e+00\n",
            "Epoch 76/100\n",
            "10/10 [==============================] - 0s 8ms/step - loss: 6.0236e-04 - accuracy: 0.0296 - val_loss: 5.4473e-04 - val_accuracy: 0.0000e+00\n",
            "Epoch 77/100\n",
            "10/10 [==============================] - 0s 8ms/step - loss: 6.3914e-04 - accuracy: 0.0115 - val_loss: 5.4492e-04 - val_accuracy: 0.0000e+00\n",
            "Epoch 78/100\n",
            "10/10 [==============================] - 0s 8ms/step - loss: 6.0591e-04 - accuracy: 0.0085 - val_loss: 5.2356e-04 - val_accuracy: 0.0000e+00\n",
            "Epoch 79/100\n",
            "10/10 [==============================] - 0s 9ms/step - loss: 6.7336e-04 - accuracy: 0.0240 - val_loss: 5.1878e-04 - val_accuracy: 0.0000e+00\n",
            "Epoch 80/100\n",
            "10/10 [==============================] - 0s 8ms/step - loss: 6.8889e-04 - accuracy: 0.0366 - val_loss: 5.0838e-04 - val_accuracy: 0.0000e+00\n",
            "Epoch 81/100\n",
            "10/10 [==============================] - 0s 9ms/step - loss: 5.2698e-04 - accuracy: 0.0315 - val_loss: 4.7959e-04 - val_accuracy: 0.0000e+00\n",
            "Epoch 82/100\n",
            "10/10 [==============================] - 0s 8ms/step - loss: 4.9692e-04 - accuracy: 0.0280 - val_loss: 4.8515e-04 - val_accuracy: 0.0000e+00\n",
            "Epoch 83/100\n",
            "10/10 [==============================] - 0s 10ms/step - loss: 5.4837e-04 - accuracy: 0.0058 - val_loss: 4.7435e-04 - val_accuracy: 0.0000e+00\n",
            "Epoch 84/100\n",
            "10/10 [==============================] - 0s 8ms/step - loss: 5.4356e-04 - accuracy: 0.0266 - val_loss: 4.6019e-04 - val_accuracy: 0.0000e+00\n",
            "Epoch 85/100\n",
            "10/10 [==============================] - 0s 8ms/step - loss: 5.5165e-04 - accuracy: 0.0132 - val_loss: 4.5289e-04 - val_accuracy: 0.0000e+00\n",
            "Epoch 86/100\n",
            "10/10 [==============================] - 0s 8ms/step - loss: 5.0926e-04 - accuracy: 0.0209 - val_loss: 4.4126e-04 - val_accuracy: 0.0000e+00\n",
            "Epoch 87/100\n",
            "10/10 [==============================] - 0s 8ms/step - loss: 4.7866e-04 - accuracy: 0.0253 - val_loss: 4.2631e-04 - val_accuracy: 0.0000e+00\n",
            "Epoch 88/100\n",
            "10/10 [==============================] - 0s 8ms/step - loss: 5.1182e-04 - accuracy: 0.0404 - val_loss: 4.2463e-04 - val_accuracy: 0.0000e+00\n",
            "Epoch 89/100\n",
            "10/10 [==============================] - 0s 9ms/step - loss: 4.5145e-04 - accuracy: 0.0157 - val_loss: 4.2070e-04 - val_accuracy: 0.0000e+00\n",
            "Epoch 90/100\n",
            "10/10 [==============================] - 0s 8ms/step - loss: 4.3367e-04 - accuracy: 0.0089 - val_loss: 3.9399e-04 - val_accuracy: 0.0000e+00\n",
            "Epoch 91/100\n",
            "10/10 [==============================] - 0s 8ms/step - loss: 4.4108e-04 - accuracy: 0.0120 - val_loss: 3.9466e-04 - val_accuracy: 0.0000e+00\n",
            "Epoch 92/100\n",
            "10/10 [==============================] - 0s 7ms/step - loss: 4.2060e-04 - accuracy: 0.0089 - val_loss: 3.9253e-04 - val_accuracy: 0.0000e+00\n",
            "Epoch 93/100\n",
            "10/10 [==============================] - 0s 8ms/step - loss: 4.0371e-04 - accuracy: 0.0394 - val_loss: 3.7102e-04 - val_accuracy: 0.0000e+00\n",
            "Epoch 94/100\n",
            "10/10 [==============================] - 0s 8ms/step - loss: 3.8010e-04 - accuracy: 0.0151 - val_loss: 3.7469e-04 - val_accuracy: 0.0000e+00\n",
            "Epoch 95/100\n",
            "10/10 [==============================] - 0s 8ms/step - loss: 3.9303e-04 - accuracy: 0.0130 - val_loss: 3.6770e-04 - val_accuracy: 0.0000e+00\n",
            "Epoch 96/100\n",
            "10/10 [==============================] - 0s 7ms/step - loss: 4.3389e-04 - accuracy: 0.0367 - val_loss: 3.4335e-04 - val_accuracy: 0.0000e+00\n",
            "Epoch 97/100\n",
            "10/10 [==============================] - 0s 10ms/step - loss: 4.0292e-04 - accuracy: 0.0196 - val_loss: 3.3946e-04 - val_accuracy: 0.0000e+00\n",
            "Epoch 98/100\n",
            "10/10 [==============================] - 0s 8ms/step - loss: 4.3700e-04 - accuracy: 0.0171 - val_loss: 3.4809e-04 - val_accuracy: 0.0000e+00\n",
            "Epoch 99/100\n",
            "10/10 [==============================] - 0s 9ms/step - loss: 3.7840e-04 - accuracy: 0.0157 - val_loss: 3.2557e-04 - val_accuracy: 0.0000e+00\n",
            "Epoch 100/100\n",
            "10/10 [==============================] - 0s 8ms/step - loss: 3.3138e-04 - accuracy: 0.0380 - val_loss: 3.1243e-04 - val_accuracy: 0.0000e+00\n"
          ],
          "name": "stdout"
        }
      ]
    },
    {
      "cell_type": "markdown",
      "metadata": {
        "id": "mxuT6I8Qjjgx"
      },
      "source": [
        "#### (4) Model Predict"
      ]
    },
    {
      "cell_type": "code",
      "metadata": {
        "id": "NjlcPqgvNmod"
      },
      "source": [
        "y_hat = model_2.predict(X_test)"
      ],
      "execution_count": null,
      "outputs": []
    },
    {
      "cell_type": "markdown",
      "metadata": {
        "id": "qMXZFASvjlnb"
      },
      "source": [
        "#### (5) 학습 결과 시각화"
      ]
    },
    {
      "cell_type": "markdown",
      "metadata": {
        "id": "-i4gzxMYjn41"
      },
      "source": [
        "* Loss 감소"
      ]
    },
    {
      "cell_type": "code",
      "metadata": {
        "colab": {
          "base_uri": "https://localhost:8080/",
          "height": 265
        },
        "id": "If_2wEScNr3H",
        "outputId": "6dda4dc3-7265-40b0-fc5c-24ad1aae4c97"
      },
      "source": [
        "plt.plot(Hist_2.history['loss'])\n",
        "plt.show()"
      ],
      "execution_count": null,
      "outputs": [
        {
          "output_type": "display_data",
          "data": {
            "image/png": "[encoded data removed]",
            "text/plain": [
              "<Figure size 432x288 with 1 Axes>"
            ]
          },
          "metadata": {
            "tags": [],
            "needs_background": "light"
          }
        }
      ]
    },
    {
      "cell_type": "markdown",
      "metadata": {
        "id": "HoTRHUdOjpeN"
      },
      "source": [
        "* 학습 진행\n",
        "    * 녹색 -> 정답(y_test)\n",
        "    * 적색 -> 예측(y_hat)"
      ]
    },
    {
      "cell_type": "code",
      "metadata": {
        "colab": {
          "base_uri": "https://localhost:8080/",
          "height": 265
        },
        "id": "TqU_vdQINvIK",
        "outputId": "a967e90c-3a49-47be-ccc1-907a544072e0"
      },
      "source": [
        "plt.scatter(range(20), y_hat, c = 'r')\n",
        "plt.scatter(range(20), y_test, c = 'g')\n",
        "plt.show()"
      ],
      "execution_count": null,
      "outputs": [
        {
          "output_type": "display_data",
          "data": {
            "image/png": "[encoded data removed]",
            "text/plain": [
              "<Figure size 432x288 with 1 Axes>"
            ]
          },
          "metadata": {
            "tags": [],
            "needs_background": "light"
          }
        }
      ]
    },
    {
      "cell_type": "markdown",
      "metadata": {
        "id": "ZFpLs76Fjus_"
      },
      "source": [
        "## III. Stacked_SimpleRNN"
      ]
    },
    {
      "cell_type": "markdown",
      "metadata": {
        "id": "BJfwYy17jwz_"
      },
      "source": [
        "> ### 1) Model Define & Summary\n",
        "* return_sequences = True"
      ]
    },
    {
      "cell_type": "code",
      "metadata": {
        "colab": {
          "base_uri": "https://localhost:8080/"
        },
        "id": "a6yUnUYlNyU2",
        "outputId": "c66736d2-4779-4adf-b05b-81e6cba25b56"
      },
      "source": [
        "model_4 = models.Sequential(name='Stacked_RNN')\n",
        "model_4.add(layers.SimpleRNN(3, input_shape=(None, 1),\n",
        "                             return_sequences=True)) # Stacked RNN model에서 반드시 True 로\n",
        "                             \n",
        "model_4.add(layers.SimpleRNN(3, input_shape=(None, 1),\n",
        "                             return_sequences=False))\n",
        "model_4.add(layers.Dense(1))\n",
        "model_4.summary()"
      ],
      "execution_count": null,
      "outputs": [
        {
          "output_type": "stream",
          "text": [
            "Model: \"Stacked_RNN\"\n",
            "_________________________________________________________________\n",
            "Layer (type)                 Output Shape              Param #   \n",
            "=================================================================\n",
            "simple_rnn_2 (SimpleRNN)     (None, None, 3)           15        \n",
            "_________________________________________________________________\n",
            "simple_rnn_3 (SimpleRNN)     (None, 3)                 21        \n",
            "_________________________________________________________________\n",
            "dense_2 (Dense)              (None, 1)                 4         \n",
            "=================================================================\n",
            "Total params: 40\n",
            "Trainable params: 40\n",
            "Non-trainable params: 0\n",
            "_________________________________________________________________\n"
          ],
          "name": "stdout"
        }
      ]
    },
    {
      "cell_type": "markdown",
      "metadata": {
        "id": "rnT137gIj3hq"
      },
      "source": [
        "> ### 2) Model Compile"
      ]
    },
    {
      "cell_type": "code",
      "metadata": {
        "id": "OQQQszw-OReE"
      },
      "source": [
        "model_4.compile(loss='mse',\n",
        "                optimizer='adam',\n",
        "                metrics=['accuracy'])"
      ],
      "execution_count": null,
      "outputs": []
    },
    {
      "cell_type": "markdown",
      "metadata": {
        "id": "YiVPwYvkj8cL"
      },
      "source": [
        "> ### 3) Model Fit"
      ]
    },
    {
      "cell_type": "code",
      "metadata": {
        "colab": {
          "base_uri": "https://localhost:8080/"
        },
        "id": "80tsDB1xOaay",
        "outputId": "807b3b44-e99e-4640-97fd-5bb8176ba49d"
      },
      "source": [
        "Hist_4 = model_4.fit(X_train, y_train,\n",
        "                     epochs = 100,\n",
        "                     batch_size = 8,\n",
        "                     validation_data = (X_test, y_test))"
      ],
      "execution_count": null,
      "outputs": [
        {
          "output_type": "stream",
          "text": [
            "Epoch 1/100\n",
            "10/10 [==============================] - 2s 46ms/step - loss: 1.1742 - accuracy: 0.0136 - val_loss: 0.8304 - val_accuracy: 0.0000e+00\n",
            "Epoch 2/100\n",
            "10/10 [==============================] - 0s 8ms/step - loss: 0.7560 - accuracy: 0.0136 - val_loss: 0.5564 - val_accuracy: 0.0000e+00\n",
            "Epoch 3/100\n",
            "10/10 [==============================] - 0s 10ms/step - loss: 0.4932 - accuracy: 0.0107 - val_loss: 0.3671 - val_accuracy: 0.0000e+00\n",
            "Epoch 4/100\n",
            "10/10 [==============================] - 0s 11ms/step - loss: 0.3141 - accuracy: 0.0344 - val_loss: 0.2480 - val_accuracy: 0.0000e+00\n",
            "Epoch 5/100\n",
            "10/10 [==============================] - 0s 9ms/step - loss: 0.2221 - accuracy: 0.0066 - val_loss: 0.1745 - val_accuracy: 0.0000e+00\n",
            "Epoch 6/100\n",
            "10/10 [==============================] - 0s 9ms/step - loss: 0.1637 - accuracy: 0.0050 - val_loss: 0.1301 - val_accuracy: 0.0000e+00\n",
            "Epoch 7/100\n",
            "10/10 [==============================] - 0s 9ms/step - loss: 0.1319 - accuracy: 0.0344 - val_loss: 0.1023 - val_accuracy: 0.0000e+00\n",
            "Epoch 8/100\n",
            "10/10 [==============================] - 0s 9ms/step - loss: 0.0954 - accuracy: 0.0066 - val_loss: 0.0850 - val_accuracy: 0.0000e+00\n",
            "Epoch 9/100\n",
            "10/10 [==============================] - 0s 9ms/step - loss: 0.1011 - accuracy: 0.0107 - val_loss: 0.0721 - val_accuracy: 0.0000e+00\n",
            "Epoch 10/100\n",
            "10/10 [==============================] - 0s 10ms/step - loss: 0.0956 - accuracy: 0.0344 - val_loss: 0.0619 - val_accuracy: 0.0000e+00\n",
            "Epoch 11/100\n",
            "10/10 [==============================] - 0s 8ms/step - loss: 0.0718 - accuracy: 0.0035 - val_loss: 0.0536 - val_accuracy: 0.0000e+00\n",
            "Epoch 12/100\n",
            "10/10 [==============================] - 0s 9ms/step - loss: 0.0506 - accuracy: 0.0209 - val_loss: 0.0465 - val_accuracy: 0.0000e+00\n",
            "Epoch 13/100\n",
            "10/10 [==============================] - 0s 10ms/step - loss: 0.0469 - accuracy: 0.0221 - val_loss: 0.0399 - val_accuracy: 0.0000e+00\n",
            "Epoch 14/100\n",
            "10/10 [==============================] - 0s 10ms/step - loss: 0.0420 - accuracy: 0.0171 - val_loss: 0.0341 - val_accuracy: 0.0000e+00\n",
            "Epoch 15/100\n",
            "10/10 [==============================] - 0s 9ms/step - loss: 0.0350 - accuracy: 0.0058 - val_loss: 0.0290 - val_accuracy: 0.0000e+00\n",
            "Epoch 16/100\n",
            "10/10 [==============================] - 0s 8ms/step - loss: 0.0326 - accuracy: 0.0380 - val_loss: 0.0247 - val_accuracy: 0.0000e+00\n",
            "Epoch 17/100\n",
            "10/10 [==============================] - 0s 9ms/step - loss: 0.0295 - accuracy: 0.0688 - val_loss: 0.0208 - val_accuracy: 0.0000e+00\n",
            "Epoch 18/100\n",
            "10/10 [==============================] - 0s 10ms/step - loss: 0.0218 - accuracy: 0.0258 - val_loss: 0.0176 - val_accuracy: 0.0000e+00\n",
            "Epoch 19/100\n",
            "10/10 [==============================] - 0s 9ms/step - loss: 0.0193 - accuracy: 0.0202 - val_loss: 0.0148 - val_accuracy: 0.0000e+00\n",
            "Epoch 20/100\n",
            "10/10 [==============================] - 0s 9ms/step - loss: 0.0175 - accuracy: 0.0072 - val_loss: 0.0124 - val_accuracy: 0.0000e+00\n",
            "Epoch 21/100\n",
            "10/10 [==============================] - 0s 9ms/step - loss: 0.0146 - accuracy: 0.0404 - val_loss: 0.0104 - val_accuracy: 0.0000e+00\n",
            "Epoch 22/100\n",
            "10/10 [==============================] - 0s 9ms/step - loss: 0.0142 - accuracy: 0.0461 - val_loss: 0.0088 - val_accuracy: 0.0000e+00\n",
            "Epoch 23/100\n",
            "10/10 [==============================] - 0s 9ms/step - loss: 0.0080 - accuracy: 0.0215 - val_loss: 0.0075 - val_accuracy: 0.0000e+00\n",
            "Epoch 24/100\n",
            "10/10 [==============================] - 0s 9ms/step - loss: 0.0072 - accuracy: 0.0101 - val_loss: 0.0064 - val_accuracy: 0.0000e+00\n",
            "Epoch 25/100\n",
            "10/10 [==============================] - 0s 10ms/step - loss: 0.0081 - accuracy: 0.0143 - val_loss: 0.0055 - val_accuracy: 0.0000e+00\n",
            "Epoch 26/100\n",
            "10/10 [==============================] - 0s 9ms/step - loss: 0.0077 - accuracy: 0.0480 - val_loss: 0.0047 - val_accuracy: 0.0000e+00\n",
            "Epoch 27/100\n",
            "10/10 [==============================] - 0s 9ms/step - loss: 0.0069 - accuracy: 0.0115 - val_loss: 0.0041 - val_accuracy: 0.0000e+00\n",
            "Epoch 28/100\n",
            "10/10 [==============================] - 0s 9ms/step - loss: 0.0064 - accuracy: 0.0518 - val_loss: 0.0036 - val_accuracy: 0.0000e+00\n",
            "Epoch 29/100\n",
            "10/10 [==============================] - 0s 9ms/step - loss: 0.0055 - accuracy: 0.0518 - val_loss: 0.0032 - val_accuracy: 0.0000e+00\n",
            "Epoch 30/100\n",
            "10/10 [==============================] - 0s 8ms/step - loss: 0.0031 - accuracy: 0.0480 - val_loss: 0.0028 - val_accuracy: 0.0000e+00\n",
            "Epoch 31/100\n",
            "10/10 [==============================] - 0s 10ms/step - loss: 0.0037 - accuracy: 0.0072 - val_loss: 0.0026 - val_accuracy: 0.0000e+00\n",
            "Epoch 32/100\n",
            "10/10 [==============================] - 0s 9ms/step - loss: 0.0042 - accuracy: 0.0366 - val_loss: 0.0023 - val_accuracy: 0.0000e+00\n",
            "Epoch 33/100\n",
            "10/10 [==============================] - 0s 9ms/step - loss: 0.0042 - accuracy: 0.0452 - val_loss: 0.0021 - val_accuracy: 0.0000e+00\n",
            "Epoch 34/100\n",
            "10/10 [==============================] - 0s 9ms/step - loss: 0.0024 - accuracy: 0.0130 - val_loss: 0.0020 - val_accuracy: 0.0000e+00\n",
            "Epoch 35/100\n",
            "10/10 [==============================] - 0s 9ms/step - loss: 0.0019 - accuracy: 0.0120 - val_loss: 0.0018 - val_accuracy: 0.0000e+00\n",
            "Epoch 36/100\n",
            "10/10 [==============================] - 0s 10ms/step - loss: 0.0017 - accuracy: 0.0120 - val_loss: 0.0017 - val_accuracy: 0.0000e+00\n",
            "Epoch 37/100\n",
            "10/10 [==============================] - 0s 9ms/step - loss: 0.0027 - accuracy: 0.0221 - val_loss: 0.0016 - val_accuracy: 0.0000e+00\n",
            "Epoch 38/100\n",
            "10/10 [==============================] - 0s 9ms/step - loss: 0.0033 - accuracy: 0.0410 - val_loss: 0.0014 - val_accuracy: 0.0000e+00\n",
            "Epoch 39/100\n",
            "10/10 [==============================] - 0s 9ms/step - loss: 0.0022 - accuracy: 0.0202 - val_loss: 0.0014 - val_accuracy: 0.0000e+00\n",
            "Epoch 40/100\n",
            "10/10 [==============================] - 0s 9ms/step - loss: 0.0018 - accuracy: 0.0280 - val_loss: 0.0013 - val_accuracy: 0.0000e+00\n",
            "Epoch 41/100\n",
            "10/10 [==============================] - 0s 9ms/step - loss: 0.0021 - accuracy: 0.0429 - val_loss: 0.0012 - val_accuracy: 0.0000e+00\n",
            "Epoch 42/100\n",
            "10/10 [==============================] - 0s 8ms/step - loss: 0.0024 - accuracy: 0.0072 - val_loss: 0.0011 - val_accuracy: 0.0000e+00\n",
            "Epoch 43/100\n",
            "10/10 [==============================] - 0s 9ms/step - loss: 0.0019 - accuracy: 0.0196 - val_loss: 0.0010 - val_accuracy: 0.0000e+00\n",
            "Epoch 44/100\n",
            "10/10 [==============================] - 0s 9ms/step - loss: 0.0018 - accuracy: 0.0347 - val_loss: 9.9023e-04 - val_accuracy: 0.0000e+00\n",
            "Epoch 45/100\n",
            "10/10 [==============================] - 0s 9ms/step - loss: 0.0021 - accuracy: 0.0159 - val_loss: 9.3420e-04 - val_accuracy: 0.0000e+00\n",
            "Epoch 46/100\n",
            "10/10 [==============================] - 0s 10ms/step - loss: 0.0018 - accuracy: 0.0196 - val_loss: 8.9108e-04 - val_accuracy: 0.0000e+00\n",
            "Epoch 47/100\n",
            "10/10 [==============================] - 0s 10ms/step - loss: 0.0015 - accuracy: 0.0429 - val_loss: 8.4869e-04 - val_accuracy: 0.0000e+00\n",
            "Epoch 48/100\n",
            "10/10 [==============================] - 0s 9ms/step - loss: 0.0019 - accuracy: 0.0575 - val_loss: 8.0025e-04 - val_accuracy: 0.0000e+00\n",
            "Epoch 49/100\n",
            "10/10 [==============================] - 0s 9ms/step - loss: 0.0017 - accuracy: 0.0253 - val_loss: 7.6286e-04 - val_accuracy: 0.0000e+00\n",
            "Epoch 50/100\n",
            "10/10 [==============================] - 0s 9ms/step - loss: 0.0013 - accuracy: 0.0266 - val_loss: 7.3472e-04 - val_accuracy: 0.0000e+00\n",
            "Epoch 51/100\n",
            "10/10 [==============================] - 0s 9ms/step - loss: 0.0011 - accuracy: 0.0134 - val_loss: 7.0398e-04 - val_accuracy: 0.0000e+00\n",
            "Epoch 52/100\n",
            "10/10 [==============================] - 0s 9ms/step - loss: 0.0012 - accuracy: 0.0575 - val_loss: 6.7224e-04 - val_accuracy: 0.0000e+00\n",
            "Epoch 53/100\n",
            "10/10 [==============================] - 0s 8ms/step - loss: 9.5134e-04 - accuracy: 0.0243 - val_loss: 6.3726e-04 - val_accuracy: 0.0000e+00\n",
            "Epoch 54/100\n",
            "10/10 [==============================] - 0s 10ms/step - loss: 0.0012 - accuracy: 0.0410 - val_loss: 6.1240e-04 - val_accuracy: 0.0000e+00\n",
            "Epoch 55/100\n",
            "10/10 [==============================] - 0s 8ms/step - loss: 6.1857e-04 - accuracy: 0.0045 - val_loss: 6.1046e-04 - val_accuracy: 0.0000e+00\n",
            "Epoch 56/100\n",
            "10/10 [==============================] - 0s 9ms/step - loss: 0.0012 - accuracy: 0.0461 - val_loss: 5.6051e-04 - val_accuracy: 0.0000e+00\n",
            "Epoch 57/100\n",
            "10/10 [==============================] - 0s 9ms/step - loss: 0.0011 - accuracy: 0.0169 - val_loss: 5.3623e-04 - val_accuracy: 0.0000e+00\n",
            "Epoch 58/100\n",
            "10/10 [==============================] - 0s 9ms/step - loss: 9.9319e-04 - accuracy: 0.0202 - val_loss: 5.2630e-04 - val_accuracy: 0.0000e+00\n",
            "Epoch 59/100\n",
            "10/10 [==============================] - 0s 10ms/step - loss: 0.0011 - accuracy: 0.0223 - val_loss: 5.1282e-04 - val_accuracy: 0.0000e+00\n",
            "Epoch 60/100\n",
            "10/10 [==============================] - 0s 9ms/step - loss: 8.9214e-04 - accuracy: 0.0202 - val_loss: 4.9685e-04 - val_accuracy: 0.0000e+00\n",
            "Epoch 61/100\n",
            "10/10 [==============================] - 0s 9ms/step - loss: 9.7959e-04 - accuracy: 0.0253 - val_loss: 4.6413e-04 - val_accuracy: 0.0000e+00\n",
            "Epoch 62/100\n",
            "10/10 [==============================] - 0s 9ms/step - loss: 7.8410e-04 - accuracy: 0.0429 - val_loss: 4.6729e-04 - val_accuracy: 0.0000e+00\n",
            "Epoch 63/100\n",
            "10/10 [==============================] - 0s 8ms/step - loss: 7.8217e-04 - accuracy: 0.0209 - val_loss: 4.3628e-04 - val_accuracy: 0.0000e+00\n",
            "Epoch 64/100\n",
            "10/10 [==============================] - 0s 9ms/step - loss: 7.6852e-04 - accuracy: 0.0575 - val_loss: 4.2220e-04 - val_accuracy: 0.0000e+00\n",
            "Epoch 65/100\n",
            "10/10 [==============================] - 0s 8ms/step - loss: 5.6864e-04 - accuracy: 0.0143 - val_loss: 4.1855e-04 - val_accuracy: 0.0000e+00\n",
            "Epoch 66/100\n",
            "10/10 [==============================] - 0s 9ms/step - loss: 8.4748e-04 - accuracy: 0.0461 - val_loss: 4.0514e-04 - val_accuracy: 0.0000e+00\n",
            "Epoch 67/100\n",
            "10/10 [==============================] - 0s 8ms/step - loss: 6.9915e-04 - accuracy: 0.0134 - val_loss: 3.8520e-04 - val_accuracy: 0.0000e+00\n",
            "Epoch 68/100\n",
            "10/10 [==============================] - 0s 9ms/step - loss: 5.4818e-04 - accuracy: 0.0134 - val_loss: 3.7081e-04 - val_accuracy: 0.0000e+00\n",
            "Epoch 69/100\n",
            "10/10 [==============================] - 0s 10ms/step - loss: 7.0792e-04 - accuracy: 0.0429 - val_loss: 3.6345e-04 - val_accuracy: 0.0000e+00\n",
            "Epoch 70/100\n",
            "10/10 [==============================] - 0s 9ms/step - loss: 5.2903e-04 - accuracy: 0.0085 - val_loss: 3.6087e-04 - val_accuracy: 0.0000e+00\n",
            "Epoch 71/100\n",
            "10/10 [==============================] - 0s 9ms/step - loss: 6.6641e-04 - accuracy: 0.0338 - val_loss: 3.3708e-04 - val_accuracy: 0.0000e+00\n",
            "Epoch 72/100\n",
            "10/10 [==============================] - 0s 9ms/step - loss: 4.9228e-04 - accuracy: 0.0258 - val_loss: 3.2778e-04 - val_accuracy: 0.0000e+00\n",
            "Epoch 73/100\n",
            "10/10 [==============================] - 0s 9ms/step - loss: 4.0628e-04 - accuracy: 0.0209 - val_loss: 3.1842e-04 - val_accuracy: 0.0000e+00\n",
            "Epoch 74/100\n",
            "10/10 [==============================] - 0s 8ms/step - loss: 3.9609e-04 - accuracy: 0.0173 - val_loss: 3.1445e-04 - val_accuracy: 0.0000e+00\n",
            "Epoch 75/100\n",
            "10/10 [==============================] - 0s 9ms/step - loss: 4.0808e-04 - accuracy: 0.0072 - val_loss: 3.0378e-04 - val_accuracy: 0.0000e+00\n",
            "Epoch 76/100\n",
            "10/10 [==============================] - 0s 9ms/step - loss: 3.7551e-04 - accuracy: 0.0196 - val_loss: 2.8926e-04 - val_accuracy: 0.0000e+00\n",
            "Epoch 77/100\n",
            "10/10 [==============================] - 0s 8ms/step - loss: 3.7589e-04 - accuracy: 0.0132 - val_loss: 2.8644e-04 - val_accuracy: 0.0000e+00\n",
            "Epoch 78/100\n",
            "10/10 [==============================] - 0s 9ms/step - loss: 4.6230e-04 - accuracy: 0.0223 - val_loss: 2.7833e-04 - val_accuracy: 0.0000e+00\n",
            "Epoch 79/100\n",
            "10/10 [==============================] - 0s 9ms/step - loss: 3.9277e-04 - accuracy: 0.0130 - val_loss: 2.6542e-04 - val_accuracy: 0.0000e+00\n",
            "Epoch 80/100\n",
            "10/10 [==============================] - 0s 10ms/step - loss: 3.0699e-04 - accuracy: 0.0367 - val_loss: 2.5851e-04 - val_accuracy: 0.0000e+00\n",
            "Epoch 81/100\n",
            "10/10 [==============================] - 0s 9ms/step - loss: 3.6298e-04 - accuracy: 0.0366 - val_loss: 2.4536e-04 - val_accuracy: 0.0000e+00\n",
            "Epoch 82/100\n",
            "10/10 [==============================] - 0s 9ms/step - loss: 3.6129e-04 - accuracy: 0.0185 - val_loss: 2.4373e-04 - val_accuracy: 0.0000e+00\n",
            "Epoch 83/100\n",
            "10/10 [==============================] - 0s 10ms/step - loss: 4.1762e-04 - accuracy: 0.0151 - val_loss: 2.4180e-04 - val_accuracy: 0.0000e+00\n",
            "Epoch 84/100\n",
            "10/10 [==============================] - 0s 9ms/step - loss: 3.6272e-04 - accuracy: 0.0366 - val_loss: 2.3212e-04 - val_accuracy: 0.0000e+00\n",
            "Epoch 85/100\n",
            "10/10 [==============================] - 0s 9ms/step - loss: 3.2227e-04 - accuracy: 0.0258 - val_loss: 2.1721e-04 - val_accuracy: 0.0000e+00\n",
            "Epoch 86/100\n",
            "10/10 [==============================] - 0s 10ms/step - loss: 2.9690e-04 - accuracy: 0.0085 - val_loss: 2.3723e-04 - val_accuracy: 0.0000e+00\n",
            "Epoch 87/100\n",
            "10/10 [==============================] - 0s 9ms/step - loss: 4.1431e-04 - accuracy: 0.0296 - val_loss: 2.0497e-04 - val_accuracy: 0.0000e+00\n",
            "Epoch 88/100\n",
            "10/10 [==============================] - 0s 10ms/step - loss: 3.1503e-04 - accuracy: 0.0240 - val_loss: 2.0731e-04 - val_accuracy: 0.0000e+00\n",
            "Epoch 89/100\n",
            "10/10 [==============================] - 0s 9ms/step - loss: 2.7119e-04 - accuracy: 0.0089 - val_loss: 2.0131e-04 - val_accuracy: 0.0000e+00\n",
            "Epoch 90/100\n",
            "10/10 [==============================] - 0s 10ms/step - loss: 3.1104e-04 - accuracy: 0.0253 - val_loss: 1.8885e-04 - val_accuracy: 0.0000e+00\n",
            "Epoch 91/100\n",
            "10/10 [==============================] - 0s 9ms/step - loss: 3.8110e-04 - accuracy: 0.0394 - val_loss: 1.8518e-04 - val_accuracy: 0.0000e+00\n",
            "Epoch 92/100\n",
            "10/10 [==============================] - 0s 9ms/step - loss: 2.5204e-04 - accuracy: 0.0243 - val_loss: 1.8729e-04 - val_accuracy: 0.0000e+00\n",
            "Epoch 93/100\n",
            "10/10 [==============================] - 0s 9ms/step - loss: 2.8756e-04 - accuracy: 0.0310 - val_loss: 1.7907e-04 - val_accuracy: 0.0000e+00\n",
            "Epoch 94/100\n",
            "10/10 [==============================] - 0s 9ms/step - loss: 2.5832e-04 - accuracy: 0.0185 - val_loss: 1.7424e-04 - val_accuracy: 0.0000e+00\n",
            "Epoch 95/100\n",
            "10/10 [==============================] - 0s 9ms/step - loss: 2.9268e-04 - accuracy: 0.0253 - val_loss: 1.6477e-04 - val_accuracy: 0.0000e+00\n",
            "Epoch 96/100\n",
            "10/10 [==============================] - 0s 9ms/step - loss: 2.6269e-04 - accuracy: 0.0240 - val_loss: 1.5846e-04 - val_accuracy: 0.0000e+00\n",
            "Epoch 97/100\n",
            "10/10 [==============================] - 0s 9ms/step - loss: 2.9738e-04 - accuracy: 0.0132 - val_loss: 1.6813e-04 - val_accuracy: 0.0000e+00\n",
            "Epoch 98/100\n",
            "10/10 [==============================] - 0s 9ms/step - loss: 2.4090e-04 - accuracy: 0.0115 - val_loss: 1.5045e-04 - val_accuracy: 0.0000e+00\n",
            "Epoch 99/100\n",
            "10/10 [==============================] - 0s 9ms/step - loss: 2.2868e-04 - accuracy: 0.0185 - val_loss: 1.4913e-04 - val_accuracy: 0.0000e+00\n",
            "Epoch 100/100\n",
            "10/10 [==============================] - 0s 9ms/step - loss: 2.2258e-04 - accuracy: 0.0209 - val_loss: 1.4952e-04 - val_accuracy: 0.0000e+00\n"
          ],
          "name": "stdout"
        }
      ]
    },
    {
      "cell_type": "markdown",
      "metadata": {
        "id": "KXk3iuz3kAQU"
      },
      "source": [
        "> ### 4) Model Predict"
      ]
    },
    {
      "cell_type": "code",
      "metadata": {
        "id": "4YNsO8zEOiKK"
      },
      "source": [
        "y_hat = model_4.predict(X_test)"
      ],
      "execution_count": null,
      "outputs": []
    },
    {
      "cell_type": "markdown",
      "metadata": {
        "id": "q-Y6aWgskFRw"
      },
      "source": [
        "> ### 5) 학습 결과 시각화"
      ]
    },
    {
      "cell_type": "code",
      "metadata": {
        "colab": {
          "base_uri": "https://localhost:8080/",
          "height": 265
        },
        "id": "EkPST8wSOmUF",
        "outputId": "115e7981-3feb-4346-a872-faaa1e636161"
      },
      "source": [
        "plt.plot(Hist_4.history['loss'])\n",
        "plt.show()"
      ],
      "execution_count": null,
      "outputs": [
        {
          "output_type": "display_data",
          "data": {
            "image/png": "[encoded data removed]",
            "text/plain": [
              "<Figure size 432x288 with 1 Axes>"
            ]
          },
          "metadata": {
            "tags": [],
            "needs_background": "light"
          }
        }
      ]
    },
    {
      "cell_type": "code",
      "metadata": {
        "colab": {
          "base_uri": "https://localhost:8080/",
          "height": 265
        },
        "id": "U5xbn24qOrCO",
        "outputId": "4858af0d-26d5-484b-c972-eca1741362ec"
      },
      "source": [
        "plt.scatter(range(20), y_hat, c = 'r')\n",
        "plt.scatter(range(20), y_test, c = 'g')\n",
        "plt.show()"
      ],
      "execution_count": null,
      "outputs": [
        {
          "output_type": "display_data",
          "data": {
            "image/png": "[encoded data removed]",
            "text/plain": [
              "<Figure size 432x288 with 1 Axes>"
            ]
          },
          "metadata": {
            "tags": [],
            "needs_background": "light"
          }
        }
      ]
    },
    {
      "cell_type": "markdown",
      "metadata": {
        "id": "f2Avqt1OkI_-"
      },
      "source": [
        "## IV. 'return_sequences' Output_Options\n",
        "* 'input_length'에 대한 Sequance 전체를 출력할지 설정\n",
        "    * 'False' vs. 'True'"
      ]
    },
    {
      "cell_type": "markdown",
      "metadata": {
        "id": "24Kzn3D6kQzf"
      },
      "source": [
        "> ### 1) 실습데이터 재생성"
      ]
    },
    {
      "cell_type": "code",
      "metadata": {
        "id": "5_Se64ghOtKF"
      },
      "source": [
        "X = [[[i + j] for i in range(5)] for j in range(100)]\n",
        "y = [i + 5 for i in range(100)]"
      ],
      "execution_count": null,
      "outputs": []
    },
    {
      "cell_type": "code",
      "metadata": {
        "id": "PsmKKcr7P1YC"
      },
      "source": [
        "X = np.array(X, dtype = float)\n",
        "y = np.array(y, dtype = float)"
      ],
      "execution_count": null,
      "outputs": []
    },
    {
      "cell_type": "code",
      "metadata": {
        "colab": {
          "base_uri": "https://localhost:8080/"
        },
        "id": "iKYp-10fP27p",
        "outputId": "ddc38685-2bdf-49a9-984c-eaa82e4be22d"
      },
      "source": [
        "X_train, X_test, y_train, y_test = train_test_split(X, y, test_size = 0.2, random_state = 2045)\n",
        "X_train.shape, y_train.shape, X_test.shape, y_test.shape"
      ],
      "execution_count": null,
      "outputs": [
        {
          "output_type": "execute_result",
          "data": {
            "text/plain": [
              "((80, 5, 1), (80,), (20, 5, 1), (20,))"
            ]
          },
          "metadata": {
            "tags": []
          },
          "execution_count": 32
        }
      ]
    },
    {
      "cell_type": "markdown",
      "metadata": {
        "id": "0hxhLDE8kVDx"
      },
      "source": [
        "> ### 2) 테스트용 Input Data"
      ]
    },
    {
      "cell_type": "code",
      "metadata": {
        "colab": {
          "base_uri": "https://localhost:8080/"
        },
        "id": "N7wlTDHmP69H",
        "outputId": "a7e28276-61ca-47b5-ffd7-3a91d8c2fa78"
      },
      "source": [
        "X_test[0].reshape(1, 5, 1)"
      ],
      "execution_count": null,
      "outputs": [
        {
          "output_type": "execute_result",
          "data": {
            "text/plain": [
              "array([[[29.],\n",
              "        [30.],\n",
              "        [31.],\n",
              "        [32.],\n",
              "        [33.]]])"
            ]
          },
          "metadata": {
            "tags": []
          },
          "execution_count": 33
        }
      ]
    },
    {
      "cell_type": "markdown",
      "metadata": {
        "id": "0MRqZpeHkY3t"
      },
      "source": [
        "> ### 3) False_Option\n",
        "* 마지막 Output만 출력\n",
        "     * Unit : 1"
      ]
    },
    {
      "cell_type": "code",
      "metadata": {
        "id": "JbwpqmWEP_HZ"
      },
      "source": [
        "Model_False = models.Sequential()\n",
        "Model_False.add(layers.SimpleRNN(1, input_shape=(5,1),\n",
        "                                 return_sequences=False)) # False 인 경우 : Output 1개\n",
        "Model_False.compile(loss='mse',\n",
        "                    optimizer='adam',\n",
        "                    metrics=['accuracy'])"
      ],
      "execution_count": null,
      "outputs": []
    },
    {
      "cell_type": "code",
      "metadata": {
        "colab": {
          "base_uri": "https://localhost:8080/"
        },
        "id": "VPJwj2W0Qh2n",
        "outputId": "ded7ec45-3737-4c42-f192-b0f4660c7d1b"
      },
      "source": [
        "Model_False.predict(X_test[0].reshape(1, 5, 1)) # 최종 Output 만 출력"
      ],
      "execution_count": null,
      "outputs": [
        {
          "output_type": "execute_result",
          "data": {
            "text/plain": [
              "array([[1.]], dtype=float32)"
            ]
          },
          "metadata": {
            "tags": []
          },
          "execution_count": 37
        }
      ]
    },
    {
      "cell_type": "markdown",
      "metadata": {
        "id": "MzOm_DpZknwX"
      },
      "source": [
        "* False (최종 Output 만 출력)\n",
        "    * Unit : 3"
      ]
    },
    {
      "cell_type": "code",
      "metadata": {
        "id": "gNoKlPeCQmuE"
      },
      "source": [
        "Model_False = models.Sequential()\n",
        "Model_False.add(layers.SimpleRNN(3, input_shape=(5,1),\n",
        "                                 return_sequences=False))\n",
        "Model_False.compile(loss='mse',\n",
        "                    optimizer='adam',\n",
        "                    metrics=['accuracy'])"
      ],
      "execution_count": null,
      "outputs": []
    },
    {
      "cell_type": "code",
      "metadata": {
        "colab": {
          "base_uri": "https://localhost:8080/"
        },
        "id": "R_JioIZCQyc-",
        "outputId": "0f356d28-13ad-4409-8116-4b921efc3539"
      },
      "source": [
        "Model_False.predict(X_test[0].reshape(1, 5, 1))"
      ],
      "execution_count": null,
      "outputs": [
        {
          "output_type": "stream",
          "text": [
            "WARNING:tensorflow:5 out of the last 5 calls to <function Model.make_predict_function.<locals>.predict_function at 0x7f757f3293b0> triggered tf.function retracing. Tracing is expensive and the excessive number of tracings could be due to (1) creating @tf.function repeatedly in a loop, (2) passing tensors with different shapes, (3) passing Python objects instead of tensors. For (1), please define your @tf.function outside of the loop. For (2), @tf.function has experimental_relax_shapes=True option that relaxes argument shapes that can avoid unnecessary retracing. For (3), please refer to https://www.tensorflow.org/guide/function#controlling_retracing and https://www.tensorflow.org/api_docs/python/tf/function for  more details.\n"
          ],
          "name": "stdout"
        },
        {
          "output_type": "execute_result",
          "data": {
            "text/plain": [
              "array([[-1., -1.,  1.]], dtype=float32)"
            ]
          },
          "metadata": {
            "tags": []
          },
          "execution_count": 39
        }
      ]
    },
    {
      "cell_type": "markdown",
      "metadata": {
        "id": "57_kOHSokuRa"
      },
      "source": [
        "> ### 4) True_Option"
      ]
    },
    {
      "cell_type": "markdown",
      "metadata": {
        "id": "uUBcAiBRk8Dt"
      },
      "source": [
        "* 매 순환마다 Output 출력\n",
        "    * Unit : 1\n",
        "    * input_length : 5"
      ]
    },
    {
      "cell_type": "code",
      "metadata": {
        "id": "vTkFiGl_QzsP"
      },
      "source": [
        "Model_True = models.Sequential()\n",
        "Model_True.add(layers.SimpleRNN(1, input_shape=(5,1),\n",
        "                                 return_sequences=True)) # True 인 경우 : Output 5개 (one to many 형태)\n",
        "Model_True.compile(loss='mse',\n",
        "                    optimizer='adam',\n",
        "                    metrics=['accuracy'])"
      ],
      "execution_count": null,
      "outputs": []
    },
    {
      "cell_type": "code",
      "metadata": {
        "colab": {
          "base_uri": "https://localhost:8080/"
        },
        "id": "3n8W3_KcQ8jB",
        "outputId": "c3940a67-7260-4592-8cff-b2f4ac4e0fa8"
      },
      "source": [
        "Model_True.predict(X_test[0].reshape(1, 5, 1))"
      ],
      "execution_count": null,
      "outputs": [
        {
          "output_type": "stream",
          "text": [
            "WARNING:tensorflow:8 out of the last 8 calls to <function Model.make_predict_function.<locals>.predict_function at 0x7f757d5233b0> triggered tf.function retracing. Tracing is expensive and the excessive number of tracings could be due to (1) creating @tf.function repeatedly in a loop, (2) passing tensors with different shapes, (3) passing Python objects instead of tensors. For (1), please define your @tf.function outside of the loop. For (2), @tf.function has experimental_relax_shapes=True option that relaxes argument shapes that can avoid unnecessary retracing. For (3), please refer to https://www.tensorflow.org/guide/function#controlling_retracing and https://www.tensorflow.org/api_docs/python/tf/function for  more details.\n"
          ],
          "name": "stdout"
        },
        {
          "output_type": "execute_result",
          "data": {
            "text/plain": [
              "array([[[-1.],\n",
              "        [-1.],\n",
              "        [-1.],\n",
              "        [-1.],\n",
              "        [-1.]]], dtype=float32)"
            ]
          },
          "metadata": {
            "tags": []
          },
          "execution_count": 45
        }
      ]
    },
    {
      "cell_type": "markdown",
      "metadata": {
        "id": "zhKivYVQk4DY"
      },
      "source": [
        "* 매 순환마다 Output 출력\n",
        "    * Unit : 3\n",
        "    * input_length : 5"
      ]
    },
    {
      "cell_type": "code",
      "metadata": {
        "id": "f7U9FBLoQ-FW"
      },
      "source": [
        "Model_True = models.Sequential()\n",
        "Model_True.add(layers.SimpleRNN(3, input_shape=(5,1),\n",
        "                                 return_sequences=True))\n",
        "Model_True.compile(loss='mse',\n",
        "                    optimizer='adam',\n",
        "                    metrics=['accuracy'])"
      ],
      "execution_count": null,
      "outputs": []
    },
    {
      "cell_type": "code",
      "metadata": {
        "colab": {
          "base_uri": "https://localhost:8080/"
        },
        "id": "7FFuVAvaRFN5",
        "outputId": "33fa1edb-1c09-43f9-b2aa-ee87076d5b63"
      },
      "source": [
        "Model_True.predict(X_test[0].reshape(1, 5, 1))"
      ],
      "execution_count": null,
      "outputs": [
        {
          "output_type": "stream",
          "text": [
            "WARNING:tensorflow:9 out of the last 9 calls to <function Model.make_predict_function.<locals>.predict_function at 0x7f7577db3200> triggered tf.function retracing. Tracing is expensive and the excessive number of tracings could be due to (1) creating @tf.function repeatedly in a loop, (2) passing tensors with different shapes, (3) passing Python objects instead of tensors. For (1), please define your @tf.function outside of the loop. For (2), @tf.function has experimental_relax_shapes=True option that relaxes argument shapes that can avoid unnecessary retracing. For (3), please refer to https://www.tensorflow.org/guide/function#controlling_retracing and https://www.tensorflow.org/api_docs/python/tf/function for  more details.\n"
          ],
          "name": "stdout"
        },
        {
          "output_type": "execute_result",
          "data": {
            "text/plain": [
              "array([[[1., 1., 1.],\n",
              "        [1., 1., 1.],\n",
              "        [1., 1., 1.],\n",
              "        [1., 1., 1.],\n",
              "        [1., 1., 1.]]], dtype=float32)"
            ]
          },
          "metadata": {
            "tags": []
          },
          "execution_count": 47
        }
      ]
    }
  ]
}