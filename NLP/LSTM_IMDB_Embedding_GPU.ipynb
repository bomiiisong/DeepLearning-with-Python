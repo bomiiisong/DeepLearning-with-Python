{
  "nbformat": 4,
  "nbformat_minor": 0,
  "metadata": {
    "colab": {
      "name": "005_LSTM_IMDB_Embedding_GPU.ipynb",
      "provenance": [],
      "collapsed_sections": [],
      "authorship_tag": "ABX9TyOLg/ruUvl38b+87ycS8hUB",
      "include_colab_link": true
    },
    "kernelspec": {
      "name": "python3",
      "display_name": "Python 3"
    },
    "language_info": {
      "name": "python"
    },
    "accelerator": "GPU"
  },
  "cells": [
    {
      "cell_type": "markdown",
      "metadata": {
        "id": "view-in-github",
        "colab_type": "text"
      },
      "source": [
        "<a href=\"https://colab.research.google.com/github/bomiiisong/DeepLearning-with-Python/blob/master/NLP/LSTM_IMDB_Embedding_GPU.ipynb\" target=\"_parent\"><img src=\"https://colab.research.google.com/assets/colab-badge.svg\" alt=\"Open In Colab\"/></a>"
      ]
    },
    {
      "cell_type": "markdown",
      "metadata": {
        "id": "bvyjIOGl0s-Q"
      },
      "source": [
        "# IMDB - Embedding with LSTM"
      ]
    },
    {
      "cell_type": "markdown",
      "metadata": {
        "id": "K3k6llt60s6p"
      },
      "source": [
        "> ## NLP(Natural Language Processing)"
      ]
    },
    {
      "cell_type": "code",
      "metadata": {
        "id": "sbnljzDrvOQF"
      },
      "source": [
        "import warnings\n",
        "warnings.filterwarnings('ignore')"
      ],
      "execution_count": null,
      "outputs": []
    },
    {
      "cell_type": "markdown",
      "metadata": {
        "id": "9PwW_D250352"
      },
      "source": [
        "### Import keras\n",
        "\n",
        "* keras version 확인"
      ]
    },
    {
      "cell_type": "code",
      "metadata": {
        "colab": {
          "base_uri": "https://localhost:8080/",
          "height": 35
        },
        "id": "aiwRQYzGvbMP",
        "outputId": "c3c2ac9b-2142-4dae-f239-7a6133d71222"
      },
      "source": [
        "import keras   \n",
        "\n",
        "keras.__version__"
      ],
      "execution_count": null,
      "outputs": [
        {
          "output_type": "execute_result",
          "data": {
            "application/vnd.google.colaboratory.intrinsic+json": {
              "type": "string"
            },
            "text/plain": [
              "'2.4.3'"
            ]
          },
          "metadata": {
            "tags": []
          },
          "execution_count": 2
        }
      ]
    },
    {
      "cell_type": "markdown",
      "metadata": {
        "id": "VAS4e14909P-"
      },
      "source": [
        "## I. IMDB Data_Set Load & Review"
      ]
    },
    {
      "cell_type": "markdown",
      "metadata": {
        "id": "JYgMB0uA1E1C"
      },
      "source": [
        "> ### 1) Load IMDB Data_Set\n",
        "\n",
        "* Word to Vector\n",
        "전체 데이터 내에서 단어의 사용빈도에 따라 인덱스화\n",
        "* 정수 인덱스 '11'은 11번째로 자주 사용된 단어를 나타냄\n",
        "* num_words = 10000 : 인덱스 값 10000 이하의 단어만 추출\n",
        "    * 단어 인덱스 값이 10000을 넘지 않는 단어만 분석에 사용"
      ]
    },
    {
      "cell_type": "code",
      "metadata": {
        "colab": {
          "base_uri": "https://localhost:8080/"
        },
        "id": "DmgiZ2KJvfve",
        "outputId": "dd4557e2-e07d-4d43-96ee-1357b206bb4f"
      },
      "source": [
        "from keras.datasets import imdb\n",
        "\n",
        "(X_train, y_train), (X_test, y_test) = imdb.load_data(num_words=10000)"
      ],
      "execution_count": null,
      "outputs": [
        {
          "output_type": "stream",
          "text": [
            "Downloading data from https://storage.googleapis.com/tensorflow/tf-keras-datasets/imdb.npz\n",
            "17465344/17464789 [==============================] - 0s 0us/step\n"
          ],
          "name": "stdout"
        }
      ]
    },
    {
      "cell_type": "markdown",
      "metadata": {
        "id": "jfv0V8CU1aQm"
      },
      "source": [
        "> ### 2) Visualization & Frequency"
      ]
    },
    {
      "cell_type": "markdown",
      "metadata": {
        "id": "YVguquEi1dl9"
      },
      "source": [
        "* x : Histogram(리뷰 길이)"
      ]
    },
    {
      "cell_type": "code",
      "metadata": {
        "colab": {
          "base_uri": "https://localhost:8080/",
          "height": 425
        },
        "id": "Ptd-7XDjvucp",
        "outputId": "b6f08695-9935-491a-e80e-f95ebbfa16a9"
      },
      "source": [
        "import matplotlib.pyplot as plt\n",
        "\n",
        "print('리뷰 최대 길이 : ', max(len(L) for L in X_train))\n",
        "print('리뷰 평균 길이 : ', sum(map(len, X_train)) / len(X_train))\n",
        "\n",
        "plt.figure(figsize=(9,6))\n",
        "plt.hist([len(L) for L in X_train], bins=50)\n",
        "plt.xlabel('Length of X_train')\n",
        "plt.ylabel('Number of X_train')\n",
        "plt.show()"
      ],
      "execution_count": null,
      "outputs": [
        {
          "output_type": "stream",
          "text": [
            "리뷰 최대 길이 :  2494\n",
            "리뷰 평균 길이 :  238.71364\n"
          ],
          "name": "stdout"
        },
        {
          "output_type": "display_data",
          "data": {
            "image/png": "[encoded data removed]",
            "text/plain": [
              "<Figure size 648x432 with 1 Axes>"
            ]
          },
          "metadata": {
            "tags": [],
            "needs_background": "light"
          }
        }
      ]
    },
    {
      "cell_type": "markdown",
      "metadata": {
        "id": "_wrUR6xS1huj"
      },
      "source": [
        "y : Frequency(0:부정, 1:긍정)"
      ]
    },
    {
      "cell_type": "code",
      "metadata": {
        "colab": {
          "base_uri": "https://localhost:8080/"
        },
        "id": "dv2_oLBPwhRw",
        "outputId": "f9aca867-03fb-457d-9027-a04d2442aa22"
      },
      "source": [
        "import numpy as np\n",
        "\n",
        "unique_elements, counts_elements = np.unique(y_train, return_counts=True)\n",
        "\n",
        "print('Label 빈도수 : ')\n",
        "print(np.asarray((unique_elements, counts_elements)))"
      ],
      "execution_count": null,
      "outputs": [
        {
          "output_type": "stream",
          "text": [
            "Label 빈도수 : \n",
            "[[    0     1]\n",
            " [12500 12500]]\n"
          ],
          "name": "stdout"
        }
      ]
    },
    {
      "cell_type": "markdown",
      "metadata": {
        "id": "pt-a-ZRa1vup"
      },
      "source": [
        "## II. Tensor Transformation"
      ]
    },
    {
      "cell_type": "markdown",
      "metadata": {
        "id": "E68dr4AT1xpt"
      },
      "source": [
        "> ### 1) X_train & X_test : (25000, 10000)\n",
        "\n",
        "* vectorization\n",
        "    * (25000, 10000)"
      ]
    },
    {
      "cell_type": "code",
      "metadata": {
        "colab": {
          "base_uri": "https://localhost:8080/"
        },
        "id": "WHqitUEJwz83",
        "outputId": "5fd3768b-9c17-4ec0-dbfa-1dfecaa15704"
      },
      "source": [
        "from keras import preprocessing\n",
        "\n",
        "X_train = preprocessing.sequence.pad_sequences(X_train, maxlen=10000)\n",
        "X_test = preprocessing.sequence.pad_sequences(X_test, maxlen=10000)\n",
        "\n",
        "X_train.shape, X_test.shape"
      ],
      "execution_count": null,
      "outputs": [
        {
          "output_type": "execute_result",
          "data": {
            "text/plain": [
              "((25000, 10000), (25000, 10000))"
            ]
          },
          "metadata": {
            "tags": []
          },
          "execution_count": 6
        }
      ]
    },
    {
      "cell_type": "markdown",
      "metadata": {
        "id": "-yo0hO3Z17PG"
      },
      "source": [
        "* Transformation Check"
      ]
    },
    {
      "cell_type": "code",
      "metadata": {
        "colab": {
          "base_uri": "https://localhost:8080/"
        },
        "id": "3IeD6KV_xOSP",
        "outputId": "950dbf4a-271b-4f15-ec8b-885fef07e665"
      },
      "source": [
        "print(X_train[0][:21])\n",
        "print(X_train[0][9979:])\n",
        "\n",
        "print(X_test[0][:21])\n",
        "print(X_test[0][9979:])"
      ],
      "execution_count": null,
      "outputs": [
        {
          "output_type": "stream",
          "text": [
            "[0 0 0 0 0 0 0 0 0 0 0 0 0 0 0 0 0 0 0 0 0]\n",
            "[ 226   65   16   38 1334   88   12   16  283    5   16 4472  113  103\n",
            "   32   15   16 5345   19  178   32]\n",
            "[0 0 0 0 0 0 0 0 0 0 0 0 0 0 0 0 0 0 0 0 0]\n",
            "[  14  286  170    8  157   46    5   27  239   16  179    2   38   32\n",
            "   25 7944  451  202   14    6  717]\n"
          ],
          "name": "stdout"
        }
      ]
    },
    {
      "cell_type": "markdown",
      "metadata": {
        "id": "yL1Ef8Kq1_BL"
      },
      "source": [
        "> ### 2) y_train & y_test"
      ]
    },
    {
      "cell_type": "code",
      "metadata": {
        "colab": {
          "base_uri": "https://localhost:8080/"
        },
        "id": "A6PBJ2gDxeMS",
        "outputId": "f470d843-73da-46d3-caff-0a252707176a"
      },
      "source": [
        "y_train = np.asarray(y_train).astype(float)\n",
        "y_test = np.asarray(y_test).astype(float)\n",
        "\n",
        "print(y_train[:21])\n",
        "print(y_test[:21])"
      ],
      "execution_count": null,
      "outputs": [
        {
          "output_type": "stream",
          "text": [
            "[1. 0. 0. 1. 0. 0. 1. 0. 1. 0. 1. 0. 0. 0. 0. 0. 1. 1. 0. 1. 0.]\n",
            "[0. 1. 1. 0. 1. 1. 1. 0. 0. 1. 1. 0. 0. 0. 1. 0. 1. 0. 0. 0. 1.]\n"
          ],
          "name": "stdout"
        }
      ]
    },
    {
      "cell_type": "markdown",
      "metadata": {
        "id": "LUolT9eE2Hlp"
      },
      "source": [
        "## III. Keras Embedding Modeling\n"
      ]
    },
    {
      "cell_type": "markdown",
      "metadata": {
        "id": "lKVTf6KP2Jxn"
      },
      "source": [
        "> ### 1) Model Define\n",
        "\n",
        "* 모델 신경망 구조 정의\n",
        "    * Embedding Dimension : 32"
      ]
    },
    {
      "cell_type": "code",
      "metadata": {
        "id": "dIlqE3MOxwg-"
      },
      "source": [
        "from keras import models\n",
        "from keras import layers\n",
        "\n",
        "imdb = models.Sequential()\n",
        "\n",
        "imdb.add(layers.Embedding(10000, 32, input_length=10000))\n",
        "\n",
        "imdb.add(layers.LSTM(8))\n",
        "imdb.add(layers.Dropout(0.5))\n",
        "imdb.add(layers.Dense(1, activation='sigmoid'))"
      ],
      "execution_count": null,
      "outputs": []
    },
    {
      "cell_type": "markdown",
      "metadata": {
        "id": "u9sMcRS72RM3"
      },
      "source": [
        "* Model Summary"
      ]
    },
    {
      "cell_type": "code",
      "metadata": {
        "colab": {
          "base_uri": "https://localhost:8080/"
        },
        "id": "3f7HuzVcyL2q",
        "outputId": "d294518a-961e-4852-f7ba-c2d165831be0"
      },
      "source": [
        "imdb.summary()"
      ],
      "execution_count": null,
      "outputs": [
        {
          "output_type": "stream",
          "text": [
            "Model: \"sequential\"\n",
            "_________________________________________________________________\n",
            "Layer (type)                 Output Shape              Param #   \n",
            "=================================================================\n",
            "embedding (Embedding)        (None, 10000, 32)         320000    \n",
            "_________________________________________________________________\n",
            "lstm (LSTM)                  (None, 8)                 1312      \n",
            "_________________________________________________________________\n",
            "dropout (Dropout)            (None, 8)                 0         \n",
            "_________________________________________________________________\n",
            "dense (Dense)                (None, 1)                 9         \n",
            "=================================================================\n",
            "Total params: 321,321\n",
            "Trainable params: 321,321\n",
            "Non-trainable params: 0\n",
            "_________________________________________________________________\n"
          ],
          "name": "stdout"
        }
      ]
    },
    {
      "cell_type": "markdown",
      "metadata": {
        "id": "GvrDqTME2Vh6"
      },
      "source": [
        "> ### 2) Model Compile\n",
        "\n",
        "* 모델 학습방법 설정"
      ]
    },
    {
      "cell_type": "code",
      "metadata": {
        "id": "cwvDhLoMyOOh"
      },
      "source": [
        "imdb.compile(loss='binary_crossentropy',\n",
        "             optimizer='adam',\n",
        "             metrics=['accuracy'])"
      ],
      "execution_count": null,
      "outputs": []
    },
    {
      "cell_type": "markdown",
      "metadata": {
        "id": "K2fR8f3s2Y24"
      },
      "source": [
        "> ### 3) Model Fit\n",
        "\n",
        "* 약 45 분 소요"
      ]
    },
    {
      "cell_type": "code",
      "metadata": {
        "colab": {
          "base_uri": "https://localhost:8080/"
        },
        "id": "Kbjit7sAyYpr",
        "outputId": "a74d2880-53fb-4b61-b84b-e94abdd6e1ec"
      },
      "source": [
        "%%time\n",
        "\n",
        "Hist_imdb = imdb.fit(X_train, y_train, epochs=50, batch_size=512,\n",
        "                     validation_data=(X_test, y_test))"
      ],
      "execution_count": null,
      "outputs": [
        {
          "output_type": "stream",
          "text": [
            "Epoch 1/50\n",
            "49/49 [==============================] - 83s 1s/step - loss: 0.6896 - accuracy: 0.5579 - val_loss: 0.6652 - val_accuracy: 0.6858\n",
            "Epoch 2/50\n",
            "49/49 [==============================] - 53s 1s/step - loss: 0.6152 - accuracy: 0.7380 - val_loss: 0.4665 - val_accuracy: 0.8211\n",
            "Epoch 3/50\n",
            "49/49 [==============================] - 53s 1s/step - loss: 0.4412 - accuracy: 0.8504 - val_loss: 0.4248 - val_accuracy: 0.8287\n",
            "Epoch 4/50\n",
            "49/49 [==============================] - 53s 1s/step - loss: 0.3877 - accuracy: 0.8725 - val_loss: 0.3834 - val_accuracy: 0.8460\n",
            "Epoch 5/50\n",
            "49/49 [==============================] - 54s 1s/step - loss: 0.3321 - accuracy: 0.8993 - val_loss: 0.3632 - val_accuracy: 0.8583\n",
            "Epoch 6/50\n",
            "49/49 [==============================] - 53s 1s/step - loss: 0.3172 - accuracy: 0.9012 - val_loss: 0.3791 - val_accuracy: 0.8383\n",
            "Epoch 7/50\n",
            "49/49 [==============================] - 54s 1s/step - loss: 0.3018 - accuracy: 0.9037 - val_loss: 0.3580 - val_accuracy: 0.8556\n",
            "Epoch 8/50\n",
            "49/49 [==============================] - 54s 1s/step - loss: 0.2606 - accuracy: 0.9254 - val_loss: 0.3593 - val_accuracy: 0.8547\n",
            "Epoch 9/50\n",
            "49/49 [==============================] - 54s 1s/step - loss: 0.2467 - accuracy: 0.9277 - val_loss: 0.3570 - val_accuracy: 0.8555\n",
            "Epoch 10/50\n",
            "49/49 [==============================] - 54s 1s/step - loss: 0.2305 - accuracy: 0.9364 - val_loss: 0.3682 - val_accuracy: 0.8504\n",
            "Epoch 11/50\n",
            "49/49 [==============================] - 53s 1s/step - loss: 0.3354 - accuracy: 0.8767 - val_loss: 0.3871 - val_accuracy: 0.8369\n",
            "Epoch 12/50\n",
            "49/49 [==============================] - 53s 1s/step - loss: 0.2456 - accuracy: 0.9260 - val_loss: 0.3703 - val_accuracy: 0.8506\n",
            "Epoch 13/50\n",
            "49/49 [==============================] - 53s 1s/step - loss: 0.2131 - accuracy: 0.9409 - val_loss: 0.3783 - val_accuracy: 0.8525\n",
            "Epoch 14/50\n",
            "49/49 [==============================] - 53s 1s/step - loss: 0.2024 - accuracy: 0.9455 - val_loss: 0.3833 - val_accuracy: 0.8490\n",
            "Epoch 15/50\n",
            "49/49 [==============================] - 54s 1s/step - loss: 0.1797 - accuracy: 0.9534 - val_loss: 0.3902 - val_accuracy: 0.8498\n",
            "Epoch 16/50\n",
            "49/49 [==============================] - 54s 1s/step - loss: 0.1717 - accuracy: 0.9576 - val_loss: 0.4138 - val_accuracy: 0.8499\n",
            "Epoch 17/50\n",
            "49/49 [==============================] - 54s 1s/step - loss: 0.1674 - accuracy: 0.9599 - val_loss: 0.4049 - val_accuracy: 0.8518\n",
            "Epoch 18/50\n",
            "49/49 [==============================] - 54s 1s/step - loss: 0.1549 - accuracy: 0.9627 - val_loss: 0.4146 - val_accuracy: 0.8492\n",
            "Epoch 19/50\n",
            "49/49 [==============================] - 53s 1s/step - loss: 0.1527 - accuracy: 0.9646 - val_loss: 0.4341 - val_accuracy: 0.8488\n",
            "Epoch 20/50\n",
            "49/49 [==============================] - 53s 1s/step - loss: 0.1451 - accuracy: 0.9672 - val_loss: 0.4486 - val_accuracy: 0.8359\n",
            "Epoch 21/50\n",
            "49/49 [==============================] - 54s 1s/step - loss: 0.1566 - accuracy: 0.9584 - val_loss: 0.4358 - val_accuracy: 0.8459\n",
            "Epoch 22/50\n",
            "49/49 [==============================] - 53s 1s/step - loss: 0.1425 - accuracy: 0.9652 - val_loss: 0.4662 - val_accuracy: 0.8476\n",
            "Epoch 23/50\n",
            "49/49 [==============================] - 53s 1s/step - loss: 0.1340 - accuracy: 0.9662 - val_loss: 0.4963 - val_accuracy: 0.8429\n",
            "Epoch 24/50\n",
            "49/49 [==============================] - 53s 1s/step - loss: 0.1475 - accuracy: 0.9606 - val_loss: 0.4811 - val_accuracy: 0.8460\n",
            "Epoch 25/50\n",
            "49/49 [==============================] - 53s 1s/step - loss: 0.1279 - accuracy: 0.9678 - val_loss: 0.4886 - val_accuracy: 0.8444\n",
            "Epoch 26/50\n",
            "49/49 [==============================] - 54s 1s/step - loss: 0.1138 - accuracy: 0.9732 - val_loss: 0.4914 - val_accuracy: 0.8453\n",
            "Epoch 27/50\n",
            "49/49 [==============================] - 54s 1s/step - loss: 0.1504 - accuracy: 0.9591 - val_loss: 0.4829 - val_accuracy: 0.8416\n",
            "Epoch 28/50\n",
            "49/49 [==============================] - 53s 1s/step - loss: 0.1216 - accuracy: 0.9727 - val_loss: 0.5029 - val_accuracy: 0.8445\n",
            "Epoch 29/50\n",
            "49/49 [==============================] - 53s 1s/step - loss: 0.1051 - accuracy: 0.9778 - val_loss: 0.4982 - val_accuracy: 0.8414\n",
            "Epoch 30/50\n",
            "49/49 [==============================] - 54s 1s/step - loss: 0.1151 - accuracy: 0.9738 - val_loss: 0.5249 - val_accuracy: 0.8443\n",
            "Epoch 31/50\n",
            "49/49 [==============================] - 54s 1s/step - loss: 0.0987 - accuracy: 0.9770 - val_loss: 0.5496 - val_accuracy: 0.8453\n",
            "Epoch 32/50\n",
            "49/49 [==============================] - 53s 1s/step - loss: 0.0941 - accuracy: 0.9798 - val_loss: 0.5561 - val_accuracy: 0.8440\n",
            "Epoch 33/50\n",
            "49/49 [==============================] - 53s 1s/step - loss: 0.0967 - accuracy: 0.9790 - val_loss: 0.5386 - val_accuracy: 0.8446\n",
            "Epoch 34/50\n",
            "49/49 [==============================] - 53s 1s/step - loss: 0.1018 - accuracy: 0.9751 - val_loss: 0.5409 - val_accuracy: 0.8434\n",
            "Epoch 35/50\n",
            "49/49 [==============================] - 54s 1s/step - loss: 0.0913 - accuracy: 0.9813 - val_loss: 0.5631 - val_accuracy: 0.8434\n",
            "Epoch 36/50\n",
            "49/49 [==============================] - 54s 1s/step - loss: 0.0901 - accuracy: 0.9798 - val_loss: 0.5844 - val_accuracy: 0.8431\n",
            "Epoch 37/50\n",
            "49/49 [==============================] - 53s 1s/step - loss: 0.1132 - accuracy: 0.9723 - val_loss: 0.6189 - val_accuracy: 0.8413\n",
            "Epoch 38/50\n",
            "49/49 [==============================] - 53s 1s/step - loss: 0.0952 - accuracy: 0.9778 - val_loss: 0.5912 - val_accuracy: 0.8422\n",
            "Epoch 39/50\n",
            "49/49 [==============================] - 54s 1s/step - loss: 0.0847 - accuracy: 0.9820 - val_loss: 0.5990 - val_accuracy: 0.8422\n",
            "Epoch 40/50\n",
            "49/49 [==============================] - 54s 1s/step - loss: 0.0811 - accuracy: 0.9828 - val_loss: 0.6259 - val_accuracy: 0.8417\n",
            "Epoch 41/50\n",
            "49/49 [==============================] - 53s 1s/step - loss: 0.1354 - accuracy: 0.9627 - val_loss: 0.5869 - val_accuracy: 0.8391\n",
            "Epoch 42/50\n",
            "49/49 [==============================] - 54s 1s/step - loss: 0.1157 - accuracy: 0.9693 - val_loss: 0.5967 - val_accuracy: 0.8435\n",
            "Epoch 43/50\n",
            "49/49 [==============================] - 53s 1s/step - loss: 0.0832 - accuracy: 0.9813 - val_loss: 0.5897 - val_accuracy: 0.8445\n",
            "Epoch 44/50\n",
            "49/49 [==============================] - 54s 1s/step - loss: 0.0761 - accuracy: 0.9839 - val_loss: 0.6072 - val_accuracy: 0.8441\n",
            "Epoch 45/50\n",
            "49/49 [==============================] - 54s 1s/step - loss: 0.0753 - accuracy: 0.9844 - val_loss: 0.6379 - val_accuracy: 0.8416\n",
            "Epoch 46/50\n",
            "49/49 [==============================] - 53s 1s/step - loss: 0.0646 - accuracy: 0.9871 - val_loss: 0.6416 - val_accuracy: 0.8427\n",
            "Epoch 47/50\n",
            "49/49 [==============================] - 54s 1s/step - loss: 0.0688 - accuracy: 0.9869 - val_loss: 0.6464 - val_accuracy: 0.8414\n",
            "Epoch 48/50\n",
            "49/49 [==============================] - 54s 1s/step - loss: 0.0681 - accuracy: 0.9854 - val_loss: 0.6615 - val_accuracy: 0.8394\n",
            "Epoch 49/50\n",
            "49/49 [==============================] - 54s 1s/step - loss: 0.0673 - accuracy: 0.9852 - val_loss: 0.6790 - val_accuracy: 0.8421\n",
            "Epoch 50/50\n",
            "49/49 [==============================] - 53s 1s/step - loss: 0.0853 - accuracy: 0.9801 - val_loss: 0.6815 - val_accuracy: 0.8422\n",
            "CPU times: user 32min 20s, sys: 7min 34s, total: 39min 55s\n",
            "Wall time: 45min 1s\n"
          ],
          "name": "stdout"
        }
      ]
    },
    {
      "cell_type": "markdown",
      "metadata": {
        "id": "KnMfNtGf2iWg"
      },
      "source": [
        "> ### 4) 학습 결과 시각화\n",
        "\n",
        "* Loss Visualization"
      ]
    },
    {
      "cell_type": "code",
      "metadata": {
        "colab": {
          "base_uri": "https://localhost:8080/",
          "height": 404
        },
        "id": "ALjUI1SWyheD",
        "outputId": "e2d421af-72a0-4cb8-b735-8a6da0bc1cb4"
      },
      "source": [
        "epochs = range(1, len(Hist_imdb.history['loss']) + 1)\n",
        "\n",
        "plt.figure(figsize=(9,6))\n",
        "plt.plot(epochs, Hist_imdb.history['loss'])\n",
        "plt.plot(epochs, Hist_imdb.history['val_loss'])\n",
        "plt.title('Training & Validation Loss')\n",
        "plt.xlabel('Epochs')\n",
        "plt.ylabel('Loss')\n",
        "plt.legend(['Training Loss', 'Validation Loss'])\n",
        "plt.grid()\n",
        "plt.show()"
      ],
      "execution_count": null,
      "outputs": [
        {
          "output_type": "display_data",
          "data": {
            "image/png": "[encoded data removed]",
            "text/plain": [
              "<Figure size 648x432 with 1 Axes>"
            ]
          },
          "metadata": {
            "tags": [],
            "needs_background": "light"
          }
        }
      ]
    },
    {
      "cell_type": "markdown",
      "metadata": {
        "id": "O1Z-UIJ42m4o"
      },
      "source": [
        "* Accuracy Visualization"
      ]
    },
    {
      "cell_type": "code",
      "metadata": {
        "colab": {
          "base_uri": "https://localhost:8080/",
          "height": 404
        },
        "id": "DgZ-icEQzKS2",
        "outputId": "d2f916c6-6fba-4019-90da-ab372362c4e5"
      },
      "source": [
        "epochs = range(1, len(Hist_imdb.history['accuracy']) + 1)\n",
        "\n",
        "plt.figure(figsize=(9,6))\n",
        "plt.plot(epochs, Hist_imdb.history['accuracy'])\n",
        "plt.plot(epochs, Hist_imdb.history['val_accuracy'])\n",
        "plt.title('Training & Validation Accuracy')\n",
        "plt.xlabel('Epochs')\n",
        "plt.ylabel('Accuracy')\n",
        "plt.legend(['Training Accuracy', 'Validation Accuracy'])\n",
        "plt.grid()\n",
        "plt.show()"
      ],
      "execution_count": null,
      "outputs": [
        {
          "output_type": "display_data",
          "data": {
            "image/png": "[encoded data removed]",
            "text/plain": [
              "<Figure size 648x432 with 1 Axes>"
            ]
          },
          "metadata": {
            "tags": [],
            "needs_background": "light"
          }
        }
      ]
    },
    {
      "cell_type": "markdown",
      "metadata": {
        "id": "nyE7E5nl2pSx"
      },
      "source": [
        "> ### 5) Model Evaluate\n",
        "\n",
        "* Loss & Accuracy\n"
      ]
    },
    {
      "cell_type": "code",
      "metadata": {
        "colab": {
          "base_uri": "https://localhost:8080/"
        },
        "id": "bvutvlH2zYqh",
        "outputId": "8da64aa5-74aa-437f-bc30-5b2383fa9d88"
      },
      "source": [
        "loss, accuracy = imdb.evaluate(X_test, y_test)\n",
        "\n",
        "print('Loss = {:.5f}'.format(loss))\n",
        "print('Accuracy = {:.5f}'.format(accuracy))"
      ],
      "execution_count": null,
      "outputs": [
        {
          "output_type": "stream",
          "text": [
            "782/782 [==============================] - 141s 180ms/step - loss: 0.6815 - accuracy: 0.8422\n",
            "Loss = 0.68149\n",
            "Accuracy = 0.84216\n"
          ],
          "name": "stdout"
        }
      ]
    }
  ]
}