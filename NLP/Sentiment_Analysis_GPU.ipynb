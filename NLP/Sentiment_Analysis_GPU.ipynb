{
  "nbformat": 4,
  "nbformat_minor": 0,
  "metadata": {
    "colab": {
      "name": "008_Sentiment_Analysis_GPU.ipynb",
      "provenance": [],
      "collapsed_sections": [],
      "authorship_tag": "ABX9TyMSVi6F/owbPpsZYhIrkKSD",
      "include_colab_link": true
    },
    "kernelspec": {
      "name": "python3",
      "display_name": "Python 3"
    },
    "language_info": {
      "name": "python"
    },
    "accelerator": "GPU"
  },
  "cells": [
    {
      "cell_type": "markdown",
      "metadata": {
        "id": "view-in-github",
        "colab_type": "text"
      },
      "source": [
        "<a href=\"https://colab.research.google.com/github/bomiiisong/DeepLearning-with-Python/blob/master/NLP/Sentiment_Analysis_GPU.ipynb\" target=\"_parent\"><img src=\"https://colab.research.google.com/assets/colab-badge.svg\" alt=\"Open In Colab\"/></a>"
      ]
    },
    {
      "cell_type": "markdown",
      "metadata": {
        "id": "ZLd3RrLQ3JpJ"
      },
      "source": [
        "# Sentiment Analysis\n",
        "\n",
        "> ## Naver Movie Review data"
      ]
    },
    {
      "cell_type": "code",
      "metadata": {
        "id": "NxjYm0JWSIze"
      },
      "source": [
        "import warnings\n",
        "warnings.filterwarnings('ignore')"
      ],
      "execution_count": 4,
      "outputs": []
    },
    {
      "cell_type": "markdown",
      "metadata": {
        "id": "unJu8mxO3WKA"
      },
      "source": [
        "* Import Packages"
      ]
    },
    {
      "cell_type": "code",
      "metadata": {
        "id": "LLuhElrkSOpM"
      },
      "source": [
        "import numpy as np\n",
        "import keras"
      ],
      "execution_count": 5,
      "outputs": []
    },
    {
      "cell_type": "markdown",
      "metadata": {
        "id": "Vo9k1zjF3ZSY"
      },
      "source": [
        "## Ⅰ. Naver Sentiment Movie Corpus v1.0\n",
        "\n",
        "> ### 1) File Download\n",
        "\n",
        "* Train : 150000\n",
        "* Test : 50000"
      ]
    },
    {
      "cell_type": "code",
      "metadata": {
        "id": "YMf0vSLcSQi8"
      },
      "source": [
        "tr_url = 'https://raw.githubusercontent.com/e9t/nsmc/master/ratings_train.txt'\n",
        "path_to_train_file = keras.utils.get_file('train.txt', tr_url)\n",
        "\n",
        "te_url = 'https://raw.githubusercontent.com/e9t/nsmc/master/ratings_test.txt'\n",
        "path_to_test_file = keras.utils.get_file('test.txt', te_url)"
      ],
      "execution_count": 6,
      "outputs": []
    },
    {
      "cell_type": "markdown",
      "metadata": {
        "id": "CEbV2jSG3qix"
      },
      "source": [
        "> ### 2) 'X' Data\n",
        "\n",
        "* 각 열은 tab(\\t)으로 구분\n",
        "* '0'(부정), '1'(긍정)"
      ]
    },
    {
      "cell_type": "code",
      "metadata": {
        "colab": {
          "base_uri": "https://localhost:8080/"
        },
        "id": "6AKvbpu1ScoH",
        "outputId": "02b61dd6-9228-43be-8c09-c2b9f9e63ca0"
      },
      "source": [
        "train_text = open(path_to_train_file, 'rb').read().decode(encoding='utf-8')\n",
        "test_text = open(path_to_test_file, 'rb').read().decode(encoding='utf-8')\n",
        "\n",
        "print(f'Length of text: {len(train_text)} characters')\n",
        "print(f'Length of text: {len(test_text)} characters')\n",
        "\n",
        "print(train_text[:300])"
      ],
      "execution_count": 7,
      "outputs": [
        {
          "output_type": "stream",
          "text": [
            "Length of text: 6937271 characters\n",
            "Length of text: 2318260 characters\n",
            "id\tdocument\tlabel\n",
            "9976970\t아 더빙.. 진짜 짜증나네요 목소리\t0\n",
            "3819312\t흠...포스터보고 초딩영화줄....오버연기조차 가볍지 않구나\t1\n",
            "10265843\t너무재밓었다그래서보는것을추천한다\t0\n",
            "9045019\t교도소 이야기구먼 ..솔직히 재미는 없다..평점 조정\t0\n",
            "6483659\t사이몬페그의 익살스런 연기가 돋보였던 영화!스파이더맨에서 늙어보이기만 했던 커스틴 던스트가 너무나도 이뻐보였다\t1\n",
            "5403919\t막 걸음마 뗀 3세부터 초등학교 1학년생인 8살용영화.ㅋㅋㅋ...별반개도 아까움.\t0\n",
            "7797314\t원작의\n"
          ],
          "name": "stdout"
        }
      ]
    },
    {
      "cell_type": "markdown",
      "metadata": {
        "id": "Ux3VY36135YV"
      },
      "source": [
        "> ### 3) Y Label\n",
        "\n",
        "* 각 문장을 개행문자(\\n) 로 분리 후, 3열(index[2])의 값을 정수로 추출"
      ]
    },
    {
      "cell_type": "code",
      "metadata": {
        "colab": {
          "base_uri": "https://localhost:8080/"
        },
        "id": "-yujtngtS80Z",
        "outputId": "8e4a9b0e-ed83-40a4-ddb8-c93bb84d6521"
      },
      "source": [
        "train_Y = np.array([[int(row.split('\\t')[2])] for row in train_text.split('\\n')[1:] if row.count('\\t')>0])\n",
        "test_Y = np.array([[int(row.split('\\t')[2])] for row in test_text.split('\\n')[1:] if row.count('\\t')>0])\n",
        "\n",
        "print(train_Y.shape, test_Y.shape)\n",
        "print(train_Y[:5])"
      ],
      "execution_count": 8,
      "outputs": [
        {
          "output_type": "stream",
          "text": [
            "(150000, 1) (50000, 1)\n",
            "[[0]\n",
            " [1]\n",
            " [0]\n",
            " [0]\n",
            " [1]]\n"
          ],
          "name": "stdout"
        }
      ]
    },
    {
      "cell_type": "markdown",
      "metadata": {
        "id": "MQGkPhnf4MLn"
      },
      "source": [
        "## Ⅱ. Data Cleaning\n",
        "\n",
        "> ### 1) 'X' Data Cleaning\n",
        "\n",
        "https://github.com/yoonkim/CNN_sentence/blob/master/process_data.py"
      ]
    },
    {
      "cell_type": "code",
      "metadata": {
        "id": "HDjd3OGUT-oD"
      },
      "source": [
        "import re\n",
        "\n",
        "def clean_str(string):\n",
        "    string = re.sub(r\"[^가-힣A-Za-z0-9(),!?\\'\\`]\", \" \", string)\n",
        "    string = re.sub(r\"\\'s\", \" \\'s\", string)\n",
        "    string = re.sub(r\"\\'ve\", \" \\'ve\", string)\n",
        "    string = re.sub(r\"n\\'t\", \" n\\'t\", string)\n",
        "    string = re.sub(r\"\\'re\", \" \\'re\", string)\n",
        "    string = re.sub(r\"\\'d\", \" \\'d\", string)\n",
        "    string = re.sub(r\"\\'ll\", \" \\'ll\", string)\n",
        "    string = re.sub(r\",\", \" , \", string)\n",
        "    string = re.sub(r\"!\", \" ! \", string)\n",
        "    string = re.sub(r\"\\(\", \" \\( \", string)\n",
        "    string = re.sub(r\"\\)\", \" \\) \", string)\n",
        "    string = re.sub(r\"\\?\", \" \\? \", string)\n",
        "    string = re.sub(r\"\\s{2,}\", \" \", string)\n",
        "    string = re.sub(r\"\\'{2,}\", \"\\'\", string)\n",
        "    string = re.sub(r\"\\'\", \"\", string)\n",
        "\n",
        "    return string.lower()\n",
        "\n",
        "train_text_X = [row.split('\\t')[1] for row in train_text.split('\\n')[1:] if row.count('\\t')>0]\n",
        "train_text_X = [clean_str(sentence) for sentence in train_text_X]"
      ],
      "execution_count": 9,
      "outputs": []
    },
    {
      "cell_type": "markdown",
      "metadata": {
        "id": "dqtZ1vAN4z5Z"
      },
      "source": [
        "> ### 2) 단어별 최대 길이 조정\n",
        "\n",
        "* 문장 내 단어별 길이 확인"
      ]
    },
    {
      "cell_type": "code",
      "metadata": {
        "colab": {
          "base_uri": "https://localhost:8080/"
        },
        "id": "piLyyLr9UvLw",
        "outputId": "e03e0882-bd02-4a11-8aa0-33eb150e72b1"
      },
      "source": [
        "sentences = [sentence.split(' ') for sentence in train_text_X]\n",
        "\n",
        "for i in range(5):\n",
        "    print(sentences[i])"
      ],
      "execution_count": 10,
      "outputs": [
        {
          "output_type": "stream",
          "text": [
            "['아', '더빙', '진짜', '짜증나네요', '목소리']\n",
            "['흠', '포스터보고', '초딩영화줄', '오버연기조차', '가볍지', '않구나']\n",
            "['너무재밓었다그래서보는것을추천한다']\n",
            "['교도소', '이야기구먼', '솔직히', '재미는', '없다', '평점', '조정']\n",
            "['사이몬페그의', '익살스런', '연기가', '돋보였던', '영화', '!', '스파이더맨에서', '늙어보이기만', '했던', '커스틴', '던스트가', '너무나도', '이뻐보였다']\n"
          ],
          "name": "stdout"
        }
      ]
    },
    {
      "cell_type": "markdown",
      "metadata": {
        "id": "ZVB58nyn459F"
      },
      "source": [
        "* 각 문장의 단어 길이 시각화"
      ]
    },
    {
      "cell_type": "code",
      "metadata": {
        "colab": {
          "base_uri": "https://localhost:8080/",
          "height": 282
        },
        "id": "KVS6XAaxVJwO",
        "outputId": "41437cba-a45a-4974-be2a-e06e4e4d3606"
      },
      "source": [
        "import matplotlib.pyplot as plt\n",
        "\n",
        "sentence_len = [len(sentence) for sentence in sentences]\n",
        "sentence_len.sort()\n",
        "\n",
        "plt.plot(sentence_len)\n",
        "plt.show()\n",
        "\n",
        "print(sum([int(i <= 25) for i in sentence_len]))"
      ],
      "execution_count": 11,
      "outputs": [
        {
          "output_type": "display_data",
          "data": {
            "image/png": "[encoded data removed]",
            "text/plain": [
              "<Figure size 432x288 with 1 Axes>"
            ]
          },
          "metadata": {
            "tags": [],
            "needs_background": "light"
          }
        },
        {
          "output_type": "stream",
          "text": [
            "142587\n"
          ],
          "name": "stdout"
        }
      ]
    },
    {
      "cell_type": "markdown",
      "metadata": {
        "id": "Qb7IxyCr483q"
      },
      "source": [
        "* 단어의 앞에서부터 5글자로 자르기"
      ]
    },
    {
      "cell_type": "code",
      "metadata": {
        "colab": {
          "base_uri": "https://localhost:8080/"
        },
        "id": "SSzddDNcVplG",
        "outputId": "f1acb3ac-36d9-4814-a1cd-b51b838053e8"
      },
      "source": [
        "sentences_new = []\n",
        "\n",
        "for sentence in sentences:\n",
        "    sentences_new.append([word[:5] for word in sentence][:25]) # 4글자까지 25줄 출력\n",
        "\n",
        "sentences = sentences_new\n",
        "\n",
        "for i in range(5):\n",
        "    print(sentences[i])"
      ],
      "execution_count": 12,
      "outputs": [
        {
          "output_type": "stream",
          "text": [
            "['아', '더빙', '진짜', '짜증나네요', '목소리']\n",
            "['흠', '포스터보고', '초딩영화줄', '오버연기조', '가볍지', '않구나']\n",
            "['너무재밓었']\n",
            "['교도소', '이야기구먼', '솔직히', '재미는', '없다', '평점', '조정']\n",
            "['사이몬페그', '익살스런', '연기가', '돋보였던', '영화', '!', '스파이더맨', '늙어보이기', '했던', '커스틴', '던스트가', '너무나도', '이뻐보였다']\n"
          ],
          "name": "stdout"
        }
      ]
    },
    {
      "cell_type": "markdown",
      "metadata": {
        "id": "m9-NgVH35Axt"
      },
      "source": [
        "## Ⅲ. Tokenizer( ) and pad_sequences( )"
      ]
    },
    {
      "cell_type": "markdown",
      "metadata": {
        "id": "5h7vDgF15L8m"
      },
      "source": [
        "> ### 1) 2000개 단어 사용"
      ]
    },
    {
      "cell_type": "code",
      "metadata": {
        "colab": {
          "base_uri": "https://localhost:8080/"
        },
        "id": "zuJCbfj6XFga",
        "outputId": "56b97368-1be3-436d-ed97-6d067e1545a4"
      },
      "source": [
        "from keras.preprocessing.text import Tokenizer\n",
        "from keras.preprocessing.sequence import pad_sequences\n",
        "\n",
        "tokenizer = Tokenizer(num_words = 20000)\n",
        "tokenizer.fit_on_texts(sentences)\n",
        "train_X = tokenizer.texts_to_sequences(sentences)\n",
        "\n",
        "train_X = pad_sequences(train_X, padding = 'post')\n",
        "\n",
        "print(train_X[:5])"
      ],
      "execution_count": 13,
      "outputs": [
        {
          "output_type": "stream",
          "text": [
            "[[   25   884     8  5795  1111     0     0     0     0     0     0     0\n",
            "      0     0     0     0     0     0     0     0     0     0     0     0\n",
            "      0]\n",
            " [  588  5796  6697     0     0     0     0     0     0     0     0     0\n",
            "      0     0     0     0     0     0     0     0     0     0     0     0\n",
            "      0]\n",
            " [    0     0     0     0     0     0     0     0     0     0     0     0\n",
            "      0     0     0     0     0     0     0     0     0     0     0     0\n",
            "      0]\n",
            " [   71   346    31    35 10468     0     0     0     0     0     0     0\n",
            "      0     0     0     0     0     0     0     0     0     0     0     0\n",
            "      0]\n",
            " [  106  5338     4     2  2169   869   573     0     0     0     0     0\n",
            "      0     0     0     0     0     0     0     0     0     0     0     0\n",
            "      0]]\n"
          ],
          "name": "stdout"
        }
      ]
    },
    {
      "cell_type": "markdown",
      "metadata": {
        "id": "HiH8AgJj5P7q"
      },
      "source": [
        "> ### 2) Tokenizer( ) 동작 확인\n",
        "\n",
        "* 존재하는 단어 매핑\n",
        "    * '경우는' , '연기가'"
      ]
    },
    {
      "cell_type": "code",
      "metadata": {
        "colab": {
          "base_uri": "https://localhost:8080/"
        },
        "id": "I9t8fP26XON5",
        "outputId": "6e3f503d-827d-437c-f77b-7ac018b97012"
      },
      "source": [
        "print(tokenizer.index_word[19999])\n",
        "print(tokenizer.index_word[20000])\n",
        "print(tokenizer.index_word[106])\n",
        "\n",
        "temp = tokenizer.texts_to_sequences(['#$#$#', '경우는', '잊혀질', '연기가'])\n",
        "print(temp)  # 존재하는 단어인 '경우는', '연기가'의 인덱스 번호 출력\n",
        "\n",
        "temp = pad_sequences(temp, padding = 'post')\n",
        "print(temp)"
      ],
      "execution_count": 14,
      "outputs": [
        {
          "output_type": "stream",
          "text": [
            "경우는\n",
            "잊혀질\n",
            "연기가\n",
            "[[], [19999], [], [106]]\n",
            "[[    0]\n",
            " [19999]\n",
            " [    0]\n",
            " [  106]]\n"
          ],
          "name": "stdout"
        }
      ]
    },
    {
      "cell_type": "markdown",
      "metadata": {
        "id": "I1JwJLIS5gwA"
      },
      "source": [
        "## Ⅳ. Modeling\n",
        "\n",
        "> ### 1) Model Structure"
      ]
    },
    {
      "cell_type": "code",
      "metadata": {
        "colab": {
          "base_uri": "https://localhost:8080/"
        },
        "id": "yoArTuXgXZMd",
        "outputId": "c77bf8d6-f5c6-4ae9-b1f1-18e00ec6beb3"
      },
      "source": [
        "from keras import models, layers\n",
        "\n",
        "model = models.Sequential()\n",
        "\n",
        "model.add(layers.Embedding(20000, 300, input_length = 25))\n",
        "\n",
        "model.add(layers.LSTM(32))\n",
        "model.add(layers.Dropout(0.5))\n",
        "model.add(layers.Dense(2, activation = 'softmax'))\n",
        "\n",
        "model.compile(loss = 'sparse_categorical_crossentropy', optimizer = 'adam', \n",
        "              metrics = ['accuracy'])\n",
        "\n",
        "model.summary()"
      ],
      "execution_count": 15,
      "outputs": [
        {
          "output_type": "stream",
          "text": [
            "Model: \"sequential\"\n",
            "_________________________________________________________________\n",
            "Layer (type)                 Output Shape              Param #   \n",
            "=================================================================\n",
            "embedding (Embedding)        (None, 25, 300)           6000000   \n",
            "_________________________________________________________________\n",
            "lstm (LSTM)                  (None, 32)                42624     \n",
            "_________________________________________________________________\n",
            "dropout (Dropout)            (None, 32)                0         \n",
            "_________________________________________________________________\n",
            "dense (Dense)                (None, 2)                 66        \n",
            "=================================================================\n",
            "Total params: 6,042,690\n",
            "Trainable params: 6,042,690\n",
            "Non-trainable params: 0\n",
            "_________________________________________________________________\n"
          ],
          "name": "stdout"
        }
      ]
    },
    {
      "cell_type": "markdown",
      "metadata": {
        "id": "DNG0rkUt5nIt"
      },
      "source": [
        "> ### 2) Model Fit\n",
        "\n",
        "* 약 10분 소요"
      ]
    },
    {
      "cell_type": "code",
      "metadata": {
        "colab": {
          "base_uri": "https://localhost:8080/"
        },
        "id": "qFGlbJgEX0Y5",
        "outputId": "6e529d3f-ead1-48a3-969a-f87836dbe459"
      },
      "source": [
        "%%time\n",
        "\n",
        "history = model.fit(train_X, train_Y, epochs=10, batch_size=128,\n",
        "                    validation_split=0.2)"
      ],
      "execution_count": 16,
      "outputs": [
        {
          "output_type": "stream",
          "text": [
            "Epoch 1/10\n",
            "938/938 [==============================] - 106s 80ms/step - loss: 0.5470 - accuracy: 0.6810 - val_loss: 0.3773 - val_accuracy: 0.8222\n",
            "Epoch 2/10\n",
            "938/938 [==============================] - 74s 79ms/step - loss: 0.3199 - accuracy: 0.8545 - val_loss: 0.3865 - val_accuracy: 0.8232\n",
            "Epoch 3/10\n",
            "938/938 [==============================] - 73s 78ms/step - loss: 0.2637 - accuracy: 0.8733 - val_loss: 0.4287 - val_accuracy: 0.8178\n",
            "Epoch 4/10\n",
            "938/938 [==============================] - 75s 80ms/step - loss: 0.2250 - accuracy: 0.8920 - val_loss: 0.4530 - val_accuracy: 0.8126\n",
            "Epoch 5/10\n",
            "938/938 [==============================] - 75s 80ms/step - loss: 0.1902 - accuracy: 0.9075 - val_loss: 0.5577 - val_accuracy: 0.8047\n",
            "Epoch 6/10\n",
            "938/938 [==============================] - 75s 80ms/step - loss: 0.1645 - accuracy: 0.9196 - val_loss: 0.6483 - val_accuracy: 0.8050\n",
            "Epoch 7/10\n",
            "938/938 [==============================] - 75s 80ms/step - loss: 0.1439 - accuracy: 0.9283 - val_loss: 0.7424 - val_accuracy: 0.8010\n",
            "Epoch 8/10\n",
            "938/938 [==============================] - 75s 80ms/step - loss: 0.1320 - accuracy: 0.9337 - val_loss: 0.8097 - val_accuracy: 0.8009\n",
            "Epoch 9/10\n",
            "938/938 [==============================] - 75s 80ms/step - loss: 0.1239 - accuracy: 0.9362 - val_loss: 0.7572 - val_accuracy: 0.7976\n",
            "Epoch 10/10\n",
            "938/938 [==============================] - 74s 79ms/step - loss: 0.1127 - accuracy: 0.9416 - val_loss: 0.8370 - val_accuracy: 0.7992\n",
            "CPU times: user 20min 22s, sys: 41.1 s, total: 21min 3s\n",
            "Wall time: 12min 57s\n"
          ],
          "name": "stdout"
        }
      ]
    },
    {
      "cell_type": "markdown",
      "metadata": {
        "id": "1kwMmDRz5tAk"
      },
      "source": [
        "## Ⅴ. Validation\n",
        "\n",
        "> ### 1) Visualization"
      ]
    },
    {
      "cell_type": "code",
      "metadata": {
        "colab": {
          "base_uri": "https://localhost:8080/",
          "height": 283
        },
        "id": "75EBch1OX-jJ",
        "outputId": "ef094731-9c7d-46e9-b646-13bb10988c22"
      },
      "source": [
        "plt.figure(figsize = (12, 4))\n",
        "\n",
        "plt.subplot(1, 2, 1)\n",
        "plt.plot(history.history['loss'], 'b-', label = 'loss')\n",
        "plt.plot(history.history['val_loss'], 'r--', label = 'val_loss')\n",
        "plt.xlabel('Epoch')\n",
        "plt.legend()\n",
        "\n",
        "plt.subplot(1, 2, 2)\n",
        "plt.plot(history.history['accuracy'], 'g-', label = 'accuracy')\n",
        "plt.plot(history.history['val_accuracy'], 'k--', label = 'val_accuracy')\n",
        "plt.xlabel('Epoch')\n",
        "plt.ylim(0.7, 1)\n",
        "plt.legend()\n",
        "\n",
        "plt.show()"
      ],
      "execution_count": 17,
      "outputs": [
        {
          "output_type": "display_data",
          "data": {
            "image/png": "[encoded data removed]",
            "text/plain": [
              "<Figure size 864x288 with 2 Axes>"
            ]
          },
          "metadata": {
            "tags": [],
            "needs_background": "light"
          }
        }
      ]
    },
    {
      "cell_type": "markdown",
      "metadata": {
        "id": "UZFXUWy551d4"
      },
      "source": [
        "> ### 2) Loss & Accuracy\n",
        "\n",
        "* [loss, accuracy]"
      ]
    },
    {
      "cell_type": "code",
      "metadata": {
        "colab": {
          "base_uri": "https://localhost:8080/"
        },
        "id": "2NmEe1CdYV2k",
        "outputId": "170b3a4a-1093-4fb1-f07e-8a5686e18b4c"
      },
      "source": [
        "# 개행문자(\\n), 아이디/내용/레이블 구분자(\\t) 처리하기\n",
        "test_text_X = [row.split('\\t')[1] for row in test_text.split('\\n')[1:] if row.count('\\t') > 0]\n",
        "# clean_str : 한글 외의 특수문자 제거\n",
        "test_text_X = [clean_str(sentence) for sentence in test_text_X]\n",
        "\n",
        "#띄어쓰기로 구분\n",
        "sentences = [sentence.split(' ') for sentence in test_text_X]\n",
        "\n",
        "sentences_new = []\n",
        "\n",
        "for sentence in sentences:\n",
        "    sentences_new.append([word[:5] for word in sentence][:25])\n",
        "sentences = sentences_new\n",
        "\n",
        "test_X = tokenizer.texts_to_sequences(sentences)\n",
        "test_X = pad_sequences(test_X, padding='post')\n",
        "\n",
        "model.evaluate(test_X, test_Y, verbose=0)"
      ],
      "execution_count": 18,
      "outputs": [
        {
          "output_type": "execute_result",
          "data": {
            "text/plain": [
              "[0.848872184753418, 0.792680025100708]"
            ]
          },
          "metadata": {
            "tags": []
          },
          "execution_count": 18
        }
      ]
    },
    {
      "cell_type": "markdown",
      "metadata": {
        "id": "vYZQI5rr59qB"
      },
      "source": [
        "## Ⅵ. 문장 감성 분석\n",
        "\n",
        "* 입력 단어에 따라 감성 분석 결과 변화\n",
        "    * '1' 긍정 -> '0' 부정"
      ]
    },
    {
      "cell_type": "code",
      "metadata": {
        "id": "JtKj8no0YoW8",
        "colab": {
          "base_uri": "https://localhost:8080/"
        },
        "outputId": "47e40e56-553d-4344-f3ca-ca8a190c8a5c"
      },
      "source": [
        "np.set_printoptions(precision=6, suppress=True) # 지수표현식 제거\n",
        "\n",
        "test_sentence = '재미있을 줄 알았는데 완전 실망했다. 돈이 아까웠다.'\n",
        "test_sentence = test_sentence.split(' ')\n",
        "\n",
        "test_sentences = []\n",
        "now_sentence = []\n",
        "\n",
        "for word in test_sentence:\n",
        "    now_sentence.append(word)\n",
        "    test_sentences.append(now_sentence[:])\n",
        "\n",
        "test_X_1 = tokenizer.texts_to_sequences(test_sentences)\n",
        "test_X_1 = pad_sequences(test_X_1, padding='post', maxlen=25)\n",
        "\n",
        "prediction = model.predict(test_X_1)\n",
        "\n",
        "for idx, sentence in enumerate(test_sentences):\n",
        "    print(sentence)\n",
        "    print(prediction[idx])"
      ],
      "execution_count": 20,
      "outputs": [
        {
          "output_type": "stream",
          "text": [
            "['재미있을']\n",
            "[0.230059 0.769941]\n",
            "['재미있을', '줄']\n",
            "[0.151593 0.848407]\n",
            "['재미있을', '줄', '알았는데']\n",
            "[0.268087 0.731913]\n",
            "['재미있을', '줄', '알았는데', '완전']\n",
            "[0.008035 0.991965]\n",
            "['재미있을', '줄', '알았는데', '완전', '실망했다.']\n",
            "[0.008035 0.991965]\n",
            "['재미있을', '줄', '알았는데', '완전', '실망했다.', '돈이']\n",
            "[0.99905 0.00095]\n",
            "['재미있을', '줄', '알았는데', '완전', '실망했다.', '돈이', '아까웠다.']\n",
            "[0.99905 0.00095]\n"
          ],
          "name": "stdout"
        }
      ]
    }
  ]
}