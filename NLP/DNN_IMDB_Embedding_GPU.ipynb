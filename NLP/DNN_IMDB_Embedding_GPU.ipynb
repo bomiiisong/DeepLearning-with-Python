{
  "nbformat": 4,
  "nbformat_minor": 0,
  "metadata": {
    "colab": {
      "name": "004_DNN_IMDB_Embedding_GPU.ipynb",
      "provenance": [],
      "collapsed_sections": [],
      "authorship_tag": "ABX9TyO9l+x8qfjrR2UWgP/g7R6N",
      "include_colab_link": true
    },
    "kernelspec": {
      "name": "python3",
      "display_name": "Python 3"
    },
    "language_info": {
      "name": "python"
    },
    "accelerator": "GPU"
  },
  "cells": [
    {
      "cell_type": "markdown",
      "metadata": {
        "id": "view-in-github",
        "colab_type": "text"
      },
      "source": [
        "<a href=\"https://colab.research.google.com/github/bomiiisong/DeepLearning-with-Python/blob/master/NLP/DNN_IMDB_Embedding_GPU.ipynb\" target=\"_parent\"><img src=\"https://colab.research.google.com/assets/colab-badge.svg\" alt=\"Open In Colab\"/></a>"
      ]
    },
    {
      "cell_type": "markdown",
      "metadata": {
        "id": "bvyjIOGl0s-Q"
      },
      "source": [
        "# IMDB - Embedding with DNN"
      ]
    },
    {
      "cell_type": "markdown",
      "metadata": {
        "id": "K3k6llt60s6p"
      },
      "source": [
        "> ## NLP(Natural Language Processing)"
      ]
    },
    {
      "cell_type": "code",
      "metadata": {
        "id": "sbnljzDrvOQF"
      },
      "source": [
        "import warnings\n",
        "warnings.filterwarnings('ignore')"
      ],
      "execution_count": null,
      "outputs": []
    },
    {
      "cell_type": "markdown",
      "metadata": {
        "id": "9PwW_D250352"
      },
      "source": [
        "### Import keras\n",
        "\n",
        "* keras version 확인"
      ]
    },
    {
      "cell_type": "code",
      "metadata": {
        "colab": {
          "base_uri": "https://localhost:8080/",
          "height": 35
        },
        "id": "aiwRQYzGvbMP",
        "outputId": "320ffd9a-0dc2-46cf-a97b-ab5ff29a5e7b"
      },
      "source": [
        "import keras   \n",
        "\n",
        "keras.__version__"
      ],
      "execution_count": null,
      "outputs": [
        {
          "output_type": "execute_result",
          "data": {
            "application/vnd.google.colaboratory.intrinsic+json": {
              "type": "string"
            },
            "text/plain": [
              "'2.4.3'"
            ]
          },
          "metadata": {
            "tags": []
          },
          "execution_count": 2
        }
      ]
    },
    {
      "cell_type": "markdown",
      "metadata": {
        "id": "VAS4e14909P-"
      },
      "source": [
        "## I. IMDB Data_Set Load & Review"
      ]
    },
    {
      "cell_type": "markdown",
      "metadata": {
        "id": "JYgMB0uA1E1C"
      },
      "source": [
        "> ### 1) Load IMDB Data_Set\n",
        "\n",
        "* Word to Vector\n",
        "전체 데이터 내에서 단어의 사용빈도에 따라 인덱스화\n",
        "* 정수 인덱스 '11'은 11번째로 자주 사용된 단어를 나타냄\n",
        "* num_words = 10000 : 인덱스 값 10000 이하의 단어만 추출\n",
        "    * 단어 인덱스 값이 10000을 넘지 않는 단어만 분석에 사용"
      ]
    },
    {
      "cell_type": "code",
      "metadata": {
        "colab": {
          "base_uri": "https://localhost:8080/"
        },
        "id": "DmgiZ2KJvfve",
        "outputId": "efea615e-6c00-43b7-dd5e-312e9eb616b0"
      },
      "source": [
        "from keras.datasets import imdb\n",
        "\n",
        "(X_train, y_train), (X_test, y_test) = imdb.load_data(num_words=10000)"
      ],
      "execution_count": null,
      "outputs": [
        {
          "output_type": "stream",
          "text": [
            "Downloading data from https://storage.googleapis.com/tensorflow/tf-keras-datasets/imdb.npz\n",
            "17465344/17464789 [==============================] - 0s 0us/step\n"
          ],
          "name": "stdout"
        }
      ]
    },
    {
      "cell_type": "markdown",
      "metadata": {
        "id": "jfv0V8CU1aQm"
      },
      "source": [
        "> ### 2) Visualization & Frequency"
      ]
    },
    {
      "cell_type": "markdown",
      "metadata": {
        "id": "YVguquEi1dl9"
      },
      "source": [
        "* x : Histogram(리뷰 길이)"
      ]
    },
    {
      "cell_type": "code",
      "metadata": {
        "colab": {
          "base_uri": "https://localhost:8080/",
          "height": 425
        },
        "id": "Ptd-7XDjvucp",
        "outputId": "3878c051-02e2-4b44-e0a0-980bdd32618c"
      },
      "source": [
        "import matplotlib.pyplot as plt\n",
        "\n",
        "print('리뷰 최대 길이 : ', max(len(L) for L in X_train))\n",
        "print('리뷰 평균 길이 : ', sum(map(len, X_train)) / len(X_train))\n",
        "\n",
        "plt.figure(figsize=(9,6))\n",
        "plt.hist([len(L) for L in X_train], bins=50)\n",
        "plt.xlabel('Length of X_train')\n",
        "plt.ylabel('Number of X_train')\n",
        "plt.show()"
      ],
      "execution_count": null,
      "outputs": [
        {
          "output_type": "stream",
          "text": [
            "리뷰 최대 길이 :  2494\n",
            "리뷰 평균 길이 :  238.71364\n"
          ],
          "name": "stdout"
        },
        {
          "output_type": "display_data",
          "data": {
            "image/png": "[encoded data removed]",
            "text/plain": [
              "<Figure size 648x432 with 1 Axes>"
            ]
          },
          "metadata": {
            "tags": [],
            "needs_background": "light"
          }
        }
      ]
    },
    {
      "cell_type": "markdown",
      "metadata": {
        "id": "_wrUR6xS1huj"
      },
      "source": [
        "y : Frequency(0:부정, 1:긍정)"
      ]
    },
    {
      "cell_type": "code",
      "metadata": {
        "colab": {
          "base_uri": "https://localhost:8080/"
        },
        "id": "dv2_oLBPwhRw",
        "outputId": "876523d3-5039-4c21-868d-217c771db7f4"
      },
      "source": [
        "import numpy as np\n",
        "\n",
        "unique_elements, counts_elements = np.unique(y_train, return_counts=True)\n",
        "\n",
        "print('Label 빈도수 : ')\n",
        "print(np.asarray((unique_elements, counts_elements)))"
      ],
      "execution_count": null,
      "outputs": [
        {
          "output_type": "stream",
          "text": [
            "Label 빈도수 : \n",
            "[[    0     1]\n",
            " [12500 12500]]\n"
          ],
          "name": "stdout"
        }
      ]
    },
    {
      "cell_type": "markdown",
      "metadata": {
        "id": "pt-a-ZRa1vup"
      },
      "source": [
        "## II. Tensor Transformation"
      ]
    },
    {
      "cell_type": "markdown",
      "metadata": {
        "id": "E68dr4AT1xpt"
      },
      "source": [
        "> ### 1) X_train & X_test : (25000, 10000)\n",
        "\n",
        "* vectorization\n",
        "    * (25000, 10000)"
      ]
    },
    {
      "cell_type": "code",
      "metadata": {
        "colab": {
          "base_uri": "https://localhost:8080/"
        },
        "id": "WHqitUEJwz83",
        "outputId": "bb5c2b5a-ac26-4e91-d77a-382c50b898a6"
      },
      "source": [
        "from keras import preprocessing\n",
        "\n",
        "X_train = preprocessing.sequence.pad_sequences(X_train, maxlen=10000)\n",
        "X_test = preprocessing.sequence.pad_sequences(X_test, maxlen=10000)\n",
        "\n",
        "X_train.shape, X_test.shape"
      ],
      "execution_count": null,
      "outputs": [
        {
          "output_type": "execute_result",
          "data": {
            "text/plain": [
              "((25000, 10000), (25000, 10000))"
            ]
          },
          "metadata": {
            "tags": []
          },
          "execution_count": 9
        }
      ]
    },
    {
      "cell_type": "markdown",
      "metadata": {
        "id": "-yo0hO3Z17PG"
      },
      "source": [
        "* Transformation Check"
      ]
    },
    {
      "cell_type": "code",
      "metadata": {
        "colab": {
          "base_uri": "https://localhost:8080/"
        },
        "id": "3IeD6KV_xOSP",
        "outputId": "10e5e13f-eab3-4914-defe-8e7a7abd336c"
      },
      "source": [
        "print(X_train[0][:21])\n",
        "print(X_train[0][9979:])\n",
        "\n",
        "print(X_test[0][:21])\n",
        "print(X_test[0][9979:])"
      ],
      "execution_count": null,
      "outputs": [
        {
          "output_type": "stream",
          "text": [
            "[0 0 0 0 0 0 0 0 0 0 0 0 0 0 0 0 0 0 0 0 0]\n",
            "[ 226   65   16   38 1334   88   12   16  283    5   16 4472  113  103\n",
            "   32   15   16 5345   19  178   32]\n",
            "[0 0 0 0 0 0 0 0 0 0 0 0 0 0 0 0 0 0 0 0 0]\n",
            "[  14  286  170    8  157   46    5   27  239   16  179    2   38   32\n",
            "   25 7944  451  202   14    6  717]\n"
          ],
          "name": "stdout"
        }
      ]
    },
    {
      "cell_type": "markdown",
      "metadata": {
        "id": "yL1Ef8Kq1_BL"
      },
      "source": [
        "> ### 2) y_train & y_test"
      ]
    },
    {
      "cell_type": "code",
      "metadata": {
        "colab": {
          "base_uri": "https://localhost:8080/"
        },
        "id": "A6PBJ2gDxeMS",
        "outputId": "4b3e18be-7ca7-4062-f541-2009e2f7c1ac"
      },
      "source": [
        "y_train = np.asarray(y_train).astype(float)\n",
        "y_test = np.asarray(y_test).astype(float)\n",
        "\n",
        "print(y_train[:21])\n",
        "print(y_test[:21])"
      ],
      "execution_count": null,
      "outputs": [
        {
          "output_type": "stream",
          "text": [
            "[1. 0. 0. 1. 0. 0. 1. 0. 1. 0. 1. 0. 0. 0. 0. 0. 1. 1. 0. 1. 0.]\n",
            "[0. 1. 1. 0. 1. 1. 1. 0. 0. 1. 1. 0. 0. 0. 1. 0. 1. 0. 0. 0. 1.]\n"
          ],
          "name": "stdout"
        }
      ]
    },
    {
      "cell_type": "markdown",
      "metadata": {
        "id": "LUolT9eE2Hlp"
      },
      "source": [
        "## III. Keras Embedding Modeling\n"
      ]
    },
    {
      "cell_type": "markdown",
      "metadata": {
        "id": "lKVTf6KP2Jxn"
      },
      "source": [
        "> ### 1) Model Define\n",
        "\n",
        "* 모델 신경망 구조 정의\n",
        "    * Embedding Dimension : 32"
      ]
    },
    {
      "cell_type": "code",
      "metadata": {
        "id": "dIlqE3MOxwg-"
      },
      "source": [
        "from keras import models\n",
        "from keras import layers\n",
        "\n",
        "imdb = models.Sequential()\n",
        "\n",
        "imdb.add(layers.Embedding(10000, 32, input_length=10000))\n",
        "\n",
        "imdb.add(layers.Flatten())\n",
        "\n",
        "imdb.add(layers.Dense(16))\n",
        "imdb.add(layers.Dropout(0.5))\n",
        "imdb.add(layers.Dense(1, activation='sigmoid'))"
      ],
      "execution_count": null,
      "outputs": []
    },
    {
      "cell_type": "markdown",
      "metadata": {
        "id": "u9sMcRS72RM3"
      },
      "source": [
        "* Model Summary"
      ]
    },
    {
      "cell_type": "code",
      "metadata": {
        "colab": {
          "base_uri": "https://localhost:8080/"
        },
        "id": "3f7HuzVcyL2q",
        "outputId": "336b5760-0f36-4dab-864a-e76cbda931e2"
      },
      "source": [
        "imdb.summary()"
      ],
      "execution_count": null,
      "outputs": [
        {
          "output_type": "stream",
          "text": [
            "Model: \"sequential\"\n",
            "_________________________________________________________________\n",
            "Layer (type)                 Output Shape              Param #   \n",
            "=================================================================\n",
            "embedding (Embedding)        (None, 10000, 32)         320000    \n",
            "_________________________________________________________________\n",
            "flatten (Flatten)            (None, 320000)            0         \n",
            "_________________________________________________________________\n",
            "dense (Dense)                (None, 16)                5120016   \n",
            "_________________________________________________________________\n",
            "dropout (Dropout)            (None, 16)                0         \n",
            "_________________________________________________________________\n",
            "dense_1 (Dense)              (None, 1)                 17        \n",
            "=================================================================\n",
            "Total params: 5,440,033\n",
            "Trainable params: 5,440,033\n",
            "Non-trainable params: 0\n",
            "_________________________________________________________________\n"
          ],
          "name": "stdout"
        }
      ]
    },
    {
      "cell_type": "markdown",
      "metadata": {
        "id": "GvrDqTME2Vh6"
      },
      "source": [
        "> ### 2) Model Compile\n",
        "\n",
        "* 모델 학습방법 설정"
      ]
    },
    {
      "cell_type": "code",
      "metadata": {
        "id": "cwvDhLoMyOOh"
      },
      "source": [
        "imdb.compile(loss='binary_crossentropy',\n",
        "             optimizer='adam',\n",
        "             metrics=['accuracy'])"
      ],
      "execution_count": null,
      "outputs": []
    },
    {
      "cell_type": "markdown",
      "metadata": {
        "id": "K2fR8f3s2Y24"
      },
      "source": [
        "> ### 3) Model Fit\n",
        "\n",
        "* 약 20 분 소요"
      ]
    },
    {
      "cell_type": "code",
      "metadata": {
        "colab": {
          "base_uri": "https://localhost:8080/"
        },
        "id": "Kbjit7sAyYpr",
        "outputId": "0d4a64b1-cf67-499f-c027-e7ebe6b8db9a"
      },
      "source": [
        "%%time\n",
        "\n",
        "Hist_imdb = imdb.fit(X_train, y_train, epochs=50, batch_size=512,\n",
        "                     validation_data=(X_test, y_test))"
      ],
      "execution_count": null,
      "outputs": [
        {
          "output_type": "stream",
          "text": [
            "Epoch 1/50\n",
            "49/49 [==============================] - 30s 542ms/step - loss: 2.0267 - accuracy: 0.4960 - val_loss: 0.6638 - val_accuracy: 0.5264\n",
            "Epoch 2/50\n",
            "49/49 [==============================] - 26s 531ms/step - loss: 0.5824 - accuracy: 0.7337 - val_loss: 0.3779 - val_accuracy: 0.8558\n",
            "Epoch 3/50\n",
            "49/49 [==============================] - 26s 530ms/step - loss: 0.3169 - accuracy: 0.8916 - val_loss: 0.2944 - val_accuracy: 0.8777\n",
            "Epoch 4/50\n",
            "49/49 [==============================] - 26s 528ms/step - loss: 0.2207 - accuracy: 0.9289 - val_loss: 0.2734 - val_accuracy: 0.8846\n",
            "Epoch 5/50\n",
            "49/49 [==============================] - 26s 527ms/step - loss: 0.1737 - accuracy: 0.9469 - val_loss: 0.2825 - val_accuracy: 0.8814\n",
            "Epoch 6/50\n",
            "49/49 [==============================] - 26s 529ms/step - loss: 0.1387 - accuracy: 0.9627 - val_loss: 0.2762 - val_accuracy: 0.8864\n",
            "Epoch 7/50\n",
            "49/49 [==============================] - 26s 531ms/step - loss: 0.1052 - accuracy: 0.9760 - val_loss: 0.2862 - val_accuracy: 0.8840\n",
            "Epoch 8/50\n",
            "49/49 [==============================] - 26s 527ms/step - loss: 0.0770 - accuracy: 0.9867 - val_loss: 0.2996 - val_accuracy: 0.8820\n",
            "Epoch 9/50\n",
            "49/49 [==============================] - 26s 527ms/step - loss: 0.0611 - accuracy: 0.9902 - val_loss: 0.3184 - val_accuracy: 0.8793\n",
            "Epoch 10/50\n",
            "49/49 [==============================] - 26s 526ms/step - loss: 0.0464 - accuracy: 0.9947 - val_loss: 0.3310 - val_accuracy: 0.8796\n",
            "Epoch 11/50\n",
            "49/49 [==============================] - 26s 528ms/step - loss: 0.0334 - accuracy: 0.9977 - val_loss: 0.3492 - val_accuracy: 0.8788\n",
            "Epoch 12/50\n",
            "49/49 [==============================] - 26s 528ms/step - loss: 0.0270 - accuracy: 0.9988 - val_loss: 0.3637 - val_accuracy: 0.8776\n",
            "Epoch 13/50\n",
            "49/49 [==============================] - 26s 530ms/step - loss: 0.0203 - accuracy: 0.9989 - val_loss: 0.3788 - val_accuracy: 0.8769\n",
            "Epoch 14/50\n",
            "49/49 [==============================] - 26s 528ms/step - loss: 0.0155 - accuracy: 0.9997 - val_loss: 0.3960 - val_accuracy: 0.8769\n",
            "Epoch 15/50\n",
            "49/49 [==============================] - 25s 524ms/step - loss: 0.0131 - accuracy: 0.9999 - val_loss: 0.4071 - val_accuracy: 0.8762\n",
            "Epoch 16/50\n",
            "49/49 [==============================] - 26s 528ms/step - loss: 0.0108 - accuracy: 0.9999 - val_loss: 0.4211 - val_accuracy: 0.8753\n",
            "Epoch 17/50\n",
            "49/49 [==============================] - 25s 520ms/step - loss: 0.0092 - accuracy: 0.9999 - val_loss: 0.4331 - val_accuracy: 0.8758\n",
            "Epoch 18/50\n",
            "49/49 [==============================] - 25s 523ms/step - loss: 0.0074 - accuracy: 0.9999 - val_loss: 0.4452 - val_accuracy: 0.8754\n",
            "Epoch 19/50\n",
            "49/49 [==============================] - 25s 522ms/step - loss: 0.0066 - accuracy: 1.0000 - val_loss: 0.4577 - val_accuracy: 0.8752\n",
            "Epoch 20/50\n",
            "49/49 [==============================] - 26s 526ms/step - loss: 0.0060 - accuracy: 1.0000 - val_loss: 0.4680 - val_accuracy: 0.8754\n",
            "Epoch 21/50\n",
            "49/49 [==============================] - 26s 526ms/step - loss: 0.0051 - accuracy: 1.0000 - val_loss: 0.4779 - val_accuracy: 0.8755\n",
            "Epoch 22/50\n",
            "49/49 [==============================] - 25s 521ms/step - loss: 0.0045 - accuracy: 1.0000 - val_loss: 0.4877 - val_accuracy: 0.8750\n",
            "Epoch 23/50\n",
            "49/49 [==============================] - 26s 526ms/step - loss: 0.0039 - accuracy: 1.0000 - val_loss: 0.4964 - val_accuracy: 0.8749\n",
            "Epoch 24/50\n",
            "49/49 [==============================] - 25s 522ms/step - loss: 0.0038 - accuracy: 1.0000 - val_loss: 0.5065 - val_accuracy: 0.8748\n",
            "Epoch 25/50\n",
            "49/49 [==============================] - 25s 522ms/step - loss: 0.0033 - accuracy: 1.0000 - val_loss: 0.5142 - val_accuracy: 0.8746\n",
            "Epoch 26/50\n",
            "49/49 [==============================] - 25s 519ms/step - loss: 0.0031 - accuracy: 1.0000 - val_loss: 0.5226 - val_accuracy: 0.8748\n",
            "Epoch 27/50\n",
            "49/49 [==============================] - 25s 519ms/step - loss: 0.0027 - accuracy: 1.0000 - val_loss: 0.5321 - val_accuracy: 0.8748\n",
            "Epoch 28/50\n",
            "49/49 [==============================] - 26s 525ms/step - loss: 0.0023 - accuracy: 1.0000 - val_loss: 0.5387 - val_accuracy: 0.8749\n",
            "Epoch 29/50\n",
            "49/49 [==============================] - 25s 523ms/step - loss: 0.0024 - accuracy: 0.9999 - val_loss: 0.5472 - val_accuracy: 0.8747\n",
            "Epoch 30/50\n",
            "49/49 [==============================] - 25s 523ms/step - loss: 0.0021 - accuracy: 1.0000 - val_loss: 0.5552 - val_accuracy: 0.8747\n",
            "Epoch 31/50\n",
            "49/49 [==============================] - 25s 523ms/step - loss: 0.0019 - accuracy: 1.0000 - val_loss: 0.5624 - val_accuracy: 0.8745\n",
            "Epoch 32/50\n",
            "49/49 [==============================] - 25s 523ms/step - loss: 0.0018 - accuracy: 1.0000 - val_loss: 0.5686 - val_accuracy: 0.8748\n",
            "Epoch 33/50\n",
            "49/49 [==============================] - 26s 525ms/step - loss: 0.0017 - accuracy: 1.0000 - val_loss: 0.5773 - val_accuracy: 0.8750\n",
            "Epoch 34/50\n",
            "49/49 [==============================] - 26s 526ms/step - loss: 0.0016 - accuracy: 1.0000 - val_loss: 0.5833 - val_accuracy: 0.8746\n",
            "Epoch 35/50\n",
            "49/49 [==============================] - 26s 527ms/step - loss: 0.0016 - accuracy: 1.0000 - val_loss: 0.5909 - val_accuracy: 0.8743\n",
            "Epoch 36/50\n",
            "49/49 [==============================] - 25s 522ms/step - loss: 0.0014 - accuracy: 0.9999 - val_loss: 0.5962 - val_accuracy: 0.8742\n",
            "Epoch 37/50\n",
            "49/49 [==============================] - 25s 522ms/step - loss: 0.0012 - accuracy: 1.0000 - val_loss: 0.6032 - val_accuracy: 0.8742\n",
            "Epoch 38/50\n",
            "49/49 [==============================] - 25s 520ms/step - loss: 0.0013 - accuracy: 1.0000 - val_loss: 0.6098 - val_accuracy: 0.8743\n",
            "Epoch 39/50\n",
            "49/49 [==============================] - 25s 523ms/step - loss: 0.0013 - accuracy: 1.0000 - val_loss: 0.6148 - val_accuracy: 0.8743\n",
            "Epoch 40/50\n",
            "49/49 [==============================] - 25s 522ms/step - loss: 0.0011 - accuracy: 1.0000 - val_loss: 0.6210 - val_accuracy: 0.8742\n",
            "Epoch 41/50\n",
            "49/49 [==============================] - 25s 523ms/step - loss: 0.0011 - accuracy: 1.0000 - val_loss: 0.6271 - val_accuracy: 0.8739\n",
            "Epoch 42/50\n",
            "49/49 [==============================] - 25s 523ms/step - loss: 9.0813e-04 - accuracy: 1.0000 - val_loss: 0.6333 - val_accuracy: 0.8739\n",
            "Epoch 43/50\n",
            "49/49 [==============================] - 25s 523ms/step - loss: 0.0011 - accuracy: 0.9999 - val_loss: 0.6382 - val_accuracy: 0.8742\n",
            "Epoch 44/50\n",
            "49/49 [==============================] - 25s 523ms/step - loss: 8.4109e-04 - accuracy: 1.0000 - val_loss: 0.6440 - val_accuracy: 0.8744\n",
            "Epoch 45/50\n",
            "49/49 [==============================] - 26s 524ms/step - loss: 9.6398e-04 - accuracy: 1.0000 - val_loss: 0.6486 - val_accuracy: 0.8743\n",
            "Epoch 46/50\n",
            "49/49 [==============================] - 26s 524ms/step - loss: 8.8405e-04 - accuracy: 1.0000 - val_loss: 0.6555 - val_accuracy: 0.8745\n",
            "Epoch 47/50\n",
            "49/49 [==============================] - 26s 525ms/step - loss: 7.7264e-04 - accuracy: 1.0000 - val_loss: 0.6600 - val_accuracy: 0.8740\n",
            "Epoch 48/50\n",
            "49/49 [==============================] - 26s 525ms/step - loss: 7.8149e-04 - accuracy: 1.0000 - val_loss: 0.6660 - val_accuracy: 0.8742\n",
            "Epoch 49/50\n",
            "49/49 [==============================] - 26s 526ms/step - loss: 8.5087e-04 - accuracy: 1.0000 - val_loss: 0.6711 - val_accuracy: 0.8742\n",
            "Epoch 50/50\n",
            "49/49 [==============================] - 26s 526ms/step - loss: 6.4351e-04 - accuracy: 1.0000 - val_loss: 0.6766 - val_accuracy: 0.8741\n",
            "CPU times: user 23min 11s, sys: 33.2 s, total: 23min 45s\n",
            "Wall time: 21min 21s\n"
          ],
          "name": "stdout"
        }
      ]
    },
    {
      "cell_type": "markdown",
      "metadata": {
        "id": "KnMfNtGf2iWg"
      },
      "source": [
        "> ### 4) 학습 결과 시각화\n",
        "\n",
        "* Loss Visualization"
      ]
    },
    {
      "cell_type": "code",
      "metadata": {
        "colab": {
          "base_uri": "https://localhost:8080/",
          "height": 404
        },
        "id": "ALjUI1SWyheD",
        "outputId": "359a4f41-b37b-45a8-a966-8190d69d043b"
      },
      "source": [
        "epochs = range(1, len(Hist_imdb.history['loss']) + 1)\n",
        "\n",
        "plt.figure(figsize=(9,6))\n",
        "plt.plot(epochs, Hist_imdb.history['loss'])\n",
        "plt.plot(epochs, Hist_imdb.history['val_loss'])\n",
        "plt.title('Training & Validation Loss')\n",
        "plt.xlabel('Epochs')\n",
        "plt.ylabel('Loss')\n",
        "plt.legend(['Training Loss', 'Validation Loss'])\n",
        "plt.grid()\n",
        "plt.show()"
      ],
      "execution_count": null,
      "outputs": [
        {
          "output_type": "display_data",
          "data": {
            "image/png": "[encoded data removed]",
            "text/plain": [
              "<Figure size 648x432 with 1 Axes>"
            ]
          },
          "metadata": {
            "tags": [],
            "needs_background": "light"
          }
        }
      ]
    },
    {
      "cell_type": "markdown",
      "metadata": {
        "id": "O1Z-UIJ42m4o"
      },
      "source": [
        "* Accuracy Visualization"
      ]
    },
    {
      "cell_type": "code",
      "metadata": {
        "colab": {
          "base_uri": "https://localhost:8080/",
          "height": 404
        },
        "id": "DgZ-icEQzKS2",
        "outputId": "b37537ac-30f0-4471-ae8b-706b5610258b"
      },
      "source": [
        "epochs = range(1, len(Hist_imdb.history['accuracy']) + 1)\n",
        "\n",
        "plt.figure(figsize=(9,6))\n",
        "plt.plot(epochs, Hist_imdb.history['accuracy'])\n",
        "plt.plot(epochs, Hist_imdb.history['val_accuracy'])\n",
        "plt.title('Training & Validation Accuracy')\n",
        "plt.xlabel('Epochs')\n",
        "plt.ylabel('Accuracy')\n",
        "plt.legend(['Training Accuracy', 'Validation Accuracy'])\n",
        "plt.grid()\n",
        "plt.show()"
      ],
      "execution_count": null,
      "outputs": [
        {
          "output_type": "display_data",
          "data": {
            "image/png": "[encoded data removed]",
            "text/plain": [
              "<Figure size 648x432 with 1 Axes>"
            ]
          },
          "metadata": {
            "tags": [],
            "needs_background": "light"
          }
        }
      ]
    },
    {
      "cell_type": "markdown",
      "metadata": {
        "id": "nyE7E5nl2pSx"
      },
      "source": [
        "> ### 5) Model Evaluate\n",
        "\n",
        "* Loss & Accuracy\n"
      ]
    },
    {
      "cell_type": "code",
      "metadata": {
        "colab": {
          "base_uri": "https://localhost:8080/"
        },
        "id": "bvutvlH2zYqh",
        "outputId": "ed0afde7-4a5f-4627-b233-caa8cbd2d24b"
      },
      "source": [
        "loss, accuracy = imdb.evaluate(X_test, y_test)\n",
        "\n",
        "print('Loss = {:.5f}'.format(loss))\n",
        "print('Accuracy = {:.5f}'.format(accuracy))"
      ],
      "execution_count": null,
      "outputs": [
        {
          "output_type": "stream",
          "text": [
            "782/782 [==============================] - 11s 15ms/step - loss: 0.6766 - accuracy: 0.8741\n",
            "Loss = 0.67659\n",
            "Accuracy = 0.87408\n"
          ],
          "name": "stdout"
        }
      ]
    }
  ]
}