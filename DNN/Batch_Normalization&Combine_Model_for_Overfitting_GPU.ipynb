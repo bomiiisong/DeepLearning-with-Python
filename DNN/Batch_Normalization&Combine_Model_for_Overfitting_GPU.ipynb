{
  "nbformat": 4,
  "nbformat_minor": 0,
  "metadata": {
    "colab": {
      "name": "DNN_mnist_Batch_Normalization&_결합모델_GPU.ipynb",
      "provenance": [],
      "collapsed_sections": [],
      "authorship_tag": "ABX9TyPFtWgVl+bZT8tlQXIrxb/e",
      "include_colab_link": true
    },
    "kernelspec": {
      "name": "python3",
      "display_name": "Python 3"
    },
    "language_info": {
      "name": "python"
    },
    "accelerator": "GPU"
  },
  "cells": [
    {
      "cell_type": "markdown",
      "metadata": {
        "id": "view-in-github",
        "colab_type": "text"
      },
      "source": [
        "<a href=\"https://colab.research.google.com/github/bomiiisong/DeepLearning-with-Python/blob/master/DNN/Batch_Normalization%26Combine_Model_for_Overfitting_GPU.ipynb\" target=\"_parent\"><img src=\"https://colab.research.google.com/assets/colab-badge.svg\" alt=\"Open In Colab\"/></a>"
      ]
    },
    {
      "cell_type": "markdown",
      "metadata": {
        "id": "yXOURsLY0-RU"
      },
      "source": [
        "# DNN Model with Batch Normalization\n",
        "\n",
        "* MNIST Datasets"
      ]
    },
    {
      "cell_type": "code",
      "metadata": {
        "id": "YAvqjdIb2kNM"
      },
      "source": [
        "import warnings\n",
        "warnings.filterwarnings('ignore')"
      ],
      "execution_count": null,
      "outputs": []
    },
    {
      "cell_type": "markdown",
      "metadata": {
        "id": "YiTZr_9v1Iso"
      },
      "source": [
        "## Ⅰ. Import Packages & Load datasets"
      ]
    },
    {
      "cell_type": "markdown",
      "metadata": {
        "id": "VmRP13Hx1OIr"
      },
      "source": [
        "* import tensorflow & version check"
      ]
    },
    {
      "cell_type": "code",
      "metadata": {
        "colab": {
          "base_uri": "https://localhost:8080/",
          "height": 35
        },
        "id": "6r5WooP73DaK",
        "outputId": "9a83e65f-a26e-464b-cd6b-0b8d2df0bca0"
      },
      "source": [
        "import tensorflow as tf\n",
        "\n",
        "tf.__version__"
      ],
      "execution_count": null,
      "outputs": [
        {
          "output_type": "execute_result",
          "data": {
            "application/vnd.google.colaboratory.intrinsic+json": {
              "type": "string"
            },
            "text/plain": [
              "'2.4.1'"
            ]
          },
          "metadata": {
            "tags": []
          },
          "execution_count": 3
        }
      ]
    },
    {
      "cell_type": "markdown",
      "metadata": {
        "id": "O-qR0aCr1UCR"
      },
      "source": [
        "* GPU 사용 여부 Check"
      ]
    },
    {
      "cell_type": "code",
      "metadata": {
        "colab": {
          "base_uri": "https://localhost:8080/",
          "height": 35
        },
        "id": "XGfvrFkZ3Lkr",
        "outputId": "4a02fb80-469f-43ca-8bec-7f0be77348bc"
      },
      "source": [
        "tf.test.gpu_device_name()"
      ],
      "execution_count": null,
      "outputs": [
        {
          "output_type": "execute_result",
          "data": {
            "application/vnd.google.colaboratory.intrinsic+json": {
              "type": "string"
            },
            "text/plain": [
              "'/device:GPU:0'"
            ]
          },
          "metadata": {
            "tags": []
          },
          "execution_count": 4
        }
      ]
    },
    {
      "cell_type": "markdown",
      "metadata": {
        "id": "2Dzj9mko1W1O"
      },
      "source": [
        "* import keras & version check"
      ]
    },
    {
      "cell_type": "code",
      "metadata": {
        "colab": {
          "base_uri": "https://localhost:8080/",
          "height": 35
        },
        "id": "-hOKA5C43UXb",
        "outputId": "b2a111ce-5bb7-4129-8d3c-1a076bbfc514"
      },
      "source": [
        "import keras\n",
        "\n",
        "keras.__version__"
      ],
      "execution_count": null,
      "outputs": [
        {
          "output_type": "execute_result",
          "data": {
            "application/vnd.google.colaboratory.intrinsic+json": {
              "type": "string"
            },
            "text/plain": [
              "'2.4.3'"
            ]
          },
          "metadata": {
            "tags": []
          },
          "execution_count": 5
        }
      ]
    },
    {
      "cell_type": "markdown",
      "metadata": {
        "id": "x9UaR93W1bH3"
      },
      "source": [
        "* Load MNIST Datasets"
      ]
    },
    {
      "cell_type": "code",
      "metadata": {
        "colab": {
          "base_uri": "https://localhost:8080/"
        },
        "id": "zaQyrw6T3a_S",
        "outputId": "35d0d445-4ddf-4c99-e89c-b60c3ef333c1"
      },
      "source": [
        "from keras.datasets import mnist\n",
        "\n",
        "(X_train, y_train), (X_test, y_test) = mnist.load_data()"
      ],
      "execution_count": null,
      "outputs": [
        {
          "output_type": "stream",
          "text": [
            "Downloading data from https://storage.googleapis.com/tensorflow/tf-keras-datasets/mnist.npz\n",
            "11493376/11490434 [==============================] - 0s 0us/step\n"
          ],
          "name": "stdout"
        }
      ]
    },
    {
      "cell_type": "markdown",
      "metadata": {
        "id": "DObS0ABe1jPs"
      },
      "source": [
        "* train data shape check"
      ]
    },
    {
      "cell_type": "code",
      "metadata": {
        "colab": {
          "base_uri": "https://localhost:8080/"
        },
        "id": "BVX27lw83sAZ",
        "outputId": "9172e4f7-7f11-4b4e-978a-d61ca550aa66"
      },
      "source": [
        "print(len(X_train))\n",
        "print(X_train.shape)\n",
        "\n",
        "print(len(y_train))\n",
        "print(y_train[0:5])"
      ],
      "execution_count": null,
      "outputs": [
        {
          "output_type": "stream",
          "text": [
            "60000\n",
            "(60000, 28, 28)\n",
            "60000\n",
            "[5 0 4 1 9]\n"
          ],
          "name": "stdout"
        }
      ]
    },
    {
      "cell_type": "markdown",
      "metadata": {
        "id": "ZGz8tQEb1m5C"
      },
      "source": [
        "* test data shape check"
      ]
    },
    {
      "cell_type": "code",
      "metadata": {
        "colab": {
          "base_uri": "https://localhost:8080/"
        },
        "id": "pae5Eaop3-BY",
        "outputId": "cbcb143d-5b3b-4583-895d-6463cd265423"
      },
      "source": [
        "print(len(X_test))\n",
        "print(X_test.shape)\n",
        "\n",
        "print(len(y_test))\n",
        "print(y_test[0:5])"
      ],
      "execution_count": null,
      "outputs": [
        {
          "output_type": "stream",
          "text": [
            "10000\n",
            "(10000, 28, 28)\n",
            "10000\n",
            "[7 2 1 0 4]\n"
          ],
          "name": "stdout"
        }
      ]
    },
    {
      "cell_type": "markdown",
      "metadata": {
        "id": "Avykmb941o_w"
      },
      "source": [
        "* data visualization"
      ]
    },
    {
      "cell_type": "code",
      "metadata": {
        "colab": {
          "base_uri": "https://localhost:8080/",
          "height": 265
        },
        "id": "3VVfBs-C4MYv",
        "outputId": "dca3df68-8a64-4855-9156-733ffc9dd760"
      },
      "source": [
        "import matplotlib.pyplot as plt\n",
        "\n",
        "digit = X_train[4]\n",
        "plt.imshow(digit, cmap='gray')\n",
        "plt.show()"
      ],
      "execution_count": null,
      "outputs": [
        {
          "output_type": "display_data",
          "data": {
            "image/png": "[encoded data removed]",
            "text/plain": [
              "<Figure size 432x288 with 1 Axes>"
            ]
          },
          "metadata": {
            "tags": [],
            "needs_background": "light"
          }
        }
      ]
    },
    {
      "cell_type": "code",
      "metadata": {
        "colab": {
          "base_uri": "https://localhost:8080/"
        },
        "id": "rJwbBoVm4huv",
        "outputId": "e326ea9f-0918-4407-d801-ce0517486c1f"
      },
      "source": [
        "import numpy as np\n",
        "np.set_printoptions(linewidth=150)\n",
        "\n",
        "print(X_train[4])"
      ],
      "execution_count": null,
      "outputs": [
        {
          "output_type": "stream",
          "text": [
            "[[  0   0   0   0   0   0   0   0   0   0   0   0   0   0   0   0   0   0   0   0   0   0   0   0   0   0   0   0]\n",
            " [  0   0   0   0   0   0   0   0   0   0   0   0   0   0   0   0   0   0   0   0   0   0   0   0   0   0   0   0]\n",
            " [  0   0   0   0   0   0   0   0   0   0   0   0   0   0   0   0   0   0   0   0   0   0   0   0   0   0   0   0]\n",
            " [  0   0   0   0   0   0   0   0   0   0   0   0   0   0   0   0   0   0   0   0   0   0   0   0   0   0   0   0]\n",
            " [  0   0   0   0   0   0   0   0   0   0   0   0   0   0   0   0   0   0   0   0   0   0   0   0   0   0   0   0]\n",
            " [  0   0   0   0   0   0   0   0   0   0   0   0   0   0   0   0   0   0   0   0   0   0   0   0   0   0   0   0]\n",
            " [  0   0   0   0   0   0   0   0   0   0   0   0   0   0   0   0   0   0   0   0   0   0   0   0   0   0   0   0]\n",
            " [  0   0   0   0   0   0   0   0   0   0   0   0  55 148 210 253 253 113  87 148  55   0   0   0   0   0   0   0]\n",
            " [  0   0   0   0   0   0   0   0   0   0   0  87 232 252 253 189 210 252 252 253 168   0   0   0   0   0   0   0]\n",
            " [  0   0   0   0   0   0   0   0   0   4  57 242 252 190  65   5  12 182 252 253 116   0   0   0   0   0   0   0]\n",
            " [  0   0   0   0   0   0   0   0   0  96 252 252 183  14   0   0  92 252 252 225  21   0   0   0   0   0   0   0]\n",
            " [  0   0   0   0   0   0   0   0 132 253 252 146  14   0   0   0 215 252 252  79   0   0   0   0   0   0   0   0]\n",
            " [  0   0   0   0   0   0   0 126 253 247 176   9   0   0   8  78 245 253 129   0   0   0   0   0   0   0   0   0]\n",
            " [  0   0   0   0   0   0  16 232 252 176   0   0   0  36 201 252 252 169  11   0   0   0   0   0   0   0   0   0]\n",
            " [  0   0   0   0   0   0  22 252 252  30  22 119 197 241 253 252 251  77   0   0   0   0   0   0   0   0   0   0]\n",
            " [  0   0   0   0   0   0  16 231 252 253 252 252 252 226 227 252 231   0   0   0   0   0   0   0   0   0   0   0]\n",
            " [  0   0   0   0   0   0   0  55 235 253 217 138  42  24 192 252 143   0   0   0   0   0   0   0   0   0   0   0]\n",
            " [  0   0   0   0   0   0   0   0   0   0   0   0   0  62 255 253 109   0   0   0   0   0   0   0   0   0   0   0]\n",
            " [  0   0   0   0   0   0   0   0   0   0   0   0   0  71 253 252  21   0   0   0   0   0   0   0   0   0   0   0]\n",
            " [  0   0   0   0   0   0   0   0   0   0   0   0   0   0 253 252  21   0   0   0   0   0   0   0   0   0   0   0]\n",
            " [  0   0   0   0   0   0   0   0   0   0   0   0   0  71 253 252  21   0   0   0   0   0   0   0   0   0   0   0]\n",
            " [  0   0   0   0   0   0   0   0   0   0   0   0   0 106 253 252  21   0   0   0   0   0   0   0   0   0   0   0]\n",
            " [  0   0   0   0   0   0   0   0   0   0   0   0   0  45 255 253  21   0   0   0   0   0   0   0   0   0   0   0]\n",
            " [  0   0   0   0   0   0   0   0   0   0   0   0   0   0 218 252  56   0   0   0   0   0   0   0   0   0   0   0]\n",
            " [  0   0   0   0   0   0   0   0   0   0   0   0   0   0  96 252 189  42   0   0   0   0   0   0   0   0   0   0]\n",
            " [  0   0   0   0   0   0   0   0   0   0   0   0   0   0  14 184 252 170  11   0   0   0   0   0   0   0   0   0]\n",
            " [  0   0   0   0   0   0   0   0   0   0   0   0   0   0   0  14 147 252  42   0   0   0   0   0   0   0   0   0]\n",
            " [  0   0   0   0   0   0   0   0   0   0   0   0   0   0   0   0   0   0   0   0   0   0   0   0   0   0   0   0]]\n"
          ],
          "name": "stdout"
        }
      ]
    },
    {
      "cell_type": "markdown",
      "metadata": {
        "id": "eMfkDojJ1saU"
      },
      "source": [
        "## Ⅱ. Data Preprocessing\n",
        "\n",
        "> ### 1. Input data reshape to 1D array"
      ]
    },
    {
      "cell_type": "code",
      "metadata": {
        "colab": {
          "base_uri": "https://localhost:8080/"
        },
        "id": "V7UKFtTQ4rgW",
        "outputId": "eb20ed48-5ce8-4f2d-ab82-fb06e360f07f"
      },
      "source": [
        "X_train = X_train.reshape((60000, 28*28))\n",
        "X_test = X_test.reshape((10000, 28*28))\n",
        "\n",
        "X_train.shape, X_test.shape"
      ],
      "execution_count": null,
      "outputs": [
        {
          "output_type": "execute_result",
          "data": {
            "text/plain": [
              "((60000, 784), (10000, 784))"
            ]
          },
          "metadata": {
            "tags": []
          },
          "execution_count": 11
        }
      ]
    },
    {
      "cell_type": "markdown",
      "metadata": {
        "id": "9KxcsdzM10nf"
      },
      "source": [
        "> ### 2. Input data Normalization"
      ]
    },
    {
      "cell_type": "code",
      "metadata": {
        "id": "kPe6WuRJ46Ht"
      },
      "source": [
        "X_train = X_train.astype(float) / 255\n",
        "X_test = X_test.astype(float) / 255"
      ],
      "execution_count": null,
      "outputs": []
    },
    {
      "cell_type": "code",
      "metadata": {
        "colab": {
          "base_uri": "https://localhost:8080/"
        },
        "id": "wrf3cyul5Ji8",
        "outputId": "7e62d817-ede5-4193-eaf0-f55ee2293b43"
      },
      "source": [
        "print(X_train[4])"
      ],
      "execution_count": null,
      "outputs": [
        {
          "output_type": "stream",
          "text": [
            "[0.         0.         0.         0.         0.         0.         0.         0.         0.         0.         0.         0.         0.\n",
            " 0.         0.         0.         0.         0.         0.         0.         0.         0.         0.         0.         0.         0.\n",
            " 0.         0.         0.         0.         0.         0.         0.         0.         0.         0.         0.         0.         0.\n",
            " 0.         0.         0.         0.         0.         0.         0.         0.         0.         0.         0.         0.         0.\n",
            " 0.         0.         0.         0.         0.         0.         0.         0.         0.         0.         0.         0.         0.\n",
            " 0.         0.         0.         0.         0.         0.         0.         0.         0.         0.         0.         0.         0.\n",
            " 0.         0.         0.         0.         0.         0.         0.         0.         0.         0.         0.         0.         0.\n",
            " 0.         0.         0.         0.         0.         0.         0.         0.         0.         0.         0.         0.         0.\n",
            " 0.         0.         0.         0.         0.         0.         0.         0.         0.         0.         0.         0.         0.\n",
            " 0.         0.         0.         0.         0.         0.         0.         0.         0.         0.         0.         0.         0.\n",
            " 0.         0.         0.         0.         0.         0.         0.         0.         0.         0.         0.         0.         0.\n",
            " 0.         0.         0.         0.         0.         0.         0.         0.         0.         0.         0.         0.         0.\n",
            " 0.         0.         0.         0.         0.         0.         0.         0.         0.         0.         0.         0.         0.\n",
            " 0.         0.         0.         0.         0.         0.         0.         0.         0.         0.         0.         0.         0.\n",
            " 0.         0.         0.         0.         0.         0.         0.         0.         0.         0.         0.         0.         0.\n",
            " 0.         0.         0.         0.         0.         0.         0.         0.         0.         0.         0.         0.         0.\n",
            " 0.21568627 0.58039216 0.82352941 0.99215686 0.99215686 0.44313725 0.34117647 0.58039216 0.21568627 0.         0.         0.         0.\n",
            " 0.         0.         0.         0.         0.         0.         0.         0.         0.         0.         0.         0.         0.\n",
            " 0.         0.34117647 0.90980392 0.98823529 0.99215686 0.74117647 0.82352941 0.98823529 0.98823529 0.99215686 0.65882353 0.         0.\n",
            " 0.         0.         0.         0.         0.         0.         0.         0.         0.         0.         0.         0.         0.\n",
            " 0.         0.01568627 0.22352941 0.94901961 0.98823529 0.74509804 0.25490196 0.01960784 0.04705882 0.71372549 0.98823529 0.99215686 0.45490196\n",
            " 0.         0.         0.         0.         0.         0.         0.         0.         0.         0.         0.         0.         0.\n",
            " 0.         0.         0.         0.37647059 0.98823529 0.98823529 0.71764706 0.05490196 0.         0.         0.36078431 0.98823529 0.98823529\n",
            " 0.88235294 0.08235294 0.         0.         0.         0.         0.         0.         0.         0.         0.         0.         0.\n",
            " 0.         0.         0.         0.         0.51764706 0.99215686 0.98823529 0.57254902 0.05490196 0.         0.         0.         0.84313725\n",
            " 0.98823529 0.98823529 0.30980392 0.         0.         0.         0.         0.         0.         0.         0.         0.         0.\n",
            " 0.         0.         0.         0.         0.         0.49411765 0.99215686 0.96862745 0.69019608 0.03529412 0.         0.         0.03137255\n",
            " 0.30588235 0.96078431 0.99215686 0.50588235 0.         0.         0.         0.         0.         0.         0.         0.         0.\n",
            " 0.         0.         0.         0.         0.         0.         0.0627451  0.90980392 0.98823529 0.69019608 0.         0.         0.\n",
            " 0.14117647 0.78823529 0.98823529 0.98823529 0.6627451  0.04313725 0.         0.         0.         0.         0.         0.         0.\n",
            " 0.         0.         0.         0.         0.         0.         0.         0.         0.08627451 0.98823529 0.98823529 0.11764706 0.08627451\n",
            " 0.46666667 0.77254902 0.94509804 0.99215686 0.98823529 0.98431373 0.30196078 0.         0.         0.         0.         0.         0.\n",
            " 0.         0.         0.         0.         0.         0.         0.         0.         0.         0.         0.0627451  0.90588235 0.98823529\n",
            " 0.99215686 0.98823529 0.98823529 0.98823529 0.88627451 0.89019608 0.98823529 0.90588235 0.         0.         0.         0.         0.\n",
            " 0.         0.         0.         0.         0.         0.         0.         0.         0.         0.         0.         0.         0.\n",
            " 0.21568627 0.92156863 0.99215686 0.85098039 0.54117647 0.16470588 0.09411765 0.75294118 0.98823529 0.56078431 0.         0.         0.\n",
            " 0.         0.         0.         0.         0.         0.         0.         0.         0.         0.         0.         0.         0.\n",
            " 0.         0.         0.         0.         0.         0.         0.         0.         0.24313725 1.         0.99215686 0.42745098 0.\n",
            " 0.         0.         0.         0.         0.         0.         0.         0.         0.         0.         0.         0.         0.\n",
            " 0.         0.         0.         0.         0.         0.         0.         0.         0.         0.         0.27843137 0.99215686 0.98823529\n",
            " 0.08235294 0.         0.         0.         0.         0.         0.         0.         0.         0.         0.         0.         0.\n",
            " 0.         0.         0.         0.         0.         0.         0.         0.         0.         0.         0.         0.         0.\n",
            " 0.99215686 0.98823529 0.08235294 0.         0.         0.         0.         0.         0.         0.         0.         0.         0.\n",
            " 0.         0.         0.         0.         0.         0.         0.         0.         0.         0.         0.         0.         0.\n",
            " 0.         0.27843137 0.99215686 0.98823529 0.08235294 0.         0.         0.         0.         0.         0.         0.         0.\n",
            " 0.         0.         0.         0.         0.         0.         0.         0.         0.         0.         0.         0.         0.\n",
            " 0.         0.         0.         0.41568627 0.99215686 0.98823529 0.08235294 0.         0.         0.         0.         0.         0.\n",
            " 0.         0.         0.         0.         0.         0.         0.         0.         0.         0.         0.         0.         0.\n",
            " 0.         0.         0.         0.         0.         0.17647059 1.         0.99215686 0.08235294 0.         0.         0.         0.\n",
            " 0.         0.         0.         0.         0.         0.         0.         0.         0.         0.         0.         0.         0.\n",
            " 0.         0.         0.         0.         0.         0.         0.         0.         0.85490196 0.98823529 0.21960784 0.         0.\n",
            " 0.         0.         0.         0.         0.         0.         0.         0.         0.         0.         0.         0.         0.\n",
            " 0.         0.         0.         0.         0.         0.         0.         0.         0.         0.         0.37647059 0.98823529 0.74117647\n",
            " 0.16470588 0.         0.         0.         0.         0.         0.         0.         0.         0.         0.         0.         0.\n",
            " 0.         0.         0.         0.         0.         0.         0.         0.         0.         0.         0.         0.         0.05490196\n",
            " 0.72156863 0.98823529 0.66666667 0.04313725 0.         0.         0.         0.         0.         0.         0.         0.         0.\n",
            " 0.         0.         0.         0.         0.         0.         0.         0.         0.         0.         0.         0.         0.\n",
            " 0.         0.         0.05490196 0.57647059 0.98823529 0.16470588 0.         0.         0.         0.         0.         0.         0.\n",
            " 0.         0.         0.         0.         0.         0.         0.         0.         0.         0.         0.         0.         0.\n",
            " 0.         0.         0.         0.         0.         0.         0.         0.         0.         0.         0.         0.         0.\n",
            " 0.         0.         0.         0.        ]\n"
          ],
          "name": "stdout"
        }
      ]
    },
    {
      "cell_type": "markdown",
      "metadata": {
        "id": "OSdiffRw198N"
      },
      "source": [
        "> ### 3. Label data One Hot Encoding"
      ]
    },
    {
      "cell_type": "code",
      "metadata": {
        "id": "uemSrgyp5Lev"
      },
      "source": [
        "from keras.utils import to_categorical\n",
        "\n",
        "y_train = to_categorical(y_train)\n",
        "y_test = to_categorical(y_test)"
      ],
      "execution_count": null,
      "outputs": []
    },
    {
      "cell_type": "code",
      "metadata": {
        "colab": {
          "base_uri": "https://localhost:8080/"
        },
        "id": "Ywq-83QN5eQH",
        "outputId": "133f8756-9526-45ef-fab7-9bbe3fb2d284"
      },
      "source": [
        "print(y_train[:5])"
      ],
      "execution_count": null,
      "outputs": [
        {
          "output_type": "stream",
          "text": [
            "[[0. 0. 0. 0. 0. 1. 0. 0. 0. 0.]\n",
            " [1. 0. 0. 0. 0. 0. 0. 0. 0. 0.]\n",
            " [0. 0. 0. 0. 1. 0. 0. 0. 0. 0.]\n",
            " [0. 1. 0. 0. 0. 0. 0. 0. 0. 0.]\n",
            " [0. 0. 0. 0. 0. 0. 0. 0. 0. 1.]]\n"
          ],
          "name": "stdout"
        }
      ]
    },
    {
      "cell_type": "markdown",
      "metadata": {
        "id": "vMsixCBN3F5G"
      },
      "source": [
        "## Ⅲ. Modeling"
      ]
    },
    {
      "cell_type": "markdown",
      "metadata": {
        "id": "DlkOLDUiNGpQ"
      },
      "source": [
        "*  Batch Nomoalization : 활성화 함수의 입력값에 정규화 과정을 수행\n"
      ]
    },
    {
      "cell_type": "code",
      "metadata": {
        "id": "Q28g-g855f8c"
      },
      "source": [
        "from keras import models\n",
        "from keras import layers\n",
        "\n",
        "mnist = models.Sequential()\n",
        "mnist.add(layers.Dense(512, activation='relu', input_shape=(28*28,)))\n",
        "mnist.add(layers.BatchNormalization())\n",
        "mnist.add(layers.Dense(256))\n",
        "mnist.add(layers.BatchNormalization())\n",
        "mnist.add(layers.Activation('relu'))\n",
        "mnist.add(layers.Dense(10, activation='softmax'))"
      ],
      "execution_count": null,
      "outputs": []
    },
    {
      "cell_type": "code",
      "metadata": {
        "colab": {
          "base_uri": "https://localhost:8080/"
        },
        "id": "t0fAeXKt5-9X",
        "outputId": "1d71bbe0-2fe4-4299-f967-72688672fd1a"
      },
      "source": [
        "mnist.summary()"
      ],
      "execution_count": null,
      "outputs": [
        {
          "output_type": "stream",
          "text": [
            "Model: \"sequential\"\n",
            "_________________________________________________________________\n",
            "Layer (type)                 Output Shape              Param #   \n",
            "=================================================================\n",
            "dense (Dense)                (None, 512)               401920    \n",
            "_________________________________________________________________\n",
            "batch_normalization (BatchNo (None, 512)               2048      \n",
            "_________________________________________________________________\n",
            "dense_1 (Dense)              (None, 256)               131328    \n",
            "_________________________________________________________________\n",
            "batch_normalization_1 (Batch (None, 256)               1024      \n",
            "_________________________________________________________________\n",
            "activation (Activation)      (None, 256)               0         \n",
            "_________________________________________________________________\n",
            "dense_2 (Dense)              (None, 10)                2570      \n",
            "=================================================================\n",
            "Total params: 538,890\n",
            "Trainable params: 537,354\n",
            "Non-trainable params: 1,536\n",
            "_________________________________________________________________\n"
          ],
          "name": "stdout"
        }
      ]
    },
    {
      "cell_type": "code",
      "metadata": {
        "id": "wcuh6PgC6Acy"
      },
      "source": [
        "mnist.compile(loss='categorical_crossentropy',\n",
        "              optimizer='rmsprop',\n",
        "              metrics=['accuracy'])"
      ],
      "execution_count": null,
      "outputs": []
    },
    {
      "cell_type": "code",
      "metadata": {
        "colab": {
          "base_uri": "https://localhost:8080/"
        },
        "id": "wSBFkP6X6PYN",
        "outputId": "c3b6aec0-e5e6-4b86-83cb-e6c68a0e921e"
      },
      "source": [
        "%%time\n",
        "\n",
        "Hist_mnist = mnist.fit(X_train, y_train, epochs=100,\n",
        "                       batch_size=128, validation_split=0.2)"
      ],
      "execution_count": null,
      "outputs": [
        {
          "output_type": "stream",
          "text": [
            "Epoch 1/100\n",
            "375/375 [==============================] - 5s 5ms/step - loss: 0.3006 - accuracy: 0.9105 - val_loss: 0.1156 - val_accuracy: 0.9675\n",
            "Epoch 2/100\n",
            "375/375 [==============================] - 1s 4ms/step - loss: 0.0686 - accuracy: 0.9789 - val_loss: 0.0989 - val_accuracy: 0.9718\n",
            "Epoch 3/100\n",
            "375/375 [==============================] - 1s 4ms/step - loss: 0.0444 - accuracy: 0.9861 - val_loss: 0.0870 - val_accuracy: 0.9768\n",
            "Epoch 4/100\n",
            "375/375 [==============================] - 1s 4ms/step - loss: 0.0269 - accuracy: 0.9921 - val_loss: 0.0947 - val_accuracy: 0.9748\n",
            "Epoch 5/100\n",
            "375/375 [==============================] - 1s 4ms/step - loss: 0.0211 - accuracy: 0.9931 - val_loss: 0.0853 - val_accuracy: 0.9793\n",
            "Epoch 6/100\n",
            "375/375 [==============================] - 1s 4ms/step - loss: 0.0141 - accuracy: 0.9955 - val_loss: 0.0933 - val_accuracy: 0.9784\n",
            "Epoch 7/100\n",
            "375/375 [==============================] - 1s 4ms/step - loss: 0.0131 - accuracy: 0.9957 - val_loss: 0.0869 - val_accuracy: 0.9789\n",
            "Epoch 8/100\n",
            "375/375 [==============================] - 1s 4ms/step - loss: 0.0093 - accuracy: 0.9971 - val_loss: 0.1019 - val_accuracy: 0.9791\n",
            "Epoch 9/100\n",
            "375/375 [==============================] - 1s 4ms/step - loss: 0.0098 - accuracy: 0.9969 - val_loss: 0.1219 - val_accuracy: 0.9759\n",
            "Epoch 10/100\n",
            "375/375 [==============================] - 1s 4ms/step - loss: 0.0088 - accuracy: 0.9971 - val_loss: 0.1026 - val_accuracy: 0.9794\n",
            "Epoch 11/100\n",
            "375/375 [==============================] - 1s 4ms/step - loss: 0.0066 - accuracy: 0.9980 - val_loss: 0.1270 - val_accuracy: 0.9736\n",
            "Epoch 12/100\n",
            "375/375 [==============================] - 2s 4ms/step - loss: 0.0082 - accuracy: 0.9975 - val_loss: 0.1103 - val_accuracy: 0.9786\n",
            "Epoch 13/100\n",
            "375/375 [==============================] - 1s 4ms/step - loss: 0.0057 - accuracy: 0.9982 - val_loss: 0.1109 - val_accuracy: 0.9797\n",
            "Epoch 14/100\n",
            "375/375 [==============================] - 1s 4ms/step - loss: 0.0060 - accuracy: 0.9980 - val_loss: 0.1100 - val_accuracy: 0.9812\n",
            "Epoch 15/100\n",
            "375/375 [==============================] - 1s 4ms/step - loss: 0.0057 - accuracy: 0.9982 - val_loss: 0.1101 - val_accuracy: 0.9796\n",
            "Epoch 16/100\n",
            "375/375 [==============================] - 1s 4ms/step - loss: 0.0051 - accuracy: 0.9985 - val_loss: 0.1183 - val_accuracy: 0.9781\n",
            "Epoch 17/100\n",
            "375/375 [==============================] - 1s 4ms/step - loss: 0.0046 - accuracy: 0.9985 - val_loss: 0.1403 - val_accuracy: 0.9786\n",
            "Epoch 18/100\n",
            "375/375 [==============================] - 1s 4ms/step - loss: 0.0049 - accuracy: 0.9984 - val_loss: 0.1100 - val_accuracy: 0.9798\n",
            "Epoch 19/100\n",
            "375/375 [==============================] - 1s 4ms/step - loss: 0.0042 - accuracy: 0.9985 - val_loss: 0.1151 - val_accuracy: 0.9779\n",
            "Epoch 20/100\n",
            "375/375 [==============================] - 1s 4ms/step - loss: 0.0033 - accuracy: 0.9990 - val_loss: 0.1240 - val_accuracy: 0.9793\n",
            "Epoch 21/100\n",
            "375/375 [==============================] - 1s 4ms/step - loss: 0.0041 - accuracy: 0.9988 - val_loss: 0.1259 - val_accuracy: 0.9802\n",
            "Epoch 22/100\n",
            "375/375 [==============================] - 1s 4ms/step - loss: 0.0047 - accuracy: 0.9987 - val_loss: 0.1246 - val_accuracy: 0.9792\n",
            "Epoch 23/100\n",
            "375/375 [==============================] - 1s 4ms/step - loss: 0.0035 - accuracy: 0.9991 - val_loss: 0.1196 - val_accuracy: 0.9813\n",
            "Epoch 24/100\n",
            "375/375 [==============================] - 1s 4ms/step - loss: 0.0024 - accuracy: 0.9993 - val_loss: 0.1220 - val_accuracy: 0.9786\n",
            "Epoch 25/100\n",
            "375/375 [==============================] - 1s 4ms/step - loss: 0.0046 - accuracy: 0.9988 - val_loss: 0.1358 - val_accuracy: 0.9786\n",
            "Epoch 26/100\n",
            "375/375 [==============================] - 1s 4ms/step - loss: 0.0029 - accuracy: 0.9990 - val_loss: 0.1591 - val_accuracy: 0.9714\n",
            "Epoch 27/100\n",
            "375/375 [==============================] - 1s 4ms/step - loss: 0.0036 - accuracy: 0.9989 - val_loss: 0.1371 - val_accuracy: 0.9796\n",
            "Epoch 28/100\n",
            "375/375 [==============================] - 1s 4ms/step - loss: 0.0035 - accuracy: 0.9987 - val_loss: 0.1373 - val_accuracy: 0.9786\n",
            "Epoch 29/100\n",
            "375/375 [==============================] - 1s 4ms/step - loss: 0.0036 - accuracy: 0.9991 - val_loss: 0.1393 - val_accuracy: 0.9796\n",
            "Epoch 30/100\n",
            "375/375 [==============================] - 1s 4ms/step - loss: 0.0036 - accuracy: 0.9990 - val_loss: 0.1659 - val_accuracy: 0.9775\n",
            "Epoch 31/100\n",
            "375/375 [==============================] - 1s 4ms/step - loss: 0.0037 - accuracy: 0.9990 - val_loss: 0.1488 - val_accuracy: 0.9784\n",
            "Epoch 32/100\n",
            "375/375 [==============================] - 1s 4ms/step - loss: 0.0028 - accuracy: 0.9991 - val_loss: 0.1273 - val_accuracy: 0.9790\n",
            "Epoch 33/100\n",
            "375/375 [==============================] - 1s 4ms/step - loss: 0.0018 - accuracy: 0.9995 - val_loss: 0.1496 - val_accuracy: 0.9783\n",
            "Epoch 34/100\n",
            "375/375 [==============================] - 1s 4ms/step - loss: 0.0028 - accuracy: 0.9991 - val_loss: 0.1441 - val_accuracy: 0.9792\n",
            "Epoch 35/100\n",
            "375/375 [==============================] - 1s 4ms/step - loss: 0.0020 - accuracy: 0.9993 - val_loss: 0.1415 - val_accuracy: 0.9803\n",
            "Epoch 36/100\n",
            "375/375 [==============================] - 1s 4ms/step - loss: 0.0024 - accuracy: 0.9992 - val_loss: 0.1350 - val_accuracy: 0.9806\n",
            "Epoch 37/100\n",
            "375/375 [==============================] - 1s 4ms/step - loss: 0.0028 - accuracy: 0.9989 - val_loss: 0.1525 - val_accuracy: 0.9788\n",
            "Epoch 38/100\n",
            "375/375 [==============================] - 1s 4ms/step - loss: 0.0030 - accuracy: 0.9990 - val_loss: 0.1463 - val_accuracy: 0.9798\n",
            "Epoch 39/100\n",
            "375/375 [==============================] - 1s 4ms/step - loss: 0.0029 - accuracy: 0.9990 - val_loss: 0.1471 - val_accuracy: 0.9796\n",
            "Epoch 40/100\n",
            "375/375 [==============================] - 1s 4ms/step - loss: 0.0026 - accuracy: 0.9994 - val_loss: 0.1440 - val_accuracy: 0.9802\n",
            "Epoch 41/100\n",
            "375/375 [==============================] - 1s 4ms/step - loss: 0.0019 - accuracy: 0.9994 - val_loss: 0.1900 - val_accuracy: 0.9763\n",
            "Epoch 42/100\n",
            "375/375 [==============================] - 1s 4ms/step - loss: 0.0024 - accuracy: 0.9992 - val_loss: 0.1214 - val_accuracy: 0.9821\n",
            "Epoch 43/100\n",
            "375/375 [==============================] - 1s 4ms/step - loss: 0.0022 - accuracy: 0.9996 - val_loss: 0.1488 - val_accuracy: 0.9800\n",
            "Epoch 44/100\n",
            "375/375 [==============================] - 1s 4ms/step - loss: 0.0016 - accuracy: 0.9996 - val_loss: 0.1543 - val_accuracy: 0.9791\n",
            "Epoch 45/100\n",
            "375/375 [==============================] - 1s 4ms/step - loss: 0.0014 - accuracy: 0.9996 - val_loss: 0.1921 - val_accuracy: 0.9768\n",
            "Epoch 46/100\n",
            "375/375 [==============================] - 1s 4ms/step - loss: 0.0025 - accuracy: 0.9995 - val_loss: 0.1455 - val_accuracy: 0.9787\n",
            "Epoch 47/100\n",
            "375/375 [==============================] - 1s 4ms/step - loss: 0.0020 - accuracy: 0.9994 - val_loss: 0.1463 - val_accuracy: 0.9803\n",
            "Epoch 48/100\n",
            "375/375 [==============================] - 1s 4ms/step - loss: 0.0028 - accuracy: 0.9993 - val_loss: 0.1673 - val_accuracy: 0.9803\n",
            "Epoch 49/100\n",
            "375/375 [==============================] - 1s 4ms/step - loss: 0.0026 - accuracy: 0.9992 - val_loss: 0.1555 - val_accuracy: 0.9790\n",
            "Epoch 50/100\n",
            "375/375 [==============================] - 1s 4ms/step - loss: 0.0024 - accuracy: 0.9993 - val_loss: 0.1524 - val_accuracy: 0.9806\n",
            "Epoch 51/100\n",
            "375/375 [==============================] - 1s 4ms/step - loss: 0.0018 - accuracy: 0.9995 - val_loss: 0.1653 - val_accuracy: 0.9796\n",
            "Epoch 52/100\n",
            "375/375 [==============================] - 1s 4ms/step - loss: 0.0033 - accuracy: 0.9991 - val_loss: 0.1649 - val_accuracy: 0.9803\n",
            "Epoch 53/100\n",
            "375/375 [==============================] - 1s 4ms/step - loss: 0.0022 - accuracy: 0.9993 - val_loss: 0.1554 - val_accuracy: 0.9803\n",
            "Epoch 54/100\n",
            "375/375 [==============================] - 1s 4ms/step - loss: 0.0020 - accuracy: 0.9993 - val_loss: 0.1456 - val_accuracy: 0.9806\n",
            "Epoch 55/100\n",
            "375/375 [==============================] - 1s 4ms/step - loss: 0.0013 - accuracy: 0.9996 - val_loss: 0.1554 - val_accuracy: 0.9819\n",
            "Epoch 56/100\n",
            "375/375 [==============================] - 1s 4ms/step - loss: 0.0021 - accuracy: 0.9994 - val_loss: 0.1682 - val_accuracy: 0.9771\n",
            "Epoch 57/100\n",
            "375/375 [==============================] - 1s 4ms/step - loss: 0.0017 - accuracy: 0.9996 - val_loss: 0.1446 - val_accuracy: 0.9821\n",
            "Epoch 58/100\n",
            "375/375 [==============================] - 1s 4ms/step - loss: 0.0021 - accuracy: 0.9992 - val_loss: 0.1594 - val_accuracy: 0.9793\n",
            "Epoch 59/100\n",
            "375/375 [==============================] - 1s 4ms/step - loss: 0.0024 - accuracy: 0.9994 - val_loss: 0.1597 - val_accuracy: 0.9795\n",
            "Epoch 60/100\n",
            "375/375 [==============================] - 1s 4ms/step - loss: 0.0025 - accuracy: 0.9993 - val_loss: 0.1634 - val_accuracy: 0.9800\n",
            "Epoch 61/100\n",
            "375/375 [==============================] - 1s 4ms/step - loss: 0.0012 - accuracy: 0.9995 - val_loss: 0.1775 - val_accuracy: 0.9783\n",
            "Epoch 62/100\n",
            "375/375 [==============================] - 1s 4ms/step - loss: 0.0019 - accuracy: 0.9993 - val_loss: 0.1807 - val_accuracy: 0.9797\n",
            "Epoch 63/100\n",
            "375/375 [==============================] - 1s 4ms/step - loss: 0.0017 - accuracy: 0.9994 - val_loss: 0.1802 - val_accuracy: 0.9768\n",
            "Epoch 64/100\n",
            "375/375 [==============================] - 1s 4ms/step - loss: 0.0018 - accuracy: 0.9996 - val_loss: 0.1578 - val_accuracy: 0.9803\n",
            "Epoch 65/100\n",
            "375/375 [==============================] - 1s 4ms/step - loss: 0.0017 - accuracy: 0.9996 - val_loss: 0.1833 - val_accuracy: 0.9783\n",
            "Epoch 66/100\n",
            "375/375 [==============================] - 1s 4ms/step - loss: 0.0016 - accuracy: 0.9995 - val_loss: 0.2462 - val_accuracy: 0.9730\n",
            "Epoch 67/100\n",
            "375/375 [==============================] - 1s 4ms/step - loss: 0.0011 - accuracy: 0.9996 - val_loss: 0.1964 - val_accuracy: 0.9756\n",
            "Epoch 68/100\n",
            "375/375 [==============================] - 1s 4ms/step - loss: 0.0019 - accuracy: 0.9993 - val_loss: 0.1746 - val_accuracy: 0.9781\n",
            "Epoch 69/100\n",
            "375/375 [==============================] - 1s 4ms/step - loss: 6.7195e-04 - accuracy: 0.9998 - val_loss: 0.1684 - val_accuracy: 0.9786\n",
            "Epoch 70/100\n",
            "375/375 [==============================] - 1s 4ms/step - loss: 9.6348e-04 - accuracy: 0.9997 - val_loss: 0.1773 - val_accuracy: 0.9783\n",
            "Epoch 71/100\n",
            "375/375 [==============================] - 1s 4ms/step - loss: 0.0023 - accuracy: 0.9996 - val_loss: 0.2117 - val_accuracy: 0.9765\n",
            "Epoch 72/100\n",
            "375/375 [==============================] - 1s 4ms/step - loss: 0.0015 - accuracy: 0.9995 - val_loss: 0.2062 - val_accuracy: 0.9761\n",
            "Epoch 73/100\n",
            "375/375 [==============================] - 1s 4ms/step - loss: 0.0026 - accuracy: 0.9992 - val_loss: 0.1939 - val_accuracy: 0.9787\n",
            "Epoch 74/100\n",
            "375/375 [==============================] - 1s 4ms/step - loss: 6.6226e-04 - accuracy: 0.9997 - val_loss: 0.1594 - val_accuracy: 0.9804\n",
            "Epoch 75/100\n",
            "375/375 [==============================] - 1s 4ms/step - loss: 0.0013 - accuracy: 0.9995 - val_loss: 0.1746 - val_accuracy: 0.9811\n",
            "Epoch 76/100\n",
            "375/375 [==============================] - 1s 4ms/step - loss: 0.0021 - accuracy: 0.9994 - val_loss: 0.1910 - val_accuracy: 0.9781\n",
            "Epoch 77/100\n",
            "375/375 [==============================] - 1s 4ms/step - loss: 0.0016 - accuracy: 0.9995 - val_loss: 0.2150 - val_accuracy: 0.9785\n",
            "Epoch 78/100\n",
            "375/375 [==============================] - 1s 4ms/step - loss: 0.0016 - accuracy: 0.9995 - val_loss: 0.1640 - val_accuracy: 0.9805\n",
            "Epoch 79/100\n",
            "375/375 [==============================] - 1s 4ms/step - loss: 0.0024 - accuracy: 0.9993 - val_loss: 0.1838 - val_accuracy: 0.9788\n",
            "Epoch 80/100\n",
            "375/375 [==============================] - 1s 4ms/step - loss: 0.0012 - accuracy: 0.9995 - val_loss: 0.1659 - val_accuracy: 0.9796\n",
            "Epoch 81/100\n",
            "375/375 [==============================] - 1s 4ms/step - loss: 7.0464e-04 - accuracy: 0.9997 - val_loss: 0.1722 - val_accuracy: 0.9812\n",
            "Epoch 82/100\n",
            "375/375 [==============================] - 1s 4ms/step - loss: 0.0018 - accuracy: 0.9996 - val_loss: 0.1684 - val_accuracy: 0.9809\n",
            "Epoch 83/100\n",
            "375/375 [==============================] - 1s 4ms/step - loss: 0.0012 - accuracy: 0.9997 - val_loss: 0.1850 - val_accuracy: 0.9797\n",
            "Epoch 84/100\n",
            "375/375 [==============================] - 1s 4ms/step - loss: 0.0025 - accuracy: 0.9992 - val_loss: 0.1963 - val_accuracy: 0.9805\n",
            "Epoch 85/100\n",
            "375/375 [==============================] - 1s 4ms/step - loss: 0.0016 - accuracy: 0.9996 - val_loss: 0.1711 - val_accuracy: 0.9813\n",
            "Epoch 86/100\n",
            "375/375 [==============================] - 1s 4ms/step - loss: 0.0010 - accuracy: 0.9997 - val_loss: 0.1777 - val_accuracy: 0.9781\n",
            "Epoch 87/100\n",
            "375/375 [==============================] - 1s 4ms/step - loss: 0.0016 - accuracy: 0.9995 - val_loss: 0.1887 - val_accuracy: 0.9786\n",
            "Epoch 88/100\n",
            "375/375 [==============================] - 1s 4ms/step - loss: 0.0013 - accuracy: 0.9995 - val_loss: 0.1921 - val_accuracy: 0.9778\n",
            "Epoch 89/100\n",
            "375/375 [==============================] - 1s 4ms/step - loss: 8.9471e-04 - accuracy: 0.9997 - val_loss: 0.1966 - val_accuracy: 0.9786\n",
            "Epoch 90/100\n",
            "375/375 [==============================] - 1s 4ms/step - loss: 0.0010 - accuracy: 0.9998 - val_loss: 0.1839 - val_accuracy: 0.9816\n",
            "Epoch 91/100\n",
            "375/375 [==============================] - 1s 4ms/step - loss: 0.0021 - accuracy: 0.9995 - val_loss: 0.2113 - val_accuracy: 0.9776\n",
            "Epoch 92/100\n",
            "375/375 [==============================] - 1s 4ms/step - loss: 0.0015 - accuracy: 0.9995 - val_loss: 0.1704 - val_accuracy: 0.9791\n",
            "Epoch 93/100\n",
            "375/375 [==============================] - 1s 4ms/step - loss: 0.0014 - accuracy: 0.9996 - val_loss: 0.1863 - val_accuracy: 0.9798\n",
            "Epoch 94/100\n",
            "375/375 [==============================] - 1s 4ms/step - loss: 5.8888e-04 - accuracy: 0.9998 - val_loss: 0.1741 - val_accuracy: 0.9807\n",
            "Epoch 95/100\n",
            "375/375 [==============================] - 1s 4ms/step - loss: 0.0013 - accuracy: 0.9996 - val_loss: 0.2146 - val_accuracy: 0.9777\n",
            "Epoch 96/100\n",
            "375/375 [==============================] - 1s 4ms/step - loss: 0.0024 - accuracy: 0.9993 - val_loss: 0.1749 - val_accuracy: 0.9810\n",
            "Epoch 97/100\n",
            "375/375 [==============================] - 1s 4ms/step - loss: 0.0018 - accuracy: 0.9996 - val_loss: 0.1937 - val_accuracy: 0.9794\n",
            "Epoch 98/100\n",
            "375/375 [==============================] - 1s 4ms/step - loss: 0.0011 - accuracy: 0.9997 - val_loss: 0.1891 - val_accuracy: 0.9798\n",
            "Epoch 99/100\n",
            "375/375 [==============================] - 1s 4ms/step - loss: 0.0021 - accuracy: 0.9994 - val_loss: 0.2232 - val_accuracy: 0.9793\n",
            "Epoch 100/100\n",
            "375/375 [==============================] - 1s 4ms/step - loss: 7.8335e-04 - accuracy: 0.9998 - val_loss: 0.2558 - val_accuracy: 0.9728\n",
            "CPU times: user 2min 32s, sys: 19 s, total: 2min 51s\n",
            "Wall time: 2min 22s\n"
          ],
          "name": "stdout"
        }
      ]
    },
    {
      "cell_type": "markdown",
      "metadata": {
        "id": "dy3qDqXI3jN_"
      },
      "source": [
        "* Loss Visualization"
      ]
    },
    {
      "cell_type": "code",
      "metadata": {
        "colab": {
          "base_uri": "https://localhost:8080/",
          "height": 404
        },
        "id": "pNITtD_K6cXA",
        "outputId": "bf0f9241-ae53-4883-e96f-2cb1f2cfc44f"
      },
      "source": [
        "import matplotlib.pyplot as plt\n",
        "\n",
        "epochs = range(1, len(Hist_mnist.history['loss']) + 1)\n",
        "plt.figure(figsize = (9, 6))\n",
        "plt.plot(epochs, Hist_mnist.history['loss'])\n",
        "plt.plot(epochs, Hist_mnist.history['val_loss'])\n",
        "# plt.ylim(0, 0.25)\n",
        "plt.title('Training & Validation Loss')\n",
        "plt.xlabel('Epochs')\n",
        "plt.ylabel('Loss')\n",
        "plt.legend(['Training Loss', 'Validation Loss'])\n",
        "plt.grid()\n",
        "plt.show()"
      ],
      "execution_count": null,
      "outputs": [
        {
          "output_type": "display_data",
          "data": {
            "image/png": "[encoded data removed]",
            "text/plain": [
              "<Figure size 648x432 with 1 Axes>"
            ]
          },
          "metadata": {
            "tags": [],
            "needs_background": "light"
          }
        }
      ]
    },
    {
      "cell_type": "markdown",
      "metadata": {
        "id": "5US7_jrR3l85"
      },
      "source": [
        "#### Model Loss & Accuracy check"
      ]
    },
    {
      "cell_type": "code",
      "metadata": {
        "id": "wYLE5sxO6wVW",
        "colab": {
          "base_uri": "https://localhost:8080/"
        },
        "outputId": "575da1cb-b5a6-44a8-95a8-583e5a25ecb6"
      },
      "source": [
        "loss, accuracy = mnist.evaluate(X_test, y_test)\n",
        "print('Loss = {:.5f}'.format(loss))\n",
        "print('Accuracy = {:.5f}'.format(accuracy))"
      ],
      "execution_count": null,
      "outputs": [
        {
          "output_type": "stream",
          "text": [
            "313/313 [==============================] - 1s 2ms/step - loss: 0.2168 - accuracy: 0.9761\n",
            "Loss = 0.21679\n",
            "Accuracy = 0.97610\n"
          ],
          "name": "stdout"
        }
      ]
    },
    {
      "cell_type": "markdown",
      "metadata": {
        "id": "pOI5kjPKvar-"
      },
      "source": [
        "## Ⅳ. Overfitting 처리 결합 모델"
      ]
    },
    {
      "cell_type": "markdown",
      "metadata": {
        "id": "ItU8HdZEvgfD"
      },
      "source": [
        "> ### 1. Dropout + Batch_Nomalization"
      ]
    },
    {
      "cell_type": "code",
      "metadata": {
        "id": "NzZjfNtXvfsL"
      },
      "source": [
        "from keras import models\n",
        "from keras import layers\n",
        "\n",
        "mnist = models.Sequential()\n",
        "mnist.add(layers.Dense(512, activation='relu', input_shape=(28*28,)))\n",
        "mnist.add(layers.Dropout(0.4))\n",
        "mnist.add(layers.BatchNormalization())\n",
        "mnist.add(layers.Dense(256))\n",
        "mnist.add(layers.Dropout(0.2))\n",
        "mnist.add(layers.BatchNormalization())\n",
        "mnist.add(layers.Activation('relu'))\n",
        "mnist.add(layers.Dense(10, activation='softmax'))"
      ],
      "execution_count": null,
      "outputs": []
    },
    {
      "cell_type": "code",
      "metadata": {
        "id": "W9El-WThvXFU"
      },
      "source": [
        "mnist.compile(loss='categorical_crossentropy',\n",
        "              optimizer='rmsprop',\n",
        "              metrics=['accuracy'])"
      ],
      "execution_count": null,
      "outputs": []
    },
    {
      "cell_type": "code",
      "metadata": {
        "id": "J5sHjEBjwgC5"
      },
      "source": [
        "%%time\n",
        "\n",
        "Hist_mnist = mnist.fit(X_train, y_train, epochs=100,\n",
        "                       batch_size=128, validation_split=0.2)"
      ],
      "execution_count": null,
      "outputs": []
    },
    {
      "cell_type": "markdown",
      "metadata": {
        "id": "wiRe4p4j36gH"
      },
      "source": [
        "#### Model Loss & Accuracy check"
      ]
    },
    {
      "cell_type": "code",
      "metadata": {
        "colab": {
          "base_uri": "https://localhost:8080/"
        },
        "id": "U0Jdi8K0wjxF",
        "outputId": "8fdfa4b0-4e72-4d66-f408-5a67ebcecfb7"
      },
      "source": [
        "loss, accuracy = mnist.evaluate(X_test, y_test)\n",
        "print('Loss = {:.5f}'.format(loss))\n",
        "print('Accuracy = {:.5f}'.format(accuracy))"
      ],
      "execution_count": null,
      "outputs": [
        {
          "output_type": "stream",
          "text": [
            "313/313 [==============================] - 1s 2ms/step - loss: 0.1030 - accuracy: 0.9843\n",
            "Loss = 0.10299\n",
            "Accuracy = 0.98430\n"
          ],
          "name": "stdout"
        }
      ]
    },
    {
      "cell_type": "code",
      "metadata": {
        "colab": {
          "base_uri": "https://localhost:8080/",
          "height": 404
        },
        "id": "veD5XLLbxnSH",
        "outputId": "d20ceaad-a2b0-4974-bd22-5d1cbc213666"
      },
      "source": [
        "import matplotlib.pyplot as plt\n",
        "\n",
        "epochs = range(1, len(Hist_mnist.history['loss']) + 1)\n",
        "plt.figure(figsize = (9, 6))\n",
        "plt.plot(epochs, Hist_mnist.history['loss'])\n",
        "plt.plot(epochs, Hist_mnist.history['val_loss'])\n",
        "# plt.ylim(0, 0.25)\n",
        "plt.title('Training & Validation Loss')\n",
        "plt.xlabel('Epochs')\n",
        "plt.ylabel('Loss')\n",
        "plt.legend(['Training Loss', 'Validation Loss'])\n",
        "plt.grid()\n",
        "plt.show()"
      ],
      "execution_count": null,
      "outputs": [
        {
          "output_type": "display_data",
          "data": {
            "image/png": "[encoded data removed]",
            "text/plain": [
              "<Figure size 648x432 with 1 Axes>"
            ]
          },
          "metadata": {
            "tags": [],
            "needs_background": "light"
          }
        }
      ]
    },
    {
      "cell_type": "markdown",
      "metadata": {
        "id": "exB74ArzyGGn"
      },
      "source": [
        "> ### 2. Dropout + L2"
      ]
    },
    {
      "cell_type": "code",
      "metadata": {
        "id": "p3Ttr6tixtA8"
      },
      "source": [
        "from keras import models\n",
        "from keras import layers\n",
        "from keras import regularizers\n",
        "\n",
        "mnist = models.Sequential()\n",
        "mnist.add(layers.Dense(512, activation='relu', kernel_regularizer='l2', input_shape=(28*28,)))\n",
        "mnist.add(layers.Dropout(0.4))\n",
        "# mnist.add(layers.BatchNormalization())\n",
        "mnist.add(layers.Dense(256, activation='relu'))\n",
        "mnist.add(layers.Dropout(0.2))\n",
        "# mnist.add(layers.BatchNormalization())\n",
        "# mnist.add(layers.Activation('relu'))\n",
        "mnist.add(layers.Dense(10, activation='softmax'))"
      ],
      "execution_count": null,
      "outputs": []
    },
    {
      "cell_type": "code",
      "metadata": {
        "id": "YoCt_VUzyZXJ"
      },
      "source": [
        "mnist.compile(loss='categorical_crossentropy',\n",
        "              optimizer='rmsprop',\n",
        "              metrics=['accuracy'])"
      ],
      "execution_count": null,
      "outputs": []
    },
    {
      "cell_type": "code",
      "metadata": {
        "id": "7gwUw1e9yh38"
      },
      "source": [
        "%%time\n",
        "\n",
        "Hist_mnist = mnist.fit(X_train, y_train, epochs=100,\n",
        "                       batch_size=128, validation_split=0.2)"
      ],
      "execution_count": null,
      "outputs": []
    },
    {
      "cell_type": "markdown",
      "metadata": {
        "id": "fBXciwj54UqU"
      },
      "source": [
        "#### Model Loss & Accuracy Check"
      ]
    },
    {
      "cell_type": "code",
      "metadata": {
        "colab": {
          "base_uri": "https://localhost:8080/"
        },
        "id": "CTyHPqtcykXy",
        "outputId": "a2909314-5284-4a00-d7b0-8b7304916788"
      },
      "source": [
        "loss, accuracy = mnist.evaluate(X_test, y_test)\n",
        "print('Loss = {:.5f}'.format(loss))\n",
        "print('Accuracy = {:.5f}'.format(accuracy))"
      ],
      "execution_count": null,
      "outputs": [
        {
          "output_type": "stream",
          "text": [
            "313/313 [==============================] - 1s 2ms/step - loss: 0.1913 - accuracy: 0.9716\n",
            "Loss = 0.19132\n",
            "Accuracy = 0.97160\n"
          ],
          "name": "stdout"
        }
      ]
    },
    {
      "cell_type": "markdown",
      "metadata": {
        "id": "gnhRKj8Cze-H"
      },
      "source": [
        "> ### 3. Batch normalization + L2"
      ]
    },
    {
      "cell_type": "code",
      "metadata": {
        "id": "rxaB51pHzYAA"
      },
      "source": [
        "from keras import models\n",
        "from keras import layers\n",
        "from keras import regularizers\n",
        "\n",
        "mnist = models.Sequential()\n",
        "mnist.add(layers.Dense(512, activation='relu', kernel_regularizer='l2', input_shape=(28*28,)))\n",
        "# mnist.add(layers.Dropout(0.4))\n",
        "mnist.add(layers.BatchNormalization())\n",
        "mnist.add(layers.Dense(256))\n",
        "# mnist.add(layers.Dropout(0.2))\n",
        "mnist.add(layers.BatchNormalization())\n",
        "mnist.add(layers.Activation('relu'))\n",
        "mnist.add(layers.Dense(10, activation='softmax'))"
      ],
      "execution_count": null,
      "outputs": []
    },
    {
      "cell_type": "code",
      "metadata": {
        "id": "ItPgkHyIzm8g"
      },
      "source": [
        "mnist.compile(loss='categorical_crossentropy',\n",
        "              optimizer='rmsprop',\n",
        "              metrics=['accuracy'])"
      ],
      "execution_count": null,
      "outputs": []
    },
    {
      "cell_type": "code",
      "metadata": {
        "colab": {
          "base_uri": "https://localhost:8080/"
        },
        "id": "WMyLCEQJzqQA",
        "outputId": "f77083fa-a028-45a4-ad52-88acae9e3108"
      },
      "source": [
        "%%time\n",
        "\n",
        "Hist_mnist = mnist.fit(X_train, y_train, epochs=100,\n",
        "                       batch_size=128, validation_split=0.2)"
      ],
      "execution_count": null,
      "outputs": [
        {
          "output_type": "stream",
          "text": [
            "Epoch 1/100\n",
            "375/375 [==============================] - 2s 4ms/step - loss: 2.1022 - accuracy: 0.9029 - val_loss: 0.3796 - val_accuracy: 0.9465\n",
            "Epoch 2/100\n",
            "375/375 [==============================] - 1s 4ms/step - loss: 0.2713 - accuracy: 0.9585 - val_loss: 0.2814 - val_accuracy: 0.9497\n",
            "Epoch 3/100\n",
            "375/375 [==============================] - 1s 4ms/step - loss: 0.2371 - accuracy: 0.9597 - val_loss: 0.2731 - val_accuracy: 0.9523\n",
            "Epoch 4/100\n",
            "375/375 [==============================] - 1s 3ms/step - loss: 0.2144 - accuracy: 0.9652 - val_loss: 0.2597 - val_accuracy: 0.9524\n",
            "Epoch 5/100\n",
            "375/375 [==============================] - 1s 4ms/step - loss: 0.1989 - accuracy: 0.9685 - val_loss: 0.2526 - val_accuracy: 0.9547\n",
            "Epoch 6/100\n",
            "375/375 [==============================] - 1s 4ms/step - loss: 0.1970 - accuracy: 0.9679 - val_loss: 0.2462 - val_accuracy: 0.9484\n",
            "Epoch 7/100\n",
            "375/375 [==============================] - 1s 3ms/step - loss: 0.1849 - accuracy: 0.9690 - val_loss: 0.2406 - val_accuracy: 0.9561\n",
            "Epoch 8/100\n",
            "375/375 [==============================] - 1s 4ms/step - loss: 0.1836 - accuracy: 0.9704 - val_loss: 0.2535 - val_accuracy: 0.9529\n",
            "Epoch 9/100\n",
            "375/375 [==============================] - 1s 4ms/step - loss: 0.1701 - accuracy: 0.9727 - val_loss: 0.2003 - val_accuracy: 0.9641\n",
            "Epoch 10/100\n",
            "375/375 [==============================] - 1s 4ms/step - loss: 0.1677 - accuracy: 0.9737 - val_loss: 0.2078 - val_accuracy: 0.9617\n",
            "Epoch 11/100\n",
            "375/375 [==============================] - 1s 4ms/step - loss: 0.1675 - accuracy: 0.9730 - val_loss: 0.2070 - val_accuracy: 0.9614\n",
            "Epoch 12/100\n",
            "375/375 [==============================] - 1s 4ms/step - loss: 0.1580 - accuracy: 0.9750 - val_loss: 0.1844 - val_accuracy: 0.9666\n",
            "Epoch 13/100\n",
            "375/375 [==============================] - 1s 4ms/step - loss: 0.1540 - accuracy: 0.9747 - val_loss: 0.2751 - val_accuracy: 0.9428\n",
            "Epoch 14/100\n",
            "375/375 [==============================] - 1s 4ms/step - loss: 0.1495 - accuracy: 0.9755 - val_loss: 0.2057 - val_accuracy: 0.9611\n",
            "Epoch 15/100\n",
            "375/375 [==============================] - 1s 4ms/step - loss: 0.1473 - accuracy: 0.9757 - val_loss: 0.2045 - val_accuracy: 0.9620\n",
            "Epoch 16/100\n",
            "375/375 [==============================] - 1s 4ms/step - loss: 0.1448 - accuracy: 0.9764 - val_loss: 0.2024 - val_accuracy: 0.9643\n",
            "Epoch 17/100\n",
            "375/375 [==============================] - 1s 4ms/step - loss: 0.1454 - accuracy: 0.9765 - val_loss: 0.2355 - val_accuracy: 0.9492\n",
            "Epoch 18/100\n",
            "375/375 [==============================] - 1s 4ms/step - loss: 0.1456 - accuracy: 0.9757 - val_loss: 0.2221 - val_accuracy: 0.9562\n",
            "Epoch 19/100\n",
            "375/375 [==============================] - 1s 4ms/step - loss: 0.1401 - accuracy: 0.9781 - val_loss: 0.3155 - val_accuracy: 0.9353\n",
            "Epoch 20/100\n",
            "375/375 [==============================] - 1s 4ms/step - loss: 0.1396 - accuracy: 0.9768 - val_loss: 0.1754 - val_accuracy: 0.9700\n",
            "Epoch 21/100\n",
            "375/375 [==============================] - 1s 4ms/step - loss: 0.1390 - accuracy: 0.9783 - val_loss: 0.1936 - val_accuracy: 0.9643\n",
            "Epoch 22/100\n",
            "375/375 [==============================] - 1s 3ms/step - loss: 0.1329 - accuracy: 0.9794 - val_loss: 0.1751 - val_accuracy: 0.9688\n",
            "Epoch 23/100\n",
            "375/375 [==============================] - 1s 4ms/step - loss: 0.1314 - accuracy: 0.9794 - val_loss: 0.1871 - val_accuracy: 0.9644\n",
            "Epoch 24/100\n",
            "375/375 [==============================] - 1s 4ms/step - loss: 0.1292 - accuracy: 0.9810 - val_loss: 0.2070 - val_accuracy: 0.9617\n",
            "Epoch 25/100\n",
            "375/375 [==============================] - 1s 4ms/step - loss: 0.1306 - accuracy: 0.9796 - val_loss: 0.1751 - val_accuracy: 0.9686\n",
            "Epoch 26/100\n",
            "375/375 [==============================] - 1s 4ms/step - loss: 0.1274 - accuracy: 0.9789 - val_loss: 0.1829 - val_accuracy: 0.9647\n",
            "Epoch 27/100\n",
            "375/375 [==============================] - 1s 4ms/step - loss: 0.1294 - accuracy: 0.9795 - val_loss: 0.2307 - val_accuracy: 0.9511\n",
            "Epoch 28/100\n",
            "375/375 [==============================] - 1s 4ms/step - loss: 0.1275 - accuracy: 0.9792 - val_loss: 0.1889 - val_accuracy: 0.9635\n",
            "Epoch 29/100\n",
            "375/375 [==============================] - 1s 3ms/step - loss: 0.1292 - accuracy: 0.9791 - val_loss: 0.1958 - val_accuracy: 0.9635\n",
            "Epoch 30/100\n",
            "375/375 [==============================] - 1s 4ms/step - loss: 0.1211 - accuracy: 0.9815 - val_loss: 0.1836 - val_accuracy: 0.9641\n",
            "Epoch 31/100\n",
            "375/375 [==============================] - 1s 4ms/step - loss: 0.1259 - accuracy: 0.9809 - val_loss: 0.2113 - val_accuracy: 0.9576\n",
            "Epoch 32/100\n",
            "375/375 [==============================] - 1s 4ms/step - loss: 0.1198 - accuracy: 0.9818 - val_loss: 0.1934 - val_accuracy: 0.9611\n",
            "Epoch 33/100\n",
            "375/375 [==============================] - 1s 4ms/step - loss: 0.1197 - accuracy: 0.9809 - val_loss: 0.2069 - val_accuracy: 0.9578\n",
            "Epoch 34/100\n",
            "375/375 [==============================] - 1s 4ms/step - loss: 0.1190 - accuracy: 0.9822 - val_loss: 0.2712 - val_accuracy: 0.9460\n",
            "Epoch 35/100\n",
            "375/375 [==============================] - 1s 4ms/step - loss: 0.1214 - accuracy: 0.9814 - val_loss: 0.1809 - val_accuracy: 0.9693\n",
            "Epoch 36/100\n",
            "375/375 [==============================] - 1s 4ms/step - loss: 0.1195 - accuracy: 0.9810 - val_loss: 0.1617 - val_accuracy: 0.9712\n",
            "Epoch 37/100\n",
            "375/375 [==============================] - 1s 4ms/step - loss: 0.1175 - accuracy: 0.9819 - val_loss: 0.2054 - val_accuracy: 0.9593\n",
            "Epoch 38/100\n",
            "375/375 [==============================] - 1s 4ms/step - loss: 0.1177 - accuracy: 0.9819 - val_loss: 0.2083 - val_accuracy: 0.9614\n",
            "Epoch 39/100\n",
            "375/375 [==============================] - 1s 4ms/step - loss: 0.1156 - accuracy: 0.9822 - val_loss: 0.2230 - val_accuracy: 0.9582\n",
            "Epoch 40/100\n",
            "375/375 [==============================] - 1s 4ms/step - loss: 0.1148 - accuracy: 0.9821 - val_loss: 0.1893 - val_accuracy: 0.9634\n",
            "Epoch 41/100\n",
            "375/375 [==============================] - 1s 4ms/step - loss: 0.1109 - accuracy: 0.9842 - val_loss: 0.1927 - val_accuracy: 0.9627\n",
            "Epoch 42/100\n",
            "375/375 [==============================] - 1s 4ms/step - loss: 0.1168 - accuracy: 0.9812 - val_loss: 0.2017 - val_accuracy: 0.9598\n",
            "Epoch 43/100\n",
            "375/375 [==============================] - 1s 4ms/step - loss: 0.1158 - accuracy: 0.9818 - val_loss: 0.1815 - val_accuracy: 0.9679\n",
            "Epoch 44/100\n",
            "375/375 [==============================] - 1s 4ms/step - loss: 0.1138 - accuracy: 0.9830 - val_loss: 0.1634 - val_accuracy: 0.9712\n",
            "Epoch 45/100\n",
            "375/375 [==============================] - 1s 4ms/step - loss: 0.1076 - accuracy: 0.9849 - val_loss: 0.1706 - val_accuracy: 0.9683\n",
            "Epoch 46/100\n",
            "375/375 [==============================] - 1s 4ms/step - loss: 0.1091 - accuracy: 0.9838 - val_loss: 0.2001 - val_accuracy: 0.9605\n",
            "Epoch 47/100\n",
            "375/375 [==============================] - 1s 4ms/step - loss: 0.1099 - accuracy: 0.9833 - val_loss: 0.2033 - val_accuracy: 0.9617\n",
            "Epoch 48/100\n",
            "375/375 [==============================] - 1s 4ms/step - loss: 0.1103 - accuracy: 0.9818 - val_loss: 0.1897 - val_accuracy: 0.9594\n",
            "Epoch 49/100\n",
            "375/375 [==============================] - 1s 4ms/step - loss: 0.1130 - accuracy: 0.9825 - val_loss: 0.1820 - val_accuracy: 0.9635\n",
            "Epoch 50/100\n",
            "375/375 [==============================] - 1s 4ms/step - loss: 0.1090 - accuracy: 0.9830 - val_loss: 0.1955 - val_accuracy: 0.9622\n",
            "Epoch 51/100\n",
            "375/375 [==============================] - 1s 4ms/step - loss: 0.1063 - accuracy: 0.9845 - val_loss: 0.1634 - val_accuracy: 0.9696\n",
            "Epoch 52/100\n",
            "375/375 [==============================] - 1s 4ms/step - loss: 0.1043 - accuracy: 0.9842 - val_loss: 0.1890 - val_accuracy: 0.9663\n",
            "Epoch 53/100\n",
            "375/375 [==============================] - 1s 4ms/step - loss: 0.1077 - accuracy: 0.9833 - val_loss: 0.1623 - val_accuracy: 0.9697\n",
            "Epoch 54/100\n",
            "375/375 [==============================] - 1s 4ms/step - loss: 0.1036 - accuracy: 0.9844 - val_loss: 0.1730 - val_accuracy: 0.9686\n",
            "Epoch 55/100\n",
            "375/375 [==============================] - 1s 4ms/step - loss: 0.1061 - accuracy: 0.9839 - val_loss: 0.1958 - val_accuracy: 0.9572\n",
            "Epoch 56/100\n",
            "375/375 [==============================] - 1s 4ms/step - loss: 0.1038 - accuracy: 0.9851 - val_loss: 0.1830 - val_accuracy: 0.9646\n",
            "Epoch 57/100\n",
            "375/375 [==============================] - 1s 4ms/step - loss: 0.1040 - accuracy: 0.9843 - val_loss: 0.1952 - val_accuracy: 0.9619\n",
            "Epoch 58/100\n",
            "375/375 [==============================] - 1s 4ms/step - loss: 0.1056 - accuracy: 0.9843 - val_loss: 0.1706 - val_accuracy: 0.9695\n",
            "Epoch 59/100\n",
            "375/375 [==============================] - 1s 4ms/step - loss: 0.1041 - accuracy: 0.9845 - val_loss: 0.1592 - val_accuracy: 0.9715\n",
            "Epoch 60/100\n",
            "375/375 [==============================] - 1s 4ms/step - loss: 0.1003 - accuracy: 0.9856 - val_loss: 0.1623 - val_accuracy: 0.9730\n",
            "Epoch 61/100\n",
            "375/375 [==============================] - 1s 4ms/step - loss: 0.1015 - accuracy: 0.9850 - val_loss: 0.1805 - val_accuracy: 0.9690\n",
            "Epoch 62/100\n",
            "375/375 [==============================] - 1s 4ms/step - loss: 0.1042 - accuracy: 0.9847 - val_loss: 0.1802 - val_accuracy: 0.9662\n",
            "Epoch 63/100\n",
            "375/375 [==============================] - 1s 4ms/step - loss: 0.1052 - accuracy: 0.9841 - val_loss: 0.1701 - val_accuracy: 0.9691\n",
            "Epoch 64/100\n",
            "375/375 [==============================] - 1s 4ms/step - loss: 0.1039 - accuracy: 0.9843 - val_loss: 0.1752 - val_accuracy: 0.9678\n",
            "Epoch 65/100\n",
            "375/375 [==============================] - 1s 4ms/step - loss: 0.0973 - accuracy: 0.9860 - val_loss: 0.1680 - val_accuracy: 0.9692\n",
            "Epoch 66/100\n",
            "375/375 [==============================] - 1s 4ms/step - loss: 0.0984 - accuracy: 0.9864 - val_loss: 0.1878 - val_accuracy: 0.9682\n",
            "Epoch 67/100\n",
            "375/375 [==============================] - 1s 4ms/step - loss: 0.1024 - accuracy: 0.9845 - val_loss: 0.2086 - val_accuracy: 0.9622\n",
            "Epoch 68/100\n",
            "375/375 [==============================] - 1s 4ms/step - loss: 0.0989 - accuracy: 0.9864 - val_loss: 0.1773 - val_accuracy: 0.9662\n",
            "Epoch 69/100\n",
            "375/375 [==============================] - 1s 4ms/step - loss: 0.0988 - accuracy: 0.9854 - val_loss: 0.1841 - val_accuracy: 0.9674\n",
            "Epoch 70/100\n",
            "375/375 [==============================] - 1s 4ms/step - loss: 0.1006 - accuracy: 0.9847 - val_loss: 0.1739 - val_accuracy: 0.9707\n",
            "Epoch 71/100\n",
            "375/375 [==============================] - 1s 4ms/step - loss: 0.1033 - accuracy: 0.9854 - val_loss: 0.1946 - val_accuracy: 0.9642\n",
            "Epoch 72/100\n",
            "375/375 [==============================] - 1s 4ms/step - loss: 0.0968 - accuracy: 0.9863 - val_loss: 0.2069 - val_accuracy: 0.9619\n",
            "Epoch 73/100\n",
            "375/375 [==============================] - 1s 4ms/step - loss: 0.0992 - accuracy: 0.9849 - val_loss: 0.1860 - val_accuracy: 0.9660\n",
            "Epoch 74/100\n",
            "375/375 [==============================] - 1s 4ms/step - loss: 0.1010 - accuracy: 0.9848 - val_loss: 0.1629 - val_accuracy: 0.9707\n",
            "Epoch 75/100\n",
            "375/375 [==============================] - 1s 4ms/step - loss: 0.0978 - accuracy: 0.9855 - val_loss: 0.1966 - val_accuracy: 0.9610\n",
            "Epoch 76/100\n",
            "375/375 [==============================] - 1s 4ms/step - loss: 0.0957 - accuracy: 0.9864 - val_loss: 0.1855 - val_accuracy: 0.9672\n",
            "Epoch 77/100\n",
            "375/375 [==============================] - 1s 4ms/step - loss: 0.0996 - accuracy: 0.9857 - val_loss: 0.1787 - val_accuracy: 0.9650\n",
            "Epoch 78/100\n",
            "375/375 [==============================] - 1s 4ms/step - loss: 0.1001 - accuracy: 0.9850 - val_loss: 0.2291 - val_accuracy: 0.9560\n",
            "Epoch 79/100\n",
            "375/375 [==============================] - 1s 4ms/step - loss: 0.1004 - accuracy: 0.9854 - val_loss: 0.2082 - val_accuracy: 0.9586\n",
            "Epoch 80/100\n",
            "375/375 [==============================] - 1s 4ms/step - loss: 0.0943 - accuracy: 0.9868 - val_loss: 0.1873 - val_accuracy: 0.9648\n",
            "Epoch 81/100\n",
            "375/375 [==============================] - 1s 4ms/step - loss: 0.0958 - accuracy: 0.9860 - val_loss: 0.2113 - val_accuracy: 0.9638\n",
            "Epoch 82/100\n",
            "375/375 [==============================] - 1s 4ms/step - loss: 0.0971 - accuracy: 0.9865 - val_loss: 0.1920 - val_accuracy: 0.9631\n",
            "Epoch 83/100\n",
            "375/375 [==============================] - 1s 4ms/step - loss: 0.0995 - accuracy: 0.9840 - val_loss: 0.1892 - val_accuracy: 0.9652\n",
            "Epoch 84/100\n",
            "375/375 [==============================] - 1s 4ms/step - loss: 0.0984 - accuracy: 0.9847 - val_loss: 0.1761 - val_accuracy: 0.9689\n",
            "Epoch 85/100\n",
            "375/375 [==============================] - 1s 4ms/step - loss: 0.0997 - accuracy: 0.9858 - val_loss: 0.1732 - val_accuracy: 0.9682\n",
            "Epoch 86/100\n",
            "375/375 [==============================] - 1s 4ms/step - loss: 0.0958 - accuracy: 0.9858 - val_loss: 0.1944 - val_accuracy: 0.9653\n",
            "Epoch 87/100\n",
            "375/375 [==============================] - 1s 4ms/step - loss: 0.0951 - accuracy: 0.9862 - val_loss: 0.1691 - val_accuracy: 0.9709\n",
            "Epoch 88/100\n",
            "375/375 [==============================] - 1s 4ms/step - loss: 0.0953 - accuracy: 0.9867 - val_loss: 0.1814 - val_accuracy: 0.9672\n",
            "Epoch 89/100\n",
            "375/375 [==============================] - 1s 4ms/step - loss: 0.0938 - accuracy: 0.9867 - val_loss: 0.2090 - val_accuracy: 0.9666\n",
            "Epoch 90/100\n",
            "375/375 [==============================] - 1s 4ms/step - loss: 0.0945 - accuracy: 0.9863 - val_loss: 0.1793 - val_accuracy: 0.9669\n",
            "Epoch 91/100\n",
            "375/375 [==============================] - 1s 4ms/step - loss: 0.0952 - accuracy: 0.9862 - val_loss: 0.1864 - val_accuracy: 0.9631\n",
            "Epoch 92/100\n",
            "375/375 [==============================] - 1s 4ms/step - loss: 0.0971 - accuracy: 0.9858 - val_loss: 0.1692 - val_accuracy: 0.9707\n",
            "Epoch 93/100\n",
            "375/375 [==============================] - 1s 4ms/step - loss: 0.0931 - accuracy: 0.9875 - val_loss: 0.1737 - val_accuracy: 0.9680\n",
            "Epoch 94/100\n",
            "375/375 [==============================] - 1s 4ms/step - loss: 0.0923 - accuracy: 0.9865 - val_loss: 0.1761 - val_accuracy: 0.9700\n",
            "Epoch 95/100\n",
            "375/375 [==============================] - 1s 4ms/step - loss: 0.0917 - accuracy: 0.9868 - val_loss: 0.1950 - val_accuracy: 0.9643\n",
            "Epoch 96/100\n",
            "375/375 [==============================] - 1s 4ms/step - loss: 0.0959 - accuracy: 0.9870 - val_loss: 0.1854 - val_accuracy: 0.9679\n",
            "Epoch 97/100\n",
            "375/375 [==============================] - 1s 4ms/step - loss: 0.0933 - accuracy: 0.9868 - val_loss: 0.2037 - val_accuracy: 0.9634\n",
            "Epoch 98/100\n",
            "375/375 [==============================] - 1s 4ms/step - loss: 0.0959 - accuracy: 0.9860 - val_loss: 0.2052 - val_accuracy: 0.9643\n",
            "Epoch 99/100\n",
            "375/375 [==============================] - 1s 4ms/step - loss: 0.0943 - accuracy: 0.9865 - val_loss: 0.1918 - val_accuracy: 0.9672\n",
            "Epoch 100/100\n",
            "375/375 [==============================] - 1s 4ms/step - loss: 0.0906 - accuracy: 0.9869 - val_loss: 0.1678 - val_accuracy: 0.9710\n",
            "CPU times: user 2min 31s, sys: 17.9 s, total: 2min 49s\n",
            "Wall time: 2min 17s\n"
          ],
          "name": "stdout"
        }
      ]
    },
    {
      "cell_type": "markdown",
      "metadata": {
        "id": "sYQbL-ue4IZX"
      },
      "source": [
        "#### Model Loss & Accuracy Check"
      ]
    },
    {
      "cell_type": "code",
      "metadata": {
        "colab": {
          "base_uri": "https://localhost:8080/"
        },
        "id": "z1YSsiAyzsuo",
        "outputId": "0ba26af0-e67b-4084-e193-b0460eee8dee"
      },
      "source": [
        "loss, accuracy = mnist.evaluate(X_test, y_test)\n",
        "print('Loss = {:.5f}'.format(loss))\n",
        "print('Accuracy = {:.5f}'.format(accuracy))"
      ],
      "execution_count": null,
      "outputs": [
        {
          "output_type": "stream",
          "text": [
            "313/313 [==============================] - 1s 2ms/step - loss: 0.1558 - accuracy: 0.9716\n",
            "Loss = 0.15584\n",
            "Accuracy = 0.97160\n"
          ],
          "name": "stdout"
        }
      ]
    },
    {
      "cell_type": "markdown",
      "metadata": {
        "id": "RSorietz4gWh"
      },
      "source": [
        "## Ⅴ. 정리\n",
        "\n",
        "* Batch Nomalization + Dropout Model 성능이 가장 우수함"
      ]
    }
  ]
}