{
  "nbformat": 4,
  "nbformat_minor": 0,
  "metadata": {
    "colab": {
      "name": "Fashion_mnist_송보미_GPU.ipynb",
      "provenance": [],
      "collapsed_sections": [],
      "authorship_tag": "ABX9TyN2Kt6p377zxXaYHTR8PTrN",
      "include_colab_link": true
    },
    "kernelspec": {
      "name": "python3",
      "display_name": "Python 3"
    },
    "language_info": {
      "name": "python"
    },
    "accelerator": "GPU"
  },
  "cells": [
    {
      "cell_type": "markdown",
      "metadata": {
        "id": "view-in-github",
        "colab_type": "text"
      },
      "source": [
        "<a href=\"https://colab.research.google.com/github/bomiiisong/DeepLearning-with-Python/blob/master/DNN/DNN_Modeling_for_Overfitting_fashion_mnist_GPU.ipynb\" target=\"_parent\"><img src=\"https://colab.research.google.com/assets/colab-badge.svg\" alt=\"Open In Colab\"/></a>"
      ]
    },
    {
      "cell_type": "markdown",
      "metadata": {
        "id": "5cHaDptuv7O8"
      },
      "source": [
        "# DNN Modeling with Fashion MNIST Datasets"
      ]
    },
    {
      "cell_type": "code",
      "metadata": {
        "id": "GCjxxM7KM5Sz"
      },
      "source": [
        "import warnings\n",
        "warnings.filterwarnings('ignore')"
      ],
      "execution_count": null,
      "outputs": []
    },
    {
      "cell_type": "markdown",
      "metadata": {
        "id": "nkBigS_lwDO0"
      },
      "source": [
        "> ## Ⅰ. Import Keras & Load Dataset"
      ]
    },
    {
      "cell_type": "markdown",
      "metadata": {
        "id": "v2lLKj8qwUt8"
      },
      "source": [
        "* keras version check"
      ]
    },
    {
      "cell_type": "code",
      "metadata": {
        "colab": {
          "base_uri": "https://localhost:8080/",
          "height": 35
        },
        "id": "fmozye6pNGEA",
        "outputId": "4a2fa6d9-2cf6-43a3-fd00-629c3e0f83fc"
      },
      "source": [
        "import keras\n",
        "keras.__version__"
      ],
      "execution_count": null,
      "outputs": [
        {
          "output_type": "execute_result",
          "data": {
            "application/vnd.google.colaboratory.intrinsic+json": {
              "type": "string"
            },
            "text/plain": [
              "'2.4.3'"
            ]
          },
          "metadata": {
            "tags": []
          },
          "execution_count": 2
        }
      ]
    },
    {
      "cell_type": "markdown",
      "metadata": {
        "id": "dILCgnSzwNtR"
      },
      "source": [
        "* Fashion MNIST data load"
      ]
    },
    {
      "cell_type": "code",
      "metadata": {
        "colab": {
          "base_uri": "https://localhost:8080/"
        },
        "id": "UUmL3Y0dNJaL",
        "outputId": "4af3d9ef-2749-4fa1-ec64-0af7572a0ad2"
      },
      "source": [
        "from keras.datasets import fashion_mnist\n",
        "\n",
        "(X_train, y_train), (X_test, y_test) = fashion_mnist.load_data()"
      ],
      "execution_count": null,
      "outputs": [
        {
          "output_type": "stream",
          "text": [
            "Downloading data from https://storage.googleapis.com/tensorflow/tf-keras-datasets/train-labels-idx1-ubyte.gz\n",
            "32768/29515 [=================================] - 0s 0us/step\n",
            "Downloading data from https://storage.googleapis.com/tensorflow/tf-keras-datasets/train-images-idx3-ubyte.gz\n",
            "26427392/26421880 [==============================] - 0s 0us/step\n",
            "Downloading data from https://storage.googleapis.com/tensorflow/tf-keras-datasets/t10k-labels-idx1-ubyte.gz\n",
            "8192/5148 [===============================================] - 0s 0us/step\n",
            "Downloading data from https://storage.googleapis.com/tensorflow/tf-keras-datasets/t10k-images-idx3-ubyte.gz\n",
            "4423680/4422102 [==============================] - 0s 0us/step\n"
          ],
          "name": "stdout"
        }
      ]
    },
    {
      "cell_type": "markdown",
      "metadata": {
        "id": "SPI4g0ltwe-I"
      },
      "source": [
        "* train data shape check"
      ]
    },
    {
      "cell_type": "code",
      "metadata": {
        "colab": {
          "base_uri": "https://localhost:8080/"
        },
        "id": "NI6LhxEXNUtK",
        "outputId": "8c882881-9699-4166-8219-0c7fbdb1f4c8"
      },
      "source": [
        "print(len(X_train))\n",
        "print(X_train.shape)\n",
        "\n",
        "print(len(y_train))\n",
        "print(y_train[0:5])"
      ],
      "execution_count": null,
      "outputs": [
        {
          "output_type": "stream",
          "text": [
            "60000\n",
            "(60000, 28, 28)\n",
            "60000\n",
            "[9 0 0 3 0]\n"
          ],
          "name": "stdout"
        }
      ]
    },
    {
      "cell_type": "markdown",
      "metadata": {
        "id": "LQCAz5ukwjfm"
      },
      "source": [
        "* test data shape check"
      ]
    },
    {
      "cell_type": "code",
      "metadata": {
        "colab": {
          "base_uri": "https://localhost:8080/"
        },
        "id": "bTm1_izjNX52",
        "outputId": "ed3e4e3a-aab6-4ad0-fc06-256882ea8c5a"
      },
      "source": [
        "print(len(X_test))\n",
        "print(X_test.shape)\n",
        "\n",
        "print(len(y_test))\n",
        "print(y_test[0:5])"
      ],
      "execution_count": null,
      "outputs": [
        {
          "output_type": "stream",
          "text": [
            "10000\n",
            "(10000, 28, 28)\n",
            "10000\n",
            "[9 2 1 1 6]\n"
          ],
          "name": "stdout"
        }
      ]
    },
    {
      "cell_type": "markdown",
      "metadata": {
        "id": "McxPUEWfwti-"
      },
      "source": [
        "* data visualization"
      ]
    },
    {
      "cell_type": "code",
      "metadata": {
        "colab": {
          "base_uri": "https://localhost:8080/",
          "height": 265
        },
        "id": "qkJ7pFlpNaRK",
        "outputId": "2e42beb5-079c-46d0-eb40-8873d6771bf8"
      },
      "source": [
        "import matplotlib.pyplot as plt\n",
        "\n",
        "digit = X_train[0]\n",
        "plt.imshow(digit, cmap = 'gray')\n",
        "plt.show()"
      ],
      "execution_count": null,
      "outputs": [
        {
          "output_type": "display_data",
          "data": {
            "image/png": "[encoded data removed]",
            "text/plain": [
              "<Figure size 432x288 with 1 Axes>"
            ]
          },
          "metadata": {
            "tags": [],
            "needs_background": "light"
          }
        }
      ]
    },
    {
      "cell_type": "markdown",
      "metadata": {
        "id": "0EoGoiNzwxwo"
      },
      "source": [
        "* data array check"
      ]
    },
    {
      "cell_type": "code",
      "metadata": {
        "colab": {
          "base_uri": "https://localhost:8080/"
        },
        "id": "3EKFVklkNe3L",
        "outputId": "af4b5989-341c-4f29-bce9-dc4053ba8d0e"
      },
      "source": [
        "import numpy as np\n",
        "np.set_printoptions(linewidth = 150)\n",
        "\n",
        "print(X_train[0])"
      ],
      "execution_count": null,
      "outputs": [
        {
          "output_type": "stream",
          "text": [
            "[[  0   0   0   0   0   0   0   0   0   0   0   0   0   0   0   0   0   0   0   0   0   0   0   0   0   0   0   0]\n",
            " [  0   0   0   0   0   0   0   0   0   0   0   0   0   0   0   0   0   0   0   0   0   0   0   0   0   0   0   0]\n",
            " [  0   0   0   0   0   0   0   0   0   0   0   0   0   0   0   0   0   0   0   0   0   0   0   0   0   0   0   0]\n",
            " [  0   0   0   0   0   0   0   0   0   0   0   0   1   0   0  13  73   0   0   1   4   0   0   0   0   1   1   0]\n",
            " [  0   0   0   0   0   0   0   0   0   0   0   0   3   0  36 136 127  62  54   0   0   0   1   3   4   0   0   3]\n",
            " [  0   0   0   0   0   0   0   0   0   0   0   0   6   0 102 204 176 134 144 123  23   0   0   0   0  12  10   0]\n",
            " [  0   0   0   0   0   0   0   0   0   0   0   0   0   0 155 236 207 178 107 156 161 109  64  23  77 130  72  15]\n",
            " [  0   0   0   0   0   0   0   0   0   0   0   1   0  69 207 223 218 216 216 163 127 121 122 146 141  88 172  66]\n",
            " [  0   0   0   0   0   0   0   0   0   1   1   1   0 200 232 232 233 229 223 223 215 213 164 127 123 196 229   0]\n",
            " [  0   0   0   0   0   0   0   0   0   0   0   0   0 183 225 216 223 228 235 227 224 222 224 221 223 245 173   0]\n",
            " [  0   0   0   0   0   0   0   0   0   0   0   0   0 193 228 218 213 198 180 212 210 211 213 223 220 243 202   0]\n",
            " [  0   0   0   0   0   0   0   0   0   1   3   0  12 219 220 212 218 192 169 227 208 218 224 212 226 197 209  52]\n",
            " [  0   0   0   0   0   0   0   0   0   0   6   0  99 244 222 220 218 203 198 221 215 213 222 220 245 119 167  56]\n",
            " [  0   0   0   0   0   0   0   0   0   4   0   0  55 236 228 230 228 240 232 213 218 223 234 217 217 209  92   0]\n",
            " [  0   0   1   4   6   7   2   0   0   0   0   0 237 226 217 223 222 219 222 221 216 223 229 215 218 255  77   0]\n",
            " [  0   3   0   0   0   0   0   0   0  62 145 204 228 207 213 221 218 208 211 218 224 223 219 215 224 244 159   0]\n",
            " [  0   0   0   0  18  44  82 107 189 228 220 222 217 226 200 205 211 230 224 234 176 188 250 248 233 238 215   0]\n",
            " [  0  57 187 208 224 221 224 208 204 214 208 209 200 159 245 193 206 223 255 255 221 234 221 211 220 232 246   0]\n",
            " [  3 202 228 224 221 211 211 214 205 205 205 220 240  80 150 255 229 221 188 154 191 210 204 209 222 228 225   0]\n",
            " [ 98 233 198 210 222 229 229 234 249 220 194 215 217 241  65  73 106 117 168 219 221 215 217 223 223 224 229  29]\n",
            " [ 75 204 212 204 193 205 211 225 216 185 197 206 198 213 240 195 227 245 239 223 218 212 209 222 220 221 230  67]\n",
            " [ 48 203 183 194 213 197 185 190 194 192 202 214 219 221 220 236 225 216 199 206 186 181 177 172 181 205 206 115]\n",
            " [  0 122 219 193 179 171 183 196 204 210 213 207 211 210 200 196 194 191 195 191 198 192 176 156 167 177 210  92]\n",
            " [  0   0  74 189 212 191 175 172 175 181 185 188 189 188 193 198 204 209 210 210 211 188 188 194 192 216 170   0]\n",
            " [  2   0   0   0  66 200 222 237 239 242 246 243 244 221 220 193 191 179 182 182 181 176 166 168  99  58   0   0]\n",
            " [  0   0   0   0   0   0   0  40  61  44  72  41  35   0   0   0   0   0   0   0   0   0   0   0   0   0   0   0]\n",
            " [  0   0   0   0   0   0   0   0   0   0   0   0   0   0   0   0   0   0   0   0   0   0   0   0   0   0   0   0]\n",
            " [  0   0   0   0   0   0   0   0   0   0   0   0   0   0   0   0   0   0   0   0   0   0   0   0   0   0   0   0]]\n"
          ],
          "name": "stdout"
        }
      ]
    },
    {
      "cell_type": "markdown",
      "metadata": {
        "id": "HY9G-VQoNvz5"
      },
      "source": [
        "## Ⅱ. Data Preprocessing"
      ]
    },
    {
      "cell_type": "markdown",
      "metadata": {
        "id": "V2mrXw8Ow7g4"
      },
      "source": [
        " > ### 1. input data reshape"
      ]
    },
    {
      "cell_type": "markdown",
      "metadata": {
        "id": "laOj8yx2w_Fs"
      },
      "source": [
        "* reshape to 1D array"
      ]
    },
    {
      "cell_type": "code",
      "metadata": {
        "colab": {
          "base_uri": "https://localhost:8080/"
        },
        "id": "I8PSbxS6NhiL",
        "outputId": "0c5e8ece-7e89-4a68-aaa5-ee8cae3d1da0"
      },
      "source": [
        "X_train = X_train.reshape((60000, 28*28))\n",
        "X_test = X_test.reshape((10000, 28*28))\n",
        "\n",
        "X_train.shape, X_test.shape"
      ],
      "execution_count": null,
      "outputs": [
        {
          "output_type": "execute_result",
          "data": {
            "text/plain": [
              "((60000, 784), (10000, 784))"
            ]
          },
          "metadata": {
            "tags": []
          },
          "execution_count": 8
        }
      ]
    },
    {
      "cell_type": "markdown",
      "metadata": {
        "id": "LX-L9fKtOBGI"
      },
      "source": [
        "> ### 2. input data Normalization"
      ]
    },
    {
      "cell_type": "code",
      "metadata": {
        "id": "8jw6jRFEN8cY"
      },
      "source": [
        "X_train = X_train.astype(float) / 255\n",
        "X_test = X_test.astype(float) / 255"
      ],
      "execution_count": null,
      "outputs": []
    },
    {
      "cell_type": "code",
      "metadata": {
        "colab": {
          "base_uri": "https://localhost:8080/"
        },
        "id": "IeHYV9dxOLGo",
        "outputId": "3accc435-2d3b-42b1-f099-802d0fe63a9b"
      },
      "source": [
        "print(X_train[0])"
      ],
      "execution_count": null,
      "outputs": [
        {
          "output_type": "stream",
          "text": [
            "[0.         0.         0.         0.         0.         0.         0.         0.         0.         0.         0.         0.         0.\n",
            " 0.         0.         0.         0.         0.         0.         0.         0.         0.         0.         0.         0.         0.\n",
            " 0.         0.         0.         0.         0.         0.         0.         0.         0.         0.         0.         0.         0.\n",
            " 0.         0.         0.         0.         0.         0.         0.         0.         0.         0.         0.         0.         0.\n",
            " 0.         0.         0.         0.         0.         0.         0.         0.         0.         0.         0.         0.         0.\n",
            " 0.         0.         0.         0.         0.         0.         0.         0.         0.         0.         0.         0.         0.\n",
            " 0.         0.         0.         0.         0.         0.         0.         0.         0.         0.         0.         0.         0.\n",
            " 0.         0.         0.         0.         0.         0.00392157 0.         0.         0.05098039 0.28627451 0.         0.         0.00392157\n",
            " 0.01568627 0.         0.         0.         0.         0.00392157 0.00392157 0.         0.         0.         0.         0.         0.\n",
            " 0.         0.         0.         0.         0.         0.         0.         0.01176471 0.         0.14117647 0.53333333 0.49803922 0.24313725\n",
            " 0.21176471 0.         0.         0.         0.00392157 0.01176471 0.01568627 0.         0.         0.01176471 0.         0.         0.\n",
            " 0.         0.         0.         0.         0.         0.         0.         0.         0.         0.02352941 0.         0.4        0.8\n",
            " 0.69019608 0.5254902  0.56470588 0.48235294 0.09019608 0.         0.         0.         0.         0.04705882 0.03921569 0.         0.\n",
            " 0.         0.         0.         0.         0.         0.         0.         0.         0.         0.         0.         0.         0.\n",
            " 0.60784314 0.9254902  0.81176471 0.69803922 0.41960784 0.61176471 0.63137255 0.42745098 0.25098039 0.09019608 0.30196078 0.50980392 0.28235294\n",
            " 0.05882353 0.         0.         0.         0.         0.         0.         0.         0.         0.         0.         0.         0.00392157\n",
            " 0.         0.27058824 0.81176471 0.8745098  0.85490196 0.84705882 0.84705882 0.63921569 0.49803922 0.4745098  0.47843137 0.57254902 0.55294118\n",
            " 0.34509804 0.6745098  0.25882353 0.         0.         0.         0.         0.         0.         0.         0.         0.         0.00392157\n",
            " 0.00392157 0.00392157 0.         0.78431373 0.90980392 0.90980392 0.91372549 0.89803922 0.8745098  0.8745098  0.84313725 0.83529412 0.64313725\n",
            " 0.49803922 0.48235294 0.76862745 0.89803922 0.         0.         0.         0.         0.         0.         0.         0.         0.\n",
            " 0.         0.         0.         0.         0.         0.71764706 0.88235294 0.84705882 0.8745098  0.89411765 0.92156863 0.89019608 0.87843137\n",
            " 0.87058824 0.87843137 0.86666667 0.8745098  0.96078431 0.67843137 0.         0.         0.         0.         0.         0.         0.\n",
            " 0.         0.         0.         0.         0.         0.         0.         0.75686275 0.89411765 0.85490196 0.83529412 0.77647059 0.70588235\n",
            " 0.83137255 0.82352941 0.82745098 0.83529412 0.8745098  0.8627451  0.95294118 0.79215686 0.         0.         0.         0.         0.\n",
            " 0.         0.         0.         0.         0.         0.00392157 0.01176471 0.         0.04705882 0.85882353 0.8627451  0.83137255 0.85490196\n",
            " 0.75294118 0.6627451  0.89019608 0.81568627 0.85490196 0.87843137 0.83137255 0.88627451 0.77254902 0.81960784 0.20392157 0.         0.\n",
            " 0.         0.         0.         0.         0.         0.         0.         0.         0.02352941 0.         0.38823529 0.95686275 0.87058824\n",
            " 0.8627451  0.85490196 0.79607843 0.77647059 0.86666667 0.84313725 0.83529412 0.87058824 0.8627451  0.96078431 0.46666667 0.65490196 0.21960784\n",
            " 0.         0.         0.         0.         0.         0.         0.         0.         0.         0.01568627 0.         0.         0.21568627\n",
            " 0.9254902  0.89411765 0.90196078 0.89411765 0.94117647 0.90980392 0.83529412 0.85490196 0.8745098  0.91764706 0.85098039 0.85098039 0.81960784\n",
            " 0.36078431 0.         0.         0.         0.00392157 0.01568627 0.02352941 0.02745098 0.00784314 0.         0.         0.         0.\n",
            " 0.         0.92941176 0.88627451 0.85098039 0.8745098  0.87058824 0.85882353 0.87058824 0.86666667 0.84705882 0.8745098  0.89803922 0.84313725\n",
            " 0.85490196 1.         0.30196078 0.         0.         0.01176471 0.         0.         0.         0.         0.         0.         0.\n",
            " 0.24313725 0.56862745 0.8        0.89411765 0.81176471 0.83529412 0.86666667 0.85490196 0.81568627 0.82745098 0.85490196 0.87843137 0.8745098\n",
            " 0.85882353 0.84313725 0.87843137 0.95686275 0.62352941 0.         0.         0.         0.         0.         0.07058824 0.17254902 0.32156863\n",
            " 0.41960784 0.74117647 0.89411765 0.8627451  0.87058824 0.85098039 0.88627451 0.78431373 0.80392157 0.82745098 0.90196078 0.87843137 0.91764706\n",
            " 0.69019608 0.7372549  0.98039216 0.97254902 0.91372549 0.93333333 0.84313725 0.         0.         0.22352941 0.73333333 0.81568627 0.87843137\n",
            " 0.86666667 0.87843137 0.81568627 0.8        0.83921569 0.81568627 0.81960784 0.78431373 0.62352941 0.96078431 0.75686275 0.80784314 0.8745098\n",
            " 1.         1.         0.86666667 0.91764706 0.86666667 0.82745098 0.8627451  0.90980392 0.96470588 0.         0.01176471 0.79215686 0.89411765\n",
            " 0.87843137 0.86666667 0.82745098 0.82745098 0.83921569 0.80392157 0.80392157 0.80392157 0.8627451  0.94117647 0.31372549 0.58823529 1.\n",
            " 0.89803922 0.86666667 0.7372549  0.60392157 0.74901961 0.82352941 0.8        0.81960784 0.87058824 0.89411765 0.88235294 0.         0.38431373\n",
            " 0.91372549 0.77647059 0.82352941 0.87058824 0.89803922 0.89803922 0.91764706 0.97647059 0.8627451  0.76078431 0.84313725 0.85098039 0.94509804\n",
            " 0.25490196 0.28627451 0.41568627 0.45882353 0.65882353 0.85882353 0.86666667 0.84313725 0.85098039 0.8745098  0.8745098  0.87843137 0.89803922\n",
            " 0.11372549 0.29411765 0.8        0.83137255 0.8        0.75686275 0.80392157 0.82745098 0.88235294 0.84705882 0.7254902  0.77254902 0.80784314\n",
            " 0.77647059 0.83529412 0.94117647 0.76470588 0.89019608 0.96078431 0.9372549  0.8745098  0.85490196 0.83137255 0.81960784 0.87058824 0.8627451\n",
            " 0.86666667 0.90196078 0.2627451  0.18823529 0.79607843 0.71764706 0.76078431 0.83529412 0.77254902 0.7254902  0.74509804 0.76078431 0.75294118\n",
            " 0.79215686 0.83921569 0.85882353 0.86666667 0.8627451  0.9254902  0.88235294 0.84705882 0.78039216 0.80784314 0.72941176 0.70980392 0.69411765\n",
            " 0.6745098  0.70980392 0.80392157 0.80784314 0.45098039 0.         0.47843137 0.85882353 0.75686275 0.70196078 0.67058824 0.71764706 0.76862745\n",
            " 0.8        0.82352941 0.83529412 0.81176471 0.82745098 0.82352941 0.78431373 0.76862745 0.76078431 0.74901961 0.76470588 0.74901961 0.77647059\n",
            " 0.75294118 0.69019608 0.61176471 0.65490196 0.69411765 0.82352941 0.36078431 0.         0.         0.29019608 0.74117647 0.83137255 0.74901961\n",
            " 0.68627451 0.6745098  0.68627451 0.70980392 0.7254902  0.7372549  0.74117647 0.7372549  0.75686275 0.77647059 0.8        0.81960784 0.82352941\n",
            " 0.82352941 0.82745098 0.7372549  0.7372549  0.76078431 0.75294118 0.84705882 0.66666667 0.         0.00784314 0.         0.         0.\n",
            " 0.25882353 0.78431373 0.87058824 0.92941176 0.9372549  0.94901961 0.96470588 0.95294118 0.95686275 0.86666667 0.8627451  0.75686275 0.74901961\n",
            " 0.70196078 0.71372549 0.71372549 0.70980392 0.69019608 0.65098039 0.65882353 0.38823529 0.22745098 0.         0.         0.         0.\n",
            " 0.         0.         0.         0.         0.         0.15686275 0.23921569 0.17254902 0.28235294 0.16078431 0.1372549  0.         0.\n",
            " 0.         0.         0.         0.         0.         0.         0.         0.         0.         0.         0.         0.         0.\n",
            " 0.         0.         0.         0.         0.         0.         0.         0.         0.         0.         0.         0.         0.\n",
            " 0.         0.         0.         0.         0.         0.         0.         0.         0.         0.         0.         0.         0.\n",
            " 0.         0.         0.         0.         0.         0.         0.         0.         0.         0.         0.         0.         0.\n",
            " 0.         0.         0.         0.         0.         0.         0.         0.         0.         0.         0.         0.         0.\n",
            " 0.         0.         0.         0.        ]\n"
          ],
          "name": "stdout"
        }
      ]
    },
    {
      "cell_type": "markdown",
      "metadata": {
        "id": "x8XungWWOei6"
      },
      "source": [
        "> ### 3. label(y) one-hot encoding"
      ]
    },
    {
      "cell_type": "code",
      "metadata": {
        "id": "g9aBzhNiOQFJ"
      },
      "source": [
        "from keras.utils import to_categorical\n",
        "\n",
        "y_train = to_categorical(y_train)\n",
        "y_test = to_categorical(y_test)"
      ],
      "execution_count": null,
      "outputs": []
    },
    {
      "cell_type": "code",
      "metadata": {
        "colab": {
          "base_uri": "https://localhost:8080/"
        },
        "id": "v0LjUNxYOYfY",
        "outputId": "4cf5b380-de0b-49e3-ed87-2de5990af110"
      },
      "source": [
        "print(y_train[:3])"
      ],
      "execution_count": null,
      "outputs": [
        {
          "output_type": "stream",
          "text": [
            "[[0. 0. 0. 0. 0. 0. 0. 0. 0. 1.]\n",
            " [1. 0. 0. 0. 0. 0. 0. 0. 0. 0.]\n",
            " [1. 0. 0. 0. 0. 0. 0. 0. 0. 0.]]\n"
          ],
          "name": "stdout"
        }
      ]
    },
    {
      "cell_type": "markdown",
      "metadata": {
        "id": "4IE72H1YOxjR"
      },
      "source": [
        "## Ⅲ. Modeling"
      ]
    },
    {
      "cell_type": "markdown",
      "metadata": {
        "id": "XW5944L9Oz2w"
      },
      "source": [
        "> ### 1) Basic DNN"
      ]
    },
    {
      "cell_type": "markdown",
      "metadata": {
        "id": "fI5uM5tTxnP4"
      },
      "source": [
        "* Model Define"
      ]
    },
    {
      "cell_type": "code",
      "metadata": {
        "id": "SU-X10_HOqBf"
      },
      "source": [
        "from keras import models\n",
        "from keras import layers\n",
        "\n",
        "fashion = models.Sequential(name='classifier')\n",
        "fashion.add(layers.Dense(512, activation='relu', input_shape=(28*28,)))\n",
        "fashion.add(layers.Dense(256, activation='relu'))\n",
        "fashion.add(layers.Dense(10, activation='softmax'))"
      ],
      "execution_count": null,
      "outputs": []
    },
    {
      "cell_type": "code",
      "metadata": {
        "colab": {
          "base_uri": "https://localhost:8080/"
        },
        "id": "Q_d-ngmBO-xL",
        "outputId": "fb4f6651-61ed-4c55-fc6a-be2fbe5733e9"
      },
      "source": [
        "fashion.summary()"
      ],
      "execution_count": null,
      "outputs": [
        {
          "output_type": "stream",
          "text": [
            "Model: \"classifier\"\n",
            "_________________________________________________________________\n",
            "Layer (type)                 Output Shape              Param #   \n",
            "=================================================================\n",
            "dense_12 (Dense)             (None, 512)               401920    \n",
            "_________________________________________________________________\n",
            "dense_13 (Dense)             (None, 256)               131328    \n",
            "_________________________________________________________________\n",
            "dense_14 (Dense)             (None, 10)                2570      \n",
            "=================================================================\n",
            "Total params: 535,818\n",
            "Trainable params: 535,818\n",
            "Non-trainable params: 0\n",
            "_________________________________________________________________\n"
          ],
          "name": "stdout"
        }
      ]
    },
    {
      "cell_type": "code",
      "metadata": {
        "id": "DHl7YS6RPN91"
      },
      "source": [
        "fashion.compile(loss='categorical_crossentropy',\n",
        "                optimizer='adam',\n",
        "                metrics=['accuracy'])"
      ],
      "execution_count": null,
      "outputs": []
    },
    {
      "cell_type": "code",
      "metadata": {
        "colab": {
          "base_uri": "https://localhost:8080/"
        },
        "id": "zWkErwObSFa3",
        "outputId": "aaa83d12-d7db-452b-c70d-d8814d35969f"
      },
      "source": [
        "# epochs 100\n",
        "\n",
        "%%time\n",
        "\n",
        "Hist_fashion = fashion.fit(X_train, y_train, epochs=100,\n",
        "                       batch_size=128, validation_split=0.2)"
      ],
      "execution_count": null,
      "outputs": [
        {
          "output_type": "stream",
          "text": [
            "Epoch 1/100\n",
            "375/375 [==============================] - 1s 3ms/step - loss: 0.6733 - accuracy: 0.7618 - val_loss: 0.4085 - val_accuracy: 0.8515\n",
            "Epoch 2/100\n",
            "375/375 [==============================] - 1s 3ms/step - loss: 0.3770 - accuracy: 0.8622 - val_loss: 0.3632 - val_accuracy: 0.8659\n",
            "Epoch 3/100\n",
            "375/375 [==============================] - 1s 3ms/step - loss: 0.3311 - accuracy: 0.8783 - val_loss: 0.3454 - val_accuracy: 0.8757\n",
            "Epoch 4/100\n",
            "375/375 [==============================] - 1s 3ms/step - loss: 0.3028 - accuracy: 0.8881 - val_loss: 0.3357 - val_accuracy: 0.8789\n",
            "Epoch 5/100\n",
            "375/375 [==============================] - 1s 3ms/step - loss: 0.2834 - accuracy: 0.8952 - val_loss: 0.3276 - val_accuracy: 0.8847\n",
            "Epoch 6/100\n",
            "375/375 [==============================] - 1s 3ms/step - loss: 0.2651 - accuracy: 0.9020 - val_loss: 0.3091 - val_accuracy: 0.8907\n",
            "Epoch 7/100\n",
            "375/375 [==============================] - 1s 3ms/step - loss: 0.2513 - accuracy: 0.9045 - val_loss: 0.3261 - val_accuracy: 0.8885\n",
            "Epoch 8/100\n",
            "375/375 [==============================] - 1s 3ms/step - loss: 0.2388 - accuracy: 0.9091 - val_loss: 0.3184 - val_accuracy: 0.8892\n",
            "Epoch 9/100\n",
            "375/375 [==============================] - 1s 3ms/step - loss: 0.2355 - accuracy: 0.9103 - val_loss: 0.3028 - val_accuracy: 0.8901\n",
            "Epoch 10/100\n",
            "375/375 [==============================] - 1s 3ms/step - loss: 0.2265 - accuracy: 0.9135 - val_loss: 0.3063 - val_accuracy: 0.8900\n",
            "Epoch 11/100\n",
            "375/375 [==============================] - 1s 3ms/step - loss: 0.2082 - accuracy: 0.9215 - val_loss: 0.3172 - val_accuracy: 0.8895\n",
            "Epoch 12/100\n",
            "375/375 [==============================] - 1s 3ms/step - loss: 0.2024 - accuracy: 0.9221 - val_loss: 0.3188 - val_accuracy: 0.8917\n",
            "Epoch 13/100\n",
            "375/375 [==============================] - 1s 3ms/step - loss: 0.1910 - accuracy: 0.9281 - val_loss: 0.3167 - val_accuracy: 0.8947\n",
            "Epoch 14/100\n",
            "375/375 [==============================] - 1s 3ms/step - loss: 0.1813 - accuracy: 0.9314 - val_loss: 0.3148 - val_accuracy: 0.8962\n",
            "Epoch 15/100\n",
            "375/375 [==============================] - 1s 3ms/step - loss: 0.1716 - accuracy: 0.9350 - val_loss: 0.3355 - val_accuracy: 0.8885\n",
            "Epoch 16/100\n",
            "375/375 [==============================] - 1s 3ms/step - loss: 0.1742 - accuracy: 0.9340 - val_loss: 0.3350 - val_accuracy: 0.8942\n",
            "Epoch 17/100\n",
            "375/375 [==============================] - 1s 3ms/step - loss: 0.1609 - accuracy: 0.9399 - val_loss: 0.3513 - val_accuracy: 0.8918\n",
            "Epoch 18/100\n",
            "375/375 [==============================] - 1s 3ms/step - loss: 0.1519 - accuracy: 0.9449 - val_loss: 0.3311 - val_accuracy: 0.8975\n",
            "Epoch 19/100\n",
            "375/375 [==============================] - 1s 3ms/step - loss: 0.1507 - accuracy: 0.9439 - val_loss: 0.3554 - val_accuracy: 0.8925\n",
            "Epoch 20/100\n",
            "375/375 [==============================] - 1s 3ms/step - loss: 0.1447 - accuracy: 0.9441 - val_loss: 0.3385 - val_accuracy: 0.8963\n",
            "Epoch 21/100\n",
            "375/375 [==============================] - 1s 3ms/step - loss: 0.1327 - accuracy: 0.9495 - val_loss: 0.3394 - val_accuracy: 0.8960\n",
            "Epoch 22/100\n",
            "375/375 [==============================] - 1s 3ms/step - loss: 0.1376 - accuracy: 0.9478 - val_loss: 0.3920 - val_accuracy: 0.8927\n",
            "Epoch 23/100\n",
            "375/375 [==============================] - 1s 3ms/step - loss: 0.1265 - accuracy: 0.9531 - val_loss: 0.3576 - val_accuracy: 0.8939\n",
            "Epoch 24/100\n",
            "375/375 [==============================] - 1s 3ms/step - loss: 0.1223 - accuracy: 0.9532 - val_loss: 0.3882 - val_accuracy: 0.8932\n",
            "Epoch 25/100\n",
            "375/375 [==============================] - 1s 3ms/step - loss: 0.1188 - accuracy: 0.9550 - val_loss: 0.3819 - val_accuracy: 0.8942\n",
            "Epoch 26/100\n",
            "375/375 [==============================] - 1s 3ms/step - loss: 0.1183 - accuracy: 0.9547 - val_loss: 0.3792 - val_accuracy: 0.9002\n",
            "Epoch 27/100\n",
            "375/375 [==============================] - 1s 3ms/step - loss: 0.1060 - accuracy: 0.9591 - val_loss: 0.4130 - val_accuracy: 0.8928\n",
            "Epoch 28/100\n",
            "375/375 [==============================] - 1s 3ms/step - loss: 0.1027 - accuracy: 0.9598 - val_loss: 0.4077 - val_accuracy: 0.8957\n",
            "Epoch 29/100\n",
            "375/375 [==============================] - 1s 3ms/step - loss: 0.0994 - accuracy: 0.9620 - val_loss: 0.4021 - val_accuracy: 0.8985\n",
            "Epoch 30/100\n",
            "375/375 [==============================] - 1s 3ms/step - loss: 0.0983 - accuracy: 0.9639 - val_loss: 0.4117 - val_accuracy: 0.8942\n",
            "Epoch 31/100\n",
            "375/375 [==============================] - 1s 3ms/step - loss: 0.1023 - accuracy: 0.9604 - val_loss: 0.4317 - val_accuracy: 0.8991\n",
            "Epoch 32/100\n",
            "375/375 [==============================] - 1s 3ms/step - loss: 0.0879 - accuracy: 0.9678 - val_loss: 0.4014 - val_accuracy: 0.8969\n",
            "Epoch 33/100\n",
            "375/375 [==============================] - 1s 3ms/step - loss: 0.0879 - accuracy: 0.9667 - val_loss: 0.4533 - val_accuracy: 0.8948\n",
            "Epoch 34/100\n",
            "375/375 [==============================] - 1s 3ms/step - loss: 0.0856 - accuracy: 0.9673 - val_loss: 0.4664 - val_accuracy: 0.8938\n",
            "Epoch 35/100\n",
            "375/375 [==============================] - 1s 3ms/step - loss: 0.0772 - accuracy: 0.9717 - val_loss: 0.4670 - val_accuracy: 0.8980\n",
            "Epoch 36/100\n",
            "375/375 [==============================] - 1s 3ms/step - loss: 0.0744 - accuracy: 0.9706 - val_loss: 0.4598 - val_accuracy: 0.9005\n",
            "Epoch 37/100\n",
            "375/375 [==============================] - 1s 3ms/step - loss: 0.0839 - accuracy: 0.9678 - val_loss: 0.4752 - val_accuracy: 0.8968\n",
            "Epoch 38/100\n",
            "375/375 [==============================] - 1s 3ms/step - loss: 0.0741 - accuracy: 0.9719 - val_loss: 0.4491 - val_accuracy: 0.8976\n",
            "Epoch 39/100\n",
            "375/375 [==============================] - 1s 3ms/step - loss: 0.0804 - accuracy: 0.9688 - val_loss: 0.4830 - val_accuracy: 0.8971\n",
            "Epoch 40/100\n",
            "375/375 [==============================] - 1s 3ms/step - loss: 0.0738 - accuracy: 0.9724 - val_loss: 0.4801 - val_accuracy: 0.8917\n",
            "Epoch 41/100\n",
            "375/375 [==============================] - 1s 3ms/step - loss: 0.0731 - accuracy: 0.9710 - val_loss: 0.4850 - val_accuracy: 0.8981\n",
            "Epoch 42/100\n",
            "375/375 [==============================] - 1s 3ms/step - loss: 0.0650 - accuracy: 0.9753 - val_loss: 0.5213 - val_accuracy: 0.8912\n",
            "Epoch 43/100\n",
            "375/375 [==============================] - 1s 3ms/step - loss: 0.0680 - accuracy: 0.9735 - val_loss: 0.5192 - val_accuracy: 0.8922\n",
            "Epoch 44/100\n",
            "375/375 [==============================] - 1s 3ms/step - loss: 0.0700 - accuracy: 0.9736 - val_loss: 0.5267 - val_accuracy: 0.8968\n",
            "Epoch 45/100\n",
            "375/375 [==============================] - 1s 3ms/step - loss: 0.0591 - accuracy: 0.9781 - val_loss: 0.4935 - val_accuracy: 0.8959\n",
            "Epoch 46/100\n",
            "375/375 [==============================] - 1s 3ms/step - loss: 0.0573 - accuracy: 0.9785 - val_loss: 0.5011 - val_accuracy: 0.8975\n",
            "Epoch 47/100\n",
            "375/375 [==============================] - 1s 3ms/step - loss: 0.0487 - accuracy: 0.9814 - val_loss: 0.5564 - val_accuracy: 0.8972\n",
            "Epoch 48/100\n",
            "375/375 [==============================] - 1s 3ms/step - loss: 0.0512 - accuracy: 0.9811 - val_loss: 0.5684 - val_accuracy: 0.8947\n",
            "Epoch 49/100\n",
            "375/375 [==============================] - 1s 3ms/step - loss: 0.0560 - accuracy: 0.9787 - val_loss: 0.5729 - val_accuracy: 0.8964\n",
            "Epoch 50/100\n",
            "375/375 [==============================] - 1s 3ms/step - loss: 0.0490 - accuracy: 0.9820 - val_loss: 0.5593 - val_accuracy: 0.8928\n",
            "Epoch 51/100\n",
            "375/375 [==============================] - 1s 3ms/step - loss: 0.0615 - accuracy: 0.9768 - val_loss: 0.5687 - val_accuracy: 0.8953\n",
            "Epoch 52/100\n",
            "375/375 [==============================] - 1s 3ms/step - loss: 0.0508 - accuracy: 0.9807 - val_loss: 0.5304 - val_accuracy: 0.8955\n",
            "Epoch 53/100\n",
            "375/375 [==============================] - 1s 3ms/step - loss: 0.0534 - accuracy: 0.9789 - val_loss: 0.5663 - val_accuracy: 0.8963\n",
            "Epoch 54/100\n",
            "375/375 [==============================] - 1s 3ms/step - loss: 0.0449 - accuracy: 0.9843 - val_loss: 0.5860 - val_accuracy: 0.8977\n",
            "Epoch 55/100\n",
            "375/375 [==============================] - 1s 3ms/step - loss: 0.0464 - accuracy: 0.9833 - val_loss: 0.5675 - val_accuracy: 0.8938\n",
            "Epoch 56/100\n",
            "375/375 [==============================] - 1s 3ms/step - loss: 0.0459 - accuracy: 0.9827 - val_loss: 0.5941 - val_accuracy: 0.9007\n",
            "Epoch 57/100\n",
            "375/375 [==============================] - 1s 3ms/step - loss: 0.0437 - accuracy: 0.9834 - val_loss: 0.6492 - val_accuracy: 0.8928\n",
            "Epoch 58/100\n",
            "375/375 [==============================] - 1s 3ms/step - loss: 0.0435 - accuracy: 0.9847 - val_loss: 0.5852 - val_accuracy: 0.8963\n",
            "Epoch 59/100\n",
            "375/375 [==============================] - 1s 3ms/step - loss: 0.0381 - accuracy: 0.9859 - val_loss: 0.6067 - val_accuracy: 0.8959\n",
            "Epoch 60/100\n",
            "375/375 [==============================] - 1s 3ms/step - loss: 0.0434 - accuracy: 0.9840 - val_loss: 0.6854 - val_accuracy: 0.8881\n",
            "Epoch 61/100\n",
            "375/375 [==============================] - 1s 3ms/step - loss: 0.0463 - accuracy: 0.9834 - val_loss: 0.6225 - val_accuracy: 0.8946\n",
            "Epoch 62/100\n",
            "375/375 [==============================] - 1s 3ms/step - loss: 0.0417 - accuracy: 0.9845 - val_loss: 0.6159 - val_accuracy: 0.8972\n",
            "Epoch 63/100\n",
            "375/375 [==============================] - 1s 3ms/step - loss: 0.0334 - accuracy: 0.9877 - val_loss: 0.6310 - val_accuracy: 0.8952\n",
            "Epoch 64/100\n",
            "375/375 [==============================] - 1s 3ms/step - loss: 0.0426 - accuracy: 0.9843 - val_loss: 0.6333 - val_accuracy: 0.8957\n",
            "Epoch 65/100\n",
            "375/375 [==============================] - 1s 3ms/step - loss: 0.0352 - accuracy: 0.9862 - val_loss: 0.6393 - val_accuracy: 0.8884\n",
            "Epoch 66/100\n",
            "375/375 [==============================] - 1s 3ms/step - loss: 0.0392 - accuracy: 0.9855 - val_loss: 0.6375 - val_accuracy: 0.8981\n",
            "Epoch 67/100\n",
            "375/375 [==============================] - 1s 3ms/step - loss: 0.0424 - accuracy: 0.9843 - val_loss: 0.6519 - val_accuracy: 0.8989\n",
            "Epoch 68/100\n",
            "375/375 [==============================] - 1s 3ms/step - loss: 0.0361 - accuracy: 0.9869 - val_loss: 0.7067 - val_accuracy: 0.8942\n",
            "Epoch 69/100\n",
            "375/375 [==============================] - 1s 3ms/step - loss: 0.0343 - accuracy: 0.9865 - val_loss: 0.6671 - val_accuracy: 0.8943\n",
            "Epoch 70/100\n",
            "375/375 [==============================] - 1s 3ms/step - loss: 0.0272 - accuracy: 0.9902 - val_loss: 0.6363 - val_accuracy: 0.8997\n",
            "Epoch 71/100\n",
            "375/375 [==============================] - 1s 3ms/step - loss: 0.0265 - accuracy: 0.9902 - val_loss: 0.7216 - val_accuracy: 0.8836\n",
            "Epoch 72/100\n",
            "375/375 [==============================] - 1s 3ms/step - loss: 0.0482 - accuracy: 0.9834 - val_loss: 0.6921 - val_accuracy: 0.8934\n",
            "Epoch 73/100\n",
            "375/375 [==============================] - 1s 3ms/step - loss: 0.0349 - accuracy: 0.9871 - val_loss: 0.7190 - val_accuracy: 0.8933\n",
            "Epoch 74/100\n",
            "375/375 [==============================] - 1s 3ms/step - loss: 0.0324 - accuracy: 0.9881 - val_loss: 0.7403 - val_accuracy: 0.8967\n",
            "Epoch 75/100\n",
            "375/375 [==============================] - 1s 3ms/step - loss: 0.0340 - accuracy: 0.9874 - val_loss: 0.6802 - val_accuracy: 0.8957\n",
            "Epoch 76/100\n",
            "375/375 [==============================] - 1s 3ms/step - loss: 0.0302 - accuracy: 0.9886 - val_loss: 0.7188 - val_accuracy: 0.8930\n",
            "Epoch 77/100\n",
            "375/375 [==============================] - 1s 3ms/step - loss: 0.0350 - accuracy: 0.9873 - val_loss: 0.6919 - val_accuracy: 0.8998\n",
            "Epoch 78/100\n",
            "375/375 [==============================] - 1s 3ms/step - loss: 0.0199 - accuracy: 0.9934 - val_loss: 0.7628 - val_accuracy: 0.8934\n",
            "Epoch 79/100\n",
            "375/375 [==============================] - 1s 3ms/step - loss: 0.0280 - accuracy: 0.9898 - val_loss: 0.7284 - val_accuracy: 0.8972\n",
            "Epoch 80/100\n",
            "375/375 [==============================] - 1s 3ms/step - loss: 0.0247 - accuracy: 0.9912 - val_loss: 0.7672 - val_accuracy: 0.8985\n",
            "Epoch 81/100\n",
            "375/375 [==============================] - 1s 3ms/step - loss: 0.0320 - accuracy: 0.9876 - val_loss: 0.7599 - val_accuracy: 0.8945\n",
            "Epoch 82/100\n",
            "375/375 [==============================] - 1s 3ms/step - loss: 0.0336 - accuracy: 0.9886 - val_loss: 0.7293 - val_accuracy: 0.8976\n",
            "Epoch 83/100\n",
            "375/375 [==============================] - 1s 3ms/step - loss: 0.0308 - accuracy: 0.9891 - val_loss: 0.7408 - val_accuracy: 0.9011\n",
            "Epoch 84/100\n",
            "375/375 [==============================] - 1s 3ms/step - loss: 0.0192 - accuracy: 0.9937 - val_loss: 0.7470 - val_accuracy: 0.8978\n",
            "Epoch 85/100\n",
            "375/375 [==============================] - 1s 3ms/step - loss: 0.0179 - accuracy: 0.9938 - val_loss: 0.7720 - val_accuracy: 0.8941\n",
            "Epoch 86/100\n",
            "375/375 [==============================] - 1s 3ms/step - loss: 0.0336 - accuracy: 0.9887 - val_loss: 0.7693 - val_accuracy: 0.8982\n",
            "Epoch 87/100\n",
            "375/375 [==============================] - 1s 3ms/step - loss: 0.0235 - accuracy: 0.9922 - val_loss: 0.7411 - val_accuracy: 0.8958\n",
            "Epoch 88/100\n",
            "375/375 [==============================] - 1s 3ms/step - loss: 0.0182 - accuracy: 0.9937 - val_loss: 0.7671 - val_accuracy: 0.8994\n",
            "Epoch 89/100\n",
            "375/375 [==============================] - 1s 3ms/step - loss: 0.0166 - accuracy: 0.9941 - val_loss: 0.8207 - val_accuracy: 0.8893\n",
            "Epoch 90/100\n",
            "375/375 [==============================] - 1s 3ms/step - loss: 0.0385 - accuracy: 0.9857 - val_loss: 0.7389 - val_accuracy: 0.8953\n",
            "Epoch 91/100\n",
            "375/375 [==============================] - 1s 3ms/step - loss: 0.0258 - accuracy: 0.9907 - val_loss: 0.8481 - val_accuracy: 0.8975\n",
            "Epoch 92/100\n",
            "375/375 [==============================] - 1s 3ms/step - loss: 0.0295 - accuracy: 0.9901 - val_loss: 0.8306 - val_accuracy: 0.8953\n",
            "Epoch 93/100\n",
            "375/375 [==============================] - 1s 3ms/step - loss: 0.0240 - accuracy: 0.9916 - val_loss: 0.8158 - val_accuracy: 0.8913\n",
            "Epoch 94/100\n",
            "375/375 [==============================] - 1s 3ms/step - loss: 0.0371 - accuracy: 0.9877 - val_loss: 0.7522 - val_accuracy: 0.8964\n",
            "Epoch 95/100\n",
            "375/375 [==============================] - 1s 3ms/step - loss: 0.0146 - accuracy: 0.9944 - val_loss: 0.8255 - val_accuracy: 0.8907\n",
            "Epoch 96/100\n",
            "375/375 [==============================] - 1s 3ms/step - loss: 0.0270 - accuracy: 0.9903 - val_loss: 0.9106 - val_accuracy: 0.8952\n",
            "Epoch 97/100\n",
            "375/375 [==============================] - 1s 3ms/step - loss: 0.0286 - accuracy: 0.9897 - val_loss: 0.7979 - val_accuracy: 0.8972\n",
            "Epoch 98/100\n",
            "375/375 [==============================] - 1s 3ms/step - loss: 0.0165 - accuracy: 0.9945 - val_loss: 0.8121 - val_accuracy: 0.8946\n",
            "Epoch 99/100\n",
            "375/375 [==============================] - 1s 3ms/step - loss: 0.0200 - accuracy: 0.9926 - val_loss: 0.8279 - val_accuracy: 0.8925\n",
            "Epoch 100/100\n",
            "375/375 [==============================] - 1s 3ms/step - loss: 0.0356 - accuracy: 0.9874 - val_loss: 0.8037 - val_accuracy: 0.9003\n",
            "CPU times: user 1min 57s, sys: 17.9 s, total: 2min 15s\n",
            "Wall time: 1min 47s\n"
          ],
          "name": "stdout"
        }
      ]
    },
    {
      "cell_type": "markdown",
      "metadata": {
        "id": "8ODAb8VAxumC"
      },
      "source": [
        "#### Base DNN Model Capacity"
      ]
    },
    {
      "cell_type": "code",
      "metadata": {
        "colab": {
          "base_uri": "https://localhost:8080/"
        },
        "id": "Sioe0hdYSltK",
        "outputId": "22f2775a-353b-491f-b9ad-7cacbf6067da"
      },
      "source": [
        "basic2_loss, basic2_accuracy = fashion.evaluate(X_test, y_test)\n",
        "\n",
        "print('Loss = {:.5f}'.format(basic2_loss))\n",
        "print('Accuracy = {:.5f}'.format(basic2_accuracy))"
      ],
      "execution_count": null,
      "outputs": [
        {
          "output_type": "stream",
          "text": [
            "313/313 [==============================] - 1s 2ms/step - loss: 0.9064 - accuracy: 0.8964\n",
            "Loss = 0.90645\n",
            "Accuracy = 0.89640\n"
          ],
          "name": "stdout"
        }
      ]
    },
    {
      "cell_type": "markdown",
      "metadata": {
        "id": "LAtghM8Xxx_W"
      },
      "source": [
        "* Model별 Capacity Save"
      ]
    },
    {
      "cell_type": "code",
      "metadata": {
        "id": "OnRfP7xiXeZS"
      },
      "source": [
        "capacity = []\n",
        "capacity.append(('basic', basic2_loss, basic2_accuracy))"
      ],
      "execution_count": null,
      "outputs": []
    },
    {
      "cell_type": "markdown",
      "metadata": {
        "id": "zjCPhwg7x7gS"
      },
      "source": [
        "* Base DNN Loss Visualization"
      ]
    },
    {
      "cell_type": "code",
      "metadata": {
        "colab": {
          "base_uri": "https://localhost:8080/",
          "height": 404
        },
        "id": "2TfgFEx3St--",
        "outputId": "fbeae6e8-6cf1-4d29-e0dd-b0e2ddeac3a8"
      },
      "source": [
        "import matplotlib.pyplot as plt\n",
        "\n",
        "epochs = range(1, len(Hist_fashion.history['loss']) + 1)\n",
        "plt.figure(figsize = (9, 6))\n",
        "plt.plot(epochs, Hist_fashion.history['loss'])\n",
        "plt.plot(epochs, Hist_fashion.history['val_loss'])\n",
        "# plt.ylim(0, 0.25)\n",
        "plt.title('Training & Validation Loss')\n",
        "plt.xlabel('Epochs')\n",
        "plt.ylabel('Loss')\n",
        "plt.legend(['Training Loss', 'Validation Loss'])\n",
        "plt.grid()\n",
        "plt.show()"
      ],
      "execution_count": null,
      "outputs": [
        {
          "output_type": "display_data",
          "data": {
            "image/png": "[encoded data removed]",
            "text/plain": [
              "<Figure size 648x432 with 1 Axes>"
            ]
          },
          "metadata": {
            "tags": [],
            "needs_background": "light"
          }
        }
      ]
    },
    {
      "cell_type": "markdown",
      "metadata": {
        "id": "zHuZ-pyASFEC"
      },
      "source": [
        "## Ⅳ. Overfitting 처리\n",
        "\n",
        "\n",
        "*   Model_Capacity 조정\n",
        "*   Regularization\n",
        "*   Dropout\n",
        "*   BatchNormalization\n",
        "*   결합 : Dropout+BN"
      ]
    },
    {
      "cell_type": "markdown",
      "metadata": {
        "id": "SIGBHTklUC3L"
      },
      "source": [
        "> ### 1. Model capacity 조정"
      ]
    },
    {
      "cell_type": "markdown",
      "metadata": {
        "id": "nohFjAR3yR3Q"
      },
      "source": [
        "* Dense Layer 줄이기"
      ]
    },
    {
      "cell_type": "code",
      "metadata": {
        "id": "uZ4c1k06UCjK"
      },
      "source": [
        "from keras import models\n",
        "from keras import layers\n",
        "\n",
        "fashion = models.Sequential(name='reduce_capacity')\n",
        "fashion.add(layers.Dense(256, activation='relu', input_shape=(28*28,)))\n",
        "fashion.add(layers.Dense(10, activation='softmax'))"
      ],
      "execution_count": null,
      "outputs": []
    },
    {
      "cell_type": "code",
      "metadata": {
        "id": "rSoMsVjtV-7o"
      },
      "source": [
        "fashion.compile(loss='categorical_crossentropy',\n",
        "                optimizer='adam',\n",
        "                metrics=['accuracy'])"
      ],
      "execution_count": null,
      "outputs": []
    },
    {
      "cell_type": "code",
      "metadata": {
        "colab": {
          "base_uri": "https://localhost:8080/"
        },
        "id": "UR7nEG4oWFaz",
        "outputId": "1264a723-44df-403f-ae79-1354367218cd"
      },
      "source": [
        "%%time\n",
        "\n",
        "Hist_fashion = fashion.fit(X_train, y_train, epochs=100,\n",
        "                       batch_size=128, validation_split=0.2)"
      ],
      "execution_count": null,
      "outputs": [
        {
          "output_type": "stream",
          "text": [
            "Epoch 1/100\n",
            "375/375 [==============================] - 1s 3ms/step - loss: 0.7259 - accuracy: 0.7530 - val_loss: 0.4409 - val_accuracy: 0.8427\n",
            "Epoch 2/100\n",
            "375/375 [==============================] - 1s 3ms/step - loss: 0.4141 - accuracy: 0.8546 - val_loss: 0.4073 - val_accuracy: 0.8584\n",
            "Epoch 3/100\n",
            "375/375 [==============================] - 1s 2ms/step - loss: 0.3692 - accuracy: 0.8692 - val_loss: 0.3848 - val_accuracy: 0.8611\n",
            "Epoch 4/100\n",
            "375/375 [==============================] - 1s 3ms/step - loss: 0.3389 - accuracy: 0.8773 - val_loss: 0.3521 - val_accuracy: 0.8776\n",
            "Epoch 5/100\n",
            "375/375 [==============================] - 1s 3ms/step - loss: 0.3162 - accuracy: 0.8826 - val_loss: 0.3479 - val_accuracy: 0.8750\n",
            "Epoch 6/100\n",
            "375/375 [==============================] - 1s 3ms/step - loss: 0.2991 - accuracy: 0.8918 - val_loss: 0.3256 - val_accuracy: 0.8846\n",
            "Epoch 7/100\n",
            "375/375 [==============================] - 1s 3ms/step - loss: 0.2821 - accuracy: 0.8968 - val_loss: 0.3258 - val_accuracy: 0.8821\n",
            "Epoch 8/100\n",
            "375/375 [==============================] - 1s 3ms/step - loss: 0.2675 - accuracy: 0.9028 - val_loss: 0.3290 - val_accuracy: 0.8836\n",
            "Epoch 9/100\n",
            "375/375 [==============================] - 1s 3ms/step - loss: 0.2553 - accuracy: 0.9081 - val_loss: 0.3238 - val_accuracy: 0.8827\n",
            "Epoch 10/100\n",
            "375/375 [==============================] - 1s 3ms/step - loss: 0.2498 - accuracy: 0.9073 - val_loss: 0.3147 - val_accuracy: 0.8888\n",
            "Epoch 11/100\n",
            "375/375 [==============================] - 1s 3ms/step - loss: 0.2378 - accuracy: 0.9120 - val_loss: 0.3089 - val_accuracy: 0.8908\n",
            "Epoch 12/100\n",
            "375/375 [==============================] - 1s 3ms/step - loss: 0.2277 - accuracy: 0.9167 - val_loss: 0.3194 - val_accuracy: 0.8881\n",
            "Epoch 13/100\n",
            "375/375 [==============================] - 1s 3ms/step - loss: 0.2221 - accuracy: 0.9181 - val_loss: 0.3191 - val_accuracy: 0.8879\n",
            "Epoch 14/100\n",
            "375/375 [==============================] - 1s 3ms/step - loss: 0.2055 - accuracy: 0.9250 - val_loss: 0.3243 - val_accuracy: 0.8837\n",
            "Epoch 15/100\n",
            "375/375 [==============================] - 1s 3ms/step - loss: 0.2088 - accuracy: 0.9230 - val_loss: 0.3238 - val_accuracy: 0.8845\n",
            "Epoch 16/100\n",
            "375/375 [==============================] - 1s 3ms/step - loss: 0.1963 - accuracy: 0.9258 - val_loss: 0.3006 - val_accuracy: 0.8940\n",
            "Epoch 17/100\n",
            "375/375 [==============================] - 1s 3ms/step - loss: 0.1934 - accuracy: 0.9294 - val_loss: 0.3141 - val_accuracy: 0.8901\n",
            "Epoch 18/100\n",
            "375/375 [==============================] - 1s 3ms/step - loss: 0.1894 - accuracy: 0.9313 - val_loss: 0.3333 - val_accuracy: 0.8836\n",
            "Epoch 19/100\n",
            "375/375 [==============================] - 1s 3ms/step - loss: 0.1851 - accuracy: 0.9318 - val_loss: 0.3267 - val_accuracy: 0.8888\n",
            "Epoch 20/100\n",
            "375/375 [==============================] - 1s 2ms/step - loss: 0.1808 - accuracy: 0.9331 - val_loss: 0.3205 - val_accuracy: 0.8925\n",
            "Epoch 21/100\n",
            "375/375 [==============================] - 1s 3ms/step - loss: 0.1699 - accuracy: 0.9392 - val_loss: 0.3108 - val_accuracy: 0.8928\n",
            "Epoch 22/100\n",
            "375/375 [==============================] - 1s 3ms/step - loss: 0.1708 - accuracy: 0.9370 - val_loss: 0.3327 - val_accuracy: 0.8889\n",
            "Epoch 23/100\n",
            "375/375 [==============================] - 1s 3ms/step - loss: 0.1597 - accuracy: 0.9426 - val_loss: 0.3250 - val_accuracy: 0.8897\n",
            "Epoch 24/100\n",
            "375/375 [==============================] - 1s 3ms/step - loss: 0.1562 - accuracy: 0.9422 - val_loss: 0.3267 - val_accuracy: 0.8914\n",
            "Epoch 25/100\n",
            "375/375 [==============================] - 1s 3ms/step - loss: 0.1501 - accuracy: 0.9475 - val_loss: 0.3341 - val_accuracy: 0.8908\n",
            "Epoch 26/100\n",
            "375/375 [==============================] - 1s 3ms/step - loss: 0.1525 - accuracy: 0.9431 - val_loss: 0.3369 - val_accuracy: 0.8882\n",
            "Epoch 27/100\n",
            "375/375 [==============================] - 1s 3ms/step - loss: 0.1437 - accuracy: 0.9460 - val_loss: 0.3339 - val_accuracy: 0.8936\n",
            "Epoch 28/100\n",
            "375/375 [==============================] - 1s 3ms/step - loss: 0.1454 - accuracy: 0.9463 - val_loss: 0.3358 - val_accuracy: 0.8940\n",
            "Epoch 29/100\n",
            "375/375 [==============================] - 1s 3ms/step - loss: 0.1367 - accuracy: 0.9502 - val_loss: 0.3396 - val_accuracy: 0.8892\n",
            "Epoch 30/100\n",
            "375/375 [==============================] - 1s 3ms/step - loss: 0.1296 - accuracy: 0.9537 - val_loss: 0.3517 - val_accuracy: 0.8911\n",
            "Epoch 31/100\n",
            "375/375 [==============================] - 1s 3ms/step - loss: 0.1260 - accuracy: 0.9534 - val_loss: 0.3420 - val_accuracy: 0.8937\n",
            "Epoch 32/100\n",
            "375/375 [==============================] - 1s 3ms/step - loss: 0.1233 - accuracy: 0.9551 - val_loss: 0.3531 - val_accuracy: 0.8918\n",
            "Epoch 33/100\n",
            "375/375 [==============================] - 1s 3ms/step - loss: 0.1190 - accuracy: 0.9563 - val_loss: 0.3461 - val_accuracy: 0.8926\n",
            "Epoch 34/100\n",
            "375/375 [==============================] - 1s 3ms/step - loss: 0.1237 - accuracy: 0.9556 - val_loss: 0.3506 - val_accuracy: 0.8936\n",
            "Epoch 35/100\n",
            "375/375 [==============================] - 1s 3ms/step - loss: 0.1131 - accuracy: 0.9591 - val_loss: 0.3544 - val_accuracy: 0.8944\n",
            "Epoch 36/100\n",
            "375/375 [==============================] - 1s 3ms/step - loss: 0.1133 - accuracy: 0.9592 - val_loss: 0.3556 - val_accuracy: 0.8949\n",
            "Epoch 37/100\n",
            "375/375 [==============================] - 1s 3ms/step - loss: 0.1131 - accuracy: 0.9586 - val_loss: 0.3550 - val_accuracy: 0.8947\n",
            "Epoch 38/100\n",
            "375/375 [==============================] - 1s 3ms/step - loss: 0.1046 - accuracy: 0.9619 - val_loss: 0.3661 - val_accuracy: 0.8942\n",
            "Epoch 39/100\n",
            "375/375 [==============================] - 1s 3ms/step - loss: 0.1020 - accuracy: 0.9640 - val_loss: 0.3857 - val_accuracy: 0.8920\n",
            "Epoch 40/100\n",
            "375/375 [==============================] - 1s 3ms/step - loss: 0.1044 - accuracy: 0.9623 - val_loss: 0.3622 - val_accuracy: 0.8942\n",
            "Epoch 41/100\n",
            "375/375 [==============================] - 1s 3ms/step - loss: 0.1018 - accuracy: 0.9639 - val_loss: 0.3946 - val_accuracy: 0.8901\n",
            "Epoch 42/100\n",
            "375/375 [==============================] - 1s 2ms/step - loss: 0.0916 - accuracy: 0.9662 - val_loss: 0.3848 - val_accuracy: 0.8927\n",
            "Epoch 43/100\n",
            "375/375 [==============================] - 1s 3ms/step - loss: 0.0891 - accuracy: 0.9685 - val_loss: 0.3737 - val_accuracy: 0.8938\n",
            "Epoch 44/100\n",
            "375/375 [==============================] - 1s 3ms/step - loss: 0.0863 - accuracy: 0.9698 - val_loss: 0.3852 - val_accuracy: 0.8965\n",
            "Epoch 45/100\n",
            "375/375 [==============================] - 1s 3ms/step - loss: 0.0869 - accuracy: 0.9676 - val_loss: 0.4025 - val_accuracy: 0.8930\n",
            "Epoch 46/100\n",
            "375/375 [==============================] - 1s 3ms/step - loss: 0.0837 - accuracy: 0.9704 - val_loss: 0.4107 - val_accuracy: 0.8880\n",
            "Epoch 47/100\n",
            "375/375 [==============================] - 1s 3ms/step - loss: 0.0804 - accuracy: 0.9711 - val_loss: 0.3957 - val_accuracy: 0.8959\n",
            "Epoch 48/100\n",
            "375/375 [==============================] - 1s 3ms/step - loss: 0.0813 - accuracy: 0.9716 - val_loss: 0.4123 - val_accuracy: 0.8924\n",
            "Epoch 49/100\n",
            "375/375 [==============================] - 1s 3ms/step - loss: 0.0801 - accuracy: 0.9708 - val_loss: 0.4404 - val_accuracy: 0.8954\n",
            "Epoch 50/100\n",
            "375/375 [==============================] - 1s 3ms/step - loss: 0.0799 - accuracy: 0.9720 - val_loss: 0.4091 - val_accuracy: 0.8950\n",
            "Epoch 51/100\n",
            "375/375 [==============================] - 1s 3ms/step - loss: 0.0760 - accuracy: 0.9734 - val_loss: 0.4234 - val_accuracy: 0.8949\n",
            "Epoch 52/100\n",
            "375/375 [==============================] - 1s 3ms/step - loss: 0.0677 - accuracy: 0.9760 - val_loss: 0.4754 - val_accuracy: 0.8863\n",
            "Epoch 53/100\n",
            "375/375 [==============================] - 1s 3ms/step - loss: 0.0708 - accuracy: 0.9750 - val_loss: 0.4254 - val_accuracy: 0.8928\n",
            "Epoch 54/100\n",
            "375/375 [==============================] - 1s 3ms/step - loss: 0.0726 - accuracy: 0.9739 - val_loss: 0.4345 - val_accuracy: 0.8896\n",
            "Epoch 55/100\n",
            "375/375 [==============================] - 1s 3ms/step - loss: 0.0729 - accuracy: 0.9732 - val_loss: 0.4413 - val_accuracy: 0.8915\n",
            "Epoch 56/100\n",
            "375/375 [==============================] - 1s 3ms/step - loss: 0.0648 - accuracy: 0.9763 - val_loss: 0.4708 - val_accuracy: 0.8930\n",
            "Epoch 57/100\n",
            "375/375 [==============================] - 1s 3ms/step - loss: 0.0677 - accuracy: 0.9760 - val_loss: 0.4553 - val_accuracy: 0.8901\n",
            "Epoch 58/100\n",
            "375/375 [==============================] - 1s 3ms/step - loss: 0.0630 - accuracy: 0.9771 - val_loss: 0.4712 - val_accuracy: 0.8921\n",
            "Epoch 59/100\n",
            "375/375 [==============================] - 1s 3ms/step - loss: 0.0625 - accuracy: 0.9777 - val_loss: 0.4735 - val_accuracy: 0.8898\n",
            "Epoch 60/100\n",
            "375/375 [==============================] - 1s 3ms/step - loss: 0.0547 - accuracy: 0.9821 - val_loss: 0.4601 - val_accuracy: 0.8947\n",
            "Epoch 61/100\n",
            "375/375 [==============================] - 1s 3ms/step - loss: 0.0616 - accuracy: 0.9778 - val_loss: 0.5155 - val_accuracy: 0.8873\n",
            "Epoch 62/100\n",
            "375/375 [==============================] - 1s 3ms/step - loss: 0.0629 - accuracy: 0.9775 - val_loss: 0.4830 - val_accuracy: 0.8926\n",
            "Epoch 63/100\n",
            "375/375 [==============================] - 1s 3ms/step - loss: 0.0576 - accuracy: 0.9804 - val_loss: 0.4944 - val_accuracy: 0.8873\n",
            "Epoch 64/100\n",
            "375/375 [==============================] - 1s 3ms/step - loss: 0.0531 - accuracy: 0.9821 - val_loss: 0.4693 - val_accuracy: 0.8923\n",
            "Epoch 65/100\n",
            "375/375 [==============================] - 1s 3ms/step - loss: 0.0585 - accuracy: 0.9787 - val_loss: 0.5125 - val_accuracy: 0.8899\n",
            "Epoch 66/100\n",
            "375/375 [==============================] - 1s 3ms/step - loss: 0.0557 - accuracy: 0.9801 - val_loss: 0.4760 - val_accuracy: 0.8910\n",
            "Epoch 67/100\n",
            "375/375 [==============================] - 1s 3ms/step - loss: 0.0525 - accuracy: 0.9810 - val_loss: 0.4952 - val_accuracy: 0.8955\n",
            "Epoch 68/100\n",
            "375/375 [==============================] - 1s 3ms/step - loss: 0.0547 - accuracy: 0.9801 - val_loss: 0.4888 - val_accuracy: 0.8966\n",
            "Epoch 69/100\n",
            "375/375 [==============================] - 1s 3ms/step - loss: 0.0470 - accuracy: 0.9842 - val_loss: 0.5098 - val_accuracy: 0.8898\n",
            "Epoch 70/100\n",
            "375/375 [==============================] - 1s 3ms/step - loss: 0.0497 - accuracy: 0.9826 - val_loss: 0.5177 - val_accuracy: 0.8892\n",
            "Epoch 71/100\n",
            "375/375 [==============================] - 1s 3ms/step - loss: 0.0421 - accuracy: 0.9857 - val_loss: 0.5209 - val_accuracy: 0.8921\n",
            "Epoch 72/100\n",
            "375/375 [==============================] - 1s 3ms/step - loss: 0.0467 - accuracy: 0.9828 - val_loss: 0.5362 - val_accuracy: 0.8930\n",
            "Epoch 73/100\n",
            "375/375 [==============================] - 1s 3ms/step - loss: 0.0434 - accuracy: 0.9847 - val_loss: 0.5221 - val_accuracy: 0.8964\n",
            "Epoch 74/100\n",
            "375/375 [==============================] - 1s 3ms/step - loss: 0.0433 - accuracy: 0.9835 - val_loss: 0.5105 - val_accuracy: 0.8919\n",
            "Epoch 75/100\n",
            "375/375 [==============================] - 1s 3ms/step - loss: 0.0440 - accuracy: 0.9850 - val_loss: 0.5492 - val_accuracy: 0.8863\n",
            "Epoch 76/100\n",
            "375/375 [==============================] - 1s 3ms/step - loss: 0.0433 - accuracy: 0.9845 - val_loss: 0.5179 - val_accuracy: 0.8930\n",
            "Epoch 77/100\n",
            "375/375 [==============================] - 1s 3ms/step - loss: 0.0366 - accuracy: 0.9881 - val_loss: 0.5493 - val_accuracy: 0.8924\n",
            "Epoch 78/100\n",
            "375/375 [==============================] - 1s 3ms/step - loss: 0.0429 - accuracy: 0.9853 - val_loss: 0.5338 - val_accuracy: 0.8953\n",
            "Epoch 79/100\n",
            "375/375 [==============================] - 1s 3ms/step - loss: 0.0446 - accuracy: 0.9847 - val_loss: 0.5408 - val_accuracy: 0.8915\n",
            "Epoch 80/100\n",
            "375/375 [==============================] - 1s 3ms/step - loss: 0.0408 - accuracy: 0.9849 - val_loss: 0.5658 - val_accuracy: 0.8911\n",
            "Epoch 81/100\n",
            "375/375 [==============================] - 1s 3ms/step - loss: 0.0396 - accuracy: 0.9860 - val_loss: 0.5804 - val_accuracy: 0.8901\n",
            "Epoch 82/100\n",
            "375/375 [==============================] - 1s 3ms/step - loss: 0.0405 - accuracy: 0.9866 - val_loss: 0.5656 - val_accuracy: 0.8929\n",
            "Epoch 83/100\n",
            "375/375 [==============================] - 1s 3ms/step - loss: 0.0465 - accuracy: 0.9834 - val_loss: 0.5723 - val_accuracy: 0.8905\n",
            "Epoch 84/100\n",
            "375/375 [==============================] - 1s 3ms/step - loss: 0.0373 - accuracy: 0.9870 - val_loss: 0.5600 - val_accuracy: 0.8935\n",
            "Epoch 85/100\n",
            "375/375 [==============================] - 1s 3ms/step - loss: 0.0377 - accuracy: 0.9868 - val_loss: 0.5551 - val_accuracy: 0.8940\n",
            "Epoch 86/100\n",
            "375/375 [==============================] - 1s 3ms/step - loss: 0.0374 - accuracy: 0.9873 - val_loss: 0.5671 - val_accuracy: 0.8927\n",
            "Epoch 87/100\n",
            "375/375 [==============================] - 1s 3ms/step - loss: 0.0364 - accuracy: 0.9872 - val_loss: 0.5727 - val_accuracy: 0.8946\n",
            "Epoch 88/100\n",
            "375/375 [==============================] - 1s 3ms/step - loss: 0.0311 - accuracy: 0.9894 - val_loss: 0.5806 - val_accuracy: 0.8954\n",
            "Epoch 89/100\n",
            "375/375 [==============================] - 1s 3ms/step - loss: 0.0363 - accuracy: 0.9874 - val_loss: 0.6088 - val_accuracy: 0.8923\n",
            "Epoch 90/100\n",
            "375/375 [==============================] - 1s 3ms/step - loss: 0.0441 - accuracy: 0.9844 - val_loss: 0.5780 - val_accuracy: 0.8952\n",
            "Epoch 91/100\n",
            "375/375 [==============================] - 1s 3ms/step - loss: 0.0317 - accuracy: 0.9893 - val_loss: 0.6123 - val_accuracy: 0.8906\n",
            "Epoch 92/100\n",
            "375/375 [==============================] - 1s 3ms/step - loss: 0.0296 - accuracy: 0.9898 - val_loss: 0.5886 - val_accuracy: 0.8938\n",
            "Epoch 93/100\n",
            "375/375 [==============================] - 1s 3ms/step - loss: 0.0320 - accuracy: 0.9886 - val_loss: 0.6090 - val_accuracy: 0.8931\n",
            "Epoch 94/100\n",
            "375/375 [==============================] - 1s 3ms/step - loss: 0.0268 - accuracy: 0.9904 - val_loss: 0.6336 - val_accuracy: 0.8890\n",
            "Epoch 95/100\n",
            "375/375 [==============================] - 1s 3ms/step - loss: 0.0403 - accuracy: 0.9855 - val_loss: 0.6430 - val_accuracy: 0.8880\n",
            "Epoch 96/100\n",
            "375/375 [==============================] - 1s 3ms/step - loss: 0.0397 - accuracy: 0.9860 - val_loss: 0.6321 - val_accuracy: 0.8912\n",
            "Epoch 97/100\n",
            "375/375 [==============================] - 1s 3ms/step - loss: 0.0309 - accuracy: 0.9890 - val_loss: 0.6183 - val_accuracy: 0.8922\n",
            "Epoch 98/100\n",
            "375/375 [==============================] - 1s 3ms/step - loss: 0.0314 - accuracy: 0.9884 - val_loss: 0.6350 - val_accuracy: 0.8923\n",
            "Epoch 99/100\n",
            "375/375 [==============================] - 1s 3ms/step - loss: 0.0301 - accuracy: 0.9894 - val_loss: 0.6466 - val_accuracy: 0.8908\n",
            "Epoch 100/100\n",
            "375/375 [==============================] - 1s 3ms/step - loss: 0.0241 - accuracy: 0.9923 - val_loss: 0.6345 - val_accuracy: 0.8917\n",
            "CPU times: user 1min 51s, sys: 17.6 s, total: 2min 8s\n",
            "Wall time: 1min 41s\n"
          ],
          "name": "stdout"
        }
      ]
    },
    {
      "cell_type": "markdown",
      "metadata": {
        "id": "nhKCOKckyZSi"
      },
      "source": [
        "#### Reduce Capacity Model result"
      ]
    },
    {
      "cell_type": "code",
      "metadata": {
        "id": "b3Lkm9AWUILO"
      },
      "source": [
        "capacity_loss, capacity_accuracy = fashion.evaluate(X_test, y_test)\n",
        "capacity.append(('adj_Model_capacity', capacity_loss, capacity_accuracy))\n",
        "\n",
        "print('Loss = {:.5f}'.format(capacity_loss))\n",
        "print('Accuracy = {:.5f}'.format(capacity_accuracy))"
      ],
      "execution_count": null,
      "outputs": []
    },
    {
      "cell_type": "markdown",
      "metadata": {
        "id": "dMo5suUPUzth"
      },
      "source": [
        "> ### 2. Regularization(L1, L2) 적용"
      ]
    },
    {
      "cell_type": "markdown",
      "metadata": {
        "id": "e8Onrl3Yykf9"
      },
      "source": [
        "* L1"
      ]
    },
    {
      "cell_type": "code",
      "metadata": {
        "id": "PNbvbqzATp5z"
      },
      "source": [
        "# L1\n",
        "\n",
        "from keras import models\n",
        "from keras import layers\n",
        "from keras import regularizers\n",
        "\n",
        "fashion = models.Sequential(name='regular_1')\n",
        "fashion.add(layers.Dense(512, activation='relu', kernel_regularizer='l1', input_shape=(28*28,)))\n",
        "fashion.add(layers.Dense(256, activation='relu'))\n",
        "fashion.add(layers.Dense(10, activation='softmax'))"
      ],
      "execution_count": null,
      "outputs": []
    },
    {
      "cell_type": "code",
      "metadata": {
        "id": "wkA4Xt--WGXN"
      },
      "source": [
        "fashion.compile(loss='categorical_crossentropy',\n",
        "                optimizer='adam',\n",
        "                metrics=['accuracy'])"
      ],
      "execution_count": null,
      "outputs": []
    },
    {
      "cell_type": "code",
      "metadata": {
        "colab": {
          "base_uri": "https://localhost:8080/"
        },
        "id": "juNFo19cWYad",
        "outputId": "c6342d3a-4969-4d32-ec4f-6ee6acfb4c37"
      },
      "source": [
        "%%time\n",
        "\n",
        "Hist_fashion = fashion.fit(X_train, y_train, epochs=100, batch_size=128, validation_split=0.2)"
      ],
      "execution_count": null,
      "outputs": [
        {
          "output_type": "stream",
          "text": [
            "Epoch 1/100\n",
            "375/375 [==============================] - 2s 4ms/step - loss: 32.3823 - accuracy: 0.6691 - val_loss: 1.4726 - val_accuracy: 0.7688\n",
            "Epoch 2/100\n",
            "375/375 [==============================] - 1s 3ms/step - loss: 1.4524 - accuracy: 0.7667 - val_loss: 1.4058 - val_accuracy: 0.7751\n",
            "Epoch 3/100\n",
            "375/375 [==============================] - 1s 3ms/step - loss: 1.3583 - accuracy: 0.7868 - val_loss: 1.2735 - val_accuracy: 0.7995\n",
            "Epoch 4/100\n",
            "375/375 [==============================] - 1s 3ms/step - loss: 1.2913 - accuracy: 0.7936 - val_loss: 1.3212 - val_accuracy: 0.7939\n",
            "Epoch 5/100\n",
            "375/375 [==============================] - 1s 3ms/step - loss: 1.2550 - accuracy: 0.8035 - val_loss: 1.2663 - val_accuracy: 0.7913\n",
            "Epoch 6/100\n",
            "375/375 [==============================] - 1s 3ms/step - loss: 1.2543 - accuracy: 0.8063 - val_loss: 1.3334 - val_accuracy: 0.7774\n",
            "Epoch 7/100\n",
            "375/375 [==============================] - 1s 3ms/step - loss: 1.2173 - accuracy: 0.8121 - val_loss: 1.2189 - val_accuracy: 0.8119\n",
            "Epoch 8/100\n",
            "375/375 [==============================] - 1s 3ms/step - loss: 1.1991 - accuracy: 0.8136 - val_loss: 1.1459 - val_accuracy: 0.8297\n",
            "Epoch 9/100\n",
            "375/375 [==============================] - 1s 3ms/step - loss: 1.1903 - accuracy: 0.8167 - val_loss: 1.1936 - val_accuracy: 0.8248\n",
            "Epoch 10/100\n",
            "375/375 [==============================] - 1s 3ms/step - loss: 1.1883 - accuracy: 0.8154 - val_loss: 1.1615 - val_accuracy: 0.8239\n",
            "Epoch 11/100\n",
            "375/375 [==============================] - 1s 3ms/step - loss: 1.1883 - accuracy: 0.8145 - val_loss: 1.1778 - val_accuracy: 0.8165\n",
            "Epoch 12/100\n",
            "375/375 [==============================] - 1s 3ms/step - loss: 1.1615 - accuracy: 0.8188 - val_loss: 1.1642 - val_accuracy: 0.8223\n",
            "Epoch 13/100\n",
            "375/375 [==============================] - 1s 3ms/step - loss: 1.1496 - accuracy: 0.8205 - val_loss: 1.1431 - val_accuracy: 0.8239\n",
            "Epoch 14/100\n",
            "375/375 [==============================] - 1s 3ms/step - loss: 1.1678 - accuracy: 0.8155 - val_loss: 1.1418 - val_accuracy: 0.8203\n",
            "Epoch 15/100\n",
            "375/375 [==============================] - 1s 3ms/step - loss: 1.1380 - accuracy: 0.8201 - val_loss: 1.1125 - val_accuracy: 0.8255\n",
            "Epoch 16/100\n",
            "375/375 [==============================] - 1s 3ms/step - loss: 1.1511 - accuracy: 0.8168 - val_loss: 1.1161 - val_accuracy: 0.8257\n",
            "Epoch 17/100\n",
            "375/375 [==============================] - 1s 3ms/step - loss: 1.1460 - accuracy: 0.8204 - val_loss: 1.1341 - val_accuracy: 0.8295\n",
            "Epoch 18/100\n",
            "375/375 [==============================] - 1s 3ms/step - loss: 1.1300 - accuracy: 0.8205 - val_loss: 1.1463 - val_accuracy: 0.8255\n",
            "Epoch 19/100\n",
            "375/375 [==============================] - 1s 3ms/step - loss: 1.1253 - accuracy: 0.8222 - val_loss: 1.1220 - val_accuracy: 0.8271\n",
            "Epoch 20/100\n",
            "375/375 [==============================] - 1s 3ms/step - loss: 1.1218 - accuracy: 0.8227 - val_loss: 1.1260 - val_accuracy: 0.8303\n",
            "Epoch 21/100\n",
            "375/375 [==============================] - 1s 3ms/step - loss: 1.1179 - accuracy: 0.8239 - val_loss: 1.1602 - val_accuracy: 0.8160\n",
            "Epoch 22/100\n",
            "375/375 [==============================] - 1s 3ms/step - loss: 1.1085 - accuracy: 0.8266 - val_loss: 1.1397 - val_accuracy: 0.8205\n",
            "Epoch 23/100\n",
            "375/375 [==============================] - 1s 3ms/step - loss: 1.1168 - accuracy: 0.8264 - val_loss: 1.1067 - val_accuracy: 0.8267\n",
            "Epoch 24/100\n",
            "375/375 [==============================] - 1s 3ms/step - loss: 1.1134 - accuracy: 0.8243 - val_loss: 1.1768 - val_accuracy: 0.8096\n",
            "Epoch 25/100\n",
            "375/375 [==============================] - 1s 3ms/step - loss: 1.1007 - accuracy: 0.8268 - val_loss: 1.2190 - val_accuracy: 0.7912\n",
            "Epoch 26/100\n",
            "375/375 [==============================] - 1s 3ms/step - loss: 1.1268 - accuracy: 0.8201 - val_loss: 1.0777 - val_accuracy: 0.8320\n",
            "Epoch 27/100\n",
            "375/375 [==============================] - 1s 3ms/step - loss: 1.1040 - accuracy: 0.8297 - val_loss: 1.1135 - val_accuracy: 0.8299\n",
            "Epoch 28/100\n",
            "375/375 [==============================] - 1s 3ms/step - loss: 1.1027 - accuracy: 0.8282 - val_loss: 1.0878 - val_accuracy: 0.8337\n",
            "Epoch 29/100\n",
            "375/375 [==============================] - 1s 3ms/step - loss: 1.1043 - accuracy: 0.8247 - val_loss: 1.0935 - val_accuracy: 0.8273\n",
            "Epoch 30/100\n",
            "375/375 [==============================] - 1s 3ms/step - loss: 1.1023 - accuracy: 0.8286 - val_loss: 1.0770 - val_accuracy: 0.8329\n",
            "Epoch 31/100\n",
            "375/375 [==============================] - 1s 3ms/step - loss: 1.0901 - accuracy: 0.8293 - val_loss: 1.0844 - val_accuracy: 0.8351\n",
            "Epoch 32/100\n",
            "375/375 [==============================] - 1s 3ms/step - loss: 1.0873 - accuracy: 0.8306 - val_loss: 1.0999 - val_accuracy: 0.8312\n",
            "Epoch 33/100\n",
            "375/375 [==============================] - 1s 3ms/step - loss: 1.0997 - accuracy: 0.8298 - val_loss: 1.0771 - val_accuracy: 0.8371\n",
            "Epoch 34/100\n",
            "375/375 [==============================] - 1s 3ms/step - loss: 1.0810 - accuracy: 0.8312 - val_loss: 1.1600 - val_accuracy: 0.8160\n",
            "Epoch 35/100\n",
            "375/375 [==============================] - 1s 3ms/step - loss: 1.0889 - accuracy: 0.8319 - val_loss: 1.0568 - val_accuracy: 0.8411\n",
            "Epoch 36/100\n",
            "375/375 [==============================] - 1s 3ms/step - loss: 1.0896 - accuracy: 0.8273 - val_loss: 1.0780 - val_accuracy: 0.8337\n",
            "Epoch 37/100\n",
            "375/375 [==============================] - 1s 3ms/step - loss: 1.0890 - accuracy: 0.8317 - val_loss: 1.1103 - val_accuracy: 0.8264\n",
            "Epoch 38/100\n",
            "375/375 [==============================] - 1s 3ms/step - loss: 1.0794 - accuracy: 0.8313 - val_loss: 1.2056 - val_accuracy: 0.7873\n",
            "Epoch 39/100\n",
            "375/375 [==============================] - 1s 3ms/step - loss: 1.0904 - accuracy: 0.8268 - val_loss: 1.0966 - val_accuracy: 0.8270\n",
            "Epoch 40/100\n",
            "375/375 [==============================] - 1s 3ms/step - loss: 1.0815 - accuracy: 0.8311 - val_loss: 1.0577 - val_accuracy: 0.8413\n",
            "Epoch 41/100\n",
            "375/375 [==============================] - 1s 3ms/step - loss: 1.0752 - accuracy: 0.8299 - val_loss: 1.1001 - val_accuracy: 0.8271\n",
            "Epoch 42/100\n",
            "375/375 [==============================] - 1s 3ms/step - loss: 1.0809 - accuracy: 0.8313 - val_loss: 1.0715 - val_accuracy: 0.8303\n",
            "Epoch 43/100\n",
            "375/375 [==============================] - 1s 3ms/step - loss: 1.0661 - accuracy: 0.8350 - val_loss: 1.1592 - val_accuracy: 0.8043\n",
            "Epoch 44/100\n",
            "375/375 [==============================] - 1s 3ms/step - loss: 1.0872 - accuracy: 0.8280 - val_loss: 1.0684 - val_accuracy: 0.8366\n",
            "Epoch 45/100\n",
            "375/375 [==============================] - 1s 3ms/step - loss: 1.0725 - accuracy: 0.8350 - val_loss: 1.1000 - val_accuracy: 0.8238\n",
            "Epoch 46/100\n",
            "375/375 [==============================] - 1s 3ms/step - loss: 1.0895 - accuracy: 0.8279 - val_loss: 1.0660 - val_accuracy: 0.8430\n",
            "Epoch 47/100\n",
            "375/375 [==============================] - 1s 3ms/step - loss: 1.0698 - accuracy: 0.8319 - val_loss: 1.0701 - val_accuracy: 0.8342\n",
            "Epoch 48/100\n",
            "375/375 [==============================] - 1s 3ms/step - loss: 1.0761 - accuracy: 0.8317 - val_loss: 1.0984 - val_accuracy: 0.8177\n",
            "Epoch 49/100\n",
            "375/375 [==============================] - 1s 3ms/step - loss: 1.0748 - accuracy: 0.8328 - val_loss: 1.1095 - val_accuracy: 0.8198\n",
            "Epoch 50/100\n",
            "375/375 [==============================] - 1s 3ms/step - loss: 1.0743 - accuracy: 0.8345 - val_loss: 1.1171 - val_accuracy: 0.8240\n",
            "Epoch 51/100\n",
            "375/375 [==============================] - 1s 3ms/step - loss: 1.0742 - accuracy: 0.8343 - val_loss: 1.0896 - val_accuracy: 0.8255\n",
            "Epoch 52/100\n",
            "375/375 [==============================] - 1s 3ms/step - loss: 1.0738 - accuracy: 0.8320 - val_loss: 1.0623 - val_accuracy: 0.8324\n",
            "Epoch 53/100\n",
            "375/375 [==============================] - 1s 3ms/step - loss: 1.0721 - accuracy: 0.8294 - val_loss: 1.1615 - val_accuracy: 0.8149\n",
            "Epoch 54/100\n",
            "375/375 [==============================] - 1s 3ms/step - loss: 1.0694 - accuracy: 0.8341 - val_loss: 1.1112 - val_accuracy: 0.8169\n",
            "Epoch 55/100\n",
            "375/375 [==============================] - 1s 3ms/step - loss: 1.0687 - accuracy: 0.8304 - val_loss: 1.1068 - val_accuracy: 0.8193\n",
            "Epoch 56/100\n",
            "375/375 [==============================] - 1s 3ms/step - loss: 1.0711 - accuracy: 0.8344 - val_loss: 1.0584 - val_accuracy: 0.8420\n",
            "Epoch 57/100\n",
            "375/375 [==============================] - 1s 3ms/step - loss: 1.0683 - accuracy: 0.8329 - val_loss: 1.0975 - val_accuracy: 0.8228\n",
            "Epoch 58/100\n",
            "375/375 [==============================] - 1s 3ms/step - loss: 1.0767 - accuracy: 0.8294 - val_loss: 1.0632 - val_accuracy: 0.8328\n",
            "Epoch 59/100\n",
            "375/375 [==============================] - 1s 3ms/step - loss: 1.0867 - accuracy: 0.8326 - val_loss: 1.0796 - val_accuracy: 0.8336\n",
            "Epoch 60/100\n",
            "375/375 [==============================] - 1s 3ms/step - loss: 1.0608 - accuracy: 0.8363 - val_loss: 1.0770 - val_accuracy: 0.8294\n",
            "Epoch 61/100\n",
            "375/375 [==============================] - 1s 3ms/step - loss: 1.0597 - accuracy: 0.8361 - val_loss: 1.1170 - val_accuracy: 0.8257\n",
            "Epoch 62/100\n",
            "375/375 [==============================] - 1s 3ms/step - loss: 1.0716 - accuracy: 0.8302 - val_loss: 1.1001 - val_accuracy: 0.8232\n",
            "Epoch 63/100\n",
            "375/375 [==============================] - 1s 3ms/step - loss: 1.0513 - accuracy: 0.8394 - val_loss: 1.0580 - val_accuracy: 0.8354\n",
            "Epoch 64/100\n",
            "375/375 [==============================] - 1s 3ms/step - loss: 1.0781 - accuracy: 0.8312 - val_loss: 1.1053 - val_accuracy: 0.8221\n",
            "Epoch 65/100\n",
            "375/375 [==============================] - 1s 3ms/step - loss: 1.0661 - accuracy: 0.8336 - val_loss: 1.0715 - val_accuracy: 0.8303\n",
            "Epoch 66/100\n",
            "375/375 [==============================] - 1s 3ms/step - loss: 1.0495 - accuracy: 0.8410 - val_loss: 1.0497 - val_accuracy: 0.8403\n",
            "Epoch 67/100\n",
            "375/375 [==============================] - 1s 3ms/step - loss: 1.0467 - accuracy: 0.8400 - val_loss: 1.0888 - val_accuracy: 0.8336\n",
            "Epoch 68/100\n",
            "375/375 [==============================] - 1s 3ms/step - loss: 1.0632 - accuracy: 0.8353 - val_loss: 1.1226 - val_accuracy: 0.8114\n",
            "Epoch 69/100\n",
            "375/375 [==============================] - 1s 3ms/step - loss: 1.0867 - accuracy: 0.8258 - val_loss: 1.0479 - val_accuracy: 0.8393\n",
            "Epoch 70/100\n",
            "375/375 [==============================] - 1s 3ms/step - loss: 1.0570 - accuracy: 0.8336 - val_loss: 1.0495 - val_accuracy: 0.8388\n",
            "Epoch 71/100\n",
            "375/375 [==============================] - 1s 3ms/step - loss: 1.0781 - accuracy: 0.8280 - val_loss: 1.0476 - val_accuracy: 0.8383\n",
            "Epoch 72/100\n",
            "375/375 [==============================] - 1s 3ms/step - loss: 1.0619 - accuracy: 0.8348 - val_loss: 1.0523 - val_accuracy: 0.8425\n",
            "Epoch 73/100\n",
            "375/375 [==============================] - 1s 3ms/step - loss: 1.0650 - accuracy: 0.8354 - val_loss: 1.0762 - val_accuracy: 0.8313\n",
            "Epoch 74/100\n",
            "375/375 [==============================] - 1s 3ms/step - loss: 1.0540 - accuracy: 0.8395 - val_loss: 1.0807 - val_accuracy: 0.8310\n",
            "Epoch 75/100\n",
            "375/375 [==============================] - 1s 3ms/step - loss: 1.0619 - accuracy: 0.8347 - val_loss: 1.0760 - val_accuracy: 0.8232\n",
            "Epoch 76/100\n",
            "375/375 [==============================] - 1s 3ms/step - loss: 1.0682 - accuracy: 0.8368 - val_loss: 1.0668 - val_accuracy: 0.8323\n",
            "Epoch 77/100\n",
            "375/375 [==============================] - 1s 3ms/step - loss: 1.0661 - accuracy: 0.8375 - val_loss: 1.0510 - val_accuracy: 0.8398\n",
            "Epoch 78/100\n",
            "375/375 [==============================] - 1s 3ms/step - loss: 1.0453 - accuracy: 0.8378 - val_loss: 1.0861 - val_accuracy: 0.8304\n",
            "Epoch 79/100\n",
            "375/375 [==============================] - 1s 3ms/step - loss: 1.0695 - accuracy: 0.8338 - val_loss: 1.0376 - val_accuracy: 0.8465\n",
            "Epoch 80/100\n",
            "375/375 [==============================] - 1s 3ms/step - loss: 1.0498 - accuracy: 0.8402 - val_loss: 1.0588 - val_accuracy: 0.8378\n",
            "Epoch 81/100\n",
            "375/375 [==============================] - 1s 3ms/step - loss: 1.0584 - accuracy: 0.8373 - val_loss: 1.0671 - val_accuracy: 0.8311\n",
            "Epoch 82/100\n",
            "375/375 [==============================] - 1s 3ms/step - loss: 1.0670 - accuracy: 0.8361 - val_loss: 1.0409 - val_accuracy: 0.8420\n",
            "Epoch 83/100\n",
            "375/375 [==============================] - 1s 3ms/step - loss: 1.0554 - accuracy: 0.8345 - val_loss: 1.0638 - val_accuracy: 0.8324\n",
            "Epoch 84/100\n",
            "375/375 [==============================] - 1s 3ms/step - loss: 1.0524 - accuracy: 0.8382 - val_loss: 1.0879 - val_accuracy: 0.8293\n",
            "Epoch 85/100\n",
            "375/375 [==============================] - 1s 3ms/step - loss: 1.0435 - accuracy: 0.8409 - val_loss: 1.0987 - val_accuracy: 0.8303\n",
            "Epoch 86/100\n",
            "375/375 [==============================] - 1s 3ms/step - loss: 1.0586 - accuracy: 0.8384 - val_loss: 1.0614 - val_accuracy: 0.8384\n",
            "Epoch 87/100\n",
            "375/375 [==============================] - 1s 3ms/step - loss: 1.0485 - accuracy: 0.8408 - val_loss: 1.0487 - val_accuracy: 0.8350\n",
            "Epoch 88/100\n",
            "375/375 [==============================] - 1s 3ms/step - loss: 1.0479 - accuracy: 0.8399 - val_loss: 1.0908 - val_accuracy: 0.8294\n",
            "Epoch 89/100\n",
            "375/375 [==============================] - 1s 3ms/step - loss: 1.0574 - accuracy: 0.8398 - val_loss: 1.0683 - val_accuracy: 0.8341\n",
            "Epoch 90/100\n",
            "375/375 [==============================] - 1s 3ms/step - loss: 1.0628 - accuracy: 0.8373 - val_loss: 1.0732 - val_accuracy: 0.8347\n",
            "Epoch 91/100\n",
            "375/375 [==============================] - 1s 3ms/step - loss: 1.0584 - accuracy: 0.8364 - val_loss: 1.0546 - val_accuracy: 0.8412\n",
            "Epoch 92/100\n",
            "375/375 [==============================] - 1s 3ms/step - loss: 1.0590 - accuracy: 0.8365 - val_loss: 1.1142 - val_accuracy: 0.8220\n",
            "Epoch 93/100\n",
            "375/375 [==============================] - 1s 3ms/step - loss: 1.0736 - accuracy: 0.8332 - val_loss: 1.0620 - val_accuracy: 0.8355\n",
            "Epoch 94/100\n",
            "375/375 [==============================] - 1s 3ms/step - loss: 1.0502 - accuracy: 0.8363 - val_loss: 1.0984 - val_accuracy: 0.8261\n",
            "Epoch 95/100\n",
            "375/375 [==============================] - 1s 3ms/step - loss: 1.0615 - accuracy: 0.8345 - val_loss: 1.0578 - val_accuracy: 0.8345\n",
            "Epoch 96/100\n",
            "375/375 [==============================] - 1s 3ms/step - loss: 1.0681 - accuracy: 0.8349 - val_loss: 1.0768 - val_accuracy: 0.8358\n",
            "Epoch 97/100\n",
            "375/375 [==============================] - 1s 3ms/step - loss: 1.0413 - accuracy: 0.8373 - val_loss: 1.1479 - val_accuracy: 0.8107\n",
            "Epoch 98/100\n",
            "375/375 [==============================] - 1s 3ms/step - loss: 1.0517 - accuracy: 0.8377 - val_loss: 1.0658 - val_accuracy: 0.8328\n",
            "Epoch 99/100\n",
            "375/375 [==============================] - 1s 3ms/step - loss: 1.0559 - accuracy: 0.8344 - val_loss: 1.1127 - val_accuracy: 0.8233\n",
            "Epoch 100/100\n",
            "375/375 [==============================] - 1s 3ms/step - loss: 1.0527 - accuracy: 0.8396 - val_loss: 1.0449 - val_accuracy: 0.8428\n",
            "CPU times: user 2min 1s, sys: 18.9 s, total: 2min 20s\n",
            "Wall time: 1min 52s\n"
          ],
          "name": "stdout"
        }
      ]
    },
    {
      "cell_type": "markdown",
      "metadata": {
        "id": "BxMqvue_ymei"
      },
      "source": [
        "#### L1 Model Capacity"
      ]
    },
    {
      "cell_type": "code",
      "metadata": {
        "colab": {
          "base_uri": "https://localhost:8080/"
        },
        "id": "sME2PiXUVrr1",
        "outputId": "0eb9a10b-5572-42bf-9957-936982bebf65"
      },
      "source": [
        "l1_loss, l1_accuracy = fashion.evaluate(X_test, y_test)\n",
        "capacity.append(('L1', l1_loss, l1_accuracy))\n",
        "\n",
        "print('Loss = {:.5f}'.format(l1_loss))\n",
        "print('Accuracy = {:.5f}'.format(l1_accuracy))"
      ],
      "execution_count": null,
      "outputs": [
        {
          "output_type": "stream",
          "text": [
            "313/313 [==============================] - 1s 2ms/step - loss: 1.0708 - accuracy: 0.8356\n",
            "Loss = 1.07080\n",
            "Accuracy = 0.83560\n"
          ],
          "name": "stdout"
        }
      ]
    },
    {
      "cell_type": "markdown",
      "metadata": {
        "id": "9DTDc8QAyqXJ"
      },
      "source": [
        "* L2"
      ]
    },
    {
      "cell_type": "code",
      "metadata": {
        "id": "SeVBIFrYWiKe"
      },
      "source": [
        "# L2\n",
        "\n",
        "from keras import models\n",
        "from keras import layers\n",
        "from keras import regularizers\n",
        "\n",
        "fashion = models.Sequential(name='regular_2')\n",
        "fashion.add(layers.Dense(512, activation='relu', kernel_regularizer='l2', input_shape=(28*28,)))\n",
        "fashion.add(layers.Dense(256, activation='relu'))\n",
        "fashion.add(layers.Dense(10, activation='softmax'))"
      ],
      "execution_count": null,
      "outputs": []
    },
    {
      "cell_type": "code",
      "metadata": {
        "id": "Il6P2DxhWiKp"
      },
      "source": [
        "fashion.compile(loss='categorical_crossentropy',\n",
        "                optimizer='adam',\n",
        "                metrics=['accuracy'])"
      ],
      "execution_count": null,
      "outputs": []
    },
    {
      "cell_type": "code",
      "metadata": {
        "colab": {
          "base_uri": "https://localhost:8080/"
        },
        "id": "pccbSUyhWiKq",
        "outputId": "3bfa379b-c747-4a1f-9503-733d552eba38"
      },
      "source": [
        "%%time\n",
        "\n",
        "Hist_fashion = fashion.fit(X_train, y_train, epochs=100, batch_size=128, validation_split=0.2)"
      ],
      "execution_count": null,
      "outputs": [
        {
          "output_type": "stream",
          "text": [
            "Epoch 1/100\n",
            "375/375 [==============================] - 2s 3ms/step - loss: 2.7442 - accuracy: 0.7486 - val_loss: 0.6525 - val_accuracy: 0.8104\n",
            "Epoch 2/100\n",
            "375/375 [==============================] - 1s 3ms/step - loss: 0.6029 - accuracy: 0.8289 - val_loss: 0.5727 - val_accuracy: 0.8281\n",
            "Epoch 3/100\n",
            "375/375 [==============================] - 1s 3ms/step - loss: 0.5562 - accuracy: 0.8356 - val_loss: 0.5320 - val_accuracy: 0.8450\n",
            "Epoch 4/100\n",
            "375/375 [==============================] - 1s 3ms/step - loss: 0.5282 - accuracy: 0.8458 - val_loss: 0.5263 - val_accuracy: 0.8425\n",
            "Epoch 5/100\n",
            "375/375 [==============================] - 1s 3ms/step - loss: 0.5130 - accuracy: 0.8475 - val_loss: 0.5020 - val_accuracy: 0.8473\n",
            "Epoch 6/100\n",
            "375/375 [==============================] - 1s 3ms/step - loss: 0.4757 - accuracy: 0.8598 - val_loss: 0.4718 - val_accuracy: 0.8573\n",
            "Epoch 7/100\n",
            "375/375 [==============================] - 1s 3ms/step - loss: 0.4808 - accuracy: 0.8526 - val_loss: 0.4747 - val_accuracy: 0.8572\n",
            "Epoch 8/100\n",
            "375/375 [==============================] - 1s 3ms/step - loss: 0.4555 - accuracy: 0.8639 - val_loss: 0.4669 - val_accuracy: 0.8626\n",
            "Epoch 9/100\n",
            "375/375 [==============================] - 1s 3ms/step - loss: 0.4498 - accuracy: 0.8650 - val_loss: 0.4925 - val_accuracy: 0.8549\n",
            "Epoch 10/100\n",
            "375/375 [==============================] - 1s 3ms/step - loss: 0.4569 - accuracy: 0.8629 - val_loss: 0.4789 - val_accuracy: 0.8547\n",
            "Epoch 11/100\n",
            "375/375 [==============================] - 1s 3ms/step - loss: 0.4483 - accuracy: 0.8652 - val_loss: 0.4607 - val_accuracy: 0.8502\n",
            "Epoch 12/100\n",
            "375/375 [==============================] - 1s 3ms/step - loss: 0.4290 - accuracy: 0.8694 - val_loss: 0.4368 - val_accuracy: 0.8634\n",
            "Epoch 13/100\n",
            "375/375 [==============================] - 1s 3ms/step - loss: 0.4269 - accuracy: 0.8694 - val_loss: 0.4525 - val_accuracy: 0.8576\n",
            "Epoch 14/100\n",
            "375/375 [==============================] - 1s 3ms/step - loss: 0.4296 - accuracy: 0.8700 - val_loss: 0.4802 - val_accuracy: 0.8453\n",
            "Epoch 15/100\n",
            "375/375 [==============================] - 1s 3ms/step - loss: 0.4206 - accuracy: 0.8696 - val_loss: 0.5084 - val_accuracy: 0.8350\n",
            "Epoch 16/100\n",
            "375/375 [==============================] - 1s 3ms/step - loss: 0.4209 - accuracy: 0.8694 - val_loss: 0.4285 - val_accuracy: 0.8695\n",
            "Epoch 17/100\n",
            "375/375 [==============================] - 1s 3ms/step - loss: 0.4073 - accuracy: 0.8730 - val_loss: 0.4319 - val_accuracy: 0.8671\n",
            "Epoch 18/100\n",
            "375/375 [==============================] - 1s 3ms/step - loss: 0.4052 - accuracy: 0.8775 - val_loss: 0.4277 - val_accuracy: 0.8678\n",
            "Epoch 19/100\n",
            "375/375 [==============================] - 1s 3ms/step - loss: 0.4121 - accuracy: 0.8738 - val_loss: 0.4225 - val_accuracy: 0.8693\n",
            "Epoch 20/100\n",
            "375/375 [==============================] - 1s 3ms/step - loss: 0.3956 - accuracy: 0.8762 - val_loss: 0.4372 - val_accuracy: 0.8622\n",
            "Epoch 21/100\n",
            "375/375 [==============================] - 1s 3ms/step - loss: 0.4008 - accuracy: 0.8758 - val_loss: 0.4196 - val_accuracy: 0.8692\n",
            "Epoch 22/100\n",
            "375/375 [==============================] - 1s 3ms/step - loss: 0.4018 - accuracy: 0.8764 - val_loss: 0.4219 - val_accuracy: 0.8713\n",
            "Epoch 23/100\n",
            "375/375 [==============================] - 1s 3ms/step - loss: 0.3973 - accuracy: 0.8773 - val_loss: 0.4055 - val_accuracy: 0.8766\n",
            "Epoch 24/100\n",
            "375/375 [==============================] - 1s 3ms/step - loss: 0.3884 - accuracy: 0.8801 - val_loss: 0.4189 - val_accuracy: 0.8732\n",
            "Epoch 25/100\n",
            "375/375 [==============================] - 1s 3ms/step - loss: 0.3946 - accuracy: 0.8770 - val_loss: 0.4679 - val_accuracy: 0.8509\n",
            "Epoch 26/100\n",
            "375/375 [==============================] - 1s 3ms/step - loss: 0.3937 - accuracy: 0.8761 - val_loss: 0.4117 - val_accuracy: 0.8745\n",
            "Epoch 27/100\n",
            "375/375 [==============================] - 1s 3ms/step - loss: 0.3864 - accuracy: 0.8797 - val_loss: 0.4147 - val_accuracy: 0.8693\n",
            "Epoch 28/100\n",
            "375/375 [==============================] - 1s 3ms/step - loss: 0.3998 - accuracy: 0.8764 - val_loss: 0.4199 - val_accuracy: 0.8657\n",
            "Epoch 29/100\n",
            "375/375 [==============================] - 1s 3ms/step - loss: 0.3860 - accuracy: 0.8783 - val_loss: 0.4174 - val_accuracy: 0.8704\n",
            "Epoch 30/100\n",
            "375/375 [==============================] - 1s 3ms/step - loss: 0.3896 - accuracy: 0.8784 - val_loss: 0.4170 - val_accuracy: 0.8712\n",
            "Epoch 31/100\n",
            "375/375 [==============================] - 1s 3ms/step - loss: 0.3805 - accuracy: 0.8798 - val_loss: 0.4132 - val_accuracy: 0.8699\n",
            "Epoch 32/100\n",
            "375/375 [==============================] - 1s 3ms/step - loss: 0.3861 - accuracy: 0.8792 - val_loss: 0.4163 - val_accuracy: 0.8722\n",
            "Epoch 33/100\n",
            "375/375 [==============================] - 1s 3ms/step - loss: 0.3817 - accuracy: 0.8826 - val_loss: 0.4171 - val_accuracy: 0.8738\n",
            "Epoch 34/100\n",
            "375/375 [==============================] - 1s 3ms/step - loss: 0.3727 - accuracy: 0.8856 - val_loss: 0.4322 - val_accuracy: 0.8676\n",
            "Epoch 35/100\n",
            "375/375 [==============================] - 1s 3ms/step - loss: 0.3825 - accuracy: 0.8814 - val_loss: 0.4027 - val_accuracy: 0.8782\n",
            "Epoch 36/100\n",
            "375/375 [==============================] - 1s 3ms/step - loss: 0.3672 - accuracy: 0.8877 - val_loss: 0.4075 - val_accuracy: 0.8714\n",
            "Epoch 37/100\n",
            "375/375 [==============================] - 1s 3ms/step - loss: 0.3712 - accuracy: 0.8843 - val_loss: 0.4129 - val_accuracy: 0.8721\n",
            "Epoch 38/100\n",
            "375/375 [==============================] - 1s 3ms/step - loss: 0.3719 - accuracy: 0.8858 - val_loss: 0.4400 - val_accuracy: 0.8597\n",
            "Epoch 39/100\n",
            "375/375 [==============================] - 1s 3ms/step - loss: 0.3787 - accuracy: 0.8804 - val_loss: 0.4172 - val_accuracy: 0.8680\n",
            "Epoch 40/100\n",
            "375/375 [==============================] - 1s 3ms/step - loss: 0.3815 - accuracy: 0.8801 - val_loss: 0.3954 - val_accuracy: 0.8777\n",
            "Epoch 41/100\n",
            "375/375 [==============================] - 1s 3ms/step - loss: 0.3661 - accuracy: 0.8848 - val_loss: 0.4046 - val_accuracy: 0.8755\n",
            "Epoch 42/100\n",
            "375/375 [==============================] - 1s 3ms/step - loss: 0.3747 - accuracy: 0.8829 - val_loss: 0.4147 - val_accuracy: 0.8725\n",
            "Epoch 43/100\n",
            "375/375 [==============================] - 1s 3ms/step - loss: 0.3747 - accuracy: 0.8825 - val_loss: 0.4365 - val_accuracy: 0.8607\n",
            "Epoch 44/100\n",
            "375/375 [==============================] - 1s 3ms/step - loss: 0.3719 - accuracy: 0.8824 - val_loss: 0.4214 - val_accuracy: 0.8696\n",
            "Epoch 45/100\n",
            "375/375 [==============================] - 1s 3ms/step - loss: 0.3683 - accuracy: 0.8876 - val_loss: 0.4537 - val_accuracy: 0.8562\n",
            "Epoch 46/100\n",
            "375/375 [==============================] - 1s 3ms/step - loss: 0.3725 - accuracy: 0.8862 - val_loss: 0.4054 - val_accuracy: 0.8753\n",
            "Epoch 47/100\n",
            "375/375 [==============================] - 1s 3ms/step - loss: 0.3660 - accuracy: 0.8858 - val_loss: 0.4116 - val_accuracy: 0.8725\n",
            "Epoch 48/100\n",
            "375/375 [==============================] - 1s 3ms/step - loss: 0.3644 - accuracy: 0.8869 - val_loss: 0.3944 - val_accuracy: 0.8768\n",
            "Epoch 49/100\n",
            "375/375 [==============================] - 1s 3ms/step - loss: 0.3607 - accuracy: 0.8884 - val_loss: 0.4285 - val_accuracy: 0.8680\n",
            "Epoch 50/100\n",
            "375/375 [==============================] - 1s 3ms/step - loss: 0.3570 - accuracy: 0.8888 - val_loss: 0.4233 - val_accuracy: 0.8655\n",
            "Epoch 51/100\n",
            "375/375 [==============================] - 1s 3ms/step - loss: 0.3635 - accuracy: 0.8870 - val_loss: 0.4048 - val_accuracy: 0.8738\n",
            "Epoch 52/100\n",
            "375/375 [==============================] - 1s 3ms/step - loss: 0.3663 - accuracy: 0.8873 - val_loss: 0.4160 - val_accuracy: 0.8721\n",
            "Epoch 53/100\n",
            "375/375 [==============================] - 1s 3ms/step - loss: 0.3658 - accuracy: 0.8866 - val_loss: 0.4040 - val_accuracy: 0.8751\n",
            "Epoch 54/100\n",
            "375/375 [==============================] - 1s 3ms/step - loss: 0.3591 - accuracy: 0.8890 - val_loss: 0.4360 - val_accuracy: 0.8669\n",
            "Epoch 55/100\n",
            "375/375 [==============================] - 1s 3ms/step - loss: 0.3625 - accuracy: 0.8895 - val_loss: 0.4268 - val_accuracy: 0.8677\n",
            "Epoch 56/100\n",
            "375/375 [==============================] - 1s 3ms/step - loss: 0.3515 - accuracy: 0.8892 - val_loss: 0.4678 - val_accuracy: 0.8606\n",
            "Epoch 57/100\n",
            "375/375 [==============================] - 1s 3ms/step - loss: 0.3757 - accuracy: 0.8819 - val_loss: 0.3995 - val_accuracy: 0.8767\n",
            "Epoch 58/100\n",
            "375/375 [==============================] - 1s 3ms/step - loss: 0.3521 - accuracy: 0.8917 - val_loss: 0.4025 - val_accuracy: 0.8763\n",
            "Epoch 59/100\n",
            "375/375 [==============================] - 1s 3ms/step - loss: 0.3551 - accuracy: 0.8905 - val_loss: 0.4217 - val_accuracy: 0.8702\n",
            "Epoch 60/100\n",
            "375/375 [==============================] - 1s 3ms/step - loss: 0.3661 - accuracy: 0.8868 - val_loss: 0.3971 - val_accuracy: 0.8769\n",
            "Epoch 61/100\n",
            "375/375 [==============================] - 1s 3ms/step - loss: 0.3571 - accuracy: 0.8889 - val_loss: 0.3985 - val_accuracy: 0.8792\n",
            "Epoch 62/100\n",
            "375/375 [==============================] - 1s 3ms/step - loss: 0.3533 - accuracy: 0.8919 - val_loss: 0.4139 - val_accuracy: 0.8723\n",
            "Epoch 63/100\n",
            "375/375 [==============================] - 1s 3ms/step - loss: 0.3549 - accuracy: 0.8906 - val_loss: 0.3843 - val_accuracy: 0.8813\n",
            "Epoch 64/100\n",
            "375/375 [==============================] - 1s 3ms/step - loss: 0.3570 - accuracy: 0.8893 - val_loss: 0.3922 - val_accuracy: 0.8822\n",
            "Epoch 65/100\n",
            "375/375 [==============================] - 1s 3ms/step - loss: 0.3568 - accuracy: 0.8895 - val_loss: 0.3971 - val_accuracy: 0.8767\n",
            "Epoch 66/100\n",
            "375/375 [==============================] - 1s 3ms/step - loss: 0.3534 - accuracy: 0.8929 - val_loss: 0.4030 - val_accuracy: 0.8776\n",
            "Epoch 67/100\n",
            "375/375 [==============================] - 1s 3ms/step - loss: 0.3639 - accuracy: 0.8860 - val_loss: 0.4057 - val_accuracy: 0.8761\n",
            "Epoch 68/100\n",
            "375/375 [==============================] - 1s 3ms/step - loss: 0.3607 - accuracy: 0.8901 - val_loss: 0.4550 - val_accuracy: 0.8558\n",
            "Epoch 69/100\n",
            "375/375 [==============================] - 1s 3ms/step - loss: 0.3454 - accuracy: 0.8922 - val_loss: 0.4094 - val_accuracy: 0.8741\n",
            "Epoch 70/100\n",
            "375/375 [==============================] - 1s 3ms/step - loss: 0.3523 - accuracy: 0.8910 - val_loss: 0.4148 - val_accuracy: 0.8742\n",
            "Epoch 71/100\n",
            "375/375 [==============================] - 1s 3ms/step - loss: 0.3545 - accuracy: 0.8890 - val_loss: 0.4094 - val_accuracy: 0.8750\n",
            "Epoch 72/100\n",
            "375/375 [==============================] - 1s 3ms/step - loss: 0.3581 - accuracy: 0.8900 - val_loss: 0.3960 - val_accuracy: 0.8785\n",
            "Epoch 73/100\n",
            "375/375 [==============================] - 1s 3ms/step - loss: 0.3512 - accuracy: 0.8917 - val_loss: 0.4067 - val_accuracy: 0.8750\n",
            "Epoch 74/100\n",
            "375/375 [==============================] - 1s 3ms/step - loss: 0.3470 - accuracy: 0.8941 - val_loss: 0.4090 - val_accuracy: 0.8730\n",
            "Epoch 75/100\n",
            "375/375 [==============================] - 1s 3ms/step - loss: 0.3555 - accuracy: 0.8896 - val_loss: 0.4252 - val_accuracy: 0.8660\n",
            "Epoch 76/100\n",
            "375/375 [==============================] - 1s 3ms/step - loss: 0.3478 - accuracy: 0.8935 - val_loss: 0.3972 - val_accuracy: 0.8808\n",
            "Epoch 77/100\n",
            "375/375 [==============================] - 1s 3ms/step - loss: 0.3587 - accuracy: 0.8886 - val_loss: 0.4094 - val_accuracy: 0.8753\n",
            "Epoch 78/100\n",
            "375/375 [==============================] - 1s 3ms/step - loss: 0.3495 - accuracy: 0.8918 - val_loss: 0.4127 - val_accuracy: 0.8717\n",
            "Epoch 79/100\n",
            "375/375 [==============================] - 1s 3ms/step - loss: 0.3457 - accuracy: 0.8928 - val_loss: 0.3999 - val_accuracy: 0.8789\n",
            "Epoch 80/100\n",
            "375/375 [==============================] - 1s 3ms/step - loss: 0.3423 - accuracy: 0.8966 - val_loss: 0.4225 - val_accuracy: 0.8737\n",
            "Epoch 81/100\n",
            "375/375 [==============================] - 1s 3ms/step - loss: 0.3531 - accuracy: 0.8905 - val_loss: 0.4273 - val_accuracy: 0.8749\n",
            "Epoch 82/100\n",
            "375/375 [==============================] - 1s 3ms/step - loss: 0.3471 - accuracy: 0.8932 - val_loss: 0.4251 - val_accuracy: 0.8719\n",
            "Epoch 83/100\n",
            "375/375 [==============================] - 1s 3ms/step - loss: 0.3456 - accuracy: 0.8922 - val_loss: 0.4001 - val_accuracy: 0.8784\n",
            "Epoch 84/100\n",
            "375/375 [==============================] - 1s 3ms/step - loss: 0.3461 - accuracy: 0.8927 - val_loss: 0.3937 - val_accuracy: 0.8817\n",
            "Epoch 85/100\n",
            "375/375 [==============================] - 1s 3ms/step - loss: 0.3480 - accuracy: 0.8931 - val_loss: 0.4051 - val_accuracy: 0.8800\n",
            "Epoch 86/100\n",
            "375/375 [==============================] - 1s 3ms/step - loss: 0.3419 - accuracy: 0.8945 - val_loss: 0.3933 - val_accuracy: 0.8802\n",
            "Epoch 87/100\n",
            "375/375 [==============================] - 1s 3ms/step - loss: 0.3446 - accuracy: 0.8931 - val_loss: 0.3997 - val_accuracy: 0.8783\n",
            "Epoch 88/100\n",
            "375/375 [==============================] - 1s 3ms/step - loss: 0.3502 - accuracy: 0.8935 - val_loss: 0.4337 - val_accuracy: 0.8633\n",
            "Epoch 89/100\n",
            "375/375 [==============================] - 1s 3ms/step - loss: 0.3493 - accuracy: 0.8901 - val_loss: 0.4277 - val_accuracy: 0.8682\n",
            "Epoch 90/100\n",
            "375/375 [==============================] - 1s 3ms/step - loss: 0.3503 - accuracy: 0.8921 - val_loss: 0.3920 - val_accuracy: 0.8821\n",
            "Epoch 91/100\n",
            "375/375 [==============================] - 1s 3ms/step - loss: 0.3457 - accuracy: 0.8947 - val_loss: 0.4169 - val_accuracy: 0.8733\n",
            "Epoch 92/100\n",
            "375/375 [==============================] - 1s 3ms/step - loss: 0.3402 - accuracy: 0.8959 - val_loss: 0.4246 - val_accuracy: 0.8700\n",
            "Epoch 93/100\n",
            "375/375 [==============================] - 1s 3ms/step - loss: 0.3477 - accuracy: 0.8941 - val_loss: 0.4225 - val_accuracy: 0.8685\n",
            "Epoch 94/100\n",
            "375/375 [==============================] - 1s 3ms/step - loss: 0.3413 - accuracy: 0.8955 - val_loss: 0.3933 - val_accuracy: 0.8815\n",
            "Epoch 95/100\n",
            "375/375 [==============================] - 1s 3ms/step - loss: 0.3343 - accuracy: 0.8964 - val_loss: 0.4335 - val_accuracy: 0.8691\n",
            "Epoch 96/100\n",
            "375/375 [==============================] - 1s 3ms/step - loss: 0.3463 - accuracy: 0.8951 - val_loss: 0.4204 - val_accuracy: 0.8753\n",
            "Epoch 97/100\n",
            "375/375 [==============================] - 1s 3ms/step - loss: 0.3382 - accuracy: 0.8955 - val_loss: 0.3858 - val_accuracy: 0.8830\n",
            "Epoch 98/100\n",
            "375/375 [==============================] - 1s 3ms/step - loss: 0.3368 - accuracy: 0.8966 - val_loss: 0.4108 - val_accuracy: 0.8766\n",
            "Epoch 99/100\n",
            "375/375 [==============================] - 1s 3ms/step - loss: 0.3423 - accuracy: 0.8950 - val_loss: 0.3860 - val_accuracy: 0.8832\n",
            "Epoch 100/100\n",
            "375/375 [==============================] - 1s 3ms/step - loss: 0.3393 - accuracy: 0.8973 - val_loss: 0.4636 - val_accuracy: 0.8580\n",
            "CPU times: user 2min, sys: 18.7 s, total: 2min 19s\n",
            "Wall time: 1min 50s\n"
          ],
          "name": "stdout"
        }
      ]
    },
    {
      "cell_type": "markdown",
      "metadata": {
        "id": "aeiQQsG-ytIe"
      },
      "source": [
        "#### L2 Model Capacity"
      ]
    },
    {
      "cell_type": "code",
      "metadata": {
        "colab": {
          "base_uri": "https://localhost:8080/"
        },
        "id": "OtLpJ8XYWiKr",
        "outputId": "31e5ddea-4cf8-4b98-e684-9d8d153d1a50"
      },
      "source": [
        "l2_loss, l2_accuracy = fashion.evaluate(X_test, y_test)\n",
        "capacity.append(('L2', l2_loss, l2_accuracy))\n",
        "\n",
        "print('Loss = {:.5f}'.format(l2_loss))\n",
        "print('Accuracy = {:.5f}'.format(l2_accuracy))"
      ],
      "execution_count": null,
      "outputs": [
        {
          "output_type": "stream",
          "text": [
            "313/313 [==============================] - 1s 2ms/step - loss: 0.4895 - accuracy: 0.8476\n",
            "Loss = 0.48949\n",
            "Accuracy = 0.84760\n"
          ],
          "name": "stdout"
        }
      ]
    },
    {
      "cell_type": "markdown",
      "metadata": {
        "id": "RwOaKJwqVram"
      },
      "source": [
        "> ### 3. Dropout"
      ]
    },
    {
      "cell_type": "code",
      "metadata": {
        "id": "zeBRqZNTWtRG"
      },
      "source": [
        "from keras import models\n",
        "from keras import layers\n",
        "\n",
        "fashion = models.Sequential(name='dropout')\n",
        "fashion.add(layers.Dense(512, activation='relu', input_shape=(28*28,)))\n",
        "fashion.add(layers.Dropout(0.4))\n",
        "fashion.add(layers.Dense(256, activation='relu'))\n",
        "fashion.add(layers.Dropout(0.2))\n",
        "fashion.add(layers.Dense(10, activation='softmax'))"
      ],
      "execution_count": null,
      "outputs": []
    },
    {
      "cell_type": "code",
      "metadata": {
        "id": "jtw6OTNNWtRb"
      },
      "source": [
        "fashion.compile(loss='categorical_crossentropy',\n",
        "                optimizer='adam',\n",
        "                metrics=['accuracy'])"
      ],
      "execution_count": null,
      "outputs": []
    },
    {
      "cell_type": "code",
      "metadata": {
        "colab": {
          "base_uri": "https://localhost:8080/"
        },
        "id": "WeUE2SoMWtRc",
        "outputId": "e313da7d-246c-4df4-ca2a-abbb0255436a"
      },
      "source": [
        "%%time\n",
        "\n",
        "Hist_fashion = fashion.fit(X_train, y_train, epochs=100, batch_size=128, validation_split=0.2)"
      ],
      "execution_count": null,
      "outputs": [
        {
          "output_type": "stream",
          "text": [
            "Epoch 1/100\n",
            "375/375 [==============================] - 2s 3ms/step - loss: 0.7925 - accuracy: 0.7195 - val_loss: 0.4121 - val_accuracy: 0.8470\n",
            "Epoch 2/100\n",
            "375/375 [==============================] - 1s 3ms/step - loss: 0.4407 - accuracy: 0.8392 - val_loss: 0.3783 - val_accuracy: 0.8620\n",
            "Epoch 3/100\n",
            "375/375 [==============================] - 1s 3ms/step - loss: 0.3981 - accuracy: 0.8564 - val_loss: 0.3488 - val_accuracy: 0.8727\n",
            "Epoch 4/100\n",
            "375/375 [==============================] - 1s 3ms/step - loss: 0.3715 - accuracy: 0.8655 - val_loss: 0.3426 - val_accuracy: 0.8731\n",
            "Epoch 5/100\n",
            "375/375 [==============================] - 1s 3ms/step - loss: 0.3481 - accuracy: 0.8700 - val_loss: 0.3473 - val_accuracy: 0.8696\n",
            "Epoch 6/100\n",
            "375/375 [==============================] - 1s 3ms/step - loss: 0.3419 - accuracy: 0.8721 - val_loss: 0.3391 - val_accuracy: 0.8722\n",
            "Epoch 7/100\n",
            "375/375 [==============================] - 1s 3ms/step - loss: 0.3327 - accuracy: 0.8759 - val_loss: 0.3296 - val_accuracy: 0.8780\n",
            "Epoch 8/100\n",
            "375/375 [==============================] - 1s 3ms/step - loss: 0.3224 - accuracy: 0.8796 - val_loss: 0.3212 - val_accuracy: 0.8832\n",
            "Epoch 9/100\n",
            "375/375 [==============================] - 1s 3ms/step - loss: 0.3136 - accuracy: 0.8835 - val_loss: 0.3166 - val_accuracy: 0.8861\n",
            "Epoch 10/100\n",
            "375/375 [==============================] - 1s 3ms/step - loss: 0.3152 - accuracy: 0.8817 - val_loss: 0.3384 - val_accuracy: 0.8773\n",
            "Epoch 11/100\n",
            "375/375 [==============================] - 1s 3ms/step - loss: 0.2989 - accuracy: 0.8884 - val_loss: 0.3230 - val_accuracy: 0.8788\n",
            "Epoch 12/100\n",
            "375/375 [==============================] - 1s 3ms/step - loss: 0.2919 - accuracy: 0.8915 - val_loss: 0.3177 - val_accuracy: 0.8843\n",
            "Epoch 13/100\n",
            "375/375 [==============================] - 1s 3ms/step - loss: 0.2961 - accuracy: 0.8888 - val_loss: 0.3062 - val_accuracy: 0.8902\n",
            "Epoch 14/100\n",
            "375/375 [==============================] - 1s 3ms/step - loss: 0.2788 - accuracy: 0.8935 - val_loss: 0.3099 - val_accuracy: 0.8863\n",
            "Epoch 15/100\n",
            "375/375 [==============================] - 1s 3ms/step - loss: 0.2773 - accuracy: 0.8942 - val_loss: 0.3102 - val_accuracy: 0.8874\n",
            "Epoch 16/100\n",
            "375/375 [==============================] - 1s 3ms/step - loss: 0.2766 - accuracy: 0.8967 - val_loss: 0.3055 - val_accuracy: 0.8916\n",
            "Epoch 17/100\n",
            "375/375 [==============================] - 1s 3ms/step - loss: 0.2650 - accuracy: 0.8991 - val_loss: 0.3067 - val_accuracy: 0.8895\n",
            "Epoch 18/100\n",
            "375/375 [==============================] - 1s 3ms/step - loss: 0.2665 - accuracy: 0.9000 - val_loss: 0.3015 - val_accuracy: 0.8901\n",
            "Epoch 19/100\n",
            "375/375 [==============================] - 1s 3ms/step - loss: 0.2622 - accuracy: 0.9001 - val_loss: 0.3077 - val_accuracy: 0.8903\n",
            "Epoch 20/100\n",
            "375/375 [==============================] - 1s 3ms/step - loss: 0.2545 - accuracy: 0.9029 - val_loss: 0.2956 - val_accuracy: 0.8923\n",
            "Epoch 21/100\n",
            "375/375 [==============================] - 1s 3ms/step - loss: 0.2512 - accuracy: 0.9035 - val_loss: 0.3123 - val_accuracy: 0.8888\n",
            "Epoch 22/100\n",
            "375/375 [==============================] - 1s 3ms/step - loss: 0.2528 - accuracy: 0.9044 - val_loss: 0.3066 - val_accuracy: 0.8904\n",
            "Epoch 23/100\n",
            "375/375 [==============================] - 1s 3ms/step - loss: 0.2482 - accuracy: 0.9061 - val_loss: 0.2940 - val_accuracy: 0.8951\n",
            "Epoch 24/100\n",
            "375/375 [==============================] - 1s 3ms/step - loss: 0.2427 - accuracy: 0.9078 - val_loss: 0.3045 - val_accuracy: 0.8892\n",
            "Epoch 25/100\n",
            "375/375 [==============================] - 1s 3ms/step - loss: 0.2398 - accuracy: 0.9083 - val_loss: 0.2958 - val_accuracy: 0.8941\n",
            "Epoch 26/100\n",
            "375/375 [==============================] - 1s 3ms/step - loss: 0.2378 - accuracy: 0.9104 - val_loss: 0.2993 - val_accuracy: 0.8929\n",
            "Epoch 27/100\n",
            "375/375 [==============================] - 1s 3ms/step - loss: 0.2338 - accuracy: 0.9118 - val_loss: 0.2941 - val_accuracy: 0.8978\n",
            "Epoch 28/100\n",
            "375/375 [==============================] - 1s 3ms/step - loss: 0.2299 - accuracy: 0.9118 - val_loss: 0.2965 - val_accuracy: 0.8982\n",
            "Epoch 29/100\n",
            "375/375 [==============================] - 1s 3ms/step - loss: 0.2308 - accuracy: 0.9107 - val_loss: 0.3045 - val_accuracy: 0.8973\n",
            "Epoch 30/100\n",
            "375/375 [==============================] - 1s 3ms/step - loss: 0.2294 - accuracy: 0.9104 - val_loss: 0.3279 - val_accuracy: 0.8907\n",
            "Epoch 31/100\n",
            "375/375 [==============================] - 1s 3ms/step - loss: 0.2296 - accuracy: 0.9140 - val_loss: 0.3019 - val_accuracy: 0.8930\n",
            "Epoch 32/100\n",
            "375/375 [==============================] - 1s 3ms/step - loss: 0.2200 - accuracy: 0.9171 - val_loss: 0.3075 - val_accuracy: 0.8937\n",
            "Epoch 33/100\n",
            "375/375 [==============================] - 1s 3ms/step - loss: 0.2266 - accuracy: 0.9141 - val_loss: 0.3006 - val_accuracy: 0.8961\n",
            "Epoch 34/100\n",
            "375/375 [==============================] - 1s 3ms/step - loss: 0.2186 - accuracy: 0.9156 - val_loss: 0.2888 - val_accuracy: 0.8997\n",
            "Epoch 35/100\n",
            "375/375 [==============================] - 1s 3ms/step - loss: 0.2115 - accuracy: 0.9184 - val_loss: 0.2975 - val_accuracy: 0.8997\n",
            "Epoch 36/100\n",
            "375/375 [==============================] - 1s 3ms/step - loss: 0.2127 - accuracy: 0.9189 - val_loss: 0.2939 - val_accuracy: 0.8975\n",
            "Epoch 37/100\n",
            "375/375 [==============================] - 1s 3ms/step - loss: 0.2120 - accuracy: 0.9191 - val_loss: 0.2918 - val_accuracy: 0.8991\n",
            "Epoch 38/100\n",
            "375/375 [==============================] - 1s 3ms/step - loss: 0.2125 - accuracy: 0.9182 - val_loss: 0.3178 - val_accuracy: 0.8963\n",
            "Epoch 39/100\n",
            "375/375 [==============================] - 1s 3ms/step - loss: 0.2092 - accuracy: 0.9196 - val_loss: 0.3015 - val_accuracy: 0.8970\n",
            "Epoch 40/100\n",
            "375/375 [==============================] - 1s 3ms/step - loss: 0.2050 - accuracy: 0.9219 - val_loss: 0.3122 - val_accuracy: 0.8943\n",
            "Epoch 41/100\n",
            "375/375 [==============================] - 1s 3ms/step - loss: 0.2101 - accuracy: 0.9189 - val_loss: 0.2958 - val_accuracy: 0.8969\n",
            "Epoch 42/100\n",
            "375/375 [==============================] - 1s 3ms/step - loss: 0.2007 - accuracy: 0.9226 - val_loss: 0.2935 - val_accuracy: 0.8999\n",
            "Epoch 43/100\n",
            "375/375 [==============================] - 1s 3ms/step - loss: 0.2028 - accuracy: 0.9227 - val_loss: 0.2977 - val_accuracy: 0.9008\n",
            "Epoch 44/100\n",
            "375/375 [==============================] - 1s 3ms/step - loss: 0.1997 - accuracy: 0.9245 - val_loss: 0.2986 - val_accuracy: 0.8982\n",
            "Epoch 45/100\n",
            "375/375 [==============================] - 1s 3ms/step - loss: 0.1945 - accuracy: 0.9245 - val_loss: 0.3150 - val_accuracy: 0.8932\n",
            "Epoch 46/100\n",
            "375/375 [==============================] - 1s 3ms/step - loss: 0.1933 - accuracy: 0.9256 - val_loss: 0.3175 - val_accuracy: 0.8943\n",
            "Epoch 47/100\n",
            "375/375 [==============================] - 1s 3ms/step - loss: 0.1934 - accuracy: 0.9252 - val_loss: 0.3058 - val_accuracy: 0.8997\n",
            "Epoch 48/100\n",
            "375/375 [==============================] - 1s 3ms/step - loss: 0.1931 - accuracy: 0.9254 - val_loss: 0.3135 - val_accuracy: 0.8946\n",
            "Epoch 49/100\n",
            "375/375 [==============================] - 1s 3ms/step - loss: 0.1922 - accuracy: 0.9273 - val_loss: 0.3067 - val_accuracy: 0.8978\n",
            "Epoch 50/100\n",
            "375/375 [==============================] - 1s 3ms/step - loss: 0.1911 - accuracy: 0.9288 - val_loss: 0.2995 - val_accuracy: 0.9031\n",
            "Epoch 51/100\n",
            "375/375 [==============================] - 1s 3ms/step - loss: 0.1860 - accuracy: 0.9289 - val_loss: 0.3060 - val_accuracy: 0.9014\n",
            "Epoch 52/100\n",
            "375/375 [==============================] - 1s 3ms/step - loss: 0.1840 - accuracy: 0.9300 - val_loss: 0.3009 - val_accuracy: 0.9018\n",
            "Epoch 53/100\n",
            "375/375 [==============================] - 1s 3ms/step - loss: 0.1811 - accuracy: 0.9291 - val_loss: 0.3138 - val_accuracy: 0.8976\n",
            "Epoch 54/100\n",
            "375/375 [==============================] - 1s 3ms/step - loss: 0.1865 - accuracy: 0.9291 - val_loss: 0.3120 - val_accuracy: 0.8963\n",
            "Epoch 55/100\n",
            "375/375 [==============================] - 1s 3ms/step - loss: 0.1790 - accuracy: 0.9320 - val_loss: 0.3131 - val_accuracy: 0.8999\n",
            "Epoch 56/100\n",
            "375/375 [==============================] - 1s 3ms/step - loss: 0.1752 - accuracy: 0.9318 - val_loss: 0.3259 - val_accuracy: 0.8988\n",
            "Epoch 57/100\n",
            "375/375 [==============================] - 1s 3ms/step - loss: 0.1848 - accuracy: 0.9271 - val_loss: 0.3142 - val_accuracy: 0.9000\n",
            "Epoch 58/100\n",
            "375/375 [==============================] - 1s 3ms/step - loss: 0.1781 - accuracy: 0.9315 - val_loss: 0.3153 - val_accuracy: 0.9015\n",
            "Epoch 59/100\n",
            "375/375 [==============================] - 1s 3ms/step - loss: 0.1730 - accuracy: 0.9320 - val_loss: 0.3114 - val_accuracy: 0.9023\n",
            "Epoch 60/100\n",
            "375/375 [==============================] - 1s 3ms/step - loss: 0.1770 - accuracy: 0.9318 - val_loss: 0.3118 - val_accuracy: 0.8993\n",
            "Epoch 61/100\n",
            "375/375 [==============================] - 1s 3ms/step - loss: 0.1773 - accuracy: 0.9333 - val_loss: 0.3115 - val_accuracy: 0.8994\n",
            "Epoch 62/100\n",
            "375/375 [==============================] - 1s 3ms/step - loss: 0.1690 - accuracy: 0.9354 - val_loss: 0.3115 - val_accuracy: 0.9011\n",
            "Epoch 63/100\n",
            "375/375 [==============================] - 1s 3ms/step - loss: 0.1678 - accuracy: 0.9353 - val_loss: 0.3171 - val_accuracy: 0.8996\n",
            "Epoch 64/100\n",
            "375/375 [==============================] - 1s 3ms/step - loss: 0.1671 - accuracy: 0.9361 - val_loss: 0.3127 - val_accuracy: 0.9000\n",
            "Epoch 65/100\n",
            "375/375 [==============================] - 1s 3ms/step - loss: 0.1666 - accuracy: 0.9360 - val_loss: 0.3298 - val_accuracy: 0.8972\n",
            "Epoch 66/100\n",
            "375/375 [==============================] - 1s 3ms/step - loss: 0.1711 - accuracy: 0.9320 - val_loss: 0.3236 - val_accuracy: 0.8970\n",
            "Epoch 67/100\n",
            "375/375 [==============================] - 1s 3ms/step - loss: 0.1695 - accuracy: 0.9357 - val_loss: 0.3181 - val_accuracy: 0.8977\n",
            "Epoch 68/100\n",
            "375/375 [==============================] - 1s 3ms/step - loss: 0.1626 - accuracy: 0.9370 - val_loss: 0.3071 - val_accuracy: 0.9028\n",
            "Epoch 69/100\n",
            "375/375 [==============================] - 1s 3ms/step - loss: 0.1602 - accuracy: 0.9383 - val_loss: 0.3159 - val_accuracy: 0.9010\n",
            "Epoch 70/100\n",
            "375/375 [==============================] - 1s 3ms/step - loss: 0.1638 - accuracy: 0.9388 - val_loss: 0.3237 - val_accuracy: 0.9024\n",
            "Epoch 71/100\n",
            "375/375 [==============================] - 1s 3ms/step - loss: 0.1653 - accuracy: 0.9362 - val_loss: 0.3119 - val_accuracy: 0.9026\n",
            "Epoch 72/100\n",
            "375/375 [==============================] - 1s 3ms/step - loss: 0.1604 - accuracy: 0.9372 - val_loss: 0.3264 - val_accuracy: 0.9023\n",
            "Epoch 73/100\n",
            "375/375 [==============================] - 1s 3ms/step - loss: 0.1636 - accuracy: 0.9363 - val_loss: 0.3272 - val_accuracy: 0.8991\n",
            "Epoch 74/100\n",
            "375/375 [==============================] - 1s 3ms/step - loss: 0.1587 - accuracy: 0.9394 - val_loss: 0.3262 - val_accuracy: 0.8996\n",
            "Epoch 75/100\n",
            "375/375 [==============================] - 1s 3ms/step - loss: 0.1575 - accuracy: 0.9407 - val_loss: 0.3207 - val_accuracy: 0.9027\n",
            "Epoch 76/100\n",
            "375/375 [==============================] - 1s 3ms/step - loss: 0.1527 - accuracy: 0.9420 - val_loss: 0.3160 - val_accuracy: 0.9028\n",
            "Epoch 77/100\n",
            "375/375 [==============================] - 1s 3ms/step - loss: 0.1579 - accuracy: 0.9407 - val_loss: 0.3176 - val_accuracy: 0.9036\n",
            "Epoch 78/100\n",
            "375/375 [==============================] - 1s 3ms/step - loss: 0.1600 - accuracy: 0.9384 - val_loss: 0.3253 - val_accuracy: 0.9022\n",
            "Epoch 79/100\n",
            "375/375 [==============================] - 1s 3ms/step - loss: 0.1575 - accuracy: 0.9381 - val_loss: 0.3274 - val_accuracy: 0.9034\n",
            "Epoch 80/100\n",
            "375/375 [==============================] - 1s 3ms/step - loss: 0.1494 - accuracy: 0.9435 - val_loss: 0.3435 - val_accuracy: 0.8979\n",
            "Epoch 81/100\n",
            "375/375 [==============================] - 1s 3ms/step - loss: 0.1524 - accuracy: 0.9409 - val_loss: 0.3383 - val_accuracy: 0.9009\n",
            "Epoch 82/100\n",
            "375/375 [==============================] - 1s 3ms/step - loss: 0.1491 - accuracy: 0.9435 - val_loss: 0.3441 - val_accuracy: 0.8997\n",
            "Epoch 83/100\n",
            "375/375 [==============================] - 1s 3ms/step - loss: 0.1538 - accuracy: 0.9405 - val_loss: 0.3465 - val_accuracy: 0.8975\n",
            "Epoch 84/100\n",
            "375/375 [==============================] - 1s 3ms/step - loss: 0.1572 - accuracy: 0.9410 - val_loss: 0.3314 - val_accuracy: 0.8972\n",
            "Epoch 85/100\n",
            "375/375 [==============================] - 1s 3ms/step - loss: 0.1514 - accuracy: 0.9416 - val_loss: 0.3272 - val_accuracy: 0.9019\n",
            "Epoch 86/100\n",
            "375/375 [==============================] - 1s 3ms/step - loss: 0.1457 - accuracy: 0.9436 - val_loss: 0.3315 - val_accuracy: 0.9022\n",
            "Epoch 87/100\n",
            "375/375 [==============================] - 1s 3ms/step - loss: 0.1493 - accuracy: 0.9420 - val_loss: 0.3247 - val_accuracy: 0.9027\n",
            "Epoch 88/100\n",
            "375/375 [==============================] - 1s 3ms/step - loss: 0.1494 - accuracy: 0.9438 - val_loss: 0.3362 - val_accuracy: 0.8999\n",
            "Epoch 89/100\n",
            "375/375 [==============================] - 1s 3ms/step - loss: 0.1436 - accuracy: 0.9458 - val_loss: 0.3318 - val_accuracy: 0.9014\n",
            "Epoch 90/100\n",
            "375/375 [==============================] - 1s 3ms/step - loss: 0.1516 - accuracy: 0.9439 - val_loss: 0.3269 - val_accuracy: 0.9014\n",
            "Epoch 91/100\n",
            "375/375 [==============================] - 1s 3ms/step - loss: 0.1453 - accuracy: 0.9444 - val_loss: 0.3359 - val_accuracy: 0.9037\n",
            "Epoch 92/100\n",
            "375/375 [==============================] - 1s 3ms/step - loss: 0.1423 - accuracy: 0.9451 - val_loss: 0.3382 - val_accuracy: 0.8972\n",
            "Epoch 93/100\n",
            "375/375 [==============================] - 1s 3ms/step - loss: 0.1406 - accuracy: 0.9450 - val_loss: 0.3369 - val_accuracy: 0.9003\n",
            "Epoch 94/100\n",
            "375/375 [==============================] - 1s 3ms/step - loss: 0.1488 - accuracy: 0.9436 - val_loss: 0.3446 - val_accuracy: 0.9036\n",
            "Epoch 95/100\n",
            "375/375 [==============================] - 1s 3ms/step - loss: 0.1415 - accuracy: 0.9456 - val_loss: 0.3347 - val_accuracy: 0.9015\n",
            "Epoch 96/100\n",
            "375/375 [==============================] - 1s 3ms/step - loss: 0.1381 - accuracy: 0.9464 - val_loss: 0.3446 - val_accuracy: 0.9016\n",
            "Epoch 97/100\n",
            "375/375 [==============================] - 1s 3ms/step - loss: 0.1382 - accuracy: 0.9469 - val_loss: 0.3380 - val_accuracy: 0.9040\n",
            "Epoch 98/100\n",
            "375/375 [==============================] - 1s 3ms/step - loss: 0.1328 - accuracy: 0.9486 - val_loss: 0.3495 - val_accuracy: 0.9015\n",
            "Epoch 99/100\n",
            "375/375 [==============================] - 1s 3ms/step - loss: 0.1366 - accuracy: 0.9467 - val_loss: 0.3463 - val_accuracy: 0.9029\n",
            "Epoch 100/100\n",
            "375/375 [==============================] - 1s 3ms/step - loss: 0.1375 - accuracy: 0.9461 - val_loss: 0.3527 - val_accuracy: 0.8993\n",
            "CPU times: user 1min 59s, sys: 18.7 s, total: 2min 18s\n",
            "Wall time: 1min 50s\n"
          ],
          "name": "stdout"
        }
      ]
    },
    {
      "cell_type": "markdown",
      "metadata": {
        "id": "Uou8aBDVy2NV"
      },
      "source": [
        "#### Dropout Model Capacity"
      ]
    },
    {
      "cell_type": "code",
      "metadata": {
        "colab": {
          "base_uri": "https://localhost:8080/"
        },
        "id": "YCXrQWLXWtRd",
        "outputId": "2a56ac9c-1239-46d0-d713-d75e31fa9800"
      },
      "source": [
        "drop_loss, drop_accuracy = fashion.evaluate(X_test, y_test)\n",
        "capacity.append(('Dropout', drop_loss, drop_accuracy))\n",
        "\n",
        "print('Loss = {:.5f}'.format(drop_loss))\n",
        "print('Accuracy = {:.5f}'.format(drop_accuracy))"
      ],
      "execution_count": null,
      "outputs": [
        {
          "output_type": "stream",
          "text": [
            "313/313 [==============================] - 1s 2ms/step - loss: 0.3898 - accuracy: 0.8959\n",
            "Loss = 0.38981\n",
            "Accuracy = 0.89590\n"
          ],
          "name": "stdout"
        }
      ]
    },
    {
      "cell_type": "markdown",
      "metadata": {
        "id": "Z_LgxupiZYUO"
      },
      "source": [
        "> ### 4. Batch Normalization"
      ]
    },
    {
      "cell_type": "code",
      "metadata": {
        "id": "kxh2YBReWfyh"
      },
      "source": [
        "from keras import models\n",
        "from keras import layers\n",
        "\n",
        "mnist = models.Sequential()\n",
        "mnist.add(layers.Dense(512, activation='relu', input_shape=(28*28,)))\n",
        "mnist.add(layers.BatchNormalization())\n",
        "mnist.add(layers.Dense(256))\n",
        "mnist.add(layers.BatchNormalization())\n",
        "mnist.add(layers.Activation('relu'))\n",
        "mnist.add(layers.Dense(10, activation='softmax'))"
      ],
      "execution_count": null,
      "outputs": []
    },
    {
      "cell_type": "code",
      "metadata": {
        "id": "8vl33FABZhqT"
      },
      "source": [
        "fashion.compile(loss='categorical_crossentropy',\n",
        "                optimizer='adam',\n",
        "                metrics=['accuracy'])"
      ],
      "execution_count": null,
      "outputs": []
    },
    {
      "cell_type": "code",
      "metadata": {
        "colab": {
          "base_uri": "https://localhost:8080/"
        },
        "id": "QvaQGZi1Zhk1",
        "outputId": "6a3f069a-4bc4-4d44-fa1b-4825dbb02706"
      },
      "source": [
        "%%time\n",
        "\n",
        "Hist_fashion = fashion.fit(X_train, y_train, epochs=100, batch_size=128, validation_split=0.2)"
      ],
      "execution_count": null,
      "outputs": [
        {
          "output_type": "stream",
          "text": [
            "Epoch 1/100\n",
            "375/375 [==============================] - 2s 4ms/step - loss: 0.0969 - accuracy: 0.9642 - val_loss: 0.4468 - val_accuracy: 0.9021\n",
            "Epoch 2/100\n",
            "375/375 [==============================] - 1s 3ms/step - loss: 0.1017 - accuracy: 0.9618 - val_loss: 0.4641 - val_accuracy: 0.8991\n",
            "Epoch 3/100\n",
            "375/375 [==============================] - 1s 3ms/step - loss: 0.0974 - accuracy: 0.9636 - val_loss: 0.4182 - val_accuracy: 0.9054\n",
            "Epoch 4/100\n",
            "375/375 [==============================] - 1s 3ms/step - loss: 0.0935 - accuracy: 0.9653 - val_loss: 0.4373 - val_accuracy: 0.9036\n",
            "Epoch 5/100\n",
            "375/375 [==============================] - 1s 3ms/step - loss: 0.0933 - accuracy: 0.9668 - val_loss: 0.4103 - val_accuracy: 0.9047\n",
            "Epoch 6/100\n",
            "375/375 [==============================] - 1s 3ms/step - loss: 0.0926 - accuracy: 0.9644 - val_loss: 0.4447 - val_accuracy: 0.9021\n",
            "Epoch 7/100\n",
            "375/375 [==============================] - 1s 3ms/step - loss: 0.0907 - accuracy: 0.9664 - val_loss: 0.4255 - val_accuracy: 0.9030\n",
            "Epoch 8/100\n",
            "375/375 [==============================] - 1s 3ms/step - loss: 0.0926 - accuracy: 0.9655 - val_loss: 0.4381 - val_accuracy: 0.9039\n",
            "Epoch 9/100\n",
            "375/375 [==============================] - 1s 3ms/step - loss: 0.0933 - accuracy: 0.9654 - val_loss: 0.4286 - val_accuracy: 0.9028\n",
            "Epoch 10/100\n",
            "375/375 [==============================] - 1s 3ms/step - loss: 0.0911 - accuracy: 0.9670 - val_loss: 0.4126 - val_accuracy: 0.9043\n",
            "Epoch 11/100\n",
            "375/375 [==============================] - 1s 3ms/step - loss: 0.0925 - accuracy: 0.9653 - val_loss: 0.4191 - val_accuracy: 0.9031\n",
            "Epoch 12/100\n",
            "375/375 [==============================] - 1s 3ms/step - loss: 0.0958 - accuracy: 0.9637 - val_loss: 0.4279 - val_accuracy: 0.9049\n",
            "Epoch 13/100\n",
            "375/375 [==============================] - 1s 3ms/step - loss: 0.0947 - accuracy: 0.9638 - val_loss: 0.4220 - val_accuracy: 0.9022\n",
            "Epoch 14/100\n",
            "375/375 [==============================] - 1s 3ms/step - loss: 0.0922 - accuracy: 0.9647 - val_loss: 0.4212 - val_accuracy: 0.9068\n",
            "Epoch 15/100\n",
            "375/375 [==============================] - 1s 3ms/step - loss: 0.0971 - accuracy: 0.9644 - val_loss: 0.4084 - val_accuracy: 0.9044\n",
            "Epoch 16/100\n",
            "375/375 [==============================] - 1s 3ms/step - loss: 0.0882 - accuracy: 0.9686 - val_loss: 0.4268 - val_accuracy: 0.9049\n",
            "Epoch 17/100\n",
            "375/375 [==============================] - 1s 3ms/step - loss: 0.0905 - accuracy: 0.9659 - val_loss: 0.4392 - val_accuracy: 0.9050\n",
            "Epoch 18/100\n",
            "375/375 [==============================] - 1s 3ms/step - loss: 0.0880 - accuracy: 0.9672 - val_loss: 0.4194 - val_accuracy: 0.9055\n",
            "Epoch 19/100\n",
            "375/375 [==============================] - 1s 3ms/step - loss: 0.0883 - accuracy: 0.9675 - val_loss: 0.4216 - val_accuracy: 0.9042\n",
            "Epoch 20/100\n",
            "375/375 [==============================] - 1s 3ms/step - loss: 0.0862 - accuracy: 0.9687 - val_loss: 0.4472 - val_accuracy: 0.9053\n",
            "Epoch 21/100\n",
            "375/375 [==============================] - 1s 3ms/step - loss: 0.0886 - accuracy: 0.9668 - val_loss: 0.4294 - val_accuracy: 0.9047\n",
            "Epoch 22/100\n",
            "375/375 [==============================] - 1s 3ms/step - loss: 0.0867 - accuracy: 0.9665 - val_loss: 0.4171 - val_accuracy: 0.9032\n",
            "Epoch 23/100\n",
            "375/375 [==============================] - 1s 3ms/step - loss: 0.0945 - accuracy: 0.9660 - val_loss: 0.4437 - val_accuracy: 0.9043\n",
            "Epoch 24/100\n",
            "375/375 [==============================] - 1s 3ms/step - loss: 0.0971 - accuracy: 0.9637 - val_loss: 0.4458 - val_accuracy: 0.9027\n",
            "Epoch 25/100\n",
            "375/375 [==============================] - 1s 3ms/step - loss: 0.0928 - accuracy: 0.9639 - val_loss: 0.4527 - val_accuracy: 0.9037\n",
            "Epoch 26/100\n",
            "375/375 [==============================] - 1s 3ms/step - loss: 0.0876 - accuracy: 0.9674 - val_loss: 0.4593 - val_accuracy: 0.9018\n",
            "Epoch 27/100\n",
            "375/375 [==============================] - 1s 3ms/step - loss: 0.0909 - accuracy: 0.9652 - val_loss: 0.4288 - val_accuracy: 0.9027\n",
            "Epoch 28/100\n",
            "375/375 [==============================] - 1s 3ms/step - loss: 0.0877 - accuracy: 0.9666 - val_loss: 0.4424 - val_accuracy: 0.9039\n",
            "Epoch 29/100\n",
            "375/375 [==============================] - 1s 3ms/step - loss: 0.0881 - accuracy: 0.9656 - val_loss: 0.4316 - val_accuracy: 0.9057\n",
            "Epoch 30/100\n",
            "375/375 [==============================] - 1s 3ms/step - loss: 0.0873 - accuracy: 0.9670 - val_loss: 0.4632 - val_accuracy: 0.9027\n",
            "Epoch 31/100\n",
            "375/375 [==============================] - 1s 3ms/step - loss: 0.0908 - accuracy: 0.9673 - val_loss: 0.4467 - val_accuracy: 0.9046\n",
            "Epoch 32/100\n",
            "375/375 [==============================] - 1s 3ms/step - loss: 0.0867 - accuracy: 0.9683 - val_loss: 0.4290 - val_accuracy: 0.9001\n",
            "Epoch 33/100\n",
            "375/375 [==============================] - 1s 3ms/step - loss: 0.0889 - accuracy: 0.9681 - val_loss: 0.4601 - val_accuracy: 0.9016\n",
            "Epoch 34/100\n",
            "375/375 [==============================] - 1s 3ms/step - loss: 0.0870 - accuracy: 0.9675 - val_loss: 0.4506 - val_accuracy: 0.9036\n",
            "Epoch 35/100\n",
            "375/375 [==============================] - 1s 3ms/step - loss: 0.0850 - accuracy: 0.9674 - val_loss: 0.4664 - val_accuracy: 0.9046\n",
            "Epoch 36/100\n",
            "375/375 [==============================] - 1s 3ms/step - loss: 0.0833 - accuracy: 0.9692 - val_loss: 0.4482 - val_accuracy: 0.9025\n",
            "Epoch 37/100\n",
            "375/375 [==============================] - 1s 3ms/step - loss: 0.0823 - accuracy: 0.9694 - val_loss: 0.4686 - val_accuracy: 0.8995\n",
            "Epoch 38/100\n",
            "375/375 [==============================] - 1s 3ms/step - loss: 0.0893 - accuracy: 0.9669 - val_loss: 0.4539 - val_accuracy: 0.9006\n",
            "Epoch 39/100\n",
            "375/375 [==============================] - 1s 3ms/step - loss: 0.0885 - accuracy: 0.9669 - val_loss: 0.4485 - val_accuracy: 0.9027\n",
            "Epoch 40/100\n",
            "375/375 [==============================] - 1s 3ms/step - loss: 0.0855 - accuracy: 0.9682 - val_loss: 0.4542 - val_accuracy: 0.9058\n",
            "Epoch 41/100\n",
            "375/375 [==============================] - 1s 3ms/step - loss: 0.0837 - accuracy: 0.9694 - val_loss: 0.4693 - val_accuracy: 0.9043\n",
            "Epoch 42/100\n",
            "375/375 [==============================] - 1s 3ms/step - loss: 0.0876 - accuracy: 0.9671 - val_loss: 0.4421 - val_accuracy: 0.9013\n",
            "Epoch 43/100\n",
            "375/375 [==============================] - 1s 3ms/step - loss: 0.0834 - accuracy: 0.9698 - val_loss: 0.4562 - val_accuracy: 0.9015\n",
            "Epoch 44/100\n",
            "375/375 [==============================] - 1s 3ms/step - loss: 0.0865 - accuracy: 0.9685 - val_loss: 0.4641 - val_accuracy: 0.9013\n",
            "Epoch 45/100\n",
            "375/375 [==============================] - 1s 3ms/step - loss: 0.0852 - accuracy: 0.9690 - val_loss: 0.4512 - val_accuracy: 0.9011\n",
            "Epoch 46/100\n",
            "375/375 [==============================] - 1s 3ms/step - loss: 0.0848 - accuracy: 0.9686 - val_loss: 0.4354 - val_accuracy: 0.9019\n",
            "Epoch 47/100\n",
            "375/375 [==============================] - 1s 3ms/step - loss: 0.0848 - accuracy: 0.9686 - val_loss: 0.4574 - val_accuracy: 0.9022\n",
            "Epoch 48/100\n",
            "375/375 [==============================] - 1s 3ms/step - loss: 0.0832 - accuracy: 0.9695 - val_loss: 0.4650 - val_accuracy: 0.9028\n",
            "Epoch 49/100\n",
            "375/375 [==============================] - 1s 3ms/step - loss: 0.0842 - accuracy: 0.9684 - val_loss: 0.4678 - val_accuracy: 0.9022\n",
            "Epoch 50/100\n",
            "375/375 [==============================] - 1s 3ms/step - loss: 0.0853 - accuracy: 0.9682 - val_loss: 0.4505 - val_accuracy: 0.9045\n",
            "Epoch 51/100\n",
            "375/375 [==============================] - 1s 3ms/step - loss: 0.0809 - accuracy: 0.9695 - val_loss: 0.4768 - val_accuracy: 0.9038\n",
            "Epoch 52/100\n",
            "375/375 [==============================] - 1s 3ms/step - loss: 0.0853 - accuracy: 0.9703 - val_loss: 0.4418 - val_accuracy: 0.9034\n",
            "Epoch 53/100\n",
            "375/375 [==============================] - 1s 3ms/step - loss: 0.0851 - accuracy: 0.9685 - val_loss: 0.4565 - val_accuracy: 0.9036\n",
            "Epoch 54/100\n",
            "375/375 [==============================] - 1s 3ms/step - loss: 0.0883 - accuracy: 0.9674 - val_loss: 0.4536 - val_accuracy: 0.9037\n",
            "Epoch 55/100\n",
            "375/375 [==============================] - 1s 3ms/step - loss: 0.0839 - accuracy: 0.9682 - val_loss: 0.4529 - val_accuracy: 0.9037\n",
            "Epoch 56/100\n",
            "375/375 [==============================] - 1s 3ms/step - loss: 0.0868 - accuracy: 0.9694 - val_loss: 0.4571 - val_accuracy: 0.9032\n",
            "Epoch 57/100\n",
            "375/375 [==============================] - 1s 3ms/step - loss: 0.0848 - accuracy: 0.9698 - val_loss: 0.4535 - val_accuracy: 0.9016\n",
            "Epoch 58/100\n",
            "375/375 [==============================] - 1s 3ms/step - loss: 0.0793 - accuracy: 0.9708 - val_loss: 0.4678 - val_accuracy: 0.9015\n",
            "Epoch 59/100\n",
            "375/375 [==============================] - 1s 3ms/step - loss: 0.0815 - accuracy: 0.9686 - val_loss: 0.4438 - val_accuracy: 0.9058\n",
            "Epoch 60/100\n",
            "375/375 [==============================] - 1s 3ms/step - loss: 0.0838 - accuracy: 0.9685 - val_loss: 0.4557 - val_accuracy: 0.9032\n",
            "Epoch 61/100\n",
            "375/375 [==============================] - 1s 3ms/step - loss: 0.0773 - accuracy: 0.9721 - val_loss: 0.4650 - val_accuracy: 0.9057\n",
            "Epoch 62/100\n",
            "375/375 [==============================] - 1s 3ms/step - loss: 0.0816 - accuracy: 0.9722 - val_loss: 0.4631 - val_accuracy: 0.9037\n",
            "Epoch 63/100\n",
            "375/375 [==============================] - 1s 3ms/step - loss: 0.0860 - accuracy: 0.9693 - val_loss: 0.4639 - val_accuracy: 0.9041\n",
            "Epoch 64/100\n",
            "375/375 [==============================] - 1s 3ms/step - loss: 0.0826 - accuracy: 0.9707 - val_loss: 0.4609 - val_accuracy: 0.9040\n",
            "Epoch 65/100\n",
            "375/375 [==============================] - 1s 3ms/step - loss: 0.0893 - accuracy: 0.9681 - val_loss: 0.4534 - val_accuracy: 0.9024\n",
            "Epoch 66/100\n",
            "375/375 [==============================] - 1s 3ms/step - loss: 0.0789 - accuracy: 0.9717 - val_loss: 0.4836 - val_accuracy: 0.9061\n",
            "Epoch 67/100\n",
            "375/375 [==============================] - 1s 3ms/step - loss: 0.0733 - accuracy: 0.9740 - val_loss: 0.4587 - val_accuracy: 0.9016\n",
            "Epoch 68/100\n",
            "375/375 [==============================] - 1s 3ms/step - loss: 0.0824 - accuracy: 0.9702 - val_loss: 0.4716 - val_accuracy: 0.9040\n",
            "Epoch 69/100\n",
            "375/375 [==============================] - 1s 3ms/step - loss: 0.0877 - accuracy: 0.9680 - val_loss: 0.4447 - val_accuracy: 0.9028\n",
            "Epoch 70/100\n",
            "375/375 [==============================] - 1s 3ms/step - loss: 0.0791 - accuracy: 0.9705 - val_loss: 0.4429 - val_accuracy: 0.9043\n",
            "Epoch 71/100\n",
            "375/375 [==============================] - 1s 3ms/step - loss: 0.0831 - accuracy: 0.9707 - val_loss: 0.4652 - val_accuracy: 0.9033\n",
            "Epoch 72/100\n",
            "375/375 [==============================] - 1s 3ms/step - loss: 0.0870 - accuracy: 0.9676 - val_loss: 0.4454 - val_accuracy: 0.9013\n",
            "Epoch 73/100\n",
            "375/375 [==============================] - 1s 3ms/step - loss: 0.0793 - accuracy: 0.9708 - val_loss: 0.4656 - val_accuracy: 0.9030\n",
            "Epoch 74/100\n",
            "375/375 [==============================] - 1s 3ms/step - loss: 0.0816 - accuracy: 0.9698 - val_loss: 0.4944 - val_accuracy: 0.9022\n",
            "Epoch 75/100\n",
            "375/375 [==============================] - 1s 3ms/step - loss: 0.0791 - accuracy: 0.9698 - val_loss: 0.4606 - val_accuracy: 0.9038\n",
            "Epoch 76/100\n",
            "375/375 [==============================] - 1s 3ms/step - loss: 0.0747 - accuracy: 0.9728 - val_loss: 0.4661 - val_accuracy: 0.9027\n",
            "Epoch 77/100\n",
            "375/375 [==============================] - 1s 3ms/step - loss: 0.0814 - accuracy: 0.9706 - val_loss: 0.4758 - val_accuracy: 0.9016\n",
            "Epoch 78/100\n",
            "375/375 [==============================] - 1s 3ms/step - loss: 0.0800 - accuracy: 0.9720 - val_loss: 0.4616 - val_accuracy: 0.9028\n",
            "Epoch 79/100\n",
            "375/375 [==============================] - 1s 3ms/step - loss: 0.0795 - accuracy: 0.9709 - val_loss: 0.5005 - val_accuracy: 0.9047\n",
            "Epoch 80/100\n",
            "375/375 [==============================] - 1s 3ms/step - loss: 0.0780 - accuracy: 0.9716 - val_loss: 0.4480 - val_accuracy: 0.9050\n",
            "Epoch 81/100\n",
            "375/375 [==============================] - 1s 3ms/step - loss: 0.0787 - accuracy: 0.9731 - val_loss: 0.4790 - val_accuracy: 0.9015\n",
            "Epoch 82/100\n",
            "375/375 [==============================] - 1s 3ms/step - loss: 0.0803 - accuracy: 0.9704 - val_loss: 0.4821 - val_accuracy: 0.9057\n",
            "Epoch 83/100\n",
            "375/375 [==============================] - 1s 3ms/step - loss: 0.0803 - accuracy: 0.9727 - val_loss: 0.4978 - val_accuracy: 0.9040\n",
            "Epoch 84/100\n",
            "375/375 [==============================] - 1s 3ms/step - loss: 0.0822 - accuracy: 0.9685 - val_loss: 0.4872 - val_accuracy: 0.9067\n",
            "Epoch 85/100\n",
            "375/375 [==============================] - 1s 3ms/step - loss: 0.0720 - accuracy: 0.9741 - val_loss: 0.4679 - val_accuracy: 0.9040\n",
            "Epoch 86/100\n",
            "375/375 [==============================] - 1s 3ms/step - loss: 0.0799 - accuracy: 0.9711 - val_loss: 0.4890 - val_accuracy: 0.9041\n",
            "Epoch 87/100\n",
            "375/375 [==============================] - 1s 3ms/step - loss: 0.0791 - accuracy: 0.9703 - val_loss: 0.4856 - val_accuracy: 0.9035\n",
            "Epoch 88/100\n",
            "375/375 [==============================] - 1s 3ms/step - loss: 0.0817 - accuracy: 0.9698 - val_loss: 0.4695 - val_accuracy: 0.9064\n",
            "Epoch 89/100\n",
            "375/375 [==============================] - 1s 3ms/step - loss: 0.0731 - accuracy: 0.9737 - val_loss: 0.4697 - val_accuracy: 0.9022\n",
            "Epoch 90/100\n",
            "375/375 [==============================] - 1s 3ms/step - loss: 0.0763 - accuracy: 0.9712 - val_loss: 0.4978 - val_accuracy: 0.9043\n",
            "Epoch 91/100\n",
            "375/375 [==============================] - 1s 3ms/step - loss: 0.0733 - accuracy: 0.9737 - val_loss: 0.4838 - val_accuracy: 0.9053\n",
            "Epoch 92/100\n",
            "375/375 [==============================] - 1s 3ms/step - loss: 0.0781 - accuracy: 0.9718 - val_loss: 0.4596 - val_accuracy: 0.9052\n",
            "Epoch 93/100\n",
            "375/375 [==============================] - 1s 3ms/step - loss: 0.0752 - accuracy: 0.9724 - val_loss: 0.4707 - val_accuracy: 0.9053\n",
            "Epoch 94/100\n",
            "375/375 [==============================] - 1s 3ms/step - loss: 0.0780 - accuracy: 0.9709 - val_loss: 0.4797 - val_accuracy: 0.9056\n",
            "Epoch 95/100\n",
            "375/375 [==============================] - 1s 3ms/step - loss: 0.0779 - accuracy: 0.9703 - val_loss: 0.5057 - val_accuracy: 0.9023\n",
            "Epoch 96/100\n",
            "375/375 [==============================] - 1s 3ms/step - loss: 0.0784 - accuracy: 0.9713 - val_loss: 0.4730 - val_accuracy: 0.9040\n",
            "Epoch 97/100\n",
            "375/375 [==============================] - 1s 3ms/step - loss: 0.0804 - accuracy: 0.9701 - val_loss: 0.4990 - val_accuracy: 0.9020\n",
            "Epoch 98/100\n",
            "375/375 [==============================] - 1s 3ms/step - loss: 0.0793 - accuracy: 0.9710 - val_loss: 0.4763 - val_accuracy: 0.9048\n",
            "Epoch 99/100\n",
            "375/375 [==============================] - 1s 3ms/step - loss: 0.0766 - accuracy: 0.9722 - val_loss: 0.5090 - val_accuracy: 0.9041\n",
            "Epoch 100/100\n",
            "375/375 [==============================] - 1s 3ms/step - loss: 0.0699 - accuracy: 0.9734 - val_loss: 0.4818 - val_accuracy: 0.9021\n",
            "CPU times: user 2min, sys: 18.4 s, total: 2min 18s\n",
            "Wall time: 1min 50s\n"
          ],
          "name": "stdout"
        }
      ]
    },
    {
      "cell_type": "markdown",
      "metadata": {
        "id": "JypA4_3Ay8il"
      },
      "source": [
        "#### Batch Normalization Model Capacity"
      ]
    },
    {
      "cell_type": "code",
      "metadata": {
        "colab": {
          "base_uri": "https://localhost:8080/"
        },
        "id": "cWUKxGyhZhST",
        "outputId": "fad48f48-0126-46fc-c96e-24f60946e11b"
      },
      "source": [
        "BN_loss, BN_accuracy = fashion.evaluate(X_test, y_test)\n",
        "capacity.append(('BN', BN_loss, BN_accuracy))\n",
        "\n",
        "print('Loss = {:.5f}'.format(BN_loss))\n",
        "print('Accuracy = {:.5f}'.format(BN_accuracy))"
      ],
      "execution_count": null,
      "outputs": [
        {
          "output_type": "stream",
          "text": [
            "313/313 [==============================] - 1s 2ms/step - loss: 0.5265 - accuracy: 0.9014\n",
            "Loss = 0.52649\n",
            "Accuracy = 0.90140\n"
          ],
          "name": "stdout"
        }
      ]
    },
    {
      "cell_type": "code",
      "metadata": {
        "colab": {
          "base_uri": "https://localhost:8080/",
          "height": 404
        },
        "id": "wsvHbgDhbi60",
        "outputId": "6507560e-7da0-46b8-a71d-b7c701fd915f"
      },
      "source": [
        "import matplotlib.pyplot as plt\n",
        "\n",
        "epochs = range(1, len(Hist_fashion.history['loss']) + 1)\n",
        "plt.figure(figsize = (9, 6))\n",
        "plt.plot(epochs, Hist_fashion.history['loss'])\n",
        "plt.plot(epochs, Hist_fashion.history['val_loss'])\n",
        "# plt.ylim(0, 0.25)\n",
        "plt.title('Training & Validation Loss')\n",
        "plt.xlabel('Epochs')\n",
        "plt.ylabel('Loss')\n",
        "plt.legend(['Training Loss', 'Validation Loss'])\n",
        "plt.grid()\n",
        "plt.show()\n",
        "\n",
        "# 띠용.........gap 이 줄어 들지 않음....."
      ],
      "execution_count": null,
      "outputs": [
        {
          "output_type": "display_data",
          "data": {
            "image/png": "[encoded data removed]",
            "text/plain": [
              "<Figure size 648x432 with 1 Axes>"
            ]
          },
          "metadata": {
            "tags": [],
            "needs_background": "light"
          }
        }
      ]
    },
    {
      "cell_type": "code",
      "metadata": {
        "colab": {
          "base_uri": "https://localhost:8080/"
        },
        "id": "cyA2hDvzZ6he",
        "outputId": "22cf11a2-b1da-4640-c875-8004f836981a"
      },
      "source": [
        "capacity"
      ],
      "execution_count": null,
      "outputs": [
        {
          "output_type": "execute_result",
          "data": {
            "text/plain": [
              "[('basic', 0.906448245048523, 0.896399974822998),\n",
              " ('adj_Model_capacity', 0.6721039414405823, 0.888700008392334),\n",
              " ('L1', 1.0707978010177612, 0.8356000185012817),\n",
              " ('L2', 0.48948609828948975, 0.847599983215332),\n",
              " ('Dropout', 0.3898071348667145, 0.8959000110626221),\n",
              " ('BN', 0.4682590961456299, 0.9009000062942505)]"
            ]
          },
          "metadata": {
            "tags": []
          },
          "execution_count": 80
        }
      ]
    },
    {
      "cell_type": "markdown",
      "metadata": {
        "id": "52wZQTunSDBo"
      },
      "source": [
        "> ### 5. Combine Model [Batch Normalization + Dropout]"
      ]
    },
    {
      "cell_type": "code",
      "metadata": {
        "id": "Zc7lbT53bcnx"
      },
      "source": [
        "from keras import backend as K\n",
        "\n",
        "K.clear_session()"
      ],
      "execution_count": null,
      "outputs": []
    },
    {
      "cell_type": "code",
      "metadata": {
        "id": "lD49DHczaXt6"
      },
      "source": [
        "from keras import models\n",
        "from keras import layers\n",
        "\n",
        "fashion = models.Sequential()\n",
        "fashion.add(layers.Dense(512, activation='relu', input_shape=(28*28,)))\n",
        "fashion.add(layers.Dropout(0.4))\n",
        "fashion.add(layers.BatchNormalization())\n",
        "fashion.add(layers.Dense(256))\n",
        "fashion.add(layers.Dropout(0.2))\n",
        "fashion.add(layers.BatchNormalization())\n",
        "fashion.add(layers.Activation('relu'))\n",
        "fashion.add(layers.Dense(10, activation='softmax'))"
      ],
      "execution_count": null,
      "outputs": []
    },
    {
      "cell_type": "code",
      "metadata": {
        "id": "JEARwsQSa0PC"
      },
      "source": [
        "fashion.compile(loss='categorical_crossentropy',\n",
        "                optimizer='adam',\n",
        "                metrics=['accuracy'])"
      ],
      "execution_count": null,
      "outputs": []
    },
    {
      "cell_type": "code",
      "metadata": {
        "colab": {
          "base_uri": "https://localhost:8080/"
        },
        "id": "d0gBvIqna0PD",
        "outputId": "577375cf-74fc-4309-eb23-b7e51e1e149f"
      },
      "source": [
        "# epochs 100\n",
        "\n",
        "%%time\n",
        "\n",
        "Hist_fashion = fashion.fit(X_train, y_train, epochs=100, batch_size=128, validation_split=0.2)"
      ],
      "execution_count": null,
      "outputs": [
        {
          "output_type": "stream",
          "text": [
            "Epoch 1/100\n",
            "375/375 [==============================] - 2s 4ms/step - loss: 0.7084 - accuracy: 0.7534 - val_loss: 0.4363 - val_accuracy: 0.8378\n",
            "Epoch 2/100\n",
            "375/375 [==============================] - 1s 4ms/step - loss: 0.4501 - accuracy: 0.8357 - val_loss: 0.4087 - val_accuracy: 0.8487\n",
            "Epoch 3/100\n",
            "375/375 [==============================] - 1s 3ms/step - loss: 0.4178 - accuracy: 0.8467 - val_loss: 0.3878 - val_accuracy: 0.8530\n",
            "Epoch 4/100\n",
            "375/375 [==============================] - 1s 4ms/step - loss: 0.4086 - accuracy: 0.8477 - val_loss: 0.4420 - val_accuracy: 0.8409\n",
            "Epoch 5/100\n",
            "375/375 [==============================] - 1s 4ms/step - loss: 0.3895 - accuracy: 0.8570 - val_loss: 0.3738 - val_accuracy: 0.8619\n",
            "Epoch 6/100\n",
            "375/375 [==============================] - 1s 4ms/step - loss: 0.3755 - accuracy: 0.8607 - val_loss: 0.3671 - val_accuracy: 0.8638\n",
            "Epoch 7/100\n",
            "375/375 [==============================] - 1s 3ms/step - loss: 0.3694 - accuracy: 0.8641 - val_loss: 0.3407 - val_accuracy: 0.8721\n",
            "Epoch 8/100\n",
            "375/375 [==============================] - 1s 3ms/step - loss: 0.3670 - accuracy: 0.8651 - val_loss: 0.3470 - val_accuracy: 0.8736\n",
            "Epoch 9/100\n",
            "375/375 [==============================] - 1s 3ms/step - loss: 0.3507 - accuracy: 0.8692 - val_loss: 0.3370 - val_accuracy: 0.8752\n",
            "Epoch 10/100\n",
            "375/375 [==============================] - 1s 3ms/step - loss: 0.3437 - accuracy: 0.8724 - val_loss: 0.3449 - val_accuracy: 0.8715\n",
            "Epoch 11/100\n",
            "375/375 [==============================] - 1s 3ms/step - loss: 0.3378 - accuracy: 0.8755 - val_loss: 0.3332 - val_accuracy: 0.8780\n",
            "Epoch 12/100\n",
            "375/375 [==============================] - 1s 3ms/step - loss: 0.3302 - accuracy: 0.8757 - val_loss: 0.3314 - val_accuracy: 0.8760\n",
            "Epoch 13/100\n",
            "375/375 [==============================] - 1s 3ms/step - loss: 0.3312 - accuracy: 0.8750 - val_loss: 0.3312 - val_accuracy: 0.8789\n",
            "Epoch 14/100\n",
            "375/375 [==============================] - 1s 3ms/step - loss: 0.3216 - accuracy: 0.8790 - val_loss: 0.3128 - val_accuracy: 0.8862\n",
            "Epoch 15/100\n",
            "375/375 [==============================] - 1s 3ms/step - loss: 0.3182 - accuracy: 0.8800 - val_loss: 0.3155 - val_accuracy: 0.8847\n",
            "Epoch 16/100\n",
            "375/375 [==============================] - 1s 3ms/step - loss: 0.3116 - accuracy: 0.8809 - val_loss: 0.3164 - val_accuracy: 0.8823\n",
            "Epoch 17/100\n",
            "375/375 [==============================] - 1s 3ms/step - loss: 0.3067 - accuracy: 0.8838 - val_loss: 0.3191 - val_accuracy: 0.8813\n",
            "Epoch 18/100\n",
            "375/375 [==============================] - 1s 3ms/step - loss: 0.3029 - accuracy: 0.8869 - val_loss: 0.3180 - val_accuracy: 0.8853\n",
            "Epoch 19/100\n",
            "375/375 [==============================] - 1s 3ms/step - loss: 0.3090 - accuracy: 0.8839 - val_loss: 0.3182 - val_accuracy: 0.8859\n",
            "Epoch 20/100\n",
            "375/375 [==============================] - 1s 4ms/step - loss: 0.3013 - accuracy: 0.8860 - val_loss: 0.3183 - val_accuracy: 0.8848\n",
            "Epoch 21/100\n",
            "375/375 [==============================] - 1s 3ms/step - loss: 0.2950 - accuracy: 0.8873 - val_loss: 0.3175 - val_accuracy: 0.8854\n",
            "Epoch 22/100\n",
            "375/375 [==============================] - 1s 4ms/step - loss: 0.2968 - accuracy: 0.8895 - val_loss: 0.3210 - val_accuracy: 0.8831\n",
            "Epoch 23/100\n",
            "375/375 [==============================] - 1s 4ms/step - loss: 0.2948 - accuracy: 0.8896 - val_loss: 0.3093 - val_accuracy: 0.8837\n",
            "Epoch 24/100\n",
            "375/375 [==============================] - 1s 3ms/step - loss: 0.3000 - accuracy: 0.8860 - val_loss: 0.3203 - val_accuracy: 0.8838\n",
            "Epoch 25/100\n",
            "375/375 [==============================] - 1s 3ms/step - loss: 0.2986 - accuracy: 0.8870 - val_loss: 0.3237 - val_accuracy: 0.8826\n",
            "Epoch 26/100\n",
            "375/375 [==============================] - 1s 4ms/step - loss: 0.2926 - accuracy: 0.8903 - val_loss: 0.3158 - val_accuracy: 0.8842\n",
            "Epoch 27/100\n",
            "375/375 [==============================] - 1s 4ms/step - loss: 0.2820 - accuracy: 0.8942 - val_loss: 0.3328 - val_accuracy: 0.8823\n",
            "Epoch 28/100\n",
            "375/375 [==============================] - 1s 3ms/step - loss: 0.2889 - accuracy: 0.8907 - val_loss: 0.3279 - val_accuracy: 0.8820\n",
            "Epoch 29/100\n",
            "375/375 [==============================] - 1s 3ms/step - loss: 0.2802 - accuracy: 0.8940 - val_loss: 0.3206 - val_accuracy: 0.8852\n",
            "Epoch 30/100\n",
            "375/375 [==============================] - 1s 4ms/step - loss: 0.2815 - accuracy: 0.8949 - val_loss: 0.3148 - val_accuracy: 0.8839\n",
            "Epoch 31/100\n",
            "375/375 [==============================] - 1s 4ms/step - loss: 0.2728 - accuracy: 0.8956 - val_loss: 0.3028 - val_accuracy: 0.8917\n",
            "Epoch 32/100\n",
            "375/375 [==============================] - 1s 3ms/step - loss: 0.2698 - accuracy: 0.8986 - val_loss: 0.3231 - val_accuracy: 0.8839\n",
            "Epoch 33/100\n",
            "375/375 [==============================] - 1s 3ms/step - loss: 0.2745 - accuracy: 0.8998 - val_loss: 0.3235 - val_accuracy: 0.8808\n",
            "Epoch 34/100\n",
            "375/375 [==============================] - 1s 3ms/step - loss: 0.2725 - accuracy: 0.8962 - val_loss: 0.3166 - val_accuracy: 0.8858\n",
            "Epoch 35/100\n",
            "375/375 [==============================] - 1s 4ms/step - loss: 0.2683 - accuracy: 0.8973 - val_loss: 0.3400 - val_accuracy: 0.8838\n",
            "Epoch 36/100\n",
            "375/375 [==============================] - 1s 4ms/step - loss: 0.2726 - accuracy: 0.8977 - val_loss: 0.3024 - val_accuracy: 0.8909\n",
            "Epoch 37/100\n",
            "375/375 [==============================] - 1s 3ms/step - loss: 0.2636 - accuracy: 0.8995 - val_loss: 0.3076 - val_accuracy: 0.8897\n",
            "Epoch 38/100\n",
            "375/375 [==============================] - 1s 4ms/step - loss: 0.2640 - accuracy: 0.9018 - val_loss: 0.3072 - val_accuracy: 0.8927\n",
            "Epoch 39/100\n",
            "375/375 [==============================] - 1s 4ms/step - loss: 0.2664 - accuracy: 0.9004 - val_loss: 0.3071 - val_accuracy: 0.8908\n",
            "Epoch 40/100\n",
            "375/375 [==============================] - 1s 3ms/step - loss: 0.2596 - accuracy: 0.9022 - val_loss: 0.3050 - val_accuracy: 0.8894\n",
            "Epoch 41/100\n",
            "375/375 [==============================] - 1s 4ms/step - loss: 0.2591 - accuracy: 0.9025 - val_loss: 0.3193 - val_accuracy: 0.8876\n",
            "Epoch 42/100\n",
            "375/375 [==============================] - 1s 3ms/step - loss: 0.2575 - accuracy: 0.9022 - val_loss: 0.3028 - val_accuracy: 0.8914\n",
            "Epoch 43/100\n",
            "375/375 [==============================] - 1s 4ms/step - loss: 0.2514 - accuracy: 0.9042 - val_loss: 0.3106 - val_accuracy: 0.8901\n",
            "Epoch 44/100\n",
            "375/375 [==============================] - 1s 4ms/step - loss: 0.2520 - accuracy: 0.9045 - val_loss: 0.3282 - val_accuracy: 0.8878\n",
            "Epoch 45/100\n",
            "375/375 [==============================] - 1s 4ms/step - loss: 0.2506 - accuracy: 0.9078 - val_loss: 0.3009 - val_accuracy: 0.8914\n",
            "Epoch 46/100\n",
            "375/375 [==============================] - 1s 4ms/step - loss: 0.2500 - accuracy: 0.9051 - val_loss: 0.3150 - val_accuracy: 0.8902\n",
            "Epoch 47/100\n",
            "375/375 [==============================] - 2s 4ms/step - loss: 0.2465 - accuracy: 0.9062 - val_loss: 0.3110 - val_accuracy: 0.8892\n",
            "Epoch 48/100\n",
            "375/375 [==============================] - 1s 4ms/step - loss: 0.2575 - accuracy: 0.9012 - val_loss: 0.3036 - val_accuracy: 0.8941\n",
            "Epoch 49/100\n",
            "375/375 [==============================] - 1s 4ms/step - loss: 0.2515 - accuracy: 0.9060 - val_loss: 0.3063 - val_accuracy: 0.8917\n",
            "Epoch 50/100\n",
            "375/375 [==============================] - 1s 4ms/step - loss: 0.2445 - accuracy: 0.9068 - val_loss: 0.3079 - val_accuracy: 0.8917\n",
            "Epoch 51/100\n",
            "375/375 [==============================] - 1s 3ms/step - loss: 0.2431 - accuracy: 0.9069 - val_loss: 0.2987 - val_accuracy: 0.8939\n",
            "Epoch 52/100\n",
            "375/375 [==============================] - 1s 3ms/step - loss: 0.2468 - accuracy: 0.9058 - val_loss: 0.3066 - val_accuracy: 0.8898\n",
            "Epoch 53/100\n",
            "375/375 [==============================] - 1s 3ms/step - loss: 0.2426 - accuracy: 0.9080 - val_loss: 0.3043 - val_accuracy: 0.8945\n",
            "Epoch 54/100\n",
            "375/375 [==============================] - 1s 4ms/step - loss: 0.2479 - accuracy: 0.9072 - val_loss: 0.3118 - val_accuracy: 0.8934\n",
            "Epoch 55/100\n",
            "375/375 [==============================] - 1s 4ms/step - loss: 0.2442 - accuracy: 0.9064 - val_loss: 0.3086 - val_accuracy: 0.8931\n",
            "Epoch 56/100\n",
            "375/375 [==============================] - 2s 4ms/step - loss: 0.2343 - accuracy: 0.9123 - val_loss: 0.3198 - val_accuracy: 0.8895\n",
            "Epoch 57/100\n",
            "375/375 [==============================] - 2s 4ms/step - loss: 0.2475 - accuracy: 0.9058 - val_loss: 0.3829 - val_accuracy: 0.8763\n",
            "Epoch 58/100\n",
            "375/375 [==============================] - 1s 4ms/step - loss: 0.2376 - accuracy: 0.9095 - val_loss: 0.3216 - val_accuracy: 0.8892\n",
            "Epoch 59/100\n",
            "375/375 [==============================] - 1s 4ms/step - loss: 0.2354 - accuracy: 0.9114 - val_loss: 0.3183 - val_accuracy: 0.8871\n",
            "Epoch 60/100\n",
            "375/375 [==============================] - 1s 4ms/step - loss: 0.2396 - accuracy: 0.9099 - val_loss: 0.3089 - val_accuracy: 0.8934\n",
            "Epoch 61/100\n",
            "375/375 [==============================] - 1s 4ms/step - loss: 0.2335 - accuracy: 0.9117 - val_loss: 0.3139 - val_accuracy: 0.8940\n",
            "Epoch 62/100\n",
            "375/375 [==============================] - 1s 3ms/step - loss: 0.2308 - accuracy: 0.9155 - val_loss: 0.3184 - val_accuracy: 0.8899\n",
            "Epoch 63/100\n",
            "375/375 [==============================] - 1s 3ms/step - loss: 0.2357 - accuracy: 0.9128 - val_loss: 0.3050 - val_accuracy: 0.8953\n",
            "Epoch 64/100\n",
            "375/375 [==============================] - 1s 3ms/step - loss: 0.2327 - accuracy: 0.9110 - val_loss: 0.3067 - val_accuracy: 0.8954\n",
            "Epoch 65/100\n",
            "375/375 [==============================] - 1s 3ms/step - loss: 0.2267 - accuracy: 0.9140 - val_loss: 0.3181 - val_accuracy: 0.8905\n",
            "Epoch 66/100\n",
            "375/375 [==============================] - 1s 3ms/step - loss: 0.2315 - accuracy: 0.9117 - val_loss: 0.2988 - val_accuracy: 0.8981\n",
            "Epoch 67/100\n",
            "375/375 [==============================] - 1s 4ms/step - loss: 0.2241 - accuracy: 0.9152 - val_loss: 0.3001 - val_accuracy: 0.8972\n",
            "Epoch 68/100\n",
            "375/375 [==============================] - 1s 4ms/step - loss: 0.2226 - accuracy: 0.9165 - val_loss: 0.3090 - val_accuracy: 0.8918\n",
            "Epoch 69/100\n",
            "375/375 [==============================] - 1s 4ms/step - loss: 0.2219 - accuracy: 0.9164 - val_loss: 0.3096 - val_accuracy: 0.8935\n",
            "Epoch 70/100\n",
            "375/375 [==============================] - 1s 4ms/step - loss: 0.2281 - accuracy: 0.9148 - val_loss: 0.3150 - val_accuracy: 0.8932\n",
            "Epoch 71/100\n",
            "375/375 [==============================] - 1s 3ms/step - loss: 0.2229 - accuracy: 0.9143 - val_loss: 0.3085 - val_accuracy: 0.8917\n",
            "Epoch 72/100\n",
            "375/375 [==============================] - 1s 4ms/step - loss: 0.2229 - accuracy: 0.9142 - val_loss: 0.3098 - val_accuracy: 0.8961\n",
            "Epoch 73/100\n",
            "375/375 [==============================] - 1s 4ms/step - loss: 0.2252 - accuracy: 0.9149 - val_loss: 0.3221 - val_accuracy: 0.8923\n",
            "Epoch 74/100\n",
            "375/375 [==============================] - 1s 4ms/step - loss: 0.2197 - accuracy: 0.9171 - val_loss: 0.3040 - val_accuracy: 0.8953\n",
            "Epoch 75/100\n",
            "375/375 [==============================] - 1s 4ms/step - loss: 0.2158 - accuracy: 0.9193 - val_loss: 0.3272 - val_accuracy: 0.8854\n",
            "Epoch 76/100\n",
            "375/375 [==============================] - 1s 4ms/step - loss: 0.2153 - accuracy: 0.9180 - val_loss: 0.3140 - val_accuracy: 0.8934\n",
            "Epoch 77/100\n",
            "375/375 [==============================] - 1s 4ms/step - loss: 0.2194 - accuracy: 0.9169 - val_loss: 0.3107 - val_accuracy: 0.8932\n",
            "Epoch 78/100\n",
            "375/375 [==============================] - 1s 4ms/step - loss: 0.2196 - accuracy: 0.9161 - val_loss: 0.3086 - val_accuracy: 0.8952\n",
            "Epoch 79/100\n",
            "375/375 [==============================] - 1s 4ms/step - loss: 0.2119 - accuracy: 0.9193 - val_loss: 0.3084 - val_accuracy: 0.8932\n",
            "Epoch 80/100\n",
            "375/375 [==============================] - 1s 3ms/step - loss: 0.2187 - accuracy: 0.9172 - val_loss: 0.3089 - val_accuracy: 0.8979\n",
            "Epoch 81/100\n",
            "375/375 [==============================] - 1s 4ms/step - loss: 0.2116 - accuracy: 0.9202 - val_loss: 0.3036 - val_accuracy: 0.8951\n",
            "Epoch 82/100\n",
            "375/375 [==============================] - 1s 4ms/step - loss: 0.2108 - accuracy: 0.9202 - val_loss: 0.3091 - val_accuracy: 0.8964\n",
            "Epoch 83/100\n",
            "375/375 [==============================] - 1s 4ms/step - loss: 0.2122 - accuracy: 0.9185 - val_loss: 0.3168 - val_accuracy: 0.8963\n",
            "Epoch 84/100\n",
            "375/375 [==============================] - 1s 4ms/step - loss: 0.2134 - accuracy: 0.9179 - val_loss: 0.3162 - val_accuracy: 0.8978\n",
            "Epoch 85/100\n",
            "375/375 [==============================] - 1s 3ms/step - loss: 0.2118 - accuracy: 0.9193 - val_loss: 0.3051 - val_accuracy: 0.8977\n",
            "Epoch 86/100\n",
            "375/375 [==============================] - 1s 3ms/step - loss: 0.2059 - accuracy: 0.9229 - val_loss: 0.3226 - val_accuracy: 0.8944\n",
            "Epoch 87/100\n",
            "375/375 [==============================] - 1s 3ms/step - loss: 0.2053 - accuracy: 0.9226 - val_loss: 0.3115 - val_accuracy: 0.8958\n",
            "Epoch 88/100\n",
            "375/375 [==============================] - 1s 3ms/step - loss: 0.2079 - accuracy: 0.9217 - val_loss: 0.3146 - val_accuracy: 0.8967\n",
            "Epoch 89/100\n",
            "375/375 [==============================] - 1s 3ms/step - loss: 0.2029 - accuracy: 0.9223 - val_loss: 0.3105 - val_accuracy: 0.8967\n",
            "Epoch 90/100\n",
            "375/375 [==============================] - 1s 4ms/step - loss: 0.2012 - accuracy: 0.9256 - val_loss: 0.3137 - val_accuracy: 0.8926\n",
            "Epoch 91/100\n",
            "375/375 [==============================] - 1s 3ms/step - loss: 0.2067 - accuracy: 0.9215 - val_loss: 0.3165 - val_accuracy: 0.8939\n",
            "Epoch 92/100\n",
            "375/375 [==============================] - 1s 4ms/step - loss: 0.2001 - accuracy: 0.9245 - val_loss: 0.3274 - val_accuracy: 0.8914\n",
            "Epoch 93/100\n",
            "375/375 [==============================] - 1s 3ms/step - loss: 0.2051 - accuracy: 0.9207 - val_loss: 0.3159 - val_accuracy: 0.8959\n",
            "Epoch 94/100\n",
            "375/375 [==============================] - 1s 4ms/step - loss: 0.1973 - accuracy: 0.9257 - val_loss: 0.3191 - val_accuracy: 0.8926\n",
            "Epoch 95/100\n",
            "375/375 [==============================] - 1s 4ms/step - loss: 0.2035 - accuracy: 0.9242 - val_loss: 0.3202 - val_accuracy: 0.8950\n",
            "Epoch 96/100\n",
            "375/375 [==============================] - 1s 3ms/step - loss: 0.2047 - accuracy: 0.9225 - val_loss: 0.3285 - val_accuracy: 0.8934\n",
            "Epoch 97/100\n",
            "375/375 [==============================] - 1s 3ms/step - loss: 0.2036 - accuracy: 0.9229 - val_loss: 0.3283 - val_accuracy: 0.8944\n",
            "Epoch 98/100\n",
            "375/375 [==============================] - 1s 4ms/step - loss: 0.2011 - accuracy: 0.9226 - val_loss: 0.3290 - val_accuracy: 0.8889\n",
            "Epoch 99/100\n",
            "375/375 [==============================] - 1s 3ms/step - loss: 0.1989 - accuracy: 0.9244 - val_loss: 0.3219 - val_accuracy: 0.8926\n",
            "Epoch 100/100\n",
            "375/375 [==============================] - 1s 3ms/step - loss: 0.2085 - accuracy: 0.9216 - val_loss: 0.3131 - val_accuracy: 0.8947\n",
            "CPU times: user 2min 24s, sys: 18.8 s, total: 2min 43s\n",
            "Wall time: 2min 14s\n"
          ],
          "name": "stdout"
        }
      ]
    },
    {
      "cell_type": "markdown",
      "metadata": {
        "id": "mpNLibT-zKWj"
      },
      "source": [
        "#### Combine Model Capacity"
      ]
    },
    {
      "cell_type": "code",
      "metadata": {
        "colab": {
          "base_uri": "https://localhost:8080/"
        },
        "id": "TJjppgOPa0PF",
        "outputId": "71fceac4-fde0-48d9-de64-949df3cf41b7"
      },
      "source": [
        "bn_drop_loss, bn_drop_accuracy = fashion.evaluate(X_test, y_test)\n",
        "capacity.append(('BN_Drop', bn_drop_loss, bn_drop_accuracy))\n",
        "\n",
        "print('Loss = {:.5f}'.format(bn_drop_loss))\n",
        "print('Accuracy = {:.5f}'.format(bn_drop_accuracy))"
      ],
      "execution_count": null,
      "outputs": [
        {
          "output_type": "stream",
          "text": [
            "313/313 [==============================] - 1s 2ms/step - loss: 0.3386 - accuracy: 0.8931\n",
            "Loss = 0.33862\n",
            "Accuracy = 0.89310\n"
          ],
          "name": "stdout"
        }
      ]
    },
    {
      "cell_type": "code",
      "metadata": {
        "colab": {
          "base_uri": "https://localhost:8080/",
          "height": 404
        },
        "id": "0T7RI4jCa0PG",
        "outputId": "dcae6b31-aa2a-491c-8c4b-1feb9e2d2b60"
      },
      "source": [
        "import matplotlib.pyplot as plt\n",
        "\n",
        "epochs = range(1, len(Hist_fashion.history['loss']) + 1)\n",
        "plt.figure(figsize = (9, 6))\n",
        "plt.plot(epochs, Hist_fashion.history['loss'])\n",
        "plt.plot(epochs, Hist_fashion.history['val_loss'])\n",
        "# plt.ylim(0, 0.25)\n",
        "plt.title('Training & Validation Loss')\n",
        "plt.xlabel('Epochs')\n",
        "plt.ylabel('Loss')\n",
        "plt.legend(['Training Loss', 'Validation Loss'])\n",
        "plt.grid()\n",
        "plt.show()"
      ],
      "execution_count": null,
      "outputs": [
        {
          "output_type": "display_data",
          "data": {
            "image/png": "[encoded data removed]",
            "text/plain": [
              "<Figure size 648x432 with 1 Axes>"
            ]
          },
          "metadata": {
            "tags": [],
            "needs_background": "light"
          }
        }
      ]
    },
    {
      "cell_type": "markdown",
      "metadata": {
        "id": "b9l7g5XaZ9oU"
      },
      "source": [
        "> ### 6. callbacks Model <br>\n",
        "\n",
        "* callback은 epochs를 높게 주는 것이 좋음\n",
        "* patience 는 기본 모델의 패턴을 보고 결정"
      ]
    },
    {
      "cell_type": "code",
      "metadata": {
        "id": "pyEJDtXhGLxr"
      },
      "source": [
        "from keras import backend as K\n",
        "\n",
        "K.clear_session()"
      ],
      "execution_count": null,
      "outputs": []
    },
    {
      "cell_type": "code",
      "metadata": {
        "id": "CT6WIPhMGbVg"
      },
      "source": [
        "from keras import models\n",
        "from keras import layers\n",
        "\n",
        "fashion = models.Sequential(name='EarlyStopping')\n",
        "fashion.add(layers.Dense(512, activation='relu', input_shape=(28*28,)))\n",
        "fashion.add(layers.Dense(265, activation='relu'))\n",
        "fashion.add(layers.Dense(10, activation='softmax'))\n",
        "\n",
        "fashion.compile(loss='categorical_crossentropy',\n",
        "               optimizer='adam',\n",
        "               metrics=['accuracy'])"
      ],
      "execution_count": null,
      "outputs": []
    },
    {
      "cell_type": "code",
      "metadata": {
        "id": "sbsoMyzZGxDD"
      },
      "source": [
        "from keras.callbacks import EarlyStopping\n",
        "\n",
        "es = EarlyStopping(monitor='val_accuracy',\n",
        "                   mode='max',\n",
        "                   patience=50,\n",
        "                   verbose=1)"
      ],
      "execution_count": null,
      "outputs": []
    },
    {
      "cell_type": "code",
      "metadata": {
        "id": "AutjAv5eHGAf"
      },
      "source": [
        "from keras.callbacks import ModelCheckpoint\n",
        "\n",
        "mc = ModelCheckpoint('best_fashion_mnist.h5',\n",
        "                     monitor='val_accuracy',\n",
        "                     mode='max',\n",
        "                     save_best_only=True,\n",
        "                     verbose=1)"
      ],
      "execution_count": null,
      "outputs": []
    },
    {
      "cell_type": "code",
      "metadata": {
        "id": "ltDHDV3JHF-E",
        "colab": {
          "base_uri": "https://localhost:8080/"
        },
        "outputId": "c29aa799-b626-422d-ee28-aced2552d9ea"
      },
      "source": [
        "%%time\n",
        "\n",
        "Hist_fashion = fashion.fit(X_train, y_train, epochs=100, batch_size=128, callbacks=[es, mc], validation_split=0.2)"
      ],
      "execution_count": null,
      "outputs": [
        {
          "output_type": "stream",
          "text": [
            "Epoch 1/100\n",
            "375/375 [==============================] - 1s 3ms/step - loss: 0.0376 - accuracy: 0.9890 - val_loss: 1.0581 - val_accuracy: 0.8970\n",
            "\n",
            "Epoch 00001: val_accuracy improved from -inf to 0.89700, saving model to best_fashion_mnist.h5\n",
            "Epoch 2/100\n",
            "375/375 [==============================] - 1s 3ms/step - loss: 0.0077 - accuracy: 0.9977 - val_loss: 1.1442 - val_accuracy: 0.8978\n",
            "\n",
            "Epoch 00002: val_accuracy improved from 0.89700 to 0.89783, saving model to best_fashion_mnist.h5\n",
            "Epoch 3/100\n",
            "375/375 [==============================] - 1s 3ms/step - loss: 0.0079 - accuracy: 0.9973 - val_loss: 1.1619 - val_accuracy: 0.8981\n",
            "\n",
            "Epoch 00003: val_accuracy improved from 0.89783 to 0.89808, saving model to best_fashion_mnist.h5\n",
            "Epoch 4/100\n",
            "375/375 [==============================] - 1s 3ms/step - loss: 0.0132 - accuracy: 0.9964 - val_loss: 1.1826 - val_accuracy: 0.8961\n",
            "\n",
            "Epoch 00004: val_accuracy did not improve from 0.89808\n",
            "Epoch 5/100\n",
            "375/375 [==============================] - 1s 3ms/step - loss: 0.0138 - accuracy: 0.9956 - val_loss: 1.1103 - val_accuracy: 0.8988\n",
            "\n",
            "Epoch 00005: val_accuracy improved from 0.89808 to 0.89875, saving model to best_fashion_mnist.h5\n",
            "Epoch 6/100\n",
            "375/375 [==============================] - 1s 3ms/step - loss: 0.0107 - accuracy: 0.9966 - val_loss: 1.2061 - val_accuracy: 0.8984\n",
            "\n",
            "Epoch 00006: val_accuracy did not improve from 0.89875\n",
            "Epoch 7/100\n",
            "375/375 [==============================] - 1s 3ms/step - loss: 0.0227 - accuracy: 0.9927 - val_loss: 1.2352 - val_accuracy: 0.9006\n",
            "\n",
            "Epoch 00007: val_accuracy improved from 0.89875 to 0.90058, saving model to best_fashion_mnist.h5\n",
            "Epoch 8/100\n",
            "375/375 [==============================] - 1s 3ms/step - loss: 0.0022 - accuracy: 0.9993 - val_loss: 1.1745 - val_accuracy: 0.9033\n",
            "\n",
            "Epoch 00008: val_accuracy improved from 0.90058 to 0.90333, saving model to best_fashion_mnist.h5\n",
            "Epoch 9/100\n",
            "375/375 [==============================] - 1s 3ms/step - loss: 9.0449e-04 - accuracy: 0.9998 - val_loss: 1.2112 - val_accuracy: 0.9040\n",
            "\n",
            "Epoch 00009: val_accuracy improved from 0.90333 to 0.90400, saving model to best_fashion_mnist.h5\n",
            "Epoch 10/100\n",
            "375/375 [==============================] - 1s 3ms/step - loss: 2.9018e-04 - accuracy: 1.0000 - val_loss: 1.2072 - val_accuracy: 0.9040\n",
            "\n",
            "Epoch 00010: val_accuracy did not improve from 0.90400\n",
            "Epoch 11/100\n",
            "375/375 [==============================] - 1s 3ms/step - loss: 1.0971e-04 - accuracy: 1.0000 - val_loss: 1.2286 - val_accuracy: 0.9044\n",
            "\n",
            "Epoch 00011: val_accuracy improved from 0.90400 to 0.90442, saving model to best_fashion_mnist.h5\n",
            "Epoch 12/100\n",
            "375/375 [==============================] - 1s 3ms/step - loss: 8.2440e-05 - accuracy: 1.0000 - val_loss: 1.2372 - val_accuracy: 0.9042\n",
            "\n",
            "Epoch 00012: val_accuracy did not improve from 0.90442\n",
            "Epoch 13/100\n",
            "375/375 [==============================] - 1s 3ms/step - loss: 6.6055e-05 - accuracy: 1.0000 - val_loss: 1.2519 - val_accuracy: 0.9050\n",
            "\n",
            "Epoch 00013: val_accuracy improved from 0.90442 to 0.90500, saving model to best_fashion_mnist.h5\n",
            "Epoch 14/100\n",
            "375/375 [==============================] - 1s 3ms/step - loss: 5.6540e-05 - accuracy: 1.0000 - val_loss: 1.2598 - val_accuracy: 0.9047\n",
            "\n",
            "Epoch 00014: val_accuracy did not improve from 0.90500\n",
            "Epoch 15/100\n",
            "375/375 [==============================] - 1s 3ms/step - loss: 5.0048e-05 - accuracy: 1.0000 - val_loss: 1.2707 - val_accuracy: 0.9045\n",
            "\n",
            "Epoch 00015: val_accuracy did not improve from 0.90500\n",
            "Epoch 16/100\n",
            "375/375 [==============================] - 1s 3ms/step - loss: 4.3117e-05 - accuracy: 1.0000 - val_loss: 1.2733 - val_accuracy: 0.9046\n",
            "\n",
            "Epoch 00016: val_accuracy did not improve from 0.90500\n",
            "Epoch 17/100\n",
            "375/375 [==============================] - 1s 3ms/step - loss: 3.7455e-05 - accuracy: 1.0000 - val_loss: 1.2845 - val_accuracy: 0.9051\n",
            "\n",
            "Epoch 00017: val_accuracy improved from 0.90500 to 0.90508, saving model to best_fashion_mnist.h5\n",
            "Epoch 18/100\n",
            "375/375 [==============================] - 1s 3ms/step - loss: 3.4092e-05 - accuracy: 1.0000 - val_loss: 1.2946 - val_accuracy: 0.9041\n",
            "\n",
            "Epoch 00018: val_accuracy did not improve from 0.90508\n",
            "Epoch 19/100\n",
            "375/375 [==============================] - 1s 3ms/step - loss: 3.0697e-05 - accuracy: 1.0000 - val_loss: 1.3004 - val_accuracy: 0.9048\n",
            "\n",
            "Epoch 00019: val_accuracy did not improve from 0.90508\n",
            "Epoch 20/100\n",
            "375/375 [==============================] - 1s 3ms/step - loss: 4.8845e-05 - accuracy: 1.0000 - val_loss: 1.2929 - val_accuracy: 0.9032\n",
            "\n",
            "Epoch 00020: val_accuracy did not improve from 0.90508\n",
            "Epoch 21/100\n",
            "375/375 [==============================] - 1s 3ms/step - loss: 0.1443 - accuracy: 0.9644 - val_loss: 0.9800 - val_accuracy: 0.8940\n",
            "\n",
            "Epoch 00021: val_accuracy did not improve from 0.90508\n",
            "Epoch 22/100\n",
            "375/375 [==============================] - 1s 3ms/step - loss: 0.0167 - accuracy: 0.9939 - val_loss: 1.0458 - val_accuracy: 0.8979\n",
            "\n",
            "Epoch 00022: val_accuracy did not improve from 0.90508\n",
            "Epoch 23/100\n",
            "375/375 [==============================] - 1s 3ms/step - loss: 0.0078 - accuracy: 0.9973 - val_loss: 1.0889 - val_accuracy: 0.8970\n",
            "\n",
            "Epoch 00023: val_accuracy did not improve from 0.90508\n",
            "Epoch 24/100\n",
            "375/375 [==============================] - 1s 3ms/step - loss: 0.0097 - accuracy: 0.9971 - val_loss: 1.1298 - val_accuracy: 0.9003\n",
            "\n",
            "Epoch 00024: val_accuracy did not improve from 0.90508\n",
            "Epoch 25/100\n",
            "375/375 [==============================] - 1s 3ms/step - loss: 0.0132 - accuracy: 0.9957 - val_loss: 1.1449 - val_accuracy: 0.8956\n",
            "\n",
            "Epoch 00025: val_accuracy did not improve from 0.90508\n",
            "Epoch 26/100\n",
            "375/375 [==============================] - 1s 3ms/step - loss: 0.0056 - accuracy: 0.9980 - val_loss: 1.1250 - val_accuracy: 0.8986\n",
            "\n",
            "Epoch 00026: val_accuracy did not improve from 0.90508\n",
            "Epoch 27/100\n",
            "375/375 [==============================] - 1s 3ms/step - loss: 0.0143 - accuracy: 0.9953 - val_loss: 1.1820 - val_accuracy: 0.8935\n",
            "\n",
            "Epoch 00027: val_accuracy did not improve from 0.90508\n",
            "Epoch 28/100\n",
            "375/375 [==============================] - 1s 3ms/step - loss: 0.0177 - accuracy: 0.9944 - val_loss: 1.1790 - val_accuracy: 0.8978\n",
            "\n",
            "Epoch 00028: val_accuracy did not improve from 0.90508\n",
            "Epoch 29/100\n",
            "375/375 [==============================] - 1s 3ms/step - loss: 0.0085 - accuracy: 0.9973 - val_loss: 1.2202 - val_accuracy: 0.8982\n",
            "\n",
            "Epoch 00029: val_accuracy did not improve from 0.90508\n",
            "Epoch 30/100\n",
            "375/375 [==============================] - 1s 3ms/step - loss: 0.0188 - accuracy: 0.9944 - val_loss: 1.2127 - val_accuracy: 0.8956\n",
            "\n",
            "Epoch 00030: val_accuracy did not improve from 0.90508\n",
            "Epoch 31/100\n",
            "375/375 [==============================] - 1s 3ms/step - loss: 0.0120 - accuracy: 0.9971 - val_loss: 1.1577 - val_accuracy: 0.8995\n",
            "\n",
            "Epoch 00031: val_accuracy did not improve from 0.90508\n",
            "Epoch 32/100\n",
            "375/375 [==============================] - 1s 3ms/step - loss: 0.0160 - accuracy: 0.9946 - val_loss: 1.2098 - val_accuracy: 0.8976\n",
            "\n",
            "Epoch 00032: val_accuracy did not improve from 0.90508\n",
            "Epoch 33/100\n",
            "375/375 [==============================] - 1s 3ms/step - loss: 0.0097 - accuracy: 0.9968 - val_loss: 1.1685 - val_accuracy: 0.8978\n",
            "\n",
            "Epoch 00033: val_accuracy did not improve from 0.90508\n",
            "Epoch 34/100\n",
            "375/375 [==============================] - 1s 3ms/step - loss: 0.0148 - accuracy: 0.9954 - val_loss: 1.2124 - val_accuracy: 0.8949\n",
            "\n",
            "Epoch 00034: val_accuracy did not improve from 0.90508\n",
            "Epoch 35/100\n",
            "375/375 [==============================] - 1s 3ms/step - loss: 0.0053 - accuracy: 0.9981 - val_loss: 1.1707 - val_accuracy: 0.9018\n",
            "\n",
            "Epoch 00035: val_accuracy did not improve from 0.90508\n",
            "Epoch 36/100\n",
            "375/375 [==============================] - 1s 3ms/step - loss: 4.5693e-04 - accuracy: 1.0000 - val_loss: 1.2152 - val_accuracy: 0.9015\n",
            "\n",
            "Epoch 00036: val_accuracy did not improve from 0.90508\n",
            "Epoch 37/100\n",
            "375/375 [==============================] - 1s 3ms/step - loss: 1.3443e-04 - accuracy: 1.0000 - val_loss: 1.2258 - val_accuracy: 0.9025\n",
            "\n",
            "Epoch 00037: val_accuracy did not improve from 0.90508\n",
            "Epoch 38/100\n",
            "375/375 [==============================] - 1s 3ms/step - loss: 9.0793e-05 - accuracy: 1.0000 - val_loss: 1.2465 - val_accuracy: 0.9019\n",
            "\n",
            "Epoch 00038: val_accuracy did not improve from 0.90508\n",
            "Epoch 39/100\n",
            "375/375 [==============================] - 1s 3ms/step - loss: 7.4402e-05 - accuracy: 1.0000 - val_loss: 1.2507 - val_accuracy: 0.9022\n",
            "\n",
            "Epoch 00039: val_accuracy did not improve from 0.90508\n",
            "Epoch 40/100\n",
            "375/375 [==============================] - 1s 3ms/step - loss: 5.9152e-05 - accuracy: 1.0000 - val_loss: 1.2644 - val_accuracy: 0.9024\n",
            "\n",
            "Epoch 00040: val_accuracy did not improve from 0.90508\n",
            "Epoch 41/100\n",
            "375/375 [==============================] - 1s 3ms/step - loss: 5.1032e-05 - accuracy: 1.0000 - val_loss: 1.2737 - val_accuracy: 0.9021\n",
            "\n",
            "Epoch 00041: val_accuracy did not improve from 0.90508\n",
            "Epoch 42/100\n",
            "375/375 [==============================] - 1s 3ms/step - loss: 4.6322e-05 - accuracy: 1.0000 - val_loss: 1.2792 - val_accuracy: 0.9023\n",
            "\n",
            "Epoch 00042: val_accuracy did not improve from 0.90508\n",
            "Epoch 43/100\n",
            "375/375 [==============================] - 1s 3ms/step - loss: 3.8411e-05 - accuracy: 1.0000 - val_loss: 1.2905 - val_accuracy: 0.9026\n",
            "\n",
            "Epoch 00043: val_accuracy did not improve from 0.90508\n",
            "Epoch 44/100\n",
            "375/375 [==============================] - 1s 3ms/step - loss: 3.4888e-05 - accuracy: 1.0000 - val_loss: 1.3017 - val_accuracy: 0.9029\n",
            "\n",
            "Epoch 00044: val_accuracy did not improve from 0.90508\n",
            "Epoch 45/100\n",
            "375/375 [==============================] - 1s 3ms/step - loss: 3.1657e-05 - accuracy: 1.0000 - val_loss: 1.3043 - val_accuracy: 0.9033\n",
            "\n",
            "Epoch 00045: val_accuracy did not improve from 0.90508\n",
            "Epoch 46/100\n",
            "375/375 [==============================] - 1s 3ms/step - loss: 2.7996e-05 - accuracy: 1.0000 - val_loss: 1.3137 - val_accuracy: 0.9024\n",
            "\n",
            "Epoch 00046: val_accuracy did not improve from 0.90508\n",
            "Epoch 47/100\n",
            "375/375 [==============================] - 1s 3ms/step - loss: 2.5125e-05 - accuracy: 1.0000 - val_loss: 1.3349 - val_accuracy: 0.9033\n",
            "\n",
            "Epoch 00047: val_accuracy did not improve from 0.90508\n",
            "Epoch 48/100\n",
            "375/375 [==============================] - 1s 3ms/step - loss: 2.1741e-05 - accuracy: 1.0000 - val_loss: 1.3311 - val_accuracy: 0.9032\n",
            "\n",
            "Epoch 00048: val_accuracy did not improve from 0.90508\n",
            "Epoch 49/100\n",
            "375/375 [==============================] - 1s 3ms/step - loss: 0.1263 - accuracy: 0.9676 - val_loss: 1.0332 - val_accuracy: 0.8882\n",
            "\n",
            "Epoch 00049: val_accuracy did not improve from 0.90508\n",
            "Epoch 50/100\n",
            "375/375 [==============================] - 1s 3ms/step - loss: 0.0363 - accuracy: 0.9885 - val_loss: 1.1042 - val_accuracy: 0.8972\n",
            "\n",
            "Epoch 00050: val_accuracy did not improve from 0.90508\n",
            "Epoch 51/100\n",
            "375/375 [==============================] - 1s 3ms/step - loss: 0.0127 - accuracy: 0.9960 - val_loss: 1.0797 - val_accuracy: 0.8996\n",
            "\n",
            "Epoch 00051: val_accuracy did not improve from 0.90508\n",
            "Epoch 52/100\n",
            "375/375 [==============================] - 1s 3ms/step - loss: 0.0032 - accuracy: 0.9991 - val_loss: 1.1772 - val_accuracy: 0.9001\n",
            "\n",
            "Epoch 00052: val_accuracy did not improve from 0.90508\n",
            "Epoch 53/100\n",
            "375/375 [==============================] - 1s 3ms/step - loss: 0.0012 - accuracy: 0.9998 - val_loss: 1.1905 - val_accuracy: 0.9036\n",
            "\n",
            "Epoch 00053: val_accuracy did not improve from 0.90508\n",
            "Epoch 54/100\n",
            "375/375 [==============================] - 1s 3ms/step - loss: 2.3412e-04 - accuracy: 1.0000 - val_loss: 1.2011 - val_accuracy: 0.9023\n",
            "\n",
            "Epoch 00054: val_accuracy did not improve from 0.90508\n",
            "Epoch 55/100\n",
            "375/375 [==============================] - 1s 3ms/step - loss: 1.4863e-04 - accuracy: 1.0000 - val_loss: 1.2257 - val_accuracy: 0.9040\n",
            "\n",
            "Epoch 00055: val_accuracy did not improve from 0.90508\n",
            "Epoch 56/100\n",
            "375/375 [==============================] - 1s 3ms/step - loss: 1.0428e-04 - accuracy: 1.0000 - val_loss: 1.2368 - val_accuracy: 0.9045\n",
            "\n",
            "Epoch 00056: val_accuracy did not improve from 0.90508\n",
            "Epoch 57/100\n",
            "375/375 [==============================] - 1s 3ms/step - loss: 8.5292e-05 - accuracy: 1.0000 - val_loss: 1.2480 - val_accuracy: 0.9046\n",
            "\n",
            "Epoch 00057: val_accuracy did not improve from 0.90508\n",
            "Epoch 58/100\n",
            "375/375 [==============================] - 1s 3ms/step - loss: 7.2377e-05 - accuracy: 1.0000 - val_loss: 1.2575 - val_accuracy: 0.9042\n",
            "\n",
            "Epoch 00058: val_accuracy did not improve from 0.90508\n",
            "Epoch 59/100\n",
            "375/375 [==============================] - 1s 3ms/step - loss: 6.1300e-05 - accuracy: 1.0000 - val_loss: 1.2671 - val_accuracy: 0.9047\n",
            "\n",
            "Epoch 00059: val_accuracy did not improve from 0.90508\n",
            "Epoch 60/100\n",
            "375/375 [==============================] - 1s 3ms/step - loss: 5.4095e-05 - accuracy: 1.0000 - val_loss: 1.2769 - val_accuracy: 0.9047\n",
            "\n",
            "Epoch 00060: val_accuracy did not improve from 0.90508\n",
            "Epoch 61/100\n",
            "375/375 [==============================] - 1s 3ms/step - loss: 4.6192e-05 - accuracy: 1.0000 - val_loss: 1.2840 - val_accuracy: 0.9048\n",
            "\n",
            "Epoch 00061: val_accuracy did not improve from 0.90508\n",
            "Epoch 62/100\n",
            "375/375 [==============================] - 1s 3ms/step - loss: 3.7413e-05 - accuracy: 1.0000 - val_loss: 1.2982 - val_accuracy: 0.9052\n",
            "\n",
            "Epoch 00062: val_accuracy improved from 0.90508 to 0.90517, saving model to best_fashion_mnist.h5\n",
            "Epoch 63/100\n",
            "375/375 [==============================] - 1s 3ms/step - loss: 3.6537e-05 - accuracy: 1.0000 - val_loss: 1.3046 - val_accuracy: 0.9050\n",
            "\n",
            "Epoch 00063: val_accuracy did not improve from 0.90517\n",
            "Epoch 64/100\n",
            "375/375 [==============================] - 1s 3ms/step - loss: 2.9014e-05 - accuracy: 1.0000 - val_loss: 1.3150 - val_accuracy: 0.9045\n",
            "\n",
            "Epoch 00064: val_accuracy did not improve from 0.90517\n",
            "Epoch 65/100\n",
            "375/375 [==============================] - 1s 3ms/step - loss: 2.5552e-05 - accuracy: 1.0000 - val_loss: 1.3324 - val_accuracy: 0.9044\n",
            "\n",
            "Epoch 00065: val_accuracy did not improve from 0.90517\n",
            "Epoch 66/100\n",
            "375/375 [==============================] - 1s 3ms/step - loss: 2.1459e-05 - accuracy: 1.0000 - val_loss: 1.3383 - val_accuracy: 0.9049\n",
            "\n",
            "Epoch 00066: val_accuracy did not improve from 0.90517\n",
            "Epoch 67/100\n",
            "375/375 [==============================] - 1s 3ms/step - loss: 0.1325 - accuracy: 0.9647 - val_loss: 1.0129 - val_accuracy: 0.8935\n",
            "\n",
            "Epoch 00067: val_accuracy did not improve from 0.90517\n",
            "Epoch 68/100\n",
            "375/375 [==============================] - 1s 3ms/step - loss: 0.0480 - accuracy: 0.9841 - val_loss: 1.2079 - val_accuracy: 0.8993\n",
            "\n",
            "Epoch 00068: val_accuracy did not improve from 0.90517\n",
            "Epoch 69/100\n",
            "375/375 [==============================] - 1s 3ms/step - loss: 0.0125 - accuracy: 0.9957 - val_loss: 1.0846 - val_accuracy: 0.9012\n",
            "\n",
            "Epoch 00069: val_accuracy did not improve from 0.90517\n",
            "Epoch 70/100\n",
            "375/375 [==============================] - 1s 3ms/step - loss: 0.0071 - accuracy: 0.9975 - val_loss: 1.1662 - val_accuracy: 0.9013\n",
            "\n",
            "Epoch 00070: val_accuracy did not improve from 0.90517\n",
            "Epoch 71/100\n",
            "375/375 [==============================] - 1s 3ms/step - loss: 0.0170 - accuracy: 0.9944 - val_loss: 1.1236 - val_accuracy: 0.8982\n",
            "\n",
            "Epoch 00071: val_accuracy did not improve from 0.90517\n",
            "Epoch 72/100\n",
            "375/375 [==============================] - 1s 3ms/step - loss: 0.0138 - accuracy: 0.9953 - val_loss: 1.1869 - val_accuracy: 0.8974\n",
            "\n",
            "Epoch 00072: val_accuracy did not improve from 0.90517\n",
            "Epoch 73/100\n",
            "375/375 [==============================] - 1s 3ms/step - loss: 0.0088 - accuracy: 0.9971 - val_loss: 1.2003 - val_accuracy: 0.8964\n",
            "\n",
            "Epoch 00073: val_accuracy did not improve from 0.90517\n",
            "Epoch 74/100\n",
            "375/375 [==============================] - 1s 3ms/step - loss: 0.0084 - accuracy: 0.9971 - val_loss: 1.1395 - val_accuracy: 0.8985\n",
            "\n",
            "Epoch 00074: val_accuracy did not improve from 0.90517\n",
            "Epoch 75/100\n",
            "375/375 [==============================] - 1s 3ms/step - loss: 0.0162 - accuracy: 0.9948 - val_loss: 1.1440 - val_accuracy: 0.8949\n",
            "\n",
            "Epoch 00075: val_accuracy did not improve from 0.90517\n",
            "Epoch 76/100\n",
            "375/375 [==============================] - 1s 3ms/step - loss: 0.0169 - accuracy: 0.9945 - val_loss: 1.1704 - val_accuracy: 0.8999\n",
            "\n",
            "Epoch 00076: val_accuracy did not improve from 0.90517\n",
            "Epoch 77/100\n",
            "375/375 [==============================] - 1s 3ms/step - loss: 0.0080 - accuracy: 0.9969 - val_loss: 1.1823 - val_accuracy: 0.9006\n",
            "\n",
            "Epoch 00077: val_accuracy did not improve from 0.90517\n",
            "Epoch 78/100\n",
            "375/375 [==============================] - 1s 3ms/step - loss: 0.0201 - accuracy: 0.9941 - val_loss: 1.2038 - val_accuracy: 0.8992\n",
            "\n",
            "Epoch 00078: val_accuracy did not improve from 0.90517\n",
            "Epoch 79/100\n",
            "375/375 [==============================] - 1s 3ms/step - loss: 0.0116 - accuracy: 0.9964 - val_loss: 1.2806 - val_accuracy: 0.8957\n",
            "\n",
            "Epoch 00079: val_accuracy did not improve from 0.90517\n",
            "Epoch 80/100\n",
            "375/375 [==============================] - 1s 3ms/step - loss: 0.0137 - accuracy: 0.9959 - val_loss: 1.1618 - val_accuracy: 0.9004\n",
            "\n",
            "Epoch 00080: val_accuracy did not improve from 0.90517\n",
            "Epoch 81/100\n",
            "375/375 [==============================] - 1s 3ms/step - loss: 0.0147 - accuracy: 0.9957 - val_loss: 1.2107 - val_accuracy: 0.8972\n",
            "\n",
            "Epoch 00081: val_accuracy did not improve from 0.90517\n",
            "Epoch 82/100\n",
            "375/375 [==============================] - 1s 3ms/step - loss: 0.0036 - accuracy: 0.9987 - val_loss: 1.1835 - val_accuracy: 0.8995\n",
            "\n",
            "Epoch 00082: val_accuracy did not improve from 0.90517\n",
            "Epoch 83/100\n",
            "375/375 [==============================] - 1s 3ms/step - loss: 0.0172 - accuracy: 0.9944 - val_loss: 1.1890 - val_accuracy: 0.8972\n",
            "\n",
            "Epoch 00083: val_accuracy did not improve from 0.90517\n",
            "Epoch 84/100\n",
            "375/375 [==============================] - 1s 3ms/step - loss: 0.0121 - accuracy: 0.9962 - val_loss: 1.2105 - val_accuracy: 0.8948\n",
            "\n",
            "Epoch 00084: val_accuracy did not improve from 0.90517\n",
            "Epoch 85/100\n",
            "375/375 [==============================] - 1s 3ms/step - loss: 0.0164 - accuracy: 0.9952 - val_loss: 1.2640 - val_accuracy: 0.8874\n",
            "\n",
            "Epoch 00085: val_accuracy did not improve from 0.90517\n",
            "Epoch 86/100\n",
            "375/375 [==============================] - 1s 3ms/step - loss: 0.0141 - accuracy: 0.9959 - val_loss: 1.2252 - val_accuracy: 0.8992\n",
            "\n",
            "Epoch 00086: val_accuracy did not improve from 0.90517\n",
            "Epoch 87/100\n",
            "375/375 [==============================] - 1s 3ms/step - loss: 0.0048 - accuracy: 0.9985 - val_loss: 1.3147 - val_accuracy: 0.8951\n",
            "\n",
            "Epoch 00087: val_accuracy did not improve from 0.90517\n",
            "Epoch 88/100\n",
            "375/375 [==============================] - 1s 3ms/step - loss: 0.0109 - accuracy: 0.9963 - val_loss: 1.2551 - val_accuracy: 0.8963\n",
            "\n",
            "Epoch 00088: val_accuracy did not improve from 0.90517\n",
            "Epoch 89/100\n",
            "375/375 [==============================] - 1s 3ms/step - loss: 0.0170 - accuracy: 0.9949 - val_loss: 1.2365 - val_accuracy: 0.8992\n",
            "\n",
            "Epoch 00089: val_accuracy did not improve from 0.90517\n",
            "Epoch 90/100\n",
            "375/375 [==============================] - 1s 3ms/step - loss: 0.0111 - accuracy: 0.9969 - val_loss: 1.2245 - val_accuracy: 0.9001\n",
            "\n",
            "Epoch 00090: val_accuracy did not improve from 0.90517\n",
            "Epoch 91/100\n",
            "375/375 [==============================] - 1s 3ms/step - loss: 0.0118 - accuracy: 0.9961 - val_loss: 1.1760 - val_accuracy: 0.8978\n",
            "\n",
            "Epoch 00091: val_accuracy did not improve from 0.90517\n",
            "Epoch 92/100\n",
            "375/375 [==============================] - 1s 3ms/step - loss: 0.0067 - accuracy: 0.9980 - val_loss: 1.2569 - val_accuracy: 0.8980\n",
            "\n",
            "Epoch 00092: val_accuracy did not improve from 0.90517\n",
            "Epoch 93/100\n",
            "375/375 [==============================] - 1s 3ms/step - loss: 0.0032 - accuracy: 0.9989 - val_loss: 1.3018 - val_accuracy: 0.9010\n",
            "\n",
            "Epoch 00093: val_accuracy did not improve from 0.90517\n",
            "Epoch 94/100\n",
            "375/375 [==============================] - 1s 3ms/step - loss: 0.0286 - accuracy: 0.9920 - val_loss: 1.2308 - val_accuracy: 0.8930\n",
            "\n",
            "Epoch 00094: val_accuracy did not improve from 0.90517\n",
            "Epoch 95/100\n",
            "375/375 [==============================] - 1s 3ms/step - loss: 0.0152 - accuracy: 0.9952 - val_loss: 1.2853 - val_accuracy: 0.8965\n",
            "\n",
            "Epoch 00095: val_accuracy did not improve from 0.90517\n",
            "Epoch 96/100\n",
            "375/375 [==============================] - 1s 3ms/step - loss: 0.0066 - accuracy: 0.9978 - val_loss: 1.1958 - val_accuracy: 0.8978\n",
            "\n",
            "Epoch 00096: val_accuracy did not improve from 0.90517\n",
            "Epoch 97/100\n",
            "375/375 [==============================] - 1s 3ms/step - loss: 0.0078 - accuracy: 0.9974 - val_loss: 1.3532 - val_accuracy: 0.8992\n",
            "\n",
            "Epoch 00097: val_accuracy did not improve from 0.90517\n",
            "Epoch 98/100\n",
            "375/375 [==============================] - 1s 3ms/step - loss: 0.0140 - accuracy: 0.9957 - val_loss: 1.2620 - val_accuracy: 0.8998\n",
            "\n",
            "Epoch 00098: val_accuracy did not improve from 0.90517\n",
            "Epoch 99/100\n",
            "375/375 [==============================] - 1s 3ms/step - loss: 0.0196 - accuracy: 0.9940 - val_loss: 1.2365 - val_accuracy: 0.8972\n",
            "\n",
            "Epoch 00099: val_accuracy did not improve from 0.90517\n",
            "Epoch 100/100\n",
            "375/375 [==============================] - 1s 3ms/step - loss: 0.0092 - accuracy: 0.9970 - val_loss: 1.2728 - val_accuracy: 0.8993\n",
            "\n",
            "Epoch 00100: val_accuracy did not improve from 0.90517\n",
            "CPU times: user 1min 55s, sys: 18.5 s, total: 2min 13s\n",
            "Wall time: 1min 46s\n"
          ],
          "name": "stdout"
        }
      ]
    },
    {
      "cell_type": "code",
      "metadata": {
        "colab": {
          "base_uri": "https://localhost:8080/"
        },
        "id": "MrOyo5QdIDEL",
        "outputId": "62c1b751-037b-430d-aa6c-c98b13de3061"
      },
      "source": [
        "!ls -l"
      ],
      "execution_count": null,
      "outputs": [
        {
          "output_type": "stream",
          "text": [
            "total 6372\n",
            "-rw-r--r-- 1 root root 6519036 Mar 19 07:56 best_fashion_mnist.h5\n",
            "drwxr-xr-x 1 root root    4096 Mar  5 14:37 sample_data\n"
          ],
          "name": "stdout"
        }
      ]
    },
    {
      "cell_type": "markdown",
      "metadata": {
        "id": "bt_vu_1wzVW0"
      },
      "source": [
        "#### Callback Model Capacity"
      ]
    },
    {
      "cell_type": "code",
      "metadata": {
        "colab": {
          "base_uri": "https://localhost:8080/"
        },
        "id": "d9p5OOvXZ_nM",
        "outputId": "403c9ae8-dba4-450e-aa56-ec5e9e438e6c"
      },
      "source": [
        "callback_loss, callback_accuracy = fashion.evaluate(X_test, y_test)\n",
        "capacity.append(('callbacks', callback_loss, callback_accuracy))\n",
        "\n",
        "print('Loss = {:.5f}'.format(callback_loss))\n",
        "print('Accuracy = {:.5f}'.format(callback_accuracy))"
      ],
      "execution_count": null,
      "outputs": [
        {
          "output_type": "stream",
          "text": [
            "313/313 [==============================] - 1s 2ms/step - loss: 1.4083 - accuracy: 0.8902\n",
            "Loss = 1.40827\n",
            "Accuracy = 0.89020\n"
          ],
          "name": "stdout"
        }
      ]
    },
    {
      "cell_type": "markdown",
      "metadata": {
        "id": "dn38tSkPR8zr"
      },
      "source": [
        "## Ⅴ. Final Result\n",
        "\n",
        "\n"
      ]
    },
    {
      "cell_type": "markdown",
      "metadata": {
        "id": "9WDONQsPzfzX"
      },
      "source": [
        "* Model Capacity"
      ]
    },
    {
      "cell_type": "code",
      "metadata": {
        "id": "88g1paATzrRf"
      },
      "source": [
        "result = pd.DataFrame(data=capacity)\n",
        "result.sort_values(by=['accuracy'], ascending=False, inplace=True)"
      ],
      "execution_count": null,
      "outputs": []
    },
    {
      "cell_type": "code",
      "metadata": {
        "colab": {
          "base_uri": "https://localhost:8080/",
          "height": 297
        },
        "id": "dc3Ez3RxfPex",
        "outputId": "cfb58a8a-9e88-407b-c5dd-ae6cb638dd25"
      },
      "source": [
        "result"
      ],
      "execution_count": null,
      "outputs": [
        {
          "output_type": "execute_result",
          "data": {
            "text/html": [
              "<div>\n",
              "<style scoped>\n",
              "    .dataframe tbody tr th:only-of-type {\n",
              "        vertical-align: middle;\n",
              "    }\n",
              "\n",
              "    .dataframe tbody tr th {\n",
              "        vertical-align: top;\n",
              "    }\n",
              "\n",
              "    .dataframe thead th {\n",
              "        text-align: right;\n",
              "    }\n",
              "</style>\n",
              "<table border=\"1\" class=\"dataframe\">\n",
              "  <thead>\n",
              "    <tr style=\"text-align: right;\">\n",
              "      <th></th>\n",
              "      <th>Model</th>\n",
              "      <th>Loss</th>\n",
              "      <th>accuracy</th>\n",
              "    </tr>\n",
              "  </thead>\n",
              "  <tbody>\n",
              "    <tr>\n",
              "      <th>0</th>\n",
              "      <td>basic</td>\n",
              "      <td>0.906448</td>\n",
              "      <td>0.8964</td>\n",
              "    </tr>\n",
              "    <tr>\n",
              "      <th>1</th>\n",
              "      <td>adj_Model_capacity</td>\n",
              "      <td>0.672104</td>\n",
              "      <td>0.8887</td>\n",
              "    </tr>\n",
              "    <tr>\n",
              "      <th>2</th>\n",
              "      <td>L1</td>\n",
              "      <td>1.070798</td>\n",
              "      <td>0.8356</td>\n",
              "    </tr>\n",
              "    <tr>\n",
              "      <th>3</th>\n",
              "      <td>L2</td>\n",
              "      <td>0.489486</td>\n",
              "      <td>0.8476</td>\n",
              "    </tr>\n",
              "    <tr>\n",
              "      <th>4</th>\n",
              "      <td>Dropout</td>\n",
              "      <td>0.389807</td>\n",
              "      <td>0.8959</td>\n",
              "    </tr>\n",
              "    <tr>\n",
              "      <th>5</th>\n",
              "      <td>BN</td>\n",
              "      <td>0.468259</td>\n",
              "      <td>0.9009</td>\n",
              "    </tr>\n",
              "    <tr>\n",
              "      <th>6</th>\n",
              "      <td>BN_Drop</td>\n",
              "      <td>0.338616</td>\n",
              "      <td>0.8931</td>\n",
              "    </tr>\n",
              "    <tr>\n",
              "      <th>7</th>\n",
              "      <td>callbacks</td>\n",
              "      <td>1.408270</td>\n",
              "      <td>0.8902</td>\n",
              "    </tr>\n",
              "  </tbody>\n",
              "</table>\n",
              "</div>"
            ],
            "text/plain": [
              "                Model      Loss  accuracy\n",
              "0               basic  0.906448    0.8964\n",
              "1  adj_Model_capacity  0.672104    0.8887\n",
              "2                  L1  1.070798    0.8356\n",
              "3                  L2  0.489486    0.8476\n",
              "4             Dropout  0.389807    0.8959\n",
              "5                  BN  0.468259    0.9009\n",
              "6             BN_Drop  0.338616    0.8931\n",
              "7           callbacks  1.408270    0.8902"
            ]
          },
          "metadata": {
            "tags": []
          },
          "execution_count": 111
        }
      ]
    },
    {
      "cell_type": "markdown",
      "metadata": {
        "id": "bBNrrrkk0EKx"
      },
      "source": [
        "* visualization"
      ]
    },
    {
      "cell_type": "code",
      "metadata": {
        "colab": {
          "base_uri": "https://localhost:8080/",
          "height": 521
        },
        "id": "7ilb4ROpgIH1",
        "outputId": "3448472f-5db2-4818-dc67-e55fc60a1433"
      },
      "source": [
        "# accuracy 기준\n",
        "\n",
        "import seaborn as sns\n",
        "\n",
        "result.sort_values(by=['accuracy'], ascending=False, inplace=True)\n",
        "\n",
        "f, axe = plt.subplots(1,1, figsize=(12,8))\n",
        "sns.barplot(x='Model', y='accuracy', data=result, ax = axe)\n",
        "axe.set_xlabel('Model', size=16)\n",
        "axe.set_ylabel('Accuracy', size=16)"
      ],
      "execution_count": null,
      "outputs": [
        {
          "output_type": "execute_result",
          "data": {
            "text/plain": [
              "Text(0, 0.5, 'Accuracy')"
            ]
          },
          "metadata": {
            "tags": []
          },
          "execution_count": 115
        },
        {
          "output_type": "display_data",
          "data": {
            "image/png": "[encoded data removed]",
            "text/plain": [
              "<Figure size 864x576 with 1 Axes>"
            ]
          },
          "metadata": {
            "tags": [],
            "needs_background": "light"
          }
        }
      ]
    },
    {
      "cell_type": "code",
      "metadata": {
        "colab": {
          "base_uri": "https://localhost:8080/",
          "height": 521
        },
        "id": "cwCObsBqgQkI",
        "outputId": "ec614ad2-4df1-4f85-9834-287968879af0"
      },
      "source": [
        "# Loss 기준\n",
        "\n",
        "result.sort_values(by=['Loss'], ascending=True, inplace=True)\n",
        "\n",
        "f, axe = plt.subplots(1,1, figsize=(12,8))\n",
        "sns.barplot(x='Model', y='Loss', data=result, ax = axe)\n",
        "axe.set_xlabel('Model', size=16)\n",
        "axe.set_ylabel('Loss', size=16)"
      ],
      "execution_count": null,
      "outputs": [
        {
          "output_type": "execute_result",
          "data": {
            "text/plain": [
              "Text(0, 0.5, 'Loss')"
            ]
          },
          "metadata": {
            "tags": []
          },
          "execution_count": 117
        },
        {
          "output_type": "display_data",
          "data": {
            "image/png": "[encoded data removed]",
            "text/plain": [
              "<Figure size 864x576 with 1 Axes>"
            ]
          },
          "metadata": {
            "tags": [],
            "needs_background": "light"
          }
        }
      ]
    },
    {
      "cell_type": "markdown",
      "metadata": {
        "id": "Ber2XNMukpml"
      },
      "source": [
        "## Ⅵ. 실습 리뷰\n",
        "\n",
        "* 전체 리뷰\n",
        "    * callback\n",
        "        * callback 모델에서는 epochs 를 높이는 것이 좋음\n",
        "        * patience 는 기본 모델의 패턴을 보고 결정\n",
        "\n",
        "    * model session\n",
        "        * 같은 모델 명으로 학습시키면. 파라미터가 지속적으로 학습되어 결과가 왜곡될 수 있음\n",
        "        * session 초기화 or 개별적으로 모델링 하는 것 필요 (학습이 누적되기 때문)\n",
        "\n",
        "    * plot 시각화\n",
        "        * loss, accuracy 둘 다 그려보기 -> subplot 으로 그려보기\n",
        "\n",
        "* 내 코드 리뷰\n",
        "    * session 종료 후 다시\n",
        "    * optimization method 변경해가며 비교\n",
        "    * loss는 잘 모름, accuracy 로 성능 확인\n"
      ]
    }
  ]
}